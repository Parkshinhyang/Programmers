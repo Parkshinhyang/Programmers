{
  "nbformat": 4,
  "nbformat_minor": 0,
  "metadata": {
    "colab": {
      "provenance": [],
      "authorship_tag": "ABX9TyOB9yedZ9Mcaxfif+0I41/X",
      "include_colab_link": true
    },
    "kernelspec": {
      "name": "python3",
      "display_name": "Python 3"
    },
    "language_info": {
      "name": "python"
    }
  },
  "cells": [
    {
      "cell_type": "markdown",
      "metadata": {
        "id": "view-in-github",
        "colab_type": "text"
      },
      "source": [
        "<a href=\"https://colab.research.google.com/github/Parkshinhyang/Programmers/blob/main/%EC%A0%95%EC%88%98_%EB%82%B4%EB%A6%BC%EC%B0%A8%EC%88%9C%EC%9C%BC%EB%A1%9C_%EB%B0%B0%EC%B9%98%ED%95%98%EA%B8%B0(Lv_1).ipynb\" target=\"_parent\"><img src=\"https://colab.research.google.com/assets/colab-badge.svg\" alt=\"Open In Colab\"/></a>"
      ]
    },
    {
      "cell_type": "markdown",
      "source": [
        "# 문제 - 정수 내림차순으로 배치하기\n",
        "https://school.programmers.co.kr/learn/courses/30/lessons/12933\n",
        "\n",
        "## 문제 설명\n",
        "\n",
        "함수 solution은 정수 n을 매개변수로 입력받습니다. n의 각 자릿수를 큰것부터 작은 순으로 정렬한 새로운 정수를 리턴해주세요. 예를들어 n이 118372면 873211을 리턴하면 됩니다.\n",
        "\n",
        "## 제한 조건\n",
        "\n",
        "- n은 1이상 8000000000 이하인 자연수입니다.\n",
        "\n",
        "## 입출력 예 \n",
        "\n",
        "![image.png](data:image/png;base64,iVBORw0KGgoAAAANSUhEUgAAAMAAAABXCAYAAABSv0r8AAAAAXNSR0IArs4c6QAAAARnQU1BAACxjwv8YQUAAAAJcEhZcwAAEnQAABJ0Ad5mH3gAAA9mSURBVHhe7Z0PUFTXvce/MSC9PtiY7vOthuXfJLsVGeWVUgtWUqSiUVG06uCfgKNEm4hWfVqIxvqHRo2WVNKgsVhkhBrcoURJKInKEB7YYB3KzEoQ3q4zJGRRVt9aszJuCcT2d+9eYIFdWGB1sfd8Zi57z7k/Lodzft/f+XPP7H1K/aO5/wSDIVGeUjwfzgTAkCxPBYZEMQG4Acs/LOC+w4kphjvg22CMeM5gSBImAIakYQJgSBomAIakYQJgSBomAIakYQJgSBomAIakYQJgSBomAIakYQJgSBomAIakYQJgSBomAIZjFqah6Fw+ivbNFjP+/WACYDjm2Ul4QRWAF/zlYsa/H0wADEkzbAGsP1WKps9LcWbtbOzXlKJRW0lpOrRlqDyVglmiHePx0tMuCTh1oczaJp/n4y3xOqBC0qF8aP8mthd/VGtwJnU2/EQLIAFnqik/NQwySsmmp4h2mVgvXE/DJT79UZqQ6kVSJrR0TXsqQcwYpEw29vG/yulVrsYLmdgVLdzikTHiHsBvxetICvoGX1HBP7n6Je50joXf9AS8d+YVmwplPG5Ua9Zj1kRqF/2XuEGHQcgNwy7NO9i/MACyb26htqrM2mZjJ2FG0h4UnUwQ28xk/b3mNiGFv98S7nFDfwu3rTnDwn6ZRHx/hsPLAtDeXItPLtTixv9/Ay/fMKw/8h62+4s2j4ARCsAbfuM+x8FlixG7bjdeW5eI6Us0qG8HvEJ/ghTRivG48caEp6ldFs7Hi0sSEbtkN7Io1y81BUkh3jDXa7AuMgFLX0sX2+wYPvs7MCHyZ9geyf9+GV5Pot87q4OZUmb9B3QPSicdRjF/eVjYL1MXMl8f/C2TL8tWvLZ9K2KjE3Gy8RtgXAheWicaPQJG3APcqDiMk81igqf5GD7lCw45/JKsWYzHT/1HW3u3CyYhJUoFr2/1OP9LaiMxV6BZg9WaerSTzYzVj27Fp3+ZbGj6X7yee0tM8NzCwQo9lQn4L/+e4ZSrGaEA2nCbusW+mNt5ATDcRxu+bhVPu1kAlYI+KKQ/89oeZB7qc6i8BWebMPF7grXrsVemHsx3vsBX4nk35nahTI+SEfcAjCcFOWTj6ONZFeIXzu5//JTmBbyZlzf/UzIwAUiGNrR/Sx/GKzi4Mx1bHR1vf2A1lwhMAJLh/3CbJrr4TzmU2jIUf+TgoHG304z1wQzxtBuZF7zE0ycBJgDJUIY/XKX52tMqLN7XtdzZw6y3NWisPo8z20PEnIHQWcXkG4aUtZOsWTz+S3BqSQgTAGN08lnqB8JyJ/9gq+SjTLy3MwlJW9JwSnMe782dBK+xJtQX1ovWhP4uvqYP2fQ1qMzLxJkjXct65/Ch9i59emPG1hxUauhaXj6untuGGU/fFZZOnxSYACSFBqtXH0Wxvg2yoDC8tPoV7F+/ALNCvgu01OLk9mQctF2mrE7H3tx63PnWG35hYZgRHYnt4iXNprdwknqU9qfpWghdCwuAV3MZDp7+QrR4MmDfDeom3P7doP4kgNDvCsOVdmM9PuGHRw6ZhBlzaWhjKMOnNh2EFRVmLZyEdm0lPnO0xj9K4duACcBNsC/HdT/sy3EZkocJgCFpmAAYkoYJgCFpmAAYkoYJgCFpmAAYkoYJgCFpmAAYkoYJgCFpmAAYkoYJgCFpnlI8H842wzEkC9sN6ibYblD3w3aDMiQPEwBD0jABMCQNEwBD0jABMCQNEwBD0jABMCQNEwBD0jABMCQNEwBD0jABMCQNEwBD0rhgMxwHxdwVWPLfcni0XkHW6ctivi3O2PhAvWQlYqYqETSew4N7BjTVVaHwXC0sokVv6J7R8zE3TIUgpRzj2k1o+rIB5WeLobsnmgjMxPK0CPBvBxoI42cZKKwSEzycAlNeiseLQnk8YDYZUP+XS/hzhR4doslIcOlmuPFhiFkRhfAAJeReFpgMBtRUFqC85r5oYCV0zQ5ETRQTjujXPs7Wcw9cSDTmxkQghOxlDwe358sflxiDwHFmXC/ORnmjmN8L8o8ViZgTMA4WXTFyzg3hPQYO4NtgZALgC/7zZZjjLzakoQK/ONTnPYLO2HARWLk7AZHj6fxhJyzkYR6eHvCk/qnDVIucQ/m43ksFgZiTloI4fw8h1dHeic4xHuA8+UQLSt7JwMUm4RIRj23HohEkphzRVL4NR4vEhL3yeFF5KGlpuoQjGaUwCYbDx1UC8Ixci12rpkHO9+UdVNaHVHwqK9AJY00RjuRe6RbsnJ1HEacUE47o1T5DqWcr8qU7kBrjS7Lpa29CleZtFFbbNiQfGBPxyrxgKHgbCnU1p3ch76pwsRtPdSxWvjwH4XJrOcx1+dh9olY4HwkjEABf8LV4NU5FFU8V3fw1ZP5ycL0qzxkbK6GbDyJ5MgdzfREOHL8sRnwfhG78JZJDfGBpLELauz1RSbl2N1LD5bDcvIKcYxoxslj/3uZFKshINEf25Pd+D61dArF43xbETKDGOfEmCuv4PA5RO9KxnBRjqC7Au38UeyBOhTlbNwgO1FSeQWIx8rnDxjUCmInkjKUI5e6j5uxvkFclRvzxM5GUthThMgu0Z3chx7Znc4B81W7s/bEcppps7M9tEPKGXM9TE7H31TDIzXoU5OaiWmdtSS5qA95YEQxZWwOy0rKh4zMpMC5OoR7/OXLqthY0dfpST9tXABT1X05BcqQC3EMLdDc7oVb6uFQAw5wDBFMXR479gKJA9h4c+PS2nWGBMzY8YQhVkiO063G+2/l57kN7vBzadqpA5RSoxVxgGqLUcoooX6Dkt12NwmOB8UIuKm/SqTwA4c9ZcwfCM2Y+IifQrZr+ivOC8/NQpAmiRrlTgxNdzs9j0eNi5mU0wQNBL0SImW5m+hQEUdVZdOU9zs9z7zLyLump7ByCQsLEzAHgorE4zFqn5Wetzj+celZHUntTz6O9dLzb+XksVdnIq6O0txI/6CrOT2PI+WnoWVeM/WkZqBffyd2bGCwg58edBhT8dheydK5/9cYwBXAfTTXWgl/U9vyjvXHGxgbqvvv/e2Z09FPNNRTs3IZfbH0HVf1ua4GFul1gLLjBxroU/Re8qCIXoehfdKlHnJPprza3QFt3rX95LEaY+Ib6DxkGG0k8Tjra7ThGW6fTcxX5kpnUi5AzXi22qdOh1zNH5dA1X4O2WsywocnEl5GDvGsydltvDYwnKgYYTppQX5GL3fuyUd1nqOUqhikAPaoKByo4jzM2PA1oukOVyUeHqWJWF9PDofamBr5DE2Ixa0AokqknUvS2tOL6ID1kV/S36C7jz7Y3b6QJ1uEM5BR1RUIbpgYjiC+PudWJ4dVjoM6AVvJymV9oP0GqwwIho2jcarDzf9jSFf2ph7twzsm3uzioZ+3pDGQdzkdNP8FwiAigv4GvYeyq66piJwLjZVwsvOa0kIfDMAXgSiwUgWlo0eGDyOR0vLo2FqGTIxC1dgv2rqJxI022LhSVOqwEzl8F5WQVQuclYtuv4ymS0VixohRa8bp9eqJ/9YcVTlYwTQgXTaEunsbVlZfEPDdjKUVBVQs6xk/DtgNbsHxeBJQ/jsXy/0nHz6dy6DBcRkHJwE7WHf1rS+04bg/Dq2crnpGJmEvDyg5DHS7YXeFxH6NAAETTRbz/8TUYH/pgSvh8JG9OwPLwQMgfkoN+XIxPBwj/Uas3InXzRiTHhSFojAk1Jcfw+5KBI5nnvHhE2Yv+DuEw5dV1iKMJm7nuQxT0WaVwJ6bSYvxJS/3s+EBExSUgddV8RD3vQ+Pma/hT0cWBe2AuFiunOxf9h1PPAkHx2JQgBrKzxaPuBXqjQADkXBt24o1F06CgSqoq0eDIu7nIK6uFrkOOyEUbsWtDhLAEaY/rf6VusoKO6gboLM8gPG4H3kyLp0jtiGAsjgyk+zkf/eVLU5A81YciWAWOnuhZVnQ7wnLtRqwMpX6puRaF7x/HkZxinK9pgUU+DSs378TKSMcrTcoVP4KaKnaw6M8z9HomqHxJG6IR5HkfNZpj/ZZMRwPuF8DUZVgeShHL3IAT+zJQ+PEVGBqvoeZcPrL2aVBDIUMeOhsLaHJqD0N5EUoK6fhjNrLeSEeBzkLddTSSV9h/9OU5bw4i+KDnZPTn17V3xfjCk8qXk1nsxJzm8aFcMVt4VmGu02A/jb2r/qKHobYC5bkZ2P9+A8xjaFg5b5n9CTtF/8UkHGfH/kOtZ8H59yQgXNaJpvJTyOu1/j96cLsAZFMDhChiqO37sIuwXEFBLb/eLoeaxrSDcx/VFxoEJ1UG2FuqHFr094zcgG1dzn84u3/53IoC4cLE0ojK0/17pY7qfHGp0hdT7FTdUKJ/fwarZ5ovbeWfQ5DzV5BgipycXLsB9wvAydeKc95iHJscj+S0Hdi0ZqY1PQSGEv1559/7snXsWpKdDa2jx/huQyY8KR8cDzwTIJ524Uz0H3Y9k/PvTEGckp8vFSGr0DVbRx4VbheA4cZd8AFIGbIIir6RilNhQQjfxVrITtz70fgA3CRfqL8/E3P67W/wQWhssLVH+fKKNaubIUR/m4mbvcf9owM9dHf4mlPgh0tV/eZInupF+CH/kMpyF7o+Ky9ORf9h1bO4WCA4Pw3LRtN8yQGu+Wa46Rvw5hpyGHv7fLpwaKNADEWaxfx+kzYjtI16GPmHTRTxQ0MCBVFYmitw4HDPCkL3uPwhCUPXgOutDwAvOQKDVVCPp/vcu0bj1FzrI3cRz7gteGteIDp1xdj9zgACeC4e21L5iRv93Xst+MrusoURVTTmdmYJ0BEu2QphU1azUQ9tg1EIJpxfMMKD5ODGdEJXloGsczbbNrj52HQoFupOPfJ+dXzA4c9Q61m9IR2b+Pkcb2+4C7Luh6ONbNZ9Svb3AnVD5fkdlWcUbIVwJUaUH05HTrUR5nEKhIZTxImmI5yc3+s+dFX52Gfj/DymomM48mEDDO0clJPDrPaRwVDLOmCoK8WBN3s7Px/9lzkb/ZUKyMVwyo2nCOhv71AMurv0sXCzGEf3FaH85n1wChWi+HqgI+p5OTzaWnAxN7238xPKVRFOj/2HWs+BcnJ+njFkb7fefBGkEG1GCaPuu0H5By7ycXTyoBWG5t7bee3hqSChPMt77AOYGluECPgk4JrNcLb4QD55Ig1C6N6tephcPGd5Uut5IPg2GHUCkAquFwBjqIySIRCD4T6YABiShgmAIWmYABiShgmAIWmYABiShgmAIWmYABiShgmAIWmYABiShgmAIWmYABgSBvgXM3OgyTkcU1QAAAAASUVORK5CYII=)"
      ],
      "metadata": {
        "id": "o18DKGtrrrv2"
      }
    },
    {
      "cell_type": "markdown",
      "source": [
        "## 첫 번째 방법\n",
        "\n",
        "1. 입력받은 n을 문자열로 변환시켜 list함수를 사용해 하나하나 분리.\n",
        "2. 분리한 문자를 내림차순으로 정렬.\n",
        "3. join함수를 사용해 문자를 하나의 문자열로 묶고 int형으로 retrun.\n",
        "\n",
        "결과 : 성공"
      ],
      "metadata": {
        "id": "tNWaD9aotSEc"
      }
    },
    {
      "cell_type": "code",
      "execution_count": 10,
      "metadata": {
        "colab": {
          "base_uri": "https://localhost:8080/"
        },
        "id": "3POWNT_3rpjO",
        "outputId": "f3e648b7-e3e7-4e8a-f4a0-3f22a924ceaa"
      },
      "outputs": [
        {
          "output_type": "execute_result",
          "data": {
            "text/plain": [
              "873211"
            ]
          },
          "metadata": {},
          "execution_count": 10
        }
      ],
      "source": [
        "def solution(n):\n",
        "    return int(\"\".join(sorted(list(str(n)), reverse = True)))\n",
        "\n",
        "solution(118372)"
      ]
    }
  ]
}