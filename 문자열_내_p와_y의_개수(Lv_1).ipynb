{
  "nbformat": 4,
  "nbformat_minor": 0,
  "metadata": {
    "colab": {
      "provenance": [],
      "authorship_tag": "ABX9TyN5gQ+QoJz7TZiZOvxV/mo2",
      "include_colab_link": true
    },
    "kernelspec": {
      "name": "python3",
      "display_name": "Python 3"
    },
    "language_info": {
      "name": "python"
    }
  },
  "cells": [
    {
      "cell_type": "markdown",
      "metadata": {
        "id": "view-in-github",
        "colab_type": "text"
      },
      "source": [
        "<a href=\"https://colab.research.google.com/github/Parkshinhyang/Programmers/blob/main/%EB%AC%B8%EC%9E%90%EC%97%B4_%EB%82%B4_p%EC%99%80_y%EC%9D%98_%EA%B0%9C%EC%88%98(Lv_1).ipynb\" target=\"_parent\"><img src=\"https://colab.research.google.com/assets/colab-badge.svg\" alt=\"Open In Colab\"/></a>"
      ]
    },
    {
      "cell_type": "markdown",
      "source": [
        "## 문제 - 문자열 내 p와 y의 개수\n",
        "https://school.programmers.co.kr/learn/courses/30/lessons/12916"
      ],
      "metadata": {
        "id": "KvcbNVftCEOx"
      }
    },
    {
      "cell_type": "markdown",
      "source": [
        "## 첫 번째 방법\n",
        "1. s를 upper함수로 모두 대문자로 바꿔준 후 'P'와 'Y'를 count함수를 통해 개수 비교 후 개수가 같은면 True를, 개수가 다르면 False를 출력.\n",
        "\n",
        "결과 : 성공"
      ],
      "metadata": {
        "id": "DGoYuorHFry0"
      }
    },
    {
      "cell_type": "code",
      "execution_count": 7,
      "metadata": {
        "colab": {
          "base_uri": "https://localhost:8080/"
        },
        "id": "hnkSIL0lCA08",
        "outputId": "f497a240-9f9e-45bf-d7db-614d8b0e4c35"
      },
      "outputs": [
        {
          "output_type": "execute_result",
          "data": {
            "text/plain": [
              "False"
            ]
          },
          "metadata": {},
          "execution_count": 7
        }
      ],
      "source": [
        "def solution(s):\n",
        "    return s.upper().count('P') == s.upper().count('Y')\n",
        "\n",
        "solution(\"Pyy\")"
      ]
    }
  ]
}