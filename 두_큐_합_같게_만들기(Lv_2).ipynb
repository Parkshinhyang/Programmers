{
  "nbformat": 4,
  "nbformat_minor": 0,
  "metadata": {
    "colab": {
      "provenance": [],
      "authorship_tag": "ABX9TyNKDDgiHwNzwbojpsRuWsdl",
      "include_colab_link": true
    },
    "kernelspec": {
      "name": "python3",
      "display_name": "Python 3"
    },
    "language_info": {
      "name": "python"
    }
  },
  "cells": [
    {
      "cell_type": "markdown",
      "metadata": {
        "id": "view-in-github",
        "colab_type": "text"
      },
      "source": [
        "<a href=\"https://colab.research.google.com/github/Parkshinhyang/Programmers/blob/main/%EB%91%90_%ED%81%90_%ED%95%A9_%EA%B0%99%EA%B2%8C_%EB%A7%8C%EB%93%A4%EA%B8%B0(Lv_2).ipynb\" target=\"_parent\"><img src=\"https://colab.research.google.com/assets/colab-badge.svg\" alt=\"Open In Colab\"/></a>"
      ]
    },
    {
      "cell_type": "markdown",
      "source": [
        "# 문제 - 두 큐 합 같게 만들기\n",
        "https://school.programmers.co.kr/learn/courses/30/lessons/118667\n",
        "\n",
        "## 문제 설명\n",
        "\n",
        "길이가 같은 두 개의 큐가 주어집니다. 하나의 큐를 골라 원소를 추출(pop)하고, 추출된 원소를 다른 큐에 집어넣는(insert) 작업을 통해 각 큐의 원소 합이 같도록 만들려고 합니다. 이때 필요한 작업의 최소 횟수를 구하고자 합니다. 한 번의 pop과 한 번의 insert를 합쳐서 작업을 1회 수행한 것으로 간주합니다.\n",
        "\n",
        "큐는 먼저 집어넣은 원소가 먼저 나오는 구조입니다. 이 문제에서는 큐를 배열로 표현하며, 원소가 배열 앞쪽에 있을수록 먼저 집어넣은 원소임을 의미합니다. 즉, pop을 하면 배열의 첫 번째 원소가 추출되며, insert를 하면 배열의 끝에 원소가 추가됩니다. 예를 들어 큐 [1, 2, 3, 4]가 주어졌을 때, pop을 하면 맨 앞에 있는 원소 1이 추출되어 [2, 3, 4]가 되며, 이어서 5를 insert하면 [2, 3, 4, 5]가 됩니다.\n",
        "\n",
        "다음은 두 큐를 나타내는 예시입니다.\n",
        "\n",
        "![image.png](data:image/png;base64,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)\n",
        "\n",
        "두 큐에 담긴 모든 원소의 합은 30입니다. 따라서, 각 큐의 합을 15로 만들어야 합니다. 예를 들어, 다음과 같이 2가지 방법이 있습니다.\n",
        "\n",
        "1. queue2의 4, 6, 5를 순서대로 추출하여 queue1에 추가한 뒤, queue1의 3, 2, 7, 2를 순서대로 추출하여 queue2에 추가합니다. 그 결과 queue1은 [4, 6, 5], queue2는 [1, 3, 2, 7, 2]가 되며, 각 큐의 원소 합은 15로 같습니다. 이 방법은 작업을 7번 수행합니다.\n",
        "\n",
        "2. queue1에서 3을 추출하여 queue2에 추가합니다. 그리고 queue2에서 4를 추출하여 queue1에 추가합니다. 그 결과 queue1은 [2, 7, 2, 4], queue2는 [6, 5, 1, 3]가 되며, 각 큐의 원소 합은 15로 같습니다. 이 방법은 작업을 2번만 수행하며, 이보다 적은 횟수로 목표를 달성할 수 없습니다.\n",
        "따라서 각 큐의 원소 합을 같게 만들기 위해 필요한 작업의 최소 횟수는 2입니다.\n",
        "\n",
        "길이가 같은 두 개의 큐를 나타내는 정수 배열 queue1, queue2가 매개변수로 주어집니다. 각 큐의 원소 합을 같게 만들기 위해 필요한 작업의 최소 횟수를 return 하도록 solution 함수를 완성해주세요. 단, 어떤 방법으로도 각 큐의 원소 합을 같게 만들 수 없는 경우, -1을 return 해주세요.\n",
        "\n",
        "## 제한사항\n",
        "\n",
        "- 1 ≤ queue1의 길이 = queue2의 길이 ≤ 300,000\n",
        "- 1 ≤ queue1의 원소, queue2의 원소 ≤ 109\n",
        "- 주의: 언어에 따라 합 계산 과정 중 산술 오버플로우 발생 가능성이 있으므로 long type 고려가 필요합니다.\n",
        "\n",
        "## 입출력 예\n",
        "\n",
        "![image.png](data:image/png;base64,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)\n",
        "\n",
        "## 입출력 예 설명\n",
        "\n",
        "### 입출력 예 #1\n",
        "\n",
        "문제 예시와 같습니다.\n",
        "\n",
        "### 입출력 예 #2\n",
        "\n",
        "두 큐에 담긴 모든 원소의 합은 20입니다. 따라서, 각 큐의 합을 10으로 만들어야 합니다. queue2에서 1, 10을 순서대로 추출하여 queue1에 추가하고, queue1에서 1, 2, 1, 2와 1(queue2으로부터 받은 원소)을 순서대로 추출하여 queue2에 추가합니다. 그 결과 queue1은 [10], queue2는 [1, 2, 1, 2, 1, 2, 1]가 되며, 각 큐의 원소 합은 10으로 같습니다. 이때 작업 횟수는 7회이며, 이보다 적은 횟수로 목표를 달성하는 방법은 없습니다. 따라서 7를 return 합니다.\n",
        "\n",
        "### 입출력 예 #3\n",
        "\n",
        "어떤 방법을 쓰더라도 각 큐의 원소 합을 같게 만들 수 없습니다. 따라서 -1을 return 합니다."
      ],
      "metadata": {
        "id": "0vtW_Bj8Zswb"
      }
    },
    {
      "cell_type": "markdown",
      "source": [
        "## 첫 번째 방법\n",
        "\n",
        "1. 입력받은 queue1과 queue2를 deque의 형태로 변형한 후 queue1의 합과 queue2의 합을 비교해 큰 쪽의 queue를 popleft하고 작은 쪽 queue에 append.\n",
        "2. 두 큐의 합이 같으면 answer을 return.\n",
        "3. answer이 두 큐의 크기 합보다 크면 -1을 return.\n",
        "\n",
        "결과 : 실패\n",
        "\n",
        "-> 시간 초과"
      ],
      "metadata": {
        "id": "YQpU_82hMDfZ"
      }
    },
    {
      "cell_type": "code",
      "source": [
        "from collections import deque\n",
        "\n",
        "def solution(queue1, queue2):\n",
        "    answer = 0\n",
        "    queue1 = deque(queue1)\n",
        "    queue2 = deque(queue2)\n",
        "    \n",
        "    while True:\n",
        "        if sum(queue1) > sum(queue2):\n",
        "            q = queue1.popleft()\n",
        "            queue2.append(q)\n",
        "            answer += 1\n",
        "        elif sum(queue1) < sum(queue2):\n",
        "            q = queue2.popleft()\n",
        "            queue1.append(q)\n",
        "            answer += 1\n",
        "        else:\n",
        "            return answer\n",
        "        if answer >= (len(queue1) + len(queue2)) * 4:\n",
        "            return -1\n",
        "solution([3, 2, 7, 2], [4, 6, 5, 1])"
      ],
      "metadata": {
        "colab": {
          "base_uri": "https://localhost:8080/"
        },
        "id": "gh3Z-tz_TIyR",
        "outputId": "e477fbda-87dd-4378-b922-b2af0a6634fe"
      },
      "execution_count": 17,
      "outputs": [
        {
          "output_type": "execute_result",
          "data": {
            "text/plain": [
              "2"
            ]
          },
          "metadata": {},
          "execution_count": 17
        }
      ]
    },
    {
      "cell_type": "markdown",
      "source": [
        "## 두 번째 방법\n",
        "\n",
        "1. 첫 번째 방법에서 while문 안에 sum함수를 사용하는 것이 아니라 처음 각 큐의 합을 sum_queue1, sum_queue2에 저장하고 popleft한 값을 더하고 빼주면서 시간의 효율을 증가시킴.\n",
        "2. while문이 반복할 수 있는 제한을 첫 번째 반복보다 넉넉히 잡아줬고 두 큐의 합이 홀수일 경우 -1을 return할 수 있게 코드를 구성함.\n",
        "\n",
        "결과 : 성공"
      ],
      "metadata": {
        "id": "XekWaCVxTJEz"
      }
    },
    {
      "cell_type": "code",
      "execution_count": 16,
      "metadata": {
        "id": "SFD9frF_XRo2",
        "colab": {
          "base_uri": "https://localhost:8080/"
        },
        "outputId": "5824ee67-59e2-43a0-a989-36e4a46b14fa"
      },
      "outputs": [
        {
          "output_type": "stream",
          "name": "stdout",
          "text": [
            "14 16\n",
            "18 12\n",
            "15 15\n"
          ]
        },
        {
          "output_type": "execute_result",
          "data": {
            "text/plain": [
              "2"
            ]
          },
          "metadata": {},
          "execution_count": 16
        }
      ],
      "source": [
        "from collections import deque\n",
        "\n",
        "def solution(queue1, queue2):\n",
        "    answer = 0\n",
        "    queue1 = deque(queue1)\n",
        "    queue2 = deque(queue2)\n",
        "    sum_queue1 = sum(queue1)\n",
        "    sum_queue2 = sum(queue2)\n",
        "\n",
        "    if (len(queue1) + len(queue2)) % 2 == 1:\n",
        "        return -1\n",
        "\n",
        "    while True:\n",
        "        if sum_queue1 > sum_queue2:\n",
        "            q = queue1.popleft()\n",
        "            queue2.append(q)\n",
        "            sum_queue1 -= q\n",
        "            sum_queue2 += q\n",
        "            answer += 1\n",
        "        elif sum_queue1 < sum_queue2:\n",
        "            q = queue2.popleft()\n",
        "            queue1.append(q)\n",
        "            sum_queue2 -= q\n",
        "            sum_queue1 += q\n",
        "            answer += 1\n",
        "        else:\n",
        "            return answer\n",
        "        if answer >= (len(queue1) + len(queue2)) * 4:\n",
        "            return -1\n",
        "solution([3, 2, 7, 2], [4, 6, 5, 1])"
      ]
    }
  ]
}