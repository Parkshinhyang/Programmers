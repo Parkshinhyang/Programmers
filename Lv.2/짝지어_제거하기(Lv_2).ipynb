{
  "nbformat": 4,
  "nbformat_minor": 0,
  "metadata": {
    "colab": {
      "provenance": [],
      "authorship_tag": "ABX9TyNwLG5h6ejs2OCjzyoU5tH2",
      "include_colab_link": true
    },
    "kernelspec": {
      "name": "python3",
      "display_name": "Python 3"
    },
    "language_info": {
      "name": "python"
    }
  },
  "cells": [
    {
      "cell_type": "markdown",
      "metadata": {
        "id": "view-in-github",
        "colab_type": "text"
      },
      "source": [
        "<a href=\"https://colab.research.google.com/github/Parkshinhyang/Programmers/blob/main/%EC%A7%9D%EC%A7%80%EC%96%B4_%EC%A0%9C%EA%B1%B0%ED%95%98%EA%B8%B0(Lv_2).ipynb\" target=\"_parent\"><img src=\"https://colab.research.google.com/assets/colab-badge.svg\" alt=\"Open In Colab\"/></a>"
      ]
    },
    {
      "cell_type": "markdown",
      "source": [
        "# 문제 - 짝지어 제거하기\n",
        "https://school.programmers.co.kr/learn/courses/30/lessons/12973\n",
        "\n",
        "## 문제 설명\n",
        "\n",
        "짝지어 제거하기는, 알파벳 소문자로 이루어진 문자열을 가지고 시작합니다. 먼저 문자열에서 같은 알파벳이 2개 붙어 있는 짝을 찾습니다. 그다음, 그 둘을 제거한 뒤, 앞뒤로 문자열을 이어 붙입니다. 이 과정을 반복해서 문자열을 모두 제거한다면 짝지어 제거하기가 종료됩니다. 문자열 S가 주어졌을 때, 짝지어 제거하기를 성공적으로 수행할 수 있는지 반환하는 함수를 완성해 주세요. 성공적으로 수행할 수 있으면 1을, 아닐 경우 0을 리턴해주면 됩니다.\n",
        "\n",
        "예를 들어, 문자열 S = baabaa 라면\n",
        "\n",
        "b aa baa → bb aa → aa →\n",
        "\n",
        "의 순서로 문자열을 모두 제거할 수 있으므로 1을 반환합니다.\n",
        "\n",
        "## 제한사항\n",
        "\n",
        "- 문자열의 길이 : 1,000,000이하의 자연수\n",
        "- 문자열은 모두 소문자로 이루어져 있습니다.\n",
        "\n",
        "## 입출력 예\n",
        "\n",
        "![image.png](data:image/png;base64,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)\n",
        "\n",
        "## 입출력 예 설명\n",
        "\n",
        "###입출력 예 #1\n",
        "\n",
        "위의 예시와 같습니다.\n",
        "\n",
        "###입출력 예 #2\n",
        "\n",
        "문자열이 남아있지만 짝지어 제거할 수 있는 문자열이 더 이상 존재하지 않기 때문에 0을 반환합니다.\n",
        "\n",
        "※ 공지 - 2020년 6월 8일 테스트케이스가 추가되었습니다."
      ],
      "metadata": {
        "id": "4ox5EPGdWrXW"
      }
    },
    {
      "cell_type": "markdown",
      "source": [
        "## 첫 번째 방법\n",
        "\n",
        "1. s의 문자를 순차적으로 탐색하는 반복문을 통해 입력받은 s의 크기가 0이면 arr에 i를 append.\n",
        "2. arr의 맨 끝 원소가 i와 같을 경우 pop함수를 통해 문자를 추출.\n",
        "3. 그렇지 않으면 arr에 i를 append.\n",
        "4. arr의 크기가 0이면 1을 반환, 0이 아니면 0을 반환\n",
        "\n",
        "결과 : 성공"
      ],
      "metadata": {
        "id": "-vNMcDubvUiT"
      }
    },
    {
      "cell_type": "code",
      "execution_count": null,
      "metadata": {
        "colab": {
          "base_uri": "https://localhost:8080/"
        },
        "id": "l34l3KcXWmgf",
        "outputId": "00ee9a5e-85b5-4351-b0cb-417c4b7b09f6"
      },
      "outputs": [
        {
          "output_type": "execute_result",
          "data": {
            "text/plain": [
              "0"
            ]
          },
          "metadata": {},
          "execution_count": 10
        }
      ],
      "source": [
        "def solution(s):    \n",
        "    arr = []\n",
        "    \n",
        "    for i in s:\n",
        "        if len(arr) == 0:\n",
        "            arr.append(i)\n",
        "        elif arr[-1] == i:\n",
        "            arr.pop()\n",
        "        else:\n",
        "            arr.append(i)\n",
        "    if len(arr) == 0:\n",
        "        return 1\n",
        "    else:\n",
        "        return 0\n",
        "        \n",
        "\n",
        "solution(\"cdcd\")"
      ]
    }
  ]
}
