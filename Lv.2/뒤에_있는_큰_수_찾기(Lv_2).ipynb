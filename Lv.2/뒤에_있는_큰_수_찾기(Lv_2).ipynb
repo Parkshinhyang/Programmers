{
  "nbformat": 4,
  "nbformat_minor": 0,
  "metadata": {
    "colab": {
      "provenance": [],
      "authorship_tag": "ABX9TyMEZUBzdjRYxxuMTWEPEDkD",
      "include_colab_link": true
    },
    "kernelspec": {
      "name": "python3",
      "display_name": "Python 3"
    },
    "language_info": {
      "name": "python"
    }
  },
  "cells": [
    {
      "cell_type": "markdown",
      "metadata": {
        "id": "view-in-github",
        "colab_type": "text"
      },
      "source": [
        "<a href=\"https://colab.research.google.com/github/Parkshinhyang/Programmers/blob/main/%EB%92%A4%EC%97%90_%EC%9E%88%EB%8A%94_%ED%81%B0_%EC%88%98_%EC%B0%BE%EA%B8%B0(Lv_2).ipynb\" target=\"_parent\"><img src=\"https://colab.research.google.com/assets/colab-badge.svg\" alt=\"Open In Colab\"/></a>"
      ]
    },
    {
      "cell_type": "markdown",
      "source": [
        "# 문제 - 뒤에 있는 큰 수 찾기\n",
        "https://school.programmers.co.kr/learn/courses/30/lessons/154539\n",
        "\n",
        "## 문제 설명\n",
        "\n",
        "정수로 이루어진 배열 numbers가 있습니다. 배열 의 각 원소들에 대해 자신보다 뒤에 있는 숫자 중에서 자신보다 크면서 가장 가까이 있는 수를 뒷 큰수라고 합니다.\n",
        "정수 배열 numbers가 매개변수로 주어질 때, 모든 원소에 대한 뒷 큰수들을 차례로 담은 배열을 return 하도록 solution 함수를 완성해주세요. 단, 뒷 큰수가 존재하지 않는 원소는 -1을 담습니다.\n",
        "\n",
        "## 제한사항\n",
        "\n",
        "- 4 ≤ numbers의 길이 ≤ 1,000,000\n",
        "    - 1 ≤ numbers[i] ≤ 1,000,000\n",
        "\n",
        "## 입출력 예\n",
        "\n",
        "![image.png](data:image/png;base64,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)\n",
        "\n",
        "## 입출력 예 설명\n",
        "\n",
        "### 입출력 예 #1\n",
        "\n",
        "2의 뒷 큰수는 3입니다. 첫 번째 3의 뒷 큰수는 5입니다. 두 번째 3 또한 마찬가지입니다. 5는 뒷 큰수가 없으므로 -1입니다. 위 수들을 차례대로 배열에 담으면 [3, 5, 5, -1]이 됩니다.\n",
        "\n",
        "### 입출력 예 #2\n",
        "\n",
        "9는 뒷 큰수가 없으므로 -1입니다. 1의 뒷 큰수는 5이며, 5와 3의 뒷 큰수는 6입니다. 6과 2는 뒷 큰수가 없으므로 -1입니다. 위 수들을 차례대로 배열에 담으면 [-1, 5, 6, 6, -1, -1]이 됩니다."
      ],
      "metadata": {
        "id": "m9KGhE6-XaP6"
      }
    },
    {
      "cell_type": "markdown",
      "source": [
        "## 첫 번째 방법\n",
        "\n",
        "1. numbers의 크기만큼 반복해 arr에 각 원소보다 뒤에 있는 값을 원소로 하는 배열을 저장.\n",
        "2. arr의 크기만큼 반복해 numbers[i]와 arr[j]를 비교하여 answer에 arr[j]를 또는 -1을 append후 answer을 return.\n",
        "\n",
        "결과 : 실패\n",
        "\n",
        "-> 시간초과\n",
        "\n"
      ],
      "metadata": {
        "id": "SJuXqXKhePeV"
      }
    },
    {
      "cell_type": "code",
      "execution_count": null,
      "metadata": {
        "colab": {
          "base_uri": "https://localhost:8080/"
        },
        "id": "eV-TbhZ1VE4X",
        "outputId": "b3d5d2dd-18ba-4c6e-cec7-58ddd3ebcf3d"
      },
      "outputs": [
        {
          "output_type": "execute_result",
          "data": {
            "text/plain": [
              "[3, 5, 5, -1]"
            ]
          },
          "metadata": {},
          "execution_count": 11
        }
      ],
      "source": [
        "def solution(numbers):\n",
        "    answer = []\n",
        "    arr = []\n",
        "    for i in range(len(numbers) - 1):\n",
        "        arr = numbers[i + 1 : ]\n",
        "        for j in range(len(arr)):\n",
        "            if arr[j] > numbers[i]:\n",
        "                answer.append(arr[j])\n",
        "                break\n",
        "            if max(arr) < numbers[i] or len(arr) == 0:\n",
        "                answer.append(-1)\n",
        "                break\n",
        "    answer.append(-1)\n",
        "    return answer\n",
        "\n",
        "solution([2, 3, 3, 5])"
      ]
    },
    {
      "cell_type": "markdown",
      "source": [
        "## 두 번째 방법\n",
        "\n",
        "1. answer을 numbers의 크기만큼 -1로 초기화.\n",
        "2. numbers의 크기 - 1만큼 반복하는 반복문으로 numbers에 있는 앞에 있는 원소가 뒤에 있는 원소보다 작으면 answer[i]에 뒤에 있는 원소를 저장.\n",
        "3. 크면 뒤에 있는 원소의 인덱스를 하나씩 증가시키며 앞에 있는 원소과 비교하고 큰 수가 나오면 answer[i]에 그 수를 저장.\n",
        "4. answer을 return.\n",
        "\n",
        "결과 : 실패\n",
        "\n",
        "-> 시간 초과"
      ],
      "metadata": {
        "id": "_bJH8sJanHLo"
      }
    },
    {
      "cell_type": "code",
      "source": [
        "def solution(numbers):\n",
        "    answer = [-1] * len(numbers)\n",
        "\n",
        "    for i in range(len(numbers) -1):\n",
        "        if numbers[i] < numbers[i + 1]:\n",
        "            answer[i] = numbers[i + 1]\n",
        "        else:\n",
        "            idx = i + 1\n",
        "            while idx < len(numbers):\n",
        "                if numbers[i] < numbers[idx]:\n",
        "                    answer[i] = numbers[idx]\n",
        "                    break\n",
        "                else:\n",
        "                    idx += 1\n",
        "    return answer\n",
        "solution([10, 1, 10, 2, 10, 3, 10, 10, 10, 11, 11, 11, 12])"
      ],
      "metadata": {
        "id": "H_P079reoueG",
        "colab": {
          "base_uri": "https://localhost:8080/"
        },
        "outputId": "59cddf41-6b29-41ab-b7ee-e15bd2b335ad"
      },
      "execution_count": 15,
      "outputs": [
        {
          "output_type": "execute_result",
          "data": {
            "text/plain": [
              "[11, 10, 11, 10, 11, 10, 11, 11, 11, 12, 12, 12, -1]"
            ]
          },
          "metadata": {},
          "execution_count": 15
        }
      ]
    },
    {
      "cell_type": "markdown",
      "source": [
        "## 세 번째 방법(구글 참조)\n",
        "\n",
        "1. answer을 numbers의 크기만큼 -1로 초기화.\n",
        "2. numbers의 크기만큼 반복하는 반복문으로 생성.\n",
        "3. stack의 값이 존재할 때 stack의 마지막 원소를 인덱스로 가지는 numbers의 원소가 numbers[i]보다 작을 경우 stack[-1]을 인덱스로 가지는 answer원소에 numbers[i]를 저장\n",
        "4. answer을 return.\n",
        "\n",
        "결과 : 성공"
      ],
      "metadata": {
        "id": "4NQHKH2ap2a5"
      }
    },
    {
      "cell_type": "code",
      "source": [
        "def solution(numbers):\n",
        "    answer, stack = [-1] * len(numbers), []\n",
        "\n",
        "    for i in range(len(numbers)):\n",
        "        while stack and numbers[stack[-1]] < numbers[i]:\n",
        "            answer[stack.pop()] = numbers[i]\n",
        "        stack.append(i)\n",
        "    return answer\n",
        "solution([10, 1, 10, 2, 10, 3, 10, 10, 10, 11, 11, 11, 12])"
      ],
      "metadata": {
        "colab": {
          "base_uri": "https://localhost:8080/"
        },
        "id": "q272yL7vpAFL",
        "outputId": "d3c9a5af-5ce2-4380-ccea-a8db83aa1736"
      },
      "execution_count": 18,
      "outputs": [
        {
          "output_type": "execute_result",
          "data": {
            "text/plain": [
              "[11, 10, 11, 10, 11, 10, 11, 11, 11, 12, 12, 12, -1]"
            ]
          },
          "metadata": {},
          "execution_count": 18
        }
      ]
    }
  ]
}
