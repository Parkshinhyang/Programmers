{
  "nbformat": 4,
  "nbformat_minor": 0,
  "metadata": {
    "colab": {
      "provenance": [],
      "authorship_tag": "ABX9TyMIkxEFOcg/owzFcYADprgb",
      "include_colab_link": true
    },
    "kernelspec": {
      "name": "python3",
      "display_name": "Python 3"
    },
    "language_info": {
      "name": "python"
    }
  },
  "cells": [
    {
      "cell_type": "markdown",
      "metadata": {
        "id": "view-in-github",
        "colab_type": "text"
      },
      "source": [
        "<a href=\"https://colab.research.google.com/github/Parkshinhyang/Programmers/blob/main/%EC%88%AB%EC%9E%90%EC%9D%98_%ED%91%9C%ED%98%84(Lv_2).ipynb\" target=\"_parent\"><img src=\"https://colab.research.google.com/assets/colab-badge.svg\" alt=\"Open In Colab\"/></a>"
      ]
    },
    {
      "cell_type": "markdown",
      "source": [
        "# 문제 - 숫자의 표현\n",
        "https://school.programmers.co.kr/learn/courses/30/lessons/12924\n",
        "\n",
        "## 문제 설명\n",
        "Finn은 요즘 수학공부에 빠져 있습니다. 수학 공부를 하던 Finn은 자연수 n을 연속한 자연수들로 표현 하는 방법이 여러개라는 사실을 알게 되었습니다. 예를들어 15는 다음과 같이 4가지로 표현 할 수 있습니다.\n",
        "\n",
        "- 1 + 2 + 3 + 4 + 5 = 15\n",
        "- 4 + 5 + 6 = 15\n",
        "- 7 + 8 = 15\n",
        "- 15 = 15\n",
        "\n",
        "자연수 n이 매개변수로 주어질 때, 연속된 자연수들로 n을 표현하는 방법의 수를 return하는 solution를 완성해주세요.\n",
        "## 제한사항\n",
        "\n",
        "- n은 10,000 이하의 자연수 입니다.\n",
        "\n",
        "## 입출력 예\n",
        "\n",
        "![image.png](data:image/png;base64,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)\n",
        "\n",
        "## 입출력 예 설명\n",
        "\n",
        "###입출력 예#1\n",
        "\n",
        "문제의 예시와 같습니다."
      ],
      "metadata": {
        "id": "vgIPa6HILBMf"
      }
    },
    {
      "cell_type": "markdown",
      "source": [
        "## 첫 번째 방법\n",
        "1. 1부터 입력받은 n만큼 반복하는 for문을 생성.\n",
        "2. 첫 번째 for문 i + 1부터 n까지 반복하는 for문을 하나 더 생성해 각 수마다 처음부터 끝까지 num에 더해주는 과정을 거침.\n",
        "3. 그러다가 합이 n과 같아지면 answer을 1카운트해주고 반복문을 종료, 합이 n보다 커지면 반복문을 종료.\n",
        "4. 반복문에서 자기 자신을 더하는 과정은 고려하지 않았기 때문에 answer + 1을 return.\n",
        "\n",
        "결과 : 성공"
      ],
      "metadata": {
        "id": "vcc1hKTDQn8D"
      }
    },
    {
      "cell_type": "code",
      "execution_count": 5,
      "metadata": {
        "colab": {
          "base_uri": "https://localhost:8080/"
        },
        "id": "0ySvHcFsH6J4",
        "outputId": "745cbbd6-9342-4098-990b-e91ae3b49a7e"
      },
      "outputs": [
        {
          "output_type": "execute_result",
          "data": {
            "text/plain": [
              "4"
            ]
          },
          "metadata": {},
          "execution_count": 5
        }
      ],
      "source": [
        "def solution(n):\n",
        "    answer = 0\n",
        "\n",
        "    for i in range(1, n):\n",
        "        num = i\n",
        "        for j in range(i + 1, n):\n",
        "            num += j \n",
        "            if num == n:\n",
        "                answer += 1\n",
        "                break\n",
        "            elif num > n:\n",
        "                break\n",
        "                \n",
        "    return answer + 1\n",
        "\n",
        "solution(15)"
      ]
    }
  ]
}
