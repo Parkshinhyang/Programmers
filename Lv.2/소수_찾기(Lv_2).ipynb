{
  "nbformat": 4,
  "nbformat_minor": 0,
  "metadata": {
    "colab": {
      "provenance": [],
      "authorship_tag": "ABX9TyNSw3lfLXfY6Krknplu3GOL",
      "include_colab_link": true
    },
    "kernelspec": {
      "name": "python3",
      "display_name": "Python 3"
    },
    "language_info": {
      "name": "python"
    }
  },
  "cells": [
    {
      "cell_type": "markdown",
      "metadata": {
        "id": "view-in-github",
        "colab_type": "text"
      },
      "source": [
        "<a href=\"https://colab.research.google.com/github/Parkshinhyang/Programmers/blob/main/%EC%86%8C%EC%88%98_%EC%B0%BE%EA%B8%B0(Lv_2).ipynb\" target=\"_parent\"><img src=\"https://colab.research.google.com/assets/colab-badge.svg\" alt=\"Open In Colab\"/></a>"
      ]
    },
    {
      "cell_type": "markdown",
      "source": [
        "# 문제 - 소수 찾기\n",
        "[문제 링크](https://school.programmers.co.kr/learn/courses/30/lessons/42839)\n",
        "\n",
        "## 문제 설명\n",
        "\n",
        "한자리 숫자가 적힌 종이 조각이 흩어져있습니다. 흩어진 종이 조각을 붙여 소수를 몇 개 만들 수 있는지 알아내려 합니다.\n",
        "\n",
        "각 종이 조각에 적힌 숫자가 적힌 문자열 numbers가 주어졌을 때, 종이 조각으로 만들 수 있는 소수가 몇 개인지 return 하도록 solution 함수를 완성해주세요.\n",
        "\n",
        "## 제한사항\n",
        "\n",
        "- numbers는 길이 1 이상 7 이하인 문자열입니다.\n",
        "- numbers는 0~9까지 숫자만으로 이루어져 있습니다.\n",
        "- \"013\"은 0, 1, 3 숫자가 적힌 종이 조각이 흩어져있다는 의미입니다.\n",
        "\n",
        "## 입출력 예\n",
        "\n",
        "![image.png](data:image/png;base64,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)\n",
        "\n",
        "## 입출력 예 설명\n",
        "\n",
        "### 예제 #1\n",
        "\n",
        "[1, 7]으로는 소수 [7, 17, 71]를 만들 수 있습니다.\n",
        "\n",
        "### 예제 #2\n",
        "\n",
        "[0, 1, 1]으로는 소수 [11, 101]를 만들 수 있습니다.\n",
        "\n",
        "- 11과 011은 같은 숫자로 취급합니다."
      ],
      "metadata": {
        "id": "8daQAm4yUfOv"
      }
    },
    {
      "cell_type": "markdown",
      "source": [
        "## 첫 번째 방법\n",
        "\n",
        "1. 소수를 판별하는 is_prime함수 정의.\n",
        "2. 입력받은 numbers를 문자 하나하나 분리해주고 분리한 문자로 만들 수 있는 모든 순열을 arr에 저장.\n",
        "3. arr에 저장한 순열들을 한 문자로 합쳐 int type으로 변형 후 arr2에 append하고 중복 제거.\n",
        "4. arr2를 순회하여 2보다 작지 않고 소수이면 answer을 카운트하고 return.\n",
        "\n",
        "결과 : 성공"
      ],
      "metadata": {
        "id": "NcNNsyPiNELR"
      }
    },
    {
      "cell_type": "code",
      "source": [
        "from itertools import permutations as pe\n",
        "\n",
        "def is_prime(n):\n",
        "    for i in range(2, int(n ** (1 / 2)) + 1):\n",
        "        if n % i == 0:\n",
        "            return False\n",
        "    return True\n",
        "\n",
        "def solution(numbers):\n",
        "    answer = 0\n",
        "    n = list(numbers)\n",
        "    arr, arr2 = [], []\n",
        "\n",
        "    for i in range(1, len(n) + 1):\n",
        "        arr += list(pe(n, i))\n",
        "        \n",
        "    for i in arr:\n",
        "        arr2.append(int(''.join(i)))   \n",
        "    arr2 = list(set(arr2))\n",
        "    \n",
        "    for i in arr2:\n",
        "        if i <= 1:\n",
        "            continue   \n",
        "        elif is_prime(i):   \n",
        "            answer += 1    \n",
        "\n",
        "    return answer\n",
        "solution(\"011\")"
      ],
      "metadata": {
        "colab": {
          "base_uri": "https://localhost:8080/"
        },
        "id": "d1m3YrrqsmI1",
        "outputId": "7444aa78-a31e-4229-8c98-5c2f49245a47"
      },
      "execution_count": 3,
      "outputs": [
        {
          "output_type": "execute_result",
          "data": {
            "text/plain": [
              "2"
            ]
          },
          "metadata": {},
          "execution_count": 3
        }
      ]
    }
  ]
}
