{
  "nbformat": 4,
  "nbformat_minor": 0,
  "metadata": {
    "colab": {
      "provenance": [],
      "authorship_tag": "ABX9TyM0yMOgN+90lfOvS63ntA1S",
      "include_colab_link": true
    },
    "kernelspec": {
      "name": "python3",
      "display_name": "Python 3"
    },
    "language_info": {
      "name": "python"
    }
  },
  "cells": [
    {
      "cell_type": "markdown",
      "metadata": {
        "id": "view-in-github",
        "colab_type": "text"
      },
      "source": [
        "<a href=\"https://colab.research.google.com/github/Parkshinhyang/Programmers/blob/main/%ED%94%BC%EB%A1%9C%EB%8F%84(Lv_2).ipynb\" target=\"_parent\"><img src=\"https://colab.research.google.com/assets/colab-badge.svg\" alt=\"Open In Colab\"/></a>"
      ]
    },
    {
      "cell_type": "markdown",
      "source": [
        "# 문제 - 피로도\n",
        "https://school.programmers.co.kr/learn/courses/30/lessons/87946\n",
        "\n",
        "## 문제 설명\n",
        "\n",
        "XX게임에는 피로도 시스템(0 이상의 정수로 표현합니다)이 있으며, 일정 피로도를 사용해서 던전을 탐험할 수 있습니다. 이때, 각 던전마다 탐험을 시작하기 위해 필요한 \"최소 필요 피로도\"와 던전 탐험을 마쳤을 때 소모되는 \"소모 피로도\"가 있습니다. \"최소 필요 피로도\"는 해당 던전을 탐험하기 위해 가지고 있어야 하는 최소한의 피로도를 나타내며, \"소모 피로도\"는 던전을 탐험한 후 소모되는 피로도를 나타냅니다. 예를 들어 \"최소 필요 피로도\"가 80, \"소모 피로도\"가 20인 던전을 탐험하기 위해서는 유저의 현재 남은 피로도는 80 이상 이어야 하며, 던전을 탐험한 후에는 피로도 20이 소모됩니다.\n",
        "\n",
        "이 게임에는 하루에 한 번씩 탐험할 수 있는 던전이 여러개 있는데, 한 유저가 오늘 이 던전들을 최대한 많이 탐험하려 합니다. 유저의 현재 피로도 k와 각 던전별 \"최소 필요 피로도\", \"소모 피로도\"가 담긴 2차원 배열 dungeons 가 매개변수로 주어질 때, 유저가 탐험할수 있는 최대 던전 수를 return 하도록 solution 함수를 완성해주세요.\n",
        "\n",
        "## 제한사항\n",
        "\n",
        "- k는 1 이상 5,000 이하인 자연수입니다.\n",
        "- dungeons의 세로(행) 길이(즉, 던전의 개수)는 1 이상 8 이하입니다.\n",
        "    - dungeons의 가로(열) 길이는 2 입니다.\n",
        "    - dungeons의 각 행은 각 던전의 [\"최소 필요 피로도\", \"소모 피로도\"] 입니다.\n",
        "    - \"최소 필요 피로도\"는 항상 \"소모 피로도\"보다 크거나 같습니다.\n",
        "    - \"최소 필요 피로도\"와 \"소모 피로도\"는 1 이상 1,000 이하인 자연수입니다.\n",
        "    - 서로 다른 던전의 [\"최소 필요 피로도\", \"소모 피로도\"]가 서로 같을 수 있습니다.\n",
        "\n",
        "## 입출력 예\n",
        "\n",
        "![image.png](data:image/png;base64,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)\n",
        "\n",
        "## 입출력 예 설명\n",
        "\n",
        "현재 피로도는 80입니다.\n",
        "\n",
        "만약, 첫 번째 → 두 번째 → 세 번째 던전 순서로 탐험한다면\n",
        "\n",
        "- 현재 피로도는 80이며, 첫 번째 던전을 돌기위해 필요한 \"최소 필요 피로도\" 또한 80이므로, 첫 번째 던전을 탐험할 수 있습니다. 첫 번째 던전의 \"소모 피로도\"는 20이므로, 던전을 탐험한 후 남은 피로도는 60입니다.\n",
        "- 남은 피로도는 60이며, 두 번째 던전을 돌기위해 필요한 \"최소 필요 피로도\"는 50이므로, 두 번째 던전을 탐험할 수 있습니다. 두 번째 던전의 \"소모 피로도\"는 40이므로, 던전을 탐험한 후 남은 피로도는 20입니다.\n",
        "- 남은 피로도는 20이며, 세 번째 던전을 돌기위해 필요한 \"최소 필요 피로도\"는 30입니다. 따라서 세 번째 던전은 탐험할 수 없습니다.\n",
        "\n",
        "만약, 첫 번째 → 세 번째 → 두 번째 던전 순서로 탐험한다면\n",
        "\n",
        "- 현재 피로도는 80이며, 첫 번째 던전을 돌기위해 필요한 \"최소 필요 피로도\" 또한 80이므로, 첫 번째 던전을 탐험할 수 있습니다. 첫 번째 던전의 \"소모 피로도\"는 20이므로, 던전을 탐험한 후 남은 피로도는 60입니다.\n",
        "- 남은 피로도는 60이며, 세 번째 던전을 돌기위해 필요한 \"최소 필요 피로도\"는 30이므로, 세 번째 던전을 탐험할 수 있습니다. 세 번째 던전의 \"소모 피로도\"는 10이므로, 던전을 탐험한 후 남은 피로도는 50입니다.\n",
        "- 남은 피로도는 50이며, 두 번째 던전을 돌기위해 필요한 \"최소 필요 피로도\"는 50이므로, 두 번째 던전을 탐험할 수 있습니다. 두 번째 던전의 \"소모 피로도\"는 40이므로, 던전을 탐험한 후 남은 피로도는 10입니다.\n",
        "\n",
        "따라서 이 경우 세 던전을 모두 탐험할 수 있으며, 유저가 탐험할 수 있는 최대 던전 수는 3입니다."
      ],
      "metadata": {
        "id": "3k4jDVIFxKcY"
      }
    },
    {
      "cell_type": "code",
      "execution_count": 9,
      "metadata": {
        "colab": {
          "base_uri": "https://localhost:8080/"
        },
        "id": "8iq78e4rwGkX",
        "outputId": "f79fa261-51ef-4327-cf72-ccfcbddfbecf"
      },
      "outputs": [
        {
          "output_type": "stream",
          "name": "stdout",
          "text": [
            "[([80, 20], [50, 40], [30, 10]), ([80, 20], [30, 10], [50, 40]), ([50, 40], [80, 20], [30, 10]), ([50, 40], [30, 10], [80, 20]), ([30, 10], [80, 20], [50, 40]), ([30, 10], [50, 40], [80, 20])]\n"
          ]
        },
        {
          "output_type": "execute_result",
          "data": {
            "text/plain": [
              "3"
            ]
          },
          "metadata": {},
          "execution_count": 9
        }
      ],
      "source": [
        "from itertools import permutations as pe\n",
        "\n",
        "def solution(k, dungeons):\n",
        "    answer, max = 0, 0\n",
        "    li = list(pe(dungeons, len(dungeons)))\n",
        "\n",
        "    for i in li:\n",
        "        cnt = 0\n",
        "        tmp_k = k\n",
        "        for j in range(len(i)):\n",
        "            if tmp_k >= i[j][0]:\n",
        "                tmp_k -= i[j][1]\n",
        "                cnt += 1\n",
        "        if cnt > max:\n",
        "            max = cnt\n",
        "    return max\n",
        "solution(80, [[80,20],[50,40],[30,10]])"
      ]
    }
  ]
}
