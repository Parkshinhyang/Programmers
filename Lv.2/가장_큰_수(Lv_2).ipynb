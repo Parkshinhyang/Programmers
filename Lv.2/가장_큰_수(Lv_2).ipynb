{
  "nbformat": 4,
  "nbformat_minor": 0,
  "metadata": {
    "colab": {
      "provenance": [],
      "authorship_tag": "ABX9TyPXSjA4HRwbAehfCKcPypJf",
      "include_colab_link": true
    },
    "kernelspec": {
      "name": "python3",
      "display_name": "Python 3"
    },
    "language_info": {
      "name": "python"
    }
  },
  "cells": [
    {
      "cell_type": "markdown",
      "metadata": {
        "id": "view-in-github",
        "colab_type": "text"
      },
      "source": [
        "<a href=\"https://colab.research.google.com/github/Parkshinhyang/Programmers/blob/main/%EA%B0%80%EC%9E%A5_%ED%81%B0_%EC%88%98(Lv_2).ipynb\" target=\"_parent\"><img src=\"https://colab.research.google.com/assets/colab-badge.svg\" alt=\"Open In Colab\"/></a>"
      ]
    },
    {
      "cell_type": "markdown",
      "source": [
        "## 프로그래머스 가장 큰 수 \n",
        "- 문제 설명 : 0 또는 양의 정수가 주어졌을 때, 정수를 이어 붙여 만들 수 있는 가장 큰 수를 알아내 주세요. 예를 들어, 주어진 정수가 [6, 10, 2]라면 [6102, 6210, 1062, 1026, 2610, 2106]를 만들 수 있고, 이중 가장 큰 수는 6102입니다.\n",
        "0 또는 양의 정수가 담긴 배열 numbers가 매개변수로 주어질 때, 순서를 재배치하여 만들 수 있는 가장 큰 수를 문자열로 바꾸어 return 하도록 solution 함수를 작성해주세요.\n",
        "\n",
        "- 제한 사항\n",
        "1. numbers의 길이는 1 이상 100,000 이하입니다.\n",
        "2. numbers의 원소는 0 이상 1,000 이하입니다.\n",
        "3. 정답이 너무 클 수 있으니 문자열로 바꾸어 return 합니다.\n",
        "\n",
        "- 입출력 예 : numbers - [6, 10, 2], return - \"6210\""
      ],
      "metadata": {
        "id": "6CZx_XIxXoUs"
      }
    },
    {
      "cell_type": "code",
      "execution_count": null,
      "metadata": {
        "colab": {
          "base_uri": "https://localhost:8080/",
          "height": 35
        },
        "id": "P6KItgNJXmXw",
        "outputId": "989d96e0-7b72-4335-fc09-cae3f21dc881"
      },
      "outputs": [
        {
          "output_type": "execute_result",
          "data": {
            "text/plain": [
              "'9995985195'"
            ],
            "application/vnd.google.colaboratory.intrinsic+json": {
              "type": "string"
            }
          },
          "metadata": {},
          "execution_count": 1
        }
      ],
      "source": [
        "numbers = [195, 999, 598, 5]\n",
        "\n",
        "def solution(numbers):\n",
        "    numbers = list(map(str, numbers)) ## 제한 사항에 맞게 주어진 numbers를 문자열로 바꿈\n",
        "    numbers.sort(key = lambda x : x * 4, reverse = True) ## numbers의 원소가 1,000이하라는 제한 사항이 있는 점을 참고해 numbers의 원소를 최소 1,000자리로 모두 변환한 후(3333, 3030, 3434와 같이) 비교하여 정렬\n",
        "    return str(int(''.join(numbers))) ## 공백을 기준으로 문자열을 합쳐 리턴\n",
        "\n",
        "solution(numbers)"
      ]
    }
  ]
}
