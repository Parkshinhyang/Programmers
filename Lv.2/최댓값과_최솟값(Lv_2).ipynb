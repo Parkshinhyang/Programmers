{
  "nbformat": 4,
  "nbformat_minor": 0,
  "metadata": {
    "colab": {
      "provenance": [],
      "authorship_tag": "ABX9TyMNvibSoggKR5CnzzMlOKHK",
      "include_colab_link": true
    },
    "kernelspec": {
      "name": "python3",
      "display_name": "Python 3"
    },
    "language_info": {
      "name": "python"
    }
  },
  "cells": [
    {
      "cell_type": "markdown",
      "metadata": {
        "id": "view-in-github",
        "colab_type": "text"
      },
      "source": [
        "<a href=\"https://colab.research.google.com/github/Parkshinhyang/Programmers/blob/main/%EC%B5%9C%EB%8C%93%EA%B0%92%EA%B3%BC_%EC%B5%9C%EC%86%9F%EA%B0%92(Lv_2).ipynb\" target=\"_parent\"><img src=\"https://colab.research.google.com/assets/colab-badge.svg\" alt=\"Open In Colab\"/></a>"
      ]
    },
    {
      "cell_type": "markdown",
      "source": [
        "# 문제 - 최댓값과 최솟값\n",
        "https://school.programmers.co.kr/learn/courses/30/lessons/12939\n",
        "\n",
        "## 문제 설명\n",
        "문자열 s에는 공백으로 구분된 숫자들이 저장되어 있습니다. str에 나타나는 숫자 중 최소값과 최대값을 찾아 이를 \"(최소값) (최대값)\"형태의 문자열을 반환하는 함수, solution을 완성하세요.\n",
        "예를들어 s가 \"1 2 3 4\"라면 \"1 4\"를 리턴하고, \"-1 -2 -3 -4\"라면 \"-4 -1\"을 리턴하면 됩니다.\n",
        "\n",
        "## 제한 조건\n",
        "- s에는 둘 이상의 정수가 공백으로 구분되어 있습니다.\n",
        "\n",
        "## 입출력 예\n",
        "![image.png](data:image/png;base64,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)"
      ],
      "metadata": {
        "id": "SLqlYfgczj7X"
      }
    },
    {
      "cell_type": "markdown",
      "source": [
        "## 첫 번째 방법\n",
        "1. s를 split함수를 통해 공백을 기준으로 나누고 map 함수를 사용해 int형태로 변환한 list를 arr에 저장.\n",
        "2. min, max 함수로 arr의 최솟값을 str형태로, 그 후 공백을, 마지막으로 arr의 최댓값을 str형태로 바꾼 값을 합쳐 return.\n",
        "\n",
        "결과 : 성공"
      ],
      "metadata": {
        "id": "39JzogrS_Bf_"
      }
    },
    {
      "cell_type": "code",
      "execution_count": 26,
      "metadata": {
        "colab": {
          "base_uri": "https://localhost:8080/",
          "height": 35
        },
        "id": "fJCl1wLczh0R",
        "outputId": "c0ef2756-3674-482c-bcec-cf986e73a2db"
      },
      "outputs": [
        {
          "output_type": "execute_result",
          "data": {
            "text/plain": [
              "'-4 -1'"
            ],
            "application/vnd.google.colaboratory.intrinsic+json": {
              "type": "string"
            }
          },
          "metadata": {},
          "execution_count": 26
        }
      ],
      "source": [
        "def solution(s):\n",
        "    arr = list(map(int, s.split(' ')))\n",
        "    return str(min(arr)) + \" \" + str(max(arr))\n",
        "\n",
        "solution(\"-1 -2 -3 -4\")"
      ]
    }
  ]
}
