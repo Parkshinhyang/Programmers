{
  "nbformat": 4,
  "nbformat_minor": 0,
  "metadata": {
    "colab": {
      "provenance": [],
      "authorship_tag": "ABX9TyMGMo3mGwCO0IQa1Oq26p1x",
      "include_colab_link": true
    },
    "kernelspec": {
      "name": "python3",
      "display_name": "Python 3"
    },
    "language_info": {
      "name": "python"
    }
  },
  "cells": [
    {
      "cell_type": "markdown",
      "metadata": {
        "id": "view-in-github",
        "colab_type": "text"
      },
      "source": [
        "<a href=\"https://colab.research.google.com/github/Parkshinhyang/Programmers/blob/main/%ED%85%8C%EC%9D%B4%EB%B8%94_%ED%95%B4%EC%8B%9C_%ED%95%A8%EC%88%98(Lv_2).ipynb\" target=\"_parent\"><img src=\"https://colab.research.google.com/assets/colab-badge.svg\" alt=\"Open In Colab\"/></a>"
      ]
    },
    {
      "cell_type": "markdown",
      "source": [
        "# 문제 - 테이블 해시 함수\n",
        "\n",
        "[문제 링크](https://school.programmers.co.kr/learn/courses/30/lessons/147354)\n",
        "\n",
        "## 문제 설명\n",
        "\n",
        "완호가 관리하는 어떤 데이터베이스의 한 테이블은 모두 정수 타입인 컬럼들로 이루어져 있습니다. 테이블은 2차원 행렬로 표현할 수 있으며 열은 컬럼을 나타내고, 행은 튜플을 나타냅니다.\n",
        "첫 번째 컬럼은 기본키로서 모든 튜플에 대해 그 값이 중복되지 않도록 보장됩니다. 완호는 이 테이블에 대한 해시 함수를 다음과 같이 정의하였습니다.\n",
        "\n",
        "1. 해시 함수는 col, row_begin, row_end을 입력으로 받습니다.\n",
        "2. 테이블의 튜플을 col번째 컬럼의 값을 기준으로 오름차순 정렬을 하되, 만약 그 값이 동일하면 기본키인 첫 번째 컬럼의 값을 기준으로 내림차순 정렬합니다.\n",
        "3. 정렬된 데이터에서 S_i를 i 번째 행의 튜플에 대해 각 컬럼의 값을 i 로 나눈 나머지들의 합으로 정의합니다.\n",
        "4. row_begin ≤ i ≤ row_end 인 모든 S_i를 누적하여 bitwise XOR 한 값을 해시 값으로서 반환합니다.\n",
        "\n",
        "테이블의 데이터 data와 해시 함수에 대한 입력 col, row_begin, row_end이 주어졌을 때 테이블의 해시 값을 return 하도록 solution 함수를 완성해주세요.\n",
        "\n",
        "## 제한사항\n",
        "\n",
        "- 1 ≤ data의 길이 ≤ 2,500\n",
        "- 1 ≤ data의 원소의 길이 ≤ 500\n",
        "- 1 ≤ data[i][j] ≤ 1,000,000\n",
        "- data[i][j]는 i + 1 번째 튜플의 j + 1 번째 컬럼의 값을 의미합니다.\n",
        "- 1 ≤ col ≤ data의 원소의 길이\n",
        "- 1 ≤ row_begin ≤ row_end ≤ data의 길이\n",
        "\n",
        "## 입출력 예\n",
        "\n",
        "![image.png](data:image/png;base64,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)\n",
        "\n",
        "## 입출력 예 설명\n",
        "\n",
        "- 정해진 방법에 따라 튜플을 정렬하면 {4, 2, 9}, {2, 2, 6}, {1, 5, 10}, {3, 8, 3} 이 됩니다.\n",
        "- S_2 = (2 mod 2) + (2 mod 2) + (6 mod 2) = 0 입니다.\n",
        "- S_3 = (1 mod 3) + (5 mod 3) + (10 mod 3) = 4 입니다.\n",
        "- 따라서 해시 값은 S_2 XOR S_ 3 = 4 입니다."
      ],
      "metadata": {
        "id": "cXrffacFZCM5"
      }
    },
    {
      "cell_type": "markdown",
      "source": [
        "## 첫 번째 방법\n",
        "\n",
        "1. 입력받은 data를 (x[col - 1], -x[0])의 조건에 맞게 정렬.(x[col - 1]로 우선 정렬하고 같은 값이면 -x[0]으로 정렬)\n",
        "2. 정렬된 데이터를 row_begin부터 row_end까지 순회하여 mod i한 값을 mod_sum에 더함.\n",
        "3. mod_sum한 값을 answer에 XOR 연산하여 더한 후 answer을 return.\n",
        "\n",
        "결과 : 성공"
      ],
      "metadata": {
        "id": "_YoV87_Bf0wH"
      }
    },
    {
      "cell_type": "code",
      "execution_count": 10,
      "metadata": {
        "colab": {
          "base_uri": "https://localhost:8080/"
        },
        "id": "APz7uVUeY_k0",
        "outputId": "c4320bf3-df43-4726-d558-07b663dbcf46"
      },
      "outputs": [
        {
          "output_type": "execute_result",
          "data": {
            "text/plain": [
              "4"
            ]
          },
          "metadata": {},
          "execution_count": 10
        }
      ],
      "source": [
        "def solution(data, col, row_begin, row_end):\n",
        "    answer= 0\n",
        "\n",
        "    data.sort(key = lambda x : (x[col - 1], -x[0]))\n",
        "    for i in range(row_begin, row_end + 1):\n",
        "        mod_sum = 0\n",
        "        for j in data[i - 1]:\n",
        "            mod_sum += (j % i)\n",
        "        answer ^= mod_sum\n",
        "    return answer\n",
        "\n",
        "solution([[2,2,6],[1,5,10],[4,2,9],[3,8,3]], 2, 2, 3)"
      ]
    }
  ]
}
