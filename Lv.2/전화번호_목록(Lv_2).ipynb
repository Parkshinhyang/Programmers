{
  "nbformat": 4,
  "nbformat_minor": 0,
  "metadata": {
    "colab": {
      "provenance": [],
      "authorship_tag": "ABX9TyPTYcE+vFA9SyM5/iVSKPW/",
      "include_colab_link": true
    },
    "kernelspec": {
      "name": "python3",
      "display_name": "Python 3"
    },
    "language_info": {
      "name": "python"
    }
  },
  "cells": [
    {
      "cell_type": "markdown",
      "metadata": {
        "id": "view-in-github",
        "colab_type": "text"
      },
      "source": [
        "<a href=\"https://colab.research.google.com/github/Parkshinhyang/Programmers/blob/main/%EC%A0%84%ED%99%94%EB%B2%88%ED%98%B8_%EB%AA%A9%EB%A1%9D(Lv_2).ipynb\" target=\"_parent\"><img src=\"https://colab.research.google.com/assets/colab-badge.svg\" alt=\"Open In Colab\"/></a>"
      ]
    },
    {
      "cell_type": "markdown",
      "source": [
        "# 문제 - 전화번호 목록\n",
        "https://school.programmers.co.kr/learn/courses/30/lessons/42577\n",
        "\n",
        "## 문제 설명\n",
        "\n",
        "전화번호부에 적힌 전화번호 중, 한 번호가 다른 번호의 접두어인 경우가 있는지 확인하려 합니다.\n",
        "전화번호가 다음과 같을 경우, 구조대 전화번호는 영석이의 전화번호의 접두사입니다.\n",
        "\n",
        "- 구조대 : 119\n",
        "- 박준영 : 97 674 223\n",
        "- 지영석 : 11 9552 4421\n",
        "전화번호부에 적힌 전화번호를 담은 배열 phone_book 이 solution 함수의 매개변수로 주어질 때, 어떤 번호가 다른 번호의 접두어인 경우가 있으면 false를 그렇지 않으면 true를 return 하도록 solution 함수를 작성해주세요.\n",
        "\n",
        "## 제한사항\n",
        "\n",
        "- phone_book의 길이는 1 이상 1,000,000 이하입니다.\n",
        "    - 각 전화번호의 길이는 1 이상 20 이하입니다.\n",
        "    - 같은 전화번호가 중복해서 들어있지 않습니다.\n",
        "\n",
        "## 입출력 예제\n",
        "\n",
        "![image.png](data:image/png;base64,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)\n",
        "\n",
        "## 입출력 예 설명\n",
        "\n",
        "### 입출력 예 #1\n",
        "앞에서 설명한 예와 같습니다.\n",
        "\n",
        "### 입출력 예 #2\n",
        "한 번호가 다른 번호의 접두사인 경우가 없으므로, 답은 true입니다.\n",
        "\n",
        "### 입출력 예 #3\n",
        "첫 번째 전화번호, “12”가 두 번째 전화번호 “123”의 접두사입니다. 따라서 답은 false입니다.\n",
        "\n"
      ],
      "metadata": {
        "id": "koCuKe0zOcaY"
      }
    },
    {
      "cell_type": "markdown",
      "source": [
        "## 첫 번째 방법\n",
        "\n",
        "1. phone_book를 순차적으로 이중 탐색하는 for문을 통해 문자열이 다른 문자열 안에 있을 시 False를, 없을 시 True를 return.\n",
        "\n",
        "결과 : 실패\n",
        "-> 시간 초과. \n",
        "\n",
        "for문을 이중으로 사용하게 되면 시간복잡도가 O(N^2)로 효율성 테스트에 통과하지 못함."
      ],
      "metadata": {
        "id": "1-piGDLWeIOh"
      }
    },
    {
      "cell_type": "code",
      "execution_count": 26,
      "metadata": {
        "colab": {
          "base_uri": "https://localhost:8080/"
        },
        "id": "CbxzOpY4Oa1O",
        "outputId": "28a7e813-e7f5-44f3-980b-c756ff186bbe"
      },
      "outputs": [
        {
          "output_type": "execute_result",
          "data": {
            "text/plain": [
              "True"
            ]
          },
          "metadata": {},
          "execution_count": 26
        }
      ],
      "source": [
        "def solution(phone_book):\n",
        "    for i in range(len(phone_book)):\n",
        "        for j in range(len(phone_book)):\n",
        "            if i != j:\n",
        "                if phone_book[i] == phone_book[j][: len(phone_book[i]) + 1]:\n",
        "                    return False\n",
        "    return True\n",
        "solution([\"123\",\"456\",\"789\"])"
      ]
    },
    {
      "cell_type": "markdown",
      "source": [
        "## 두 번째 방법\n",
        "\n",
        "1. phone_book를 오름차순으로 정렬.\n",
        "2. for문을 통해 앞에 문자열이 바로 뒤에 문자열 앞에 속해 있는 지 확인.\n",
        "3. 위 조건에 충족하면 False를 충족하지 못하면 True를 return.\n",
        "\n",
        "결과 : 성공\n"
      ],
      "metadata": {
        "id": "MRbEV4DNezxF"
      }
    },
    {
      "cell_type": "code",
      "source": [
        "def solution(phone_book):\n",
        "    phone_book = sorted(phone_book)\n",
        "    for i in range(1, len(phone_book)):\n",
        "        if phone_book[i - 1] == phone_book[i][:len(phone_book[i - 1])]:\n",
        "            return False\n",
        "    return True\n",
        "solution([\"123\",\"456\",\"789\"])"
      ],
      "metadata": {
        "colab": {
          "base_uri": "https://localhost:8080/"
        },
        "id": "Vm1z1mq8TppG",
        "outputId": "c6cd5e04-8c8c-4e37-f3d5-ef7746f014e0"
      },
      "execution_count": 27,
      "outputs": [
        {
          "output_type": "execute_result",
          "data": {
            "text/plain": [
              "True"
            ]
          },
          "metadata": {},
          "execution_count": 27
        }
      ]
    }
  ]
}
