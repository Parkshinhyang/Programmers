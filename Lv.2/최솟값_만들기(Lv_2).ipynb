{
  "nbformat": 4,
  "nbformat_minor": 0,
  "metadata": {
    "colab": {
      "provenance": [],
      "authorship_tag": "ABX9TyNCnLwsuNw3j2wQNdhRVmcW",
      "include_colab_link": true
    },
    "kernelspec": {
      "name": "python3",
      "display_name": "Python 3"
    },
    "language_info": {
      "name": "python"
    }
  },
  "cells": [
    {
      "cell_type": "markdown",
      "metadata": {
        "id": "view-in-github",
        "colab_type": "text"
      },
      "source": [
        "<a href=\"https://colab.research.google.com/github/Parkshinhyang/Programmers/blob/main/%EC%B5%9C%EC%86%9F%EA%B0%92_%EB%A7%8C%EB%93%A4%EA%B8%B0(Lv_2).ipynb\" target=\"_parent\"><img src=\"https://colab.research.google.com/assets/colab-badge.svg\" alt=\"Open In Colab\"/></a>"
      ]
    },
    {
      "cell_type": "markdown",
      "source": [
        "# 문제 - 최솟값 만들기\n",
        "https://school.programmers.co.kr/learn/courses/30/lessons/12941\n",
        "\n",
        "## 문제 설명\n",
        "길이가 같은 배열 A, B 두개가 있습니다. 각 배열은 자연수로 이루어져 있습니다.\n",
        "배열 A, B에서 각각 한 개의 숫자를 뽑아 두 수를 곱합니다. 이러한 과정을 배열의 길이만큼 반복하며, 두 수를 곱한 값을 누적하여 더합니다. 이때 최종적으로 누적된 값이 최소가 되도록 만드는 것이 목표입니다. (단, 각 배열에서 k번째 숫자를 뽑았다면 다음에 k번째 숫자는 다시 뽑을 수 없습니다.)\n",
        "\n",
        "예를 들어 A = [1, 4, 2] , B = [5, 4, 4] 라면\n",
        "\n",
        "- A에서 첫번째 숫자인 1, B에서 첫번째 숫자인 5를 뽑아 곱하여 더합니다. (누적된 값 : 0 + 5(1x5) = 5)\n",
        "- A에서 두번째 숫자인 4, B에서 세번째 숫자인 4를 뽑아 곱하여 더합니다. (누적된 값 : 5 + 16(4x4) = 21)\n",
        "- A에서 세번째 숫자인 2, B에서 두번째 숫자인 4를 뽑아 곱하여 더합니다. (누적된 값 : 21 + 8(2x4) = 29)\n",
        "즉, 이 경우가 최소가 되므로 29를 return 합니다.\n",
        "\n",
        "배열 A, B가 주어질 때 최종적으로 누적된 최솟값을 return 하는 solution 함수를 완성해 주세요.\n",
        "\n",
        "## 제한사항\n",
        "\n",
        "- 배열 A, B의 크기 : 1,000 이하의 자연수\n",
        "- 배열 A, B의 원소의 크기 : 1,000 이하의 자연수\n",
        "\n",
        "## 입출력 예\n",
        "\n",
        "![image.png](data:image/png;base64,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)\n",
        "\n",
        "## 입출력 예 설명\n",
        "\n",
        "### 입출력 예 #1\n",
        "문제의 예시와 같습니다.\n",
        "\n",
        "### 입출력 예 #2\n",
        "A에서 첫번째 숫자인 1, B에서 두번째 숫자인 4를 뽑아 곱하여 더합니다. (누적된 값 : 4) 다음, A에서 두번째 숫자인 2, B에서 첫번째 숫자인 3을 뽑아 곱하여 더합니다. (누적된 값 : 4 + 6 = 10)\n",
        "이 경우가 최소이므로 10을 return 합니다."
      ],
      "metadata": {
        "id": "pr_ZGrJX_uRu"
      }
    },
    {
      "cell_type": "markdown",
      "source": [
        "## 첫 번째 방법\n",
        "1. 입력받은 A와 B를 정렬하는데 A는 오름차순, b는 내림차순 정렬을 함. (최솟값을 만들려면 제일 작은 원소와 제일 큰 원소를 곱하여 합해야 함.)\n",
        "2. A의 크기만큼 반복하는 반복문으로 answer에 A[i] * B[i]를 저장한 후 answer을 return.\n",
        "\n",
        "결과 : 성공"
      ],
      "metadata": {
        "id": "loNJcx-1B2Kt"
      }
    },
    {
      "cell_type": "code",
      "execution_count": 7,
      "metadata": {
        "colab": {
          "base_uri": "https://localhost:8080/"
        },
        "id": "XgqjycVs_reK",
        "outputId": "44b80093-3a53-4002-af0e-fd6aedaa494d"
      },
      "outputs": [
        {
          "output_type": "execute_result",
          "data": {
            "text/plain": [
              "10"
            ]
          },
          "metadata": {},
          "execution_count": 7
        }
      ],
      "source": [
        "def solution(A,B):\n",
        "    answer = 0\n",
        "    A.sort()\n",
        "    B.sort(reverse = True)\n",
        "    \n",
        "    for i in range(len(A)):\n",
        "        answer += A[i] * B[i]\n",
        "    return answer\n",
        "\n",
        "solution([1,2], [3,4])"
      ]
    }
  ]
}
