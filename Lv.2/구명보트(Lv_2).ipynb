{
  "nbformat": 4,
  "nbformat_minor": 0,
  "metadata": {
    "colab": {
      "provenance": [],
      "authorship_tag": "ABX9TyNADm/MJZwy8lptBbIIKxIp",
      "include_colab_link": true
    },
    "kernelspec": {
      "name": "python3",
      "display_name": "Python 3"
    },
    "language_info": {
      "name": "python"
    }
  },
  "cells": [
    {
      "cell_type": "markdown",
      "metadata": {
        "id": "view-in-github",
        "colab_type": "text"
      },
      "source": [
        "<a href=\"https://colab.research.google.com/github/Parkshinhyang/Programmers/blob/main/%EA%B5%AC%EB%AA%85%EB%B3%B4%ED%8A%B8(Lv_2).ipynb\" target=\"_parent\"><img src=\"https://colab.research.google.com/assets/colab-badge.svg\" alt=\"Open In Colab\"/></a>"
      ]
    },
    {
      "cell_type": "markdown",
      "source": [
        "# 문제 - 구명보트\n",
        "[문제 링크](https://school.programmers.co.kr/learn/courses/30/lessons/42885)\n",
        "\n",
        "## 문제 설명\n",
        "\n",
        "무인도에 갇힌 사람들을 구명보트를 이용하여 구출하려고 합니다. 구명보트는 작아서 한 번에 최대 2명씩 밖에 탈 수 없고, 무게 제한도 있습니다.\n",
        "\n",
        "예를 들어, 사람들의 몸무게가 [70kg, 50kg, 80kg, 50kg]이고 구명보트의 무게 제한이 100kg이라면 2번째 사람과 4번째 사람은 같이 탈 수 있지만 1번째 사람과 3번째 사람의 무게의 합은 150kg이므로 구명보트의 무게 제한을 초과하여 같이 탈 수 없습니다.\n",
        "\n",
        "구명보트를 최대한 적게 사용하여 모든 사람을 구출하려고 합니다.\n",
        "\n",
        "사람들의 몸무게를 담은 배열 people과 구명보트의 무게 제한 limit가 매개변수로 주어질 때, 모든 사람을 구출하기 위해 필요한 구명보트 개수의 최솟값을 return 하도록 solution 함수를 작성해주세요.\n",
        "\n",
        "## 제한사항\n",
        "\n",
        "- 무인도에 갇힌 사람은 1명 이상 50,000명 이하입니다.\n",
        "- 각 사람의 몸무게는 40kg 이상 240kg 이하입니다.\n",
        "- 구명보트의 무게 제한은 40kg 이상 240kg 이하입니다.\n",
        "- 구명보트의 무게 제한은 항상 사람들의 몸무게 중 최댓값보다 크게 주어지므로 사람들을 구출할 수 없는 경우는 없습니다.\n",
        "\n",
        "## 입출력 예\n",
        "\n",
        "![image.png](data:image/png;base64,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)\n",
        "\n"
      ],
      "metadata": {
        "id": "q_vA9o1DpyvI"
      }
    },
    {
      "cell_type": "markdown",
      "source": [
        "## 첫 번째 방법(투포인터 방식을 활용)\n",
        "\n",
        "1. 포인터로 사용할 l과 r을 선언하고 입력받은 people을 정렬.\n",
        "2. l이 r보다 작거나 같을 때 반박하는 while문으로 people의 첫 번째 원소와 마지막 원소의 합이 limit보다 작거나 같으면 answer을 카운트하고 r은 디스카운트, l은 카운트.\n",
        "3. 그 외엔 people의 첫 번째 원소와 마지막 원소의 합이 limit보다 크므로 answer을 카운트하고 r만 디스카운트.\n",
        "\n",
        "결과 : 성공"
      ],
      "metadata": {
        "id": "sJrje7uaLV5_"
      }
    },
    {
      "cell_type": "code",
      "execution_count": 39,
      "metadata": {
        "colab": {
          "base_uri": "https://localhost:8080/"
        },
        "id": "WKCprTKWpw6H",
        "outputId": "c417222c-7e0a-4fa2-8089-44e18f5ef2c3"
      },
      "outputs": [
        {
          "output_type": "execute_result",
          "data": {
            "text/plain": [
              "3"
            ]
          },
          "metadata": {},
          "execution_count": 39
        }
      ],
      "source": [
        "def solution(people, limit):\n",
        "    answer = 0\n",
        "    l,r = 0, len(people) - 1\n",
        "    people.sort()\n",
        "    \n",
        "    while l <= r:\n",
        "        if r == l:\n",
        "            answer += 1\n",
        "            break\n",
        "        elif people[l] + people[r] <= limit:\n",
        "            answer += 1\n",
        "            r -= 1\n",
        "            l += 1\n",
        "        else:\n",
        "            answer += 1\n",
        "            r -= 1\n",
        "    return answer\n",
        "        \n",
        "solution([70, 50, 80, 50], 100)"
      ]
    }
  ]
}
