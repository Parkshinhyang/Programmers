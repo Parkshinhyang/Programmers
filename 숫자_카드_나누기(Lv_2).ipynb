{
  "nbformat": 4,
  "nbformat_minor": 0,
  "metadata": {
    "colab": {
      "provenance": [],
      "authorship_tag": "ABX9TyN3SOnsyU5af5IHsiEAvIyZ",
      "include_colab_link": true
    },
    "kernelspec": {
      "name": "python3",
      "display_name": "Python 3"
    },
    "language_info": {
      "name": "python"
    }
  },
  "cells": [
    {
      "cell_type": "markdown",
      "metadata": {
        "id": "view-in-github",
        "colab_type": "text"
      },
      "source": [
        "<a href=\"https://colab.research.google.com/github/Parkshinhyang/Programmers/blob/main/%EC%88%AB%EC%9E%90_%EC%B9%B4%EB%93%9C_%EB%82%98%EB%88%84%EA%B8%B0(Lv_2).ipynb\" target=\"_parent\"><img src=\"https://colab.research.google.com/assets/colab-badge.svg\" alt=\"Open In Colab\"/></a>"
      ]
    },
    {
      "cell_type": "markdown",
      "source": [
        "# 문제 - 숫자 카드 나누기\n",
        "\n",
        "[문제 링크](https://school.programmers.co.kr/learn/courses/30/lessons/135807)\n",
        "\n",
        "## 문제 설명\n",
        "\n",
        "철수와 영희는 선생님으로부터 숫자가 하나씩 적힌 카드들을 절반씩 나눠서 가진 후, 다음 두 조건 중 하나를 만족하는 가장 큰 양의 정수 a의 값을 구하려고 합니다.\n",
        "\n",
        "1. 철수가 가진 카드들에 적힌 모든 숫자를 나눌 수 있고 영희가 가진 카드들에 적힌 모든 숫자들 중 하나도 나눌 수 없는 양의 정수 a\n",
        "\n",
        "2. 영희가 가진 카드들에 적힌 모든 숫자를 나눌 수 있고, 철수가 가진 카드들에 적힌 모든 숫자들 중 하나도 나눌 수 없는 양의 정수 a\n",
        "\n",
        "예를 들어, 카드들에 10, 5, 20, 17이 적혀 있는 경우에 대해 생각해 봅시다. 만약, 철수가 [10, 17]이 적힌 카드를 갖고, 영희가 [5, 20]이 적힌 카드를 갖는다면 두 조건 중 하나를 만족하는 양의 정수 a는 존재하지 않습니다. 하지만, 철수가 [10, 20]이 적힌 카드를 갖고, 영희가 [5, 17]이 적힌 카드를 갖는다면, 철수가 가진 카드들의 숫자는 모두 10으로 나눌 수 있고, 영희가 가진 카드들의 숫자는 모두 10으로 나눌 수 없습니다. 따라서 철수와 영희는 각각 [10, 20]이 적힌 카드, [5, 17]이 적힌 카드로 나눠 가졌다면 조건에 해당하는 양의 정수 a는 10이 됩니다.\n",
        "\n",
        "철수가 가진 카드에 적힌 숫자들을 나타내는 정수 배열 arrayA와 영희가 가진 카드에 적힌 숫자들을 나타내는 정수 배열 arrayB가 주어졌을 때, 주어진 조건을 만족하는 가장 큰 양의 정수 a를 return하도록 solution 함수를 완성해 주세요. 만약, 조건을 만족하는 a가 없다면, 0을 return 해 주세요.\n",
        "\n",
        "## 제한사항\n",
        "\n",
        "- 1 ≤ arrayA의 길이 = arrayB의 길이 ≤ 500,000\n",
        "- 1 ≤ arrayA의 원소, arrayB의 원소 ≤ 100,000,000\n",
        "- arrayA와 arrayB에는 중복된 원소가 있을 수 있습니다.\n",
        "\n",
        "## 입출력 예\n",
        "\n",
        "![image.png](data:image/png;base64,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)\n",
        "\n",
        "## 입출력 예 설명\n",
        "\n",
        "### 입출력 예 #1\n",
        "\n",
        "- 문제 예시와 같습니다.\n",
        "\n",
        "### 입출력 예 #2\n",
        "\n",
        "- 문제 예시와 같습니다.\n",
        "\n",
        "### 입출력 예 #3\n",
        "\n",
        "- 철수가 가진 카드에 적힌 숫자들은 모두 3으로 나눌 수 없고, 영희가 가진 카드에 적힌 숫자는 모두 3으로 나눌 수 있습니다. 따라서 3은 조건에 해당하는 양의 정수입니다. 하지만, 철수가 가진 카드들에 적힌 숫자들은 모두 7로 나눌 수 있고, 영희가 가진 카드들에 적힌 숫자는 모두 7로 나눌 수 없습니다. 따라서 최대값인 7을 return 합니다.\n",
        "\n",
        "\n"
      ],
      "metadata": {
        "id": "dx_3qM8QzrGD"
      }
    },
    {
      "cell_type": "markdown",
      "source": [
        "## 첫 번째 방법\n",
        "\n",
        "1. arrayA와 arrayB의 최대공약수를 각각 gcd_A, gcd_B에 저장.\n",
        "2. 반복문으로 arrayA의 원소는 gcd_B로 arrayB의 원소는 gcd_A로 나누어 떨어지면 gcd_A와 gcd_B를 1로 초기화.\n",
        "3. gcd_A와 gcd_B 모두 1로 초기화 됐으면 0을 return, 아니면 gcd_A와 gcd_B 중 큰 값을 return.\n",
        "\n",
        "결과 : 실패\n",
        "\n",
        "-> 프로그래머스 에서는 gcd,lcm의 인자값을 두 개까지만 받아 세 번째 테스트케이스에서 오류가 남.\n",
        " "
      ],
      "metadata": {
        "id": "RGA5727eO1cm"
      }
    },
    {
      "cell_type": "code",
      "execution_count": 36,
      "metadata": {
        "colab": {
          "base_uri": "https://localhost:8080/"
        },
        "id": "86PPgu3bzk8j",
        "outputId": "40b29b47-0285-4873-f0f9-b273dbc07a99"
      },
      "outputs": [
        {
          "output_type": "stream",
          "name": "stdout",
          "text": [
            "18 30 102\n",
            "7 6\n"
          ]
        },
        {
          "output_type": "execute_result",
          "data": {
            "text/plain": [
              "7"
            ]
          },
          "metadata": {},
          "execution_count": 36
        }
      ],
      "source": [
        "import math\n",
        "\n",
        "def solution(arrayA, arrayB):\n",
        "    answer = 0\n",
        "    \n",
        "    gcd_A = math.gcd(*arrayA)\n",
        "    gcd_B = math.gcd(*arrayB)\n",
        "    print(gcd_A, gcd_B)\n",
        "    \n",
        "    for i in range(len(arrayA)):\n",
        "        if arrayA[i] % gcd_B == 0:\n",
        "            gcd_B = 1\n",
        "        if arrayB[i] % gcd_A == 0:\n",
        "            gcd_A = 1\n",
        "    \n",
        "    if gcd_A == 1 and gcd_B == 1:\n",
        "        return 0\n",
        "    else:\n",
        "        return max(gcd_A, gcd_B)\n",
        "\n",
        "solution([14, 35, 119], [18, 30, 102])"
      ]
    },
    {
      "cell_type": "markdown",
      "source": [
        "## 두 번째 방법\n",
        "\n",
        "1. 첫 번째 방법에서 파이썬 내장함수인 gcd함수를 사용하지 않고 직접 구현하여 각 입력받은 리스트의 최대공약수를 구함.\n",
        "\n",
        "결과 : 성공"
      ],
      "metadata": {
        "id": "8UyA6ciMT69o"
      }
    },
    {
      "cell_type": "code",
      "source": [
        "def gcd_(a, b):\n",
        "    while b > 0:\n",
        "        a, b = b, a % b\n",
        "    return a\n",
        "def gcd_arr(arr):\n",
        "    gcd = arr[0]\n",
        "\n",
        "    for i in arr:\n",
        "        gcd = gcd_(gcd, i)\n",
        "    return gcd\n",
        "\n",
        "def solution(arrayA, arrayB):\n",
        "    \n",
        "    gcd_A = gcd_arr(arrayA)\n",
        "    gcd_B = gcd_arr(arrayB)\n",
        "    \n",
        "    for i in range(len(arrayA)):\n",
        "        if arrayA[i] % gcd_B == 0:\n",
        "            gcd_B = 1\n",
        "        if arrayB[i] % gcd_A == 0:\n",
        "            gcd_A = 1\n",
        "    \n",
        "    if gcd_A == 1 and gcd_B == 1:\n",
        "        return 0\n",
        "    else:\n",
        "        return max(gcd_A, gcd_B)\n",
        "\n",
        "solution([14, 35, 119], [18, 30, 102])"
      ],
      "metadata": {
        "colab": {
          "base_uri": "https://localhost:8080/"
        },
        "id": "12s5l03IJtlf",
        "outputId": "6969df1a-d7de-4d42-c22c-d46fed2da557"
      },
      "execution_count": 37,
      "outputs": [
        {
          "output_type": "execute_result",
          "data": {
            "text/plain": [
              "7"
            ]
          },
          "metadata": {},
          "execution_count": 37
        }
      ]
    }
  ]
}