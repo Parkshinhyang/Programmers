{
  "nbformat": 4,
  "nbformat_minor": 0,
  "metadata": {
    "colab": {
      "provenance": [],
      "authorship_tag": "ABX9TyOXkI86eDvVFto19T0LGthm",
      "include_colab_link": true
    },
    "kernelspec": {
      "name": "python3",
      "display_name": "Python 3"
    },
    "language_info": {
      "name": "python"
    }
  },
  "cells": [
    {
      "cell_type": "markdown",
      "metadata": {
        "id": "view-in-github",
        "colab_type": "text"
      },
      "source": [
        "<a href=\"https://colab.research.google.com/github/Parkshinhyang/Programmers/blob/main/%EA%B8%B0%EC%82%AC%EB%8B%A8%EC%9B%90%EC%9D%98_%EB%AC%B4%EA%B8%B0(Lv_1).ipynb\" target=\"_parent\"><img src=\"https://colab.research.google.com/assets/colab-badge.svg\" alt=\"Open In Colab\"/></a>"
      ]
    },
    {
      "cell_type": "markdown",
      "source": [
        "## 문제 - 기사단원의 무기\n",
        "https://school.programmers.co.kr/learn/courses/30/lessons/136798"
      ],
      "metadata": {
        "id": "iKMl5mRjKcua"
      }
    },
    {
      "cell_type": "markdown",
      "source": [
        "## 첫 번째 방법\n",
        "\n",
        "1. 1부터 number + 1까지 반복되고 1부터 i + 1까지 반복되는 이중 for문을 만듦.\n",
        "2. i & j == 0일 때 cnt는 카운트.\n",
        "3. cnt를 비교하여 limit보다 작거나 같은 경우엔 answer에 cnt를 더함.\n",
        "4. limit보다 클 경우엔 answer에 power를 더하고 answer을 출력.\n",
        "\n",
        "결과 : 실패 \n",
        "-> 시간 초과\n",
        "\n",
        "## 두 번째 방법\n",
        "1. answer을 1로 초기화 (1의 약수는 어차피 1만 존재하기 때문).\n",
        "2. 2부터 number + 1까지 반복되고 1부터 i의 제곱근 + 1까지 반복되는 이중 for문을 만듦. (제곱근까지의 약수만 구하면 그 짝이 되는 약수는 자동으로 구할 수 있음. ex) 6 = 2 * 3).\n",
        "3. i & j == 0일 때 cnt는 카운트.\n",
        "4. i ** 2 = j가 아닐 경우 cnt를 카운트(N = A * B일 때 9 = 3 * 3와 같이 A == B일 수 있기 때문에 제곱했을 때 n이 되는 경우인지 검사).\n",
        "5. cnt를 비교하여 limit보다 작거나 같은 경우엔 answer에 cnt를 더함.\n",
        "6. limit보다 클 경우엔 answer에 power를 더하고 answer을 출력.\n",
        "\n",
        "결과 : 성공"
      ],
      "metadata": {
        "id": "KlGp9BayF8Ht"
      }
    },
    {
      "cell_type": "code",
      "execution_count": 19,
      "metadata": {
        "colab": {
          "base_uri": "https://localhost:8080/"
        },
        "id": "IPCVPl-vDFwB",
        "outputId": "a03113bd-f546-4072-fa8f-7a75462fd660"
      },
      "outputs": [
        {
          "output_type": "execute_result",
          "data": {
            "text/plain": [
              "21"
            ]
          },
          "metadata": {},
          "execution_count": 19
        }
      ],
      "source": [
        "def solution(number, limit, power):\n",
        "    answer = 1\n",
        "    for i in range(2, number + 1):\n",
        "        cnt = 0\n",
        "        for j in range(1, int(i ** (1 / 2) + 1)):\n",
        "            if i % j == 0:\n",
        "                cnt += 1\n",
        "                if j ** 2 != i:\n",
        "                    cnt += 1\n",
        "        if cnt <= limit:\n",
        "            answer += cnt\n",
        "        else:\n",
        "            answer += power\n",
        "    return answer\n",
        "\n",
        "solution(10, 3, 2)"
      ]
    }
  ]
}