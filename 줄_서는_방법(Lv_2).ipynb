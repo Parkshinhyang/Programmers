{
  "nbformat": 4,
  "nbformat_minor": 0,
  "metadata": {
    "colab": {
      "provenance": [],
      "authorship_tag": "ABX9TyOEqDD6yFnvwZ4OeDZFZ4ZP",
      "include_colab_link": true
    },
    "kernelspec": {
      "name": "python3",
      "display_name": "Python 3"
    },
    "language_info": {
      "name": "python"
    }
  },
  "cells": [
    {
      "cell_type": "markdown",
      "metadata": {
        "id": "view-in-github",
        "colab_type": "text"
      },
      "source": [
        "<a href=\"https://colab.research.google.com/github/Parkshinhyang/Programmers/blob/main/%EC%A4%84_%EC%84%9C%EB%8A%94_%EB%B0%A9%EB%B2%95(Lv_2).ipynb\" target=\"_parent\"><img src=\"https://colab.research.google.com/assets/colab-badge.svg\" alt=\"Open In Colab\"/></a>"
      ]
    },
    {
      "cell_type": "markdown",
      "source": [
        "# 문제 - 줄 서는 방법\n",
        "https://school.programmers.co.kr/learn/courses/30/lessons/12936\n",
        "\n",
        "## 문제 설명\n",
        "\n",
        "n명의 사람이 일렬로 줄을 서고 있습니다. n명의 사람들에게는 각각 1번부터 n번까지 번호가 매겨져 있습니다. n명이 사람을 줄을 서는 방법은 여러가지 방법이 있습니다. 예를 들어서 3명의 사람이 있다면 다음과 같이 6개의 방법이 있습니다.\n",
        "\n",
        "- [1, 2, 3]\n",
        "- [1, 3, 2]\n",
        "- [2, 1, 3]\n",
        "- [2, 3, 1]\n",
        "- [3, 1, 2]\n",
        "- [3, 2, 1]\n",
        "사람의 수 n과, 자연수 k가 주어질 때, 사람을 나열 하는 방법을 사전 순으로 나열 했을 때, k번째 방법을 return하는 solution 함수를 완성해주세요.\n",
        "\n",
        "## 제한사항\n",
        "\n",
        "- n은 20이하의 자연수 입니다.\n",
        "- k는 n! 이하의 자연수 입니다.\n",
        "\n",
        "## 입출력 예\n",
        "\n",
        "![image.png](data:image/png;base64,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)\n",
        "\n",
        "## 입출력 예시 설명\n",
        "\n",
        "### 입출력 예 #1\n",
        "\n",
        "문제의 예시와 같습니다."
      ],
      "metadata": {
        "id": "wQYk11YwE8u7"
      }
    },
    {
      "cell_type": "markdown",
      "source": [
        "## 첫 번째 방법\n",
        "1. 1부터 n까지 원소로 있는 리스트로 n가지로 구성된 순열 집합을 만든 후 k - 1번째 묶음을 return.\n",
        "\n",
        "결과 : 실패\n",
        "\n",
        "-> 시간 초과"
      ],
      "metadata": {
        "id": "i5ahqqZ-cs7F"
      }
    },
    {
      "cell_type": "code",
      "source": [
        "from itertools import permutations\n",
        "\n",
        "def solution(n, k):\n",
        "    return list(permutations([i for i in range(1, n + 1)], n))[k - 1]\n",
        "solution(3, 5)"
      ],
      "metadata": {
        "colab": {
          "base_uri": "https://localhost:8080/"
        },
        "id": "j63U0xS8cK6k",
        "outputId": "2a58691b-e3b9-4327-b619-2e7f7a4a0f86"
      },
      "execution_count": null,
      "outputs": [
        {
          "output_type": "execute_result",
          "data": {
            "text/plain": [
              "(3, 1, 2)"
            ]
          },
          "metadata": {},
          "execution_count": 22
        }
      ]
    },
    {
      "cell_type": "markdown",
      "source": [
        "## 두 번째 방법\n",
        "\n",
        "1. 1부터 입력받은 n까지 수를 num에 저장.\n",
        "2. n 이 0이 아닐 때까지 반복하는 while문으로 f_num에 (n - 1)!을 저장.\n",
        "3. 첫 번째 수는 k // f_num 인 걸 확인하여 answer에 append.\n",
        "4. 위 과정을 반복하는데 이떄 n은 n - 1, k = k % (n - 1)!.\n",
        "\n",
        "결과 : 성공"
      ],
      "metadata": {
        "id": "VfFcDiq64sNu"
      }
    },
    {
      "cell_type": "code",
      "source": [
        "import math\n",
        "\n",
        "def solution(n, k):\n",
        "    answer = []\n",
        "    num = [i for i in range(1, n + 1)]\n",
        "\n",
        "    while n != 0:\n",
        "        f_num = math.factorial(n - 1)\n",
        "        idx = k // f_num\n",
        "        k = k % f_num\n",
        "        \n",
        "        if k == 0:\n",
        "            answer.append(num.pop(idx - 1))\n",
        "        else:\n",
        "            answer.append(num.pop(idx))\n",
        "        n -= 1\n",
        "    return answer\n",
        "\n",
        "solution(3, 5)"
      ],
      "metadata": {
        "id": "R6f3lzpuIgGy",
        "colab": {
          "base_uri": "https://localhost:8080/"
        },
        "outputId": "f960b960-866f-4902-b486-e3f44a864a77"
      },
      "execution_count": 27,
      "outputs": [
        {
          "output_type": "execute_result",
          "data": {
            "text/plain": [
              "[3, 1, 2]"
            ]
          },
          "metadata": {},
          "execution_count": 27
        }
      ]
    }
  ]
}