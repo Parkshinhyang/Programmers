{
  "nbformat": 4,
  "nbformat_minor": 0,
  "metadata": {
    "colab": {
      "provenance": [],
      "authorship_tag": "ABX9TyOtQeFaAWG5BZme12tUOlRl",
      "include_colab_link": true
    },
    "kernelspec": {
      "name": "python3",
      "display_name": "Python 3"
    },
    "language_info": {
      "name": "python"
    }
  },
  "cells": [
    {
      "cell_type": "markdown",
      "metadata": {
        "id": "view-in-github",
        "colab_type": "text"
      },
      "source": [
        "<a href=\"https://colab.research.google.com/github/Parkshinhyang/Programmers/blob/main/k%EC%A7%84%EC%88%98%EC%97%90%EC%84%9C_%EC%86%8C%EC%88%98_%EA%B0%9C%EC%88%98_%EA%B5%AC%ED%95%98%EA%B8%B0(Lv_2).ipynb\" target=\"_parent\"><img src=\"https://colab.research.google.com/assets/colab-badge.svg\" alt=\"Open In Colab\"/></a>"
      ]
    },
    {
      "cell_type": "markdown",
      "source": [
        "# 문제 - k진수에서 소수 개수 구하기\n",
        "\n",
        "[문제 링크](https://school.programmers.co.kr/learn/courses/30/lessons/92335)\n",
        "\n",
        "## 문제 설명\n",
        "\n",
        "양의 정수 n이 주어집니다. 이 숫자를 k진수로 바꿨을 때, 변환된 수 안에 아래 조건에 맞는 소수(Prime number)가 몇 개인지 알아보려 합니다.\n",
        "\n",
        "- 0P0처럼 소수 양쪽에 0이 있는 경우\n",
        "- P0처럼 소수 오른쪽에만 0이 있고 왼쪽에는 아무것도 없는 경우\n",
        "- 0P처럼 소수 왼쪽에만 0이 있고 오른쪽에는 아무것도 없는 경우\n",
        "- P처럼 소수 양쪽에 아무것도 없는 경우\n",
        "- 단, P는 각 자릿수에 0을 포함하지 않는 소수입니다.\n",
        "    - 예를 들어, 101은 P가 될 수 없습니다.\n",
        "\n",
        "예를 들어, 437674을 3진수로 바꾸면 211020101011입니다. 여기서 찾을 수 있는 조건에 맞는 소수는 왼쪽부터 순서대로 211, 2, 11이 있으며, 총 3개입니다. (211, 2, 11을 k진법으로 보았을 때가 아닌, 10진법으로 보았을 때 소수여야 한다는 점에 주의합니다.) 211은 P0 형태에서 찾을 수 있으며, 2는 0P0에서, 11은 0P에서 찾을 수 있습니다.\n",
        "\n",
        "정수 n과 k가 매개변수로 주어집니다. n을 k진수로 바꿨을 때, 변환된 수 안에서 찾을 수 있는 위 조건에 맞는 소수의 개수를 return 하도록 solution 함수를 완성해 주세요.\n",
        "\n",
        "## 제한사항\n",
        "\n",
        "- 1 ≤ n ≤ 1,000,000\n",
        "- 3 ≤ k ≤ 10\n",
        "\n",
        "## 입출력 예\n",
        "\n",
        "![image.png](data:image/png;base64,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)\n"
      ],
      "metadata": {
        "id": "fIQKBKQBXShk"
      }
    },
    {
      "cell_type": "markdown",
      "source": [
        "## 첫 번째 방법\n",
        "\n",
        "1. n을 입력받아 소수인지 판별하는 isprime함수 선언.\n",
        "2. 입력받은 n을 k진수로 변환하여 n에 저장.\n",
        "3. n을 순차적으로 탐색해 '0'이 아니면 res에 저장, 0이고 res의 크기가 0이 아니면 소수인지 판별해 소수면 answer을 카운트한 후 res를 초기화.\n",
        "4. 마지막에 남은 res를 한 번 더 판별해 answer을 카운트한 후 answer을 return.\n",
        "\n",
        "결과 : 성공"
      ],
      "metadata": {
        "id": "FM4cTqI8hz4v"
      }
    },
    {
      "cell_type": "code",
      "execution_count": 57,
      "metadata": {
        "colab": {
          "base_uri": "https://localhost:8080/"
        },
        "id": "YOVTJVZeXQnR",
        "outputId": "3e93b165-f203-4bd2-946c-c1e8ba0dd432"
      },
      "outputs": [
        {
          "output_type": "execute_result",
          "data": {
            "text/plain": [
              "2"
            ]
          },
          "metadata": {},
          "execution_count": 57
        }
      ],
      "source": [
        "def isprime(n):\n",
        "    if n < 2:\n",
        "        return False\n",
        "    else:\n",
        "        for i in range(2, int(n ** (1 / 2)) + 1):\n",
        "            if n % i == 0:\n",
        "                return False\n",
        "        return True\n",
        "\n",
        "def solution(n, k):\n",
        "    answer = 0\n",
        "    res = ''\n",
        "    rev_base = \"\"\n",
        "    \n",
        "    while n > 0:\n",
        "        n, mod = divmod(n, k)\n",
        "        rev_base += str(mod)\n",
        "    n = rev_base[::-1]\n",
        "\n",
        "    for i in n:\n",
        "        if i != '0':\n",
        "            res += i\n",
        "        else:\n",
        "            if len(res) != 0:\n",
        "                if isprime(int(res)):\n",
        "                    answer += 1\n",
        "                res = ''\n",
        "    if len(res) != 0:\n",
        "        if isprime(int(res)):\n",
        "            answer += 1\n",
        "    return answer\n",
        "\n",
        "solution(110011, 10)"
      ]
    }
  ]
}