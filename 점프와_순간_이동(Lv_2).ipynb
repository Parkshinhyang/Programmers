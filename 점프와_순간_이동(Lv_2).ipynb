{
  "nbformat": 4,
  "nbformat_minor": 0,
  "metadata": {
    "colab": {
      "provenance": [],
      "authorship_tag": "ABX9TyOB+EWfeopjM9YOhvOc2Mkw",
      "include_colab_link": true
    },
    "kernelspec": {
      "name": "python3",
      "display_name": "Python 3"
    },
    "language_info": {
      "name": "python"
    }
  },
  "cells": [
    {
      "cell_type": "markdown",
      "metadata": {
        "id": "view-in-github",
        "colab_type": "text"
      },
      "source": [
        "<a href=\"https://colab.research.google.com/github/Parkshinhyang/Programmers/blob/main/%EC%A0%90%ED%94%84%EC%99%80_%EC%88%9C%EA%B0%84_%EC%9D%B4%EB%8F%99(Lv_2).ipynb\" target=\"_parent\"><img src=\"https://colab.research.google.com/assets/colab-badge.svg\" alt=\"Open In Colab\"/></a>"
      ]
    },
    {
      "cell_type": "markdown",
      "source": [
        "# 문제 - 점프와 순간 이동\n",
        "\n",
        "[문제 링크](https://school.programmers.co.kr/learn/courses/30/lessons/12980)\n",
        "\n",
        "## 문제 설명\n",
        "\n",
        "OO 연구소는 한 번에 K 칸을 앞으로 점프하거나, (현재까지 온 거리) x 2 에 해당하는 위치로 순간이동을 할 수 있는 특수한 기능을 가진 아이언 슈트를 개발하여 판매하고 있습니다. 이 아이언 슈트는 건전지로 작동되는데, 순간이동을 하면 건전지 사용량이 줄지 않지만, 앞으로 K 칸을 점프하면 K 만큼의 건전지 사용량이 듭니다. 그러므로 아이언 슈트를 착용하고 이동할 때는 순간 이동을 하는 것이 더 효율적입니다. 아이언 슈트 구매자는 아이언 슈트를 착용하고 거리가 N 만큼 떨어져 있는 장소로 가려고 합니다. 단, 건전지 사용량을 줄이기 위해 점프로 이동하는 것은 최소로 하려고 합니다. 아이언 슈트 구매자가 이동하려는 거리 N이 주어졌을 때, 사용해야 하는 건전지 사용량의 최솟값을 return하는 solution 함수를 만들어 주세요.\n",
        "\n",
        "예를 들어 거리가 5만큼 떨어져 있는 장소로 가려고 합니다.\n",
        "아이언 슈트를 입고 거리가 5만큼 떨어져 있는 장소로 갈 수 있는 경우의 수는 여러 가지입니다.\n",
        "\n",
        "- 처음 위치 0 에서 5 칸을 앞으로 점프하면 바로 도착하지만, 건전지 사용량이 5 만큼 듭니다.\n",
        "- 처음 위치 0 에서 2 칸을 앞으로 점프한 다음 순간이동 하면 (현재까지 온 거리 : 2) x 2에 해당하는 위치로 이동할 수 있으므로 위치 4로 이동합니다. 이때 1 칸을 앞으로 점프하면 도착하므로 건전지 사용량이 3 만큼 듭니다.\n",
        "- 처음 위치 0 에서 1 칸을 앞으로 점프한 다음 순간이동 하면 (현재까지 온 거리 : 1) x 2에 해당하는 위치로 이동할 수 있으므로 위치 2로 이동됩니다. 이때 다시 순간이동 하면 (현재까지 온 거리 : 2) x 2 만큼 이동할 수 있으므로 위치 4로 이동합니다. 이때 1 칸을 앞으로 점프하면 도착하므로 건전지 사용량이 2 만큼 듭니다.\n",
        "\n",
        "위의 3가지 경우 거리가 5만큼 떨어져 있는 장소로 가기 위해서 3번째 경우가 건전지 사용량이 가장 적으므로 답은 2가 됩니다.\n",
        "\n",
        "## 제한사항\n",
        "\n",
        "- 숫자 N: 1 이상 10억 이하의 자연수\n",
        "- 숫자 K: 1 이상의 자연수\n",
        "\n",
        "## 입출력 예\n",
        "\n",
        "![image.png](data:image/png;base64,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)\n",
        "\n",
        "## 입출력 예 설명\n",
        "\n",
        "### 입출력 예 #1\n",
        "\n",
        "위의 예시와 같습니다.\n",
        "\n",
        "### 입출력 예 #2\n",
        "\n",
        "처음 위치 0 에서 1 칸을 앞으로 점프한 다음 순간이동 하면 (현재까지 온 거리 : 1) x 2에 해당하는 위치로 이동할 수 있으므로 위치 2로 이동합니다. 이때 1 칸을 앞으로 점프하면 위치3으로 이동합니다. 이때 다시 순간이동 하면 (현재까지 온 거리 : 3) x 2 이동할 수 있으므로 위치 6에 도착합니다. 이 경우가 건전지 사용량이 가장 적으므로 2를 반환해주면 됩니다.\n",
        "\n",
        "### 입출력 예 #3\n",
        "\n",
        "위와 같은 방식으로 합니다.\n",
        "\n"
      ],
      "metadata": {
        "id": "fV6U-GDXRgzW"
      }
    },
    {
      "cell_type": "markdown",
      "source": [
        "## 첫 번째 방법\n",
        "\n",
        "1. n을 divmod함수를 사용해 2로 나눈 값으로 업데이트하며 그 과정에서 생긴 나머지 값을 answer에 더한 후 answer을 return. (6번째 코드가 들어가지 않았을 때 ans 값이 많아지면 효율성 테스트를 통과하지 못함.)\n",
        "\n",
        "결과 : 성공"
      ],
      "metadata": {
        "id": "fJJt3QFUTbXf"
      }
    },
    {
      "cell_type": "code",
      "execution_count": 4,
      "metadata": {
        "colab": {
          "base_uri": "https://localhost:8080/"
        },
        "id": "Zt8VrqXjReo1",
        "outputId": "fc78a070-fe6d-4e11-be35-427cbd668c2e"
      },
      "outputs": [
        {
          "output_type": "execute_result",
          "data": {
            "text/plain": [
              "5"
            ]
          },
          "metadata": {},
          "execution_count": 4
        }
      ],
      "source": [
        "def solution(n):\n",
        "    answer = 0\n",
        "\n",
        "    while n:\n",
        "        n, ans = divmod(n, 2)\n",
        "        if ans > 0:\n",
        "            answer += ans\n",
        "    return answer\n",
        "\n",
        "solution(5000)"
      ]
    }
  ]
}