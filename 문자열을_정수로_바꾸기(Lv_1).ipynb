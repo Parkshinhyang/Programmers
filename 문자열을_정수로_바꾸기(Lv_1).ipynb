{
  "nbformat": 4,
  "nbformat_minor": 0,
  "metadata": {
    "colab": {
      "provenance": [],
      "authorship_tag": "ABX9TyOWVd5pxsNlZEXDqgFuZO5b",
      "include_colab_link": true
    },
    "kernelspec": {
      "name": "python3",
      "display_name": "Python 3"
    },
    "language_info": {
      "name": "python"
    }
  },
  "cells": [
    {
      "cell_type": "markdown",
      "metadata": {
        "id": "view-in-github",
        "colab_type": "text"
      },
      "source": [
        "<a href=\"https://colab.research.google.com/github/Parkshinhyang/Programmers/blob/main/%EB%AC%B8%EC%9E%90%EC%97%B4%EC%9D%84_%EC%A0%95%EC%88%98%EB%A1%9C_%EB%B0%94%EA%BE%B8%EA%B8%B0(Lv_1).ipynb\" target=\"_parent\"><img src=\"https://colab.research.google.com/assets/colab-badge.svg\" alt=\"Open In Colab\"/></a>"
      ]
    },
    {
      "cell_type": "markdown",
      "source": [
        "# 문제 - 문자열을 정수로 바꾸기\n",
        "https://school.programmers.co.kr/learn/courses/30/lessons/12925\n",
        "\n",
        "## 문제 설명\n",
        "\n",
        "문자열 s를 숫자로 변환한 결과를 반환하는 함수, solution을 완성하세요.\n",
        "\n",
        "## 제한 조건\n",
        "\n",
        "- s의 길이는 1 이상 5이하입니다.\n",
        "- s의 맨앞에는 부호(+, -)가 올 수 있습니다.\n",
        "- s는 부호와 숫자로만 이루어져있습니다.\n",
        "- s는 \"0\"으로 시작하지 않습니다.\n",
        "\n",
        "## 입출력 예\n",
        "\n",
        "예를들어 str이 \"1234\"이면 1234를 반환하고, \"-1234\"이면 -1234를 반환하면 됩니다.\n",
        "str은 부호(+,-)와 숫자로만 구성되어 있고, 잘못된 값이 입력되는 경우는 없습니다."
      ],
      "metadata": {
        "id": "i7C6MKYBKFmO"
      }
    },
    {
      "cell_type": "markdown",
      "source": [
        "## 첫 번째 방법\n",
        "1. 파이썬은 문자로 된 부호도 int함수로는 바로 인식하여 매우 간단하게 해결 가능.\n",
        "\n",
        "결과 : 성공"
      ],
      "metadata": {
        "id": "UK0IvIfJK252"
      }
    },
    {
      "cell_type": "code",
      "execution_count": 5,
      "metadata": {
        "colab": {
          "base_uri": "https://localhost:8080/"
        },
        "id": "NSsKco4QKD_N",
        "outputId": "2d1894f7-f254-474c-9f69-d92869a60a6e"
      },
      "outputs": [
        {
          "output_type": "execute_result",
          "data": {
            "text/plain": [
              "-1234"
            ]
          },
          "metadata": {},
          "execution_count": 5
        }
      ],
      "source": [
        "def solution(s):\n",
        "    return int(s)\n",
        "\n",
        "solution(\"-1234\")"
      ]
    }
  ]
}