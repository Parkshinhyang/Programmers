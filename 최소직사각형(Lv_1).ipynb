{
  "nbformat": 4,
  "nbformat_minor": 0,
  "metadata": {
    "colab": {
      "provenance": [],
      "authorship_tag": "ABX9TyO/MD5tZeBcYzf5vA5iBNOq",
      "include_colab_link": true
    },
    "kernelspec": {
      "name": "python3",
      "display_name": "Python 3"
    },
    "language_info": {
      "name": "python"
    }
  },
  "cells": [
    {
      "cell_type": "markdown",
      "metadata": {
        "id": "view-in-github",
        "colab_type": "text"
      },
      "source": [
        "<a href=\"https://colab.research.google.com/github/Parkshinhyang/Programmers/blob/main/%EC%B5%9C%EC%86%8C%EC%A7%81%EC%82%AC%EA%B0%81%ED%98%95(Lv_1).ipynb\" target=\"_parent\"><img src=\"https://colab.research.google.com/assets/colab-badge.svg\" alt=\"Open In Colab\"/></a>"
      ]
    },
    {
      "cell_type": "markdown",
      "source": [
        "## 첫 번째 방법\n",
        "1. w, h라는 배열을 만든 후 입력 받은 가로 길이와 세로 길이를 비교해 긴쪽을 w에 짧은 쪽을 h에 저장한다.\n",
        "2. w와 h의 최댓값을 max함수를 사용하여 추출한 후 곱한 값을 출력한다.\n",
        "\n",
        "결과 : 성공"
      ],
      "metadata": {
        "id": "syYo1nGf46jF"
      }
    },
    {
      "cell_type": "code",
      "execution_count": null,
      "metadata": {
        "colab": {
          "base_uri": "https://localhost:8080/"
        },
        "id": "O3pjIUJl0QN_",
        "outputId": "e356714a-71e9-4a86-c4de-a86a17cac1d0"
      },
      "outputs": [
        {
          "output_type": "execute_result",
          "data": {
            "text/plain": [
              "133"
            ]
          },
          "metadata": {},
          "execution_count": 8
        }
      ],
      "source": [
        "def solution(sizes):\n",
        "    answer = 0\n",
        "    ## 값을 저장한 배열 생성\n",
        "    w = [] \n",
        "    h = []\n",
        "    ## 가로 길이와 세로 길이를 비교하여 w, h에 저장\n",
        "    for i in range(len(sizes)):\n",
        "        if sizes[i][0] >= sizes[i][1]:\n",
        "            w.append(sizes[i][0])\n",
        "            h.append(sizes[i][1])\n",
        "        else:\n",
        "            w.append(sizes[i][1])\n",
        "            h.append(sizes[i][0])\n",
        "    ## 최댓값을 곱한 후 리턴\n",
        "    answer = max(w) * max(h)\n",
        "    return answer \n",
        "\n",
        "solution([[14, 4], [19, 6], [6, 16], [18, 7], [7, 11]])"
      ]
    },
    {
      "cell_type": "code",
      "source": [],
      "metadata": {
        "id": "I2z-70WB3_k0"
      },
      "execution_count": null,
      "outputs": []
    }
  ]
}