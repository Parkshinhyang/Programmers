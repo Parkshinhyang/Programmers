{
  "nbformat": 4,
  "nbformat_minor": 0,
  "metadata": {
    "colab": {
      "provenance": [],
      "authorship_tag": "ABX9TyNIMqPgN1kUwD1RXA65vqwm",
      "include_colab_link": true
    },
    "kernelspec": {
      "name": "python3",
      "display_name": "Python 3"
    },
    "language_info": {
      "name": "python"
    }
  },
  "cells": [
    {
      "cell_type": "markdown",
      "metadata": {
        "id": "view-in-github",
        "colab_type": "text"
      },
      "source": [
        "<a href=\"https://colab.research.google.com/github/Parkshinhyang/Programmers/blob/main/%EC%B5%9C%EC%86%8C%EC%A7%81%EC%82%AC%EA%B0%81%ED%98%95(Lv_1).ipynb\" target=\"_parent\"><img src=\"https://colab.research.google.com/assets/colab-badge.svg\" alt=\"Open In Colab\"/></a>"
      ]
    },
    {
      "cell_type": "code",
      "execution_count": 8,
      "metadata": {
        "colab": {
          "base_uri": "https://localhost:8080/"
        },
        "id": "O3pjIUJl0QN_",
        "outputId": "e356714a-71e9-4a86-c4de-a86a17cac1d0"
      },
      "outputs": [
        {
          "output_type": "execute_result",
          "data": {
            "text/plain": [
              "133"
            ]
          },
          "metadata": {},
          "execution_count": 8
        }
      ],
      "source": [
        "def solution(sizes):\n",
        "    answer = 0\n",
        "    w = []\n",
        "    h = []\n",
        "    for i in range(len(sizes)):\n",
        "        if sizes[i][0] >= sizes[i][1]:\n",
        "            w.append(sizes[i][0])\n",
        "            h.append(sizes[i][1])\n",
        "        else:\n",
        "            w.append(sizes[i][1])\n",
        "            h.append(sizes[i][0])\n",
        "    answer = max(w) * max(h)\n",
        "    return answer \n",
        "\n",
        "solution([[14, 4], [19, 6], [6, 16], [18, 7], [7, 11]])"
      ]
    },
    {
      "cell_type": "code",
      "source": [],
      "metadata": {
        "id": "I2z-70WB3_k0"
      },
      "execution_count": null,
      "outputs": []
    }
  ]
}