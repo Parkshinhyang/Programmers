{
  "nbformat": 4,
  "nbformat_minor": 0,
  "metadata": {
    "colab": {
      "provenance": [],
      "authorship_tag": "ABX9TyMCszQX/WJGQHKnnjKc4NW0",
      "include_colab_link": true
    },
    "kernelspec": {
      "name": "python3",
      "display_name": "Python 3"
    },
    "language_info": {
      "name": "python"
    }
  },
  "cells": [
    {
      "cell_type": "markdown",
      "metadata": {
        "id": "view-in-github",
        "colab_type": "text"
      },
      "source": [
        "<a href=\"https://colab.research.google.com/github/Parkshinhyang/Programmers/blob/main/%ED%98%BC%EC%9E%90%EC%84%9C_%ED%95%98%EB%8A%94_%ED%8B%B1%ED%83%9D%ED%86%A0(Lv_2).ipynb\" target=\"_parent\"><img src=\"https://colab.research.google.com/assets/colab-badge.svg\" alt=\"Open In Colab\"/></a>"
      ]
    },
    {
      "cell_type": "markdown",
      "source": [
        "# 문제 - 혼자서 하는 틱택토\n",
        "\n",
        "[문제 링크](https://school.programmers.co.kr/learn/courses/30/lessons/160585)\n",
        "\n",
        "## 문제 설명\n",
        "\n",
        "틱택토는 두 사람이 하는 게임으로 처음에 3x3의 빈칸으로 이루어진 게임판에 선공이 \"O\", 후공이 \"X\"를 번갈아가면서 빈칸에 표시하는 게임입니다. 가로, 세로, 대각선으로 3개가 같은 표시가 만들어지면 같은 표시를 만든 사람이 승리하고 게임이 종료되며 9칸이 모두 차서 더 이상 표시를 할 수 없는 경우에는 무승부로 게임이 종료됩니다.\n",
        "\n",
        "할 일이 없어 한가한 머쓱이는 두 사람이 하는 게임인 틱택토를 다음과 같이 혼자서 하려고 합니다.\n",
        "\n",
        "- 혼자서 선공과 후공을 둘 다 맡는다.\n",
        "- 틱택토 게임을 시작한 후 \"O\"와 \"X\"를 혼자서 번갈아 가면서 표시를 하면서 진행한다.\n",
        "\n",
        "틱택토는 단순한 규칙으로 게임이 금방 끝나기에 머쓱이는 한 게임이 종료되면 다시 3x3 빈칸을 그린 뒤 다시 게임을 반복했습니다. 그렇게 틱택토 수 십 판을 했더니 머쓱이는 게임 도중에 다음과 같이 규칙을 어기는 실수를 했을 수도 있습니다.\n",
        "\n",
        "- \"O\"를 표시할 차례인데 \"X\"를 표시하거나 반대로 \"X\"를 표시할 차례인데 \"O\"를 표시한다.\n",
        "- 선공이나 후공이 승리해서 게임이 종료되었음에도 그 게임을 진행한다.\n",
        "\n",
        "게임 도중 게임판을 본 어느 순간 머쓱이는 본인이 실수를 했는지 의문이 생겼습니다. 혼자서 틱택토를 했기에 게임하는 과정을 지켜본 사람이 없어 이를 알 수는 없습니다. 그러나 게임판만 봤을 때 실제로 틱택토 규칙을 지켜서 진행했을 때 나올 수 있는 상황인지는 판단할 수 있을 것 같고 문제가 없다면 게임을 이어서 하려고 합니다.\n",
        "\n",
        "머쓱이가 혼자서 게임을 진행하다 의문이 생긴 틱택토 게임판의 정보를 담고 있는 문자열 배열 board가 매개변수로 주어질 때, 이 게임판이 규칙을 지켜서 틱택토를 진행했을 때 나올 수 있는 게임 상황이면 1을 아니라면 0을 return 하는 solution 함수를 작성해 주세요.\n",
        "\n",
        "## 제한사항\n",
        "\n",
        "- board의 길이 = board[i]의 길이 = 3\n",
        "    - board의 원소는 모두 \"O\", \"X\", \".\"으로만 이루어져 있습니다.\n",
        "- board[i][j]는 i + 1행 j + 1열에 해당하는 칸의 상태를 나타냅니다.\n",
        "    - \".\"은 빈칸을, \"O\"와 \"X\"는 해당 문자로 칸이 표시되어 있다는 의미입니다.\n",
        "\n",
        "##입출력 예\n",
        "\n",
        "![image.png](data:image/png;base64,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)\n",
        "\n",
        "##입출력 예 설명\n",
        "\n",
        "### 입출력 예 #1\n",
        "\n",
        "- 예제 1번의 게임판은 다음과 같습니다.\n",
        "\n",
        "    ![image.png](data:image/png;base64,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)\n",
        "\n",
        "    선공 후공이 번갈아가면서 다음과 같이 놓았을 때 이러한 게임판이 나올 수 있습니다.\n",
        "\n",
        "    - 1행 1열 → 1행 3열 → 2행 2열 → 3행 3열\n",
        "    - 1행 1열 → 3행 3열 → 2행 2열 → 1행 3열\n",
        "    - 2행 2열 → 1행 3열 → 1행 1열 → 3행 3열\n",
        "    - 2행 2열 → 3행 3열 → 1행 1열 → 1행 3열\n",
        "\n",
        "    물론 위와 다르게 머쓱이가 2행 2열에 O, 3행 3열에 X, 1행 3열에 X, 1행 1열에 O 순서로 표시를 해서 실수를 했을 가능성도 있지만 \"실수를 했을 가능성이 있는가\"를 묻는 게 아닌 \"이 게임판이 규칙을 지켜서 진행한 틱택토에서 나올 수 있는 상황인가\"를 묻는 문제라는 것에 유의해주세요. 따라서 1을 return 합니다.\n",
        "\n",
        "###입출력 예 #2\n",
        "\n",
        "- 예제 2번의 게임판은 다음과 같습니다.\n",
        "\n",
        "    ![image.png](data:image/png;base64,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)\n",
        "\n",
        "    규칙을 지켜서 진행한 틱택토라면 선공과 후공이 번갈아가면서 각각 1행, 3행 중 두 칸씩에 표시를 한 뒤 5번째 차례에 선공이 1행에 가로로 3개의 O를 완성했을 때 종료되므로 적어도 머쓱이가 게임이 종료된 후에도 계속 진행하는 실수를 했다는 것을 추론해 볼 수 있고, 정상적인 틱택토에서는 이러한 상황이 나올 수 없습니다. 따라서 0을 return 합니다.\n",
        "\n",
        "###입출력 예 #3\n",
        "\n",
        "- 예제 3번은 2행 2열에만 X가 표시가 되어있습니다. 선공 O 표시가 없이 X만 있으므로 머쓱이가 O를 표시해야 할 때 X를 표시하는 실수를 했다는 것을 추론해 볼 수 있고, 규칙을 지켜서 진행했을 때는 이러한 상황이 나올 수 없습니다. 따라서 0을 return 합니다.\n",
        "\n",
        "##입출력 예 #4\n",
        "\n",
        "- 예제 4번은 빈 3x3 게임판입니다. 선공이 아직 빈칸에 표시하기 전에 이러한 상황이 나올 수 있습니다. 따라서 1을 return 합니다."
      ],
      "metadata": {
        "id": "8r4kfmsTiRZe"
      }
    },
    {
      "cell_type": "markdown",
      "source": [
        "## 첫 번째 방법\n",
        "\n",
        "1. 입력받은 board의 존재하는 'O'와 'X'의 개수를 각각 cntO와 cntX에 저장하고 한 줄이 같은 표시일 때의 경우를 각각 cntlO와 cntlX에 저장.\n",
        "2. 각 조건에 맞게 0과 1을 return.\n",
        "\n",
        "    1. O의 개수 < X의 개수\n",
        "    2. O의 개수 > X의 개수 + 1\n",
        "    3. X줄의 개수 = 1 그리고 O의 개수 > X의 개수\n",
        "    4. O 줄의 개수 = 1 그리고 O의 개수 = X의 개수\n",
        "\n",
        "    -> 0 return.\n",
        "\n",
        "    1. O줄의 개수 + X줄의 개수 > 1\n",
        "    2. O줄의 개수 > 1 그리고 O의 개수 - X의 개수 = 1\n",
        "    3. 위 조건을 포함한 0을 return하는 경우를 제외한 모든 경우 \n",
        "\n",
        "    -> 1 return.\n",
        "\n",
        "결과 : 성공"
      ],
      "metadata": {
        "id": "Qv50mJYo4Xcz"
      }
    },
    {
      "cell_type": "code",
      "execution_count": 26,
      "metadata": {
        "colab": {
          "base_uri": "https://localhost:8080/"
        },
        "id": "vtxUAV-QiMtZ",
        "outputId": "dcfc97cf-77a2-4ae3-9b1f-ddd6836005fb"
      },
      "outputs": [
        {
          "output_type": "execute_result",
          "data": {
            "text/plain": [
              "1"
            ]
          },
          "metadata": {},
          "execution_count": 26
        }
      ],
      "source": [
        "def solution(board):\n",
        "    cntO, cntX, cntlO, cntlX = 0, 0, 0, 0\n",
        "    \n",
        "    for i in board:\n",
        "        cntO += i.count('O')\n",
        "        cntX += i.count('X')\n",
        "    \n",
        "    for i in range(len(board)):\n",
        "        if board[i] == 'OOO':\n",
        "            cntlO += 1\n",
        "        elif board[i] =='XXX':\n",
        "            cntlX += 1\n",
        "        elif board[0][i] == 'O' and board[1][i] == 'O' and board[2][i] == 'O':\n",
        "            cntlO += 1\n",
        "        elif board[0][i] == 'X' and board[1][i] == 'X' and board[2][i] == 'X':\n",
        "            cntlX += 1\n",
        "    \n",
        "    if board[0][0] == 'O' and board[1][1] == 'O' and board[2][2] == 'O':\n",
        "        cntlO += 1\n",
        "    elif board[0][0] == 'X' and board[1][1] == 'X' and board[2][2] == 'X':\n",
        "        cntlX += 1\n",
        "    elif board[0][2] == 'O' and board[1][1] == 'O' and board[2][0] == 'O':\n",
        "        cntlO += 1\n",
        "    elif board[0][2] == 'X' and board[1][1] == 'X' and board[2][0] == 'X':\n",
        "        cntlX += 1\n",
        "\n",
        "    \n",
        "    if cntlO + cntlX > 1:\n",
        "        if cntlO > 1 and cntO - cntX == 1:\n",
        "            return 1\n",
        "        return 0\n",
        "\n",
        "    if cntlX == 1 and cntO > cntX:\n",
        "        return 0\n",
        "    elif cntlO == 1 and cntO == cntX:\n",
        "        return 0\n",
        "    elif cntO < cntX or cntO > cntX + 1:\n",
        "        return 0\n",
        "        \n",
        "    return 1\n",
        "        \n",
        "solution([\"O.X\", \".O.\", \"..X\"])"
      ]
    }
  ]
}