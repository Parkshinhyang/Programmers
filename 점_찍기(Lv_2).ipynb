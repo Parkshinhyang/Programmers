{
  "nbformat": 4,
  "nbformat_minor": 0,
  "metadata": {
    "colab": {
      "provenance": [],
      "authorship_tag": "ABX9TyMMcarWaob7G0i8Z1TiRXv3",
      "include_colab_link": true
    },
    "kernelspec": {
      "name": "python3",
      "display_name": "Python 3"
    },
    "language_info": {
      "name": "python"
    }
  },
  "cells": [
    {
      "cell_type": "markdown",
      "metadata": {
        "id": "view-in-github",
        "colab_type": "text"
      },
      "source": [
        "<a href=\"https://colab.research.google.com/github/Parkshinhyang/Programmers/blob/main/%EC%A0%90_%EC%B0%8D%EA%B8%B0(Lv_2).ipynb\" target=\"_parent\"><img src=\"https://colab.research.google.com/assets/colab-badge.svg\" alt=\"Open In Colab\"/></a>"
      ]
    },
    {
      "cell_type": "markdown",
      "source": [
        "# 문제 - 점 찍기\n",
        "https://school.programmers.co.kr/learn/courses/30/lessons/140107\n",
        "\n",
        "## 문제 설명\n",
        "\n",
        "좌표평면을 좋아하는 진수는 x축과 y축이 직교하는 2차원 좌표평면에 점을 찍으면서 놀고 있습니다. 진수는 두 양의 정수 k, d가 주어질 때 다음과 같이 점을 찍으려 합니다.\n",
        "\n",
        "- 원점(0, 0)으로부터 x축 방향으로 a*k(a = 0, 1, 2, 3 ...), y축 방향으로 b*k(b = 0, 1, 2, 3 ...)만큼 떨어진 위치에 점을 찍습니다.\n",
        "- 원점과 거리가 d를 넘는 위치에는 점을 찍지 않습니다.\n",
        "\n",
        "예를 들어, k가 2, d가 4인 경우에는 (0, 0), (0, 2), (0, 4), (2, 0), (2, 2), (4, 0) 위치에 점을 찍어 총 6개의 점을 찍습니다.\n",
        "\n",
        "정수 k와 원점과의 거리를 나타내는 정수 d가 주어졌을 때, 점이 총 몇 개 찍히는지 return 하는 solution 함수를 완성하세요.\n",
        "\n",
        "## 제한사항\n",
        "\n",
        "- 1 ≤ k ≤ 1,000,000\n",
        "- 1 ≤ d ≤ 1,000,000\n",
        "\n",
        "## 입출력 예\n",
        "\n",
        "![image.png](data:image/png;base64,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)\n",
        "\n",
        "## 입출력 예 설명 \n",
        "\n",
        "### 입출력 예 #1\n",
        "\n",
        "본문의 예시와 같습니다.\n",
        "\n",
        "### 입출력 예 #2\n",
        "\n",
        "(0, 0), (0, 1), (0, 2), (0, 3), (0, 4), (0, 5), (1, 0), (1, 1), (1, 2), (1, 3), (1, 4), (2, 0), (2, 1), (2, 2), (2, 3), (2, 4), (3, 0), (3, 1), (3, 2), (3, 3), (3, 4), (4, 0), (4, 1), (4, 2), (4, 3), (5, 0) 위치에 점을 찍을 수 있으며, 총 26개 입니다."
      ],
      "metadata": {
        "id": "FecWwiX61cqv"
      }
    },
    {
      "cell_type": "markdown",
      "source": [
        "## 첫 번째 방법\n",
        "\n",
        "1. 이중 for문을 사용해 i의 제곱  + j의 제곱이 d의 제곱보다 작거나 같을 경우 answer을 count.\n",
        "\n",
        "결과 : 실패\n",
        "-> 시간 초과.\n",
        "\n",
        "반복문을 이중으로 사용하니 시간복잡도가 O(N^2)로 비효율적.\n",
        "반복문 사용을 하나로 줄일 필요가 있음.\n",
        "\n"
      ],
      "metadata": {
        "id": "cVKB88cw6yFw"
      }
    },
    {
      "cell_type": "code",
      "execution_count": 9,
      "metadata": {
        "colab": {
          "base_uri": "https://localhost:8080/"
        },
        "id": "puwXHpkj01iZ",
        "outputId": "6c39c807-08b5-4c23-ae63-d2f8b051480d"
      },
      "outputs": [
        {
          "output_type": "execute_result",
          "data": {
            "text/plain": [
              "26"
            ]
          },
          "metadata": {},
          "execution_count": 9
        }
      ],
      "source": [
        "def solution(k, d):\n",
        "    answer = 0\n",
        "    for i in range(0, d + 1, k):\n",
        "        for j in range(0, d + 1, k):\n",
        "            if (i ** 2) + (j ** 2) <= d ** 2: \n",
        "                answer += 1\n",
        "    return answer\n",
        "solution(1, 5)"
      ]
    },
    {
      "cell_type": "markdown",
      "source": [
        "## 두 번째 방법\n",
        "\n",
        "1. 반복문을 하나만 사용해 입력받은 d의 제곱 - i의 제곱을 루트한 값을 반올림하여 num에 저장.\n",
        "2. num // k에 + 1한 값을 answer에 더한 후 answer을 return.\n",
        "\n",
        "결과 : 성공"
      ],
      "metadata": {
        "id": "bjSXAG7R9qds"
      }
    },
    {
      "cell_type": "code",
      "source": [
        "import math\n",
        "\n",
        "def solution(k, d):\n",
        "    answer = 0\n",
        "    for i in range(0, d + 1, k):\n",
        "        num = math.floor(math.sqrt(d ** 2 - i ** 2))\n",
        "        answer += (num // k) + 1\n",
        "    return answer\n",
        "solution(1, 5)"
      ],
      "metadata": {
        "colab": {
          "base_uri": "https://localhost:8080/"
        },
        "id": "hdobjdR17XQC",
        "outputId": "bc2ea8a3-18a7-4f2f-9763-74724fb98984"
      },
      "execution_count": 12,
      "outputs": [
        {
          "output_type": "execute_result",
          "data": {
            "text/plain": [
              "26"
            ]
          },
          "metadata": {},
          "execution_count": 12
        }
      ]
    }
  ]
}