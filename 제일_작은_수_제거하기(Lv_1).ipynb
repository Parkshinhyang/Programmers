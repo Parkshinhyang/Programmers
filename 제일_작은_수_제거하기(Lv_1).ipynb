{
  "nbformat": 4,
  "nbformat_minor": 0,
  "metadata": {
    "colab": {
      "provenance": [],
      "authorship_tag": "ABX9TyNh1xKv6pKR8jCb34qoGolr",
      "include_colab_link": true
    },
    "kernelspec": {
      "name": "python3",
      "display_name": "Python 3"
    },
    "language_info": {
      "name": "python"
    }
  },
  "cells": [
    {
      "cell_type": "markdown",
      "metadata": {
        "id": "view-in-github",
        "colab_type": "text"
      },
      "source": [
        "<a href=\"https://colab.research.google.com/github/Parkshinhyang/Programmers/blob/main/%EC%A0%9C%EC%9D%BC_%EC%9E%91%EC%9D%80_%EC%88%98_%EC%A0%9C%EA%B1%B0%ED%95%98%EA%B8%B0(Lv_1).ipynb\" target=\"_parent\"><img src=\"https://colab.research.google.com/assets/colab-badge.svg\" alt=\"Open In Colab\"/></a>"
      ]
    },
    {
      "cell_type": "markdown",
      "source": [
        "## 문제 - 제일 작은 수 제거하기\n",
        "https://school.programmers.co.kr/learn/courses/30/lessons/12935\n",
        "\n",
        "##문제 설명\n",
        "정수를 저장한 배열, arr 에서 가장 작은 수를 제거한 배열을 리턴하는 함수, solution을 완성해주세요. 단, 리턴하려는 배열이 빈 배열인 경우엔 배열에 -1을 채워 리턴하세요. 예를들어 arr이 [4,3,2,1]인 경우는 [4,3,2]를 리턴 하고, [10]면 [-1]을 리턴 합니다.\n",
        "\n",
        "## 제한 사항\n",
        "- arr은 길이 1 이상인 배열입니다.\n",
        "- 인덱스 i, j에 대해 i ≠ j이면 arr[i] ≠ arr[j] 입니다.\n",
        "\n",
        "## 입출력 예\n",
        "![image.png](data:image/png;base64,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)"
      ],
      "metadata": {
        "id": "t6p3-zL4OFa5"
      }
    },
    {
      "cell_type": "markdown",
      "source": [
        "## 첫 번째 방법\n",
        "1. del 함수와 min 함수, index 함수를 사용해서 arr의 제일 작은 값을 삭제.\n",
        "2. arr의 크기가 0이면 -1을 append.\n",
        "3. arr을 return\n",
        "\n",
        "결과 : 성공"
      ],
      "metadata": {
        "id": "A5kgKeHBPk-5"
      }
    },
    {
      "cell_type": "code",
      "execution_count": 2,
      "metadata": {
        "colab": {
          "base_uri": "https://localhost:8080/"
        },
        "id": "fqC8vUTHOAS-",
        "outputId": "2ce7c08d-dd6d-4dbc-b1c4-737c58475b3f"
      },
      "outputs": [
        {
          "output_type": "execute_result",
          "data": {
            "text/plain": [
              "[-1]"
            ]
          },
          "metadata": {},
          "execution_count": 2
        }
      ],
      "source": [
        "def solution(arr):\n",
        "    del arr[arr.index(min(arr))]\n",
        "    if len(arr) == 0:\n",
        "        arr.append(-1)\n",
        "    return arr\n",
        "solution([10])"
      ]
    }
  ]
}