{
  "nbformat": 4,
  "nbformat_minor": 0,
  "metadata": {
    "colab": {
      "provenance": [],
      "authorship_tag": "ABX9TyPxw8QLlza4QH+Dz3esR8jN",
      "include_colab_link": true
    },
    "kernelspec": {
      "name": "python3",
      "display_name": "Python 3"
    },
    "language_info": {
      "name": "python"
    }
  },
  "cells": [
    {
      "cell_type": "markdown",
      "metadata": {
        "id": "view-in-github",
        "colab_type": "text"
      },
      "source": [
        "<a href=\"https://colab.research.google.com/github/Parkshinhyang/Programmers/blob/main/%EB%AA%A8%EC%9D%98%EA%B3%A0%EC%82%AC(Lv_1).ipynb\" target=\"_parent\"><img src=\"https://colab.research.google.com/assets/colab-badge.svg\" alt=\"Open In Colab\"/></a>"
      ]
    },
    {
      "cell_type": "markdown",
      "source": [
        "# 문제 - 모의고사\n",
        "https://school.programmers.co.kr/learn/courses/30/lessons/42840\n",
        "\n",
        "## 문제 설명\n",
        "수포자는 수학을 포기한 사람의 준말입니다. 수포자 삼인방은 모의고사에 수학 문제를 전부 찍으려 합니다. 수포자는 1번 문제부터 마지막 문제까지 다음과 같이 찍습니다.\n",
        "\n",
        "1번 수포자가 찍는 방식: 1, 2, 3, 4, 5, 1, 2, 3, 4, 5, ...\n",
        "2번 수포자가 찍는 방식: 2, 1, 2, 3, 2, 4, 2, 5, 2, 1, 2, 3, 2, 4, 2, 5, ...\n",
        "3번 수포자가 찍는 방식: 3, 3, 1, 1, 2, 2, 4, 4, 5, 5, 3, 3, 1, 1, 2, 2, 4, 4, 5, 5, ...\n",
        "\n",
        "1번 문제부터 마지막 문제까지의 정답이 순서대로 들은 배열 answers가 주어졌을 때, 가장 많은 문제를 맞힌 사람이 누구인지 배열에 담아 return 하도록 solution 함수를 작성해주세요.\n",
        "\n",
        "## 제한 사항\n",
        "- 시험은 최대 10,000 문제로 구성되어있습니다.\n",
        "- 문제의 정답은 1, 2, 3, 4, 5중 하나입니다.\n",
        "- 가장 높은 점수를 받은 사람이 여럿일 경우, return하는 값을 오름차순 정렬해주세요.\n",
        "\n",
        "## 입출력 예\n",
        "![image.png](data:image/png;base64,iVBORw0KGgoAAAANSUhEUgAAAM4AAACDCAYAAADF2SR2AAAAAXNSR0IArs4c6QAAAARnQU1BAACxjwv8YQUAAAAJcEhZcwAAEnQAABJ0Ad5mH3gAAB9bSURBVHhe7Z0LVBRHusf/WRnZcWF8jDgqb5W5ImvIHQmLD1wkvmJI0EtY3E0gB41eDWR9rgQ1mhjfR1fNomb1iieQRLleoqgxQbLI+oIYJGfiAwImRIVENJOYwThBiLlfdTcwwODMNBgHUr9zmpmurimqq+tf9X3V1V0Paf8w4WdwOBy7eEgzMIgLh8Oxk4d8AkK5cDoxph9NUP5WKe1x2ovfSJ8cDscOuHA4HBlw4XA4MuDC4XBkwIXD4ciAC4fDkQEXDocjAy4cDkcGXDgcjgy4cDgcGXDhcDgy4MLhcGTAhcPhyIALh/MLMxZr09KRk5aESCmkI8KFw/mFUcPTzxuD/PqhjxTSEeHC4XBk0GbheE5KQOqhIyjRH0f5eXErOZGO1AUhUgyRGalH6NgRvB0/Fq9mmMXXf4jjqQkYI8VrJASLt6dDf7Yx3fL8DLxtnm7cZujZ/3v7eSmgnueReYb9hv5fnBRUz6JdQlpnUsZKAeI5vJ3N8if9H8qTfv8yxAVIESQazyEGqdkfSvHTsVY6Dq8p2JxxAPpmZbE5pp8UoaOShBx2PoeSMCZ5V8P56VNjpONAwDPLkHOivkxo0x8RrmuklxSBEMsvASNcacdVh8VC3MZr1FC+za8ZsfYQi2tW1tK1Z3mYkZLRUJ9yXmMHG/MbMGs9jueLx4Stna5H24QTloTU12IwxtcFNdcu4NihD/HBmcuoUXljTPwyiwXgOfUlxPnewVUSBIt7o64rPINjsJ0qv6cUB+iHxf+3EjNCveFcXSakm5VdhKsUPiJ+JQ4vkk487Twu3QacB/weM8QQkbjfY1A39sUFfsGNAmEsDvajv9/i/L8+FAPiViKTzmGEe1fcKCvCB4cKUHTtDlR+JHCyxdeGidHM8XtuBsb0pXMou4xLtFUIoU8gNW0eIgN6AVdYOpTnE2UwdvNG5MvbkTpFiNSxcR2Odc/4wfkb8bwvXTEIwSOoMXoneSwGqahMigqEa3XpO/G6bk7bjBmSeK5fYb/7GsafaOenWw3ld/U78bgsBvwZC8L6Uf2T8lQphTO66bB9dgi6G1ndpOtaeQvoya7HZmy3cF3toU3CiXtShz5Od3Bp/yIETpiNackrMHtaLCI2F8FIlXbEUwlSzHpc4NntPFY/PRnjpi0V4gZPycCFGqr8gX9EQ2yvGZg4uCtQeRyzw6YL6c5dMBejkz8kodxBn8H/BZ0Q8X9wuuwOXVAfDH9SCBCIDPaBCndQQ+m6+YVhhBTOeqJh7CJWf4n8/WyfKvu00XBz+hofvMbyMhezkxchasIkTNtPDYCzNyZPa65+F7h1oXN4chJGT4nFuClLkcKC48dhWG+gRp+GiCdZOpTn2dMRlVKEGzWsEnUC5fR2wfd0rQc/xs47FlGvUOPjlYDFMX5QUQO3cw6VSdwi4VqNC4vF6jNUUXvrEJsoXq2sV2bT797FeWrscLsU6UL5zcZLh4TDslD17oqzG2Oo/ol5mv2GdIChUaPmYH3dFK/rS3nf0gFqgJ9p2/Vok3DSFlCGA8di3MsFUojI1d1f4zr70o0cQSGkkUt567DzirTDuLIVx0qo8jOnsb6OBrrgt+zzTjUuCQESeSswLngSgqdtRZEUtFF/mf72wqAw8eKAJDXRj1r9b4pwgKXbtx8aGhepJ6qhnmWnsC9W9hun0zA742shSj3HXt6EY9R6MUEvlsLquXBobtNzYLi5klgp7Zpq6hkbubp7LoKHTcK4ZEGpHRsq05Rm19pzRggCnKlMDi7F6jwpUOBr7Jz2LopIJJ7BU+/fCFrJe3iG6ptFqs/jf5vlN+Pt88L1UfXVigEyaafBAT+MeXIKFryyDJs3bsbh7D9iEAvu2QsTheP13MJ16qqbY6xhwjHj0L9x/hv69H0COXm7kPrK84gLYyaWBfaexwXq+j2140SReo3DIHdK84uzeImJqos3hiUKMRt6ogtn0oT9EYH9hP0fnYZh8xrKe5MtQhz16aLGILPejJ3D99ekr+bsLRJ6TlVwAvSHyBRIjsPE4I7u2zSj2oAs6Ws9fxrAzpGZQDMslCGVNzPLeqrRzF1sN4xGVlFa4RsSr/S1gfxq0GVqM20TDnOG9zOHjir3mnlIfHosIifoxFZdiiKP9zAtYROyym7BuTeJ8uk4vJpCTj05nDlrpjS9CFf24jxr/b20iGX7U7UkWjIfizKoMpdSj9UVg3TMiZV6op8u46xgW5FD25N5qWRGDad8P9ly05EA2XHnnuzTCtRzzn45A6cryT/ypf/1zPPYnpqB8jMZeHvR2BY9b2fBTUUmNZmvAZMsleFoDGJF3KWr0Bt3JtogHB3WbklApJ8LjGUFSNvC/JsY+P5+NAaH/ruJuSKLC/sxd8ok+E4if2HLfnEgocaFWv95eCc1xqwifo2DxdSLST3LgkDvRnFcScPZcuoFBgxDpNQTgcy01cLvyFklf4nsQVz4P/JHmE9icVuLrU1MkNa5emQrnpkwFr4xi7B853s4VkSOsDPZ03EvIfW1pqOMnQWj0EJ+i2PrLZVd/bYV6ULszkMbhEP+gR+1Nt8UYPUUVlHYiFortmZbYCNUOzeJAwlPZ+AC2cyqYePF3kXi9P4yEmpXBAxfCd0AytMVcjyFIySqUspTb29MnMF6IvKxit8VjjCyhFGhruijcUYWGwWzuB3H6eb+jDUusIZkHabFkQ845zhusF4v9L869J3y1rhwjTnbvdDH/YKFsqvfCnBBjG4DXfHbFt2TDt1Zx+ZAtEE4t1DD7FcLjNlI5pr0XQ66l3dBf/ZD5LxW7/BLXKkRTUDyiZqYgvl5uESmrvPgEAwj0+BqaU5Dj3c6j3oq9MOYScxHop5op5m41/9bcF7dyHltMezs9Twy8z8kf2UZLIyqtyAu5QBKyJRsMQRPGf1R+LxD+eh8ZL3NbhOQ2TspqWHYuYGwlTh+9gjOpCZIo6D3ZqfUkAVMSGpyX29McgLGCGaz49AG4bwrDgX3DsHi/evx6gyyaWfMQ2rGAWwPU7fJxyn6sBTXWSv91ErkbCffiezlxOSVyPzXVOjIfzLq87BRiitCrdp5avmcyR8hs+FSXv2YG3HoLMqq6ZAzfa+8jINNeo80bDwiDjvHbDyAw9uTsOAZ8qc2bkZORhx0rl1Rc/ksxbJO2pkvUdPFBSPmZCBzzfOIEwZL1iPn76PJrCSfK5/KS4rbqchfgfR8Njigw+KMdLy9ka4X+Xdrt+/CmY107nRNrpe82zAKSrYybrD7Nq46JGZvx9upyyCN3QCp1DNRxXH2fQLb89KRmcoGmo4g9Rk17jUG8CBog3C+xur5W/FBObtZGIK4Ocuwec4UjBlUg9Mpx9vm4+STmbOe3bMhnyaUKuCaZVShR0PXm3oTcrbnziDHvxlZVHGN7Ms3pWQaCEESGSj6Qhy1u3q+ZeU9/UosZu+mVvOnXggIfYIESpVeGOC4hUuHNiEq8T0pphXS5mIuS4d6N92TJD5hsCRESmcrpr1iJuZOxs4Z07H80GXhZu+ICXS9kuMQE+oHN6ojp3cvRcR6cxO+CHPX0zUhIajcAzAieDTG1CuHDbCw684aOjKvdcE6BPSupjTWIpfCHIl2eXe0J528TsOMUFZJ7LFnrRMQNlYcmbkPaTenff5XP6o8AXBjxXHnWxQJMx4eHL/su6PtO3eh3nT7Gll5ZVJII/c65gjwl653cvhL1+8PbTDVOJxfL1w4HI4MuHA4HBlw4XA4MuDC4XBkwIXD4ciAC4fDkQEXDocjAy4cDkcGXDgcjgy4cDgcGXDhcDgyeEgzMIhP8uRw7ITPju7k8NnR9wduqnE4MuDC4XBkwIXD4ciAC4fDkQEXDocjAy4cDkcGXDgcjgy4cDgcGXDhcDgy4MLhcGTAhcPhyKDNc9WUXn5QCwvVitR+V4GqKpO0x7EdV6gH90XjrLJaGC9/CWMbi7Ld5qopNdB4q6CQdoHbMJRUwnr2lFAN9ICq8YcwXSuD4aa000Fps3DGJ29ChIe0QxjPpWPpG+YvGFdCM2EqpjyihtO1AqS8eVIKvzfKgDBMCA9BgIcaqrsGlF8uRu7eLJTaUeDKoHGIGD4MWpYGvoehogzZ2QehL5VfG7VT52C8N9UCm89lFKKTQqCR9ppjKs3Crv3s/ciRmLc1DL5iMGFC4ZuLkXZG2pVJuwkneCZWPudvtrJaJQ4nbMBRaU+ghw4RseHw6WbExawdyC1hgTrErYtFkIsQQ6A8dx42ZUo7HZQuPfp4vyJ9l8XA0InQqqqQ+4807DvzMfI/+QI//FAnHmQFOWc24oM94NZdBfXP1/H+yc/EY/dAHbUQS/70KLS9XeD8813c7apC/34+CB79KFy+/xgXK6T0W0WJITOXIXni7+Fdn0YXF6j7ekAXEgy37wqgt5qGBYbGIjHKH552nAuCJ+IvfxyA/uw3FrZuP5Qgt5C9zf8rlH1RjDNUhqfuemGkpzO+0v8LevPlx2VQV1cHhZNZcy8X92EIf8QNNSVHsGVPDk6d+QQl31RDLEXWOE7D3BmPIVDDzssFt0rq834T5eWfobCQzquqB4b+hxqm8mwUFAs/7LC0k49Th9slZaigTTTTWEG+gOWvxWK8lwJVVww2dOkSrHKGu0NpLMOeLYuxYP7fkDR3HpL2FsOoUCN0ciysrReseHwmpge60jUzS2M+pbG7CFW1rgiKmYlQuxthH0yO0kEt7dmMu0popatOrcVfE+a12Bp752oyfcQyrDDJEPUvRa1BzGO9mUaN4+QlK7DkKX9oaipR3sIiMMH4uXRe3znwednJfRoc8Cczi3yf29Sd71iGVceuk8VuG9rh9DsSoj5nG/LNTCrTiR1IO0f7Lh4YZmV5r9CHfcgWr0b+3mZpFKZjP9tXeND/kQJtRB09FaFuTAAFKJfCbEGlFBaex21TlfDZ6XgsHOH9qVzOZeHVpA24cEsK7+TcJ+FUo7xQLMij+saKawvKGiNKr3wKfb4UYEa5gS0dpYS6NYdBIncda82XYc85KcAMo+k2/XWCqru4bxP9IxE3UgOFoQhvviMsTGgzfVVs5MQEQxtNLoflepnYOL6RB7YQ4a+F+yScMpzYJ68g9W9uQMq6dBS20JsSId7MUPoeVfY0+U3wQZCQRhXKPhJDrKNBeOwo+CoMdE7pqJBCbcWnJ7MJjbh22R9BU2IQN/8FREePwxBNOzjsjsCJLLsbx85Ah7mPoxgeiwm+TqitOIdsYbTGNhQaH3gM9oM2PArTVyQg3K0OVYV5yP5KimAFxeNT8YSXE4z6I9hnoQe7N37oLuhDg4ilMxE3NgRBA/0QGjYJs5aRXxAfYja8y+lIdAzh+EYiMcYfqtpKZO/NEtf6tBHfKTOx6MUXkBg1CoE9a1F+Kh1/311gm8+lDEPcY+Qv3SrGO+ny1vA0GAww3jLg4kdZSPn7WixYQj3q4WJU1ThBExSFedE+UkxOR8LxhaMMQdzMMDKVqlGYsRVH7TTTrulP4mge24qgv0FCGhmPdaviMcSqpaTEkPjxCFSaoM9Ox0VZ1kgZcresxNKklXjjrTyUfl6F2puVKH1/B1b9o4AMRid4/GESAqXYnI6DYwuHiWZZDIJUdSjPTUVavv2115h/BIf3ZdKWjl0rXsOqfPK8ejyM554fJcVoheCp+EuAErXlx5CWex9s+PKD+Jg5TMq+GGJllJDjeDiwcHwwfm6UKJq8HUjJ/FIKbwsmVL31EUrJTlP2J79HCm2JHyZHPAwV6mByDsR/Jy1EYsM2FH1ZFPVQcf85KwJsFRO+/I4J0gkKJzGE03FwUOGQaJITEOFBTvm5TKTsK7P5PpA4xYUq9AuRMJsJZCeuUDmzTyeo+rtD62W+qcmII5Rqcb//PW6JDpyEuFbFpcGQviyl2zDaO1THeeA4oHDIt5g1TRJNBl59w0ZHvoEq4HdUoQP+gPDhzR0ZJTRTh5G/RO39V2UolUJbUoS0pJZ3+cUtT7wBWpEn7q/JEn5hkc+NULhRXv5zFMY3TkITUIZSb+pGX6qKkWvjCB/HcXigwtHOWo3Xt27CvClSAKGdmYxZQ12BuyYYu49qZiaJ2/QpflJsBpscuQmvr4mXTK8yHHi/GEYSSdCzK7A8aSYmR0chIjoW05e9jCWhGihqKpGdaT5Bs3kacmCTGSmNrQsRLoUAJ3EgvxK1Cg0i5q9GYjzLRxSi56/AK1P9oLpbjfwPMu0aJeQ4Bg9UOB7CTY5qXLss7jN81CQaxm+U8GhiIjVuvhopDkPXS5w/dvPbhh6kNn8HVu0+iVKjE9Re/ggPoxY/TIdAjRLGKyeRsmJD01beQhr24wk1mwFsNDS5SWrI3Ir1B4tRUaOENojlYxRCB7rCyViJw/+zBnvaOPuZ82Bop8cKLEwxt4ofole8gFCXMqTN34ZCKdRuHp+DjRE++PbUWqx6x8J8sB7u8OjLpr3c4/kWa2nYwuBYLH9Rh26lWUjakicFNqX+2SWrzyxFLcTr4b0c8rECtHhsxA6kNAyd4LGCdupxVBggmENR5FdYmUjWgA80KqpE5GvIFg3h0dcVChhQWtRKhb9ZKc3mbf2hMKtp2IJvL2EU7mqpZdEwTFfEWcKWReOPIKkMIzwan3pxNBTqQDGP0WE2Dr5oMOQp6byG9uo0MyXaSTiuGCKYQ6MQHuguhVlB54G+ijqUl9j2YFtraPuQkUXiyLdjGk5z2iUNTzUUtRXQt64bK2gRKpXheK2ZKepgKPs/LOYxLAhDpLB7446gkdJ56TTiiGQn4MEt8zEyBomjuqLgdUsTOm3FB+GznobvjfewK1Puk1HtkQYQ+OwchCr0+OfuPDtHAe8vfJmP+wNfH6eTw4Vzf3DA+zgcjuPDhcPhyIALh8ORARcOhyMDLhwORwZcOByODLhwOBwZcOFwODLgwuFwZPCQZmAQnznA4dgJn3LTyeFTbu4P3FTjcGTAhcPhyIALh8ORARcOhyMDLhwORwZcOByODLhwOBwZcOFwODLgwuFwZMCFw+HIgAuHw5FBm+eq1b/WtR6rr3fltIIr1IP7mr2w7x6v7LWDdpurptRA460yexPnbRhKKtFxrrQSqoEeUJm9StR0rQyGm9KOnbTTu6OlHcLY4t3CSmgmTMWUR9RwulaAlDdteXMn/SZsEibo/ODroUa3GgPKLxcjd28WSu04UWVAGCaEhyCA0lDdlZdGc7RT52C8N5W+zefCcIVHOJ3PcDofdXfU3qxA+bkT2Le/yKzisRUTwtC4GojJId8d3fhyXgvvC++hQ0RsOHy6GXExawdybXkzKglyyMRIjB7qAd8eTjAaKnDhVA7ey7NjTSSlHwIjx2C4lqWhxG2L5ctWk4hFEHsxvkR5G95h3aVHH+9XpO+yGBg6EVpVFXL/kYZ9Zz5G/idf4Icf6sSDrCDnzEZ8sAfcuqug/vk63j/5mXisVXwwPikJz4/wQf9eLlD8dBd3u6rQv58PgkcPxU+fncbnNlR8ddRCLPnTo9D2doHzz+ZpPAqX7z/GxQopj/YwNBaJUf7wtPlcGOx8/ob44V7o+7uuuHuXrrNrL3gODERYSB9UFHyKG0JWvkLZF8U4Q2V46q4XRno64yv9v6CvFBKRTV1dHRROZs2sXNyHIfwRN9SUHMGWPTk4deYTlHxTDbEUWeM4DXNnPIZADZVNdxfcKrEh78oQ/HnpLEwZ4ga3bl1Qd7cLftfTDYMCHsXoIV3wyeky6z2aLzU4ydEIH1Cfhln5Bv4WZ+kaiWncRHn5ZygspPKt6oGh/6GGqTwbBTJf3tpOPk4dbgsvNq9/oTgryBew/LVYjPdSoOqKwXoBSHjEP4sILyeYvqIWfck8LJj/NyTNXYxVB8tgVLgjIj7W+su+WQUPd4fSWIY9WxZLacxD0t5iSkON0MmxMtbB8cHkKJ24HIgd1J+PsfQIVi2ifFBeFry4DLsuVEOh1uEvz9UvAFpNpo9YhhUmGaL+pag1SC+xl8w0ahwnL1mBJU/5Q1NTiXKbe3MlQhOiMLxHHSry05H0olQ2C7fhMDVqSt8xiIuy9gJ/f0THUy/t3CyNRduwp9QEhUcYEuP9pbgmGD+Xyve7tpfvfRoc8CcTiXyf29Sd71iGVceu29jtPoxQLVXN2i9x+O8ZZiaVCVXZu3GcrWmj9kZQfzG0NbRkEqlJzPqcbcinAqzHdGIH0s7RvosHhtm5YK06eipC3YCqUwXiimw2IZ1PTRkObMlBo+tXDf22Ayi8Bai8A9uwmJUD8Fg4wul6VJ3LwqtJG3CBzsk2xiPI1wm4UYg33jIzqUxlOLr5JJWxE3wHhUiBraALQSCrLuXHsKlZGvk7zgrrFKm92Vqu7c99Ek41ygvFgjyqb6y41vkUe5Ln4a9zt+BEi5+ZYKphLUVXtlDzPVHWGFF65VPo86UAM8oNbP0zJdS2rkbC6B+JuJEaKAxFePOdH6VAW1Chji3Pfu4i9FJII8W4JmRFBXuy4nBcLxMbxzfyYJCCbGIw+cNXKqE/92nLFelMVTAwAf5OdW/romg3liaQVbLhSMuG2WTEbRbo3E1c7LiduU/CKcOJfXYWpDWUYdD2pRbKdA0XraxrpH9zA1LWWVoFQYkQb2ZsfY8qm7sNDcJjR8FXYaBzSm+y2pp1TmLfOsqLpRUMlGOgZWuAGr+1owdzQE5k2dk4SpRkYReVjcUVIob6w5ec+FrjNTvLuxEFWTye5Nrde61X+Tj0fRw21O0x2A+Bj8di3muRCFSaUJp3xELrbRuK4bGYQOZBbcU5ZNu4Fo7i8al4gvko+iPYd04KbDNKDIkfBS1bH0h/VHbl6Jz4YPxTQ8jUNkF/PEcKswU2nM/qSwhC4xdiZZQflCYy+Q+3bf2l1nBo4YQ+8wIWvfgCpkfo4PsbAwoPb8U/D38pHbUT30gkxvhDVVuJ7L1Zti1YS71c3GM+UNwqxjvpMpfvs4A6KgHTA5Qk4JNIy2zDKnCdDmnF8f5sxfGDdq6PGo44qiuLXoxBdJA7nAyfYt/rO3DiPnXnDi2cix+dxNE82vKLUWrqjqAIakmSIu0e2WLDnnEzw8jcqkZhxlYctakwWa8wXujl9NnpuCjDGrGEYvhMzAt3h8JYjF2bs9rXnO3gCA3KUFdqUPKwye5l+ktxgtUV2nLPVcLo8jCik1ZgXpSPdLx9cWjhVORm4vA+2t7agZQlK4QhRqVXGKZPtcOdZqJZFoMgFZlFualIy7dRAcFT8RfWK5QfQ1pu+6iGiWb5s2Kvd3jHjnYTY2eA3Xdb3KYGpRiFrK7QduCNDXh1RRaVrxN8w6dSDyZFaUccWjhNqUZ+drFQoB7eVoYpGyB7eW6UKJo8El+mrWaeHyZHsGHMOpicA/HfSQuR2LANFUdp1EPF/edGCb+wipmpeHibrb3er4MmvfC6dmpQbubh8AVWWzTw+4MY1J44lnAGR2K6PZXxnpBokhMQ4cHs5Uyk7LNjCgc5mipn9ukEVX93aL3MNzUZcYRSLe73t8FwZHe355iZimb3ln7tNO+F9XZMh/KYMlNovKJDpYBfEMcSTsltKPtRZfzPURjfOGlLwhWB4/wF/6bicoEY1CqSkymIJgOv2m0vFyEtaR7+mmBpyxOHj8kOF/bXZAm/aBVz/+qtNbabir8GzHvhLRvs7oUrflTClxqvkNFRLf3eHqMwYTALrULZR2JQe+IkfT4QtLNWI3GoEuUfzsOm/SwkB3tOBAq2bsT81XiktBgXr90GnNXw8feDtgdl9+anOLC3cSSqZRoUNjMZs8jJxF0TjN1HkanVsgczlWZh1/4yaU+aYGn8FCnJu2WO+9dPIqzEgYQNyJXC/iz4V/T11m2oRicgcbRwwAw7JkR2WCyUb//6XpiuBfUy2j8ttDCDogon1qVLtx8slO/7Wch+hFkVo7B8nR/0bMrXLarUal8Eat2hJqvBUHQUh9mMk3bmgfY4Ht2Z0VONa5fFfYYhcyvWHyxGRY0SHoN14vr4w/2hVdWi4twRrFrZtGJbSsNHTaJh/IbSaGJmNW6+GikOQ9dLbLFuftuGm2WeULOZt0aD2X0ZT/Stn+/horGYD62XDzzux5wQR8JS+XpooJbmnip7WCoXtmnMZlVYKt8vcXTzDuw5VwVTNw0Cg6iuUH0JH0qiuVuFwoPbsHpX+91GMKedHiugrrb5FHOr+CF6xQsIdSlD2vxtKJRCzVFofKDpyUq3tWc/rKdhE4/PwcYIH3x7ai1WvSPzvsrgWCx/UYdu1JMlbcmTAmUStRCvh/dyyMcK0OKxERv4RcrX7Hmb29dQcaVaDLaEdC6GNjxW0E49jgoDoqMQQVv4cFuHikkU1NLWflXWaoWvrfqy6UzcFlhPwxY8+rpCAQNKi9pwM9K3lzAKd7VUrmj8ESSVYYQDd0EKdaCYx+gw67PUJX6Z8jWb/WxRNBoMeUoq36G9zB7Ik0c7CccVQ5hJxbrJQHcpzAo6D/RlU05K2jAloj3SILR9yJC4WYn8NvgZWk81FLUV0MvubLQIlcpwvNbMjHQwlP0fFvMYFoQhUpg1HKN83RE0UipfnUYcGW0DD26Zj5ExSBzVFQWvW5qMaSPtkQb1WuGznobvjfcsTzi0kcBn5yBUocc/LU3ofIA8+GU+Omf58vVxOjl8fZz7g2Pdx+FwOghcOByODLhwOBwZcOFwODLgwuFwZMCFw+HIgAuHw5EBFw6HIwMuHA5HBg9pBgbxmQMcjl0A/w9wWz/6oGAAyQAAAABJRU5ErkJggg==)\n",
        "\n",
        "## 입출력 예 설명\n",
        "\n",
        "### 입출력 예 #1\n",
        "\n",
        "- 수포자 1은 모든 문제를 맞혔습니다.\n",
        "- 수포자 2는 모든 문제를 틀렸습니다.\n",
        "- 수포자 3은 모든 문제를 틀렸습니다.\n",
        "따라서 가장 문제를 많이 맞힌 사람은 수포자 1입니다.\n",
        "\n",
        "### 입출력 예 #2\n",
        "\n",
        "- 모든 사람이 2문제씩을 맞췄습니다."
      ],
      "metadata": {
        "id": "1SqZ4jU09B23"
      }
    },
    {
      "cell_type": "markdown",
      "source": [
        "## 첫 번째 방법\n",
        "1. 맞춘 문제 개수를 카운트 할 배열 score와 각 수포자마다 규칙적으로 찍는 번호를 supo1,2,3 배열에 저장. \n",
        "2. answers의 크기만큼 반복하는 반복문으로 answers와 각 supo1,2,3 배열의 동일한 위치에 있는 수를 비교.\n",
        "3, 수가 같으면 각 인덱스에 맞는 score를 카운트.\n",
        "4. ans에 score 중 가장 큰 값을 저장한 후 ans와 각 score 값이 같으면 answer에 1,2,3을 append후 return.\n",
        "\n",
        "결과 : 실패\n",
        "-> 런타임 에러\n",
        "\n",
        "## 두 번째 방법\n",
        "1. 첫 번째 방법과 유사하지만 반복문에서 i를 다 탐색하는 게 아니라 idx = i % len(supo1,2,3)라는 구문을 각각 적용해 idx를 supo의 idx에 위치한 값을 비교하여 불필요한 탐색을 줄임.\n",
        "\n",
        "결과 : 성공"
      ],
      "metadata": {
        "id": "uoLZba_YxXmW"
      }
    },
    {
      "cell_type": "code",
      "execution_count": 7,
      "metadata": {
        "colab": {
          "base_uri": "https://localhost:8080/"
        },
        "id": "_dSo7HPs893w",
        "outputId": "dff7869c-92e4-47fa-ac39-f028a8432d4f"
      },
      "outputs": [
        {
          "output_type": "execute_result",
          "data": {
            "text/plain": [
              "[1]"
            ]
          },
          "metadata": {},
          "execution_count": 7
        }
      ],
      "source": [
        "def solution(answers):\n",
        "    answer = []\n",
        "    score = [0, 0, 0]\n",
        "    supo1 = [1,2,3,4,5]\n",
        "    supo2 = [2,1,2,3,2,4,2,5]\n",
        "    supo3 = [3,3,1,1,2,2,4,4,5,5]\n",
        "\n",
        "    for i in range(len(answers)):\n",
        "\n",
        "        idx1 = i % len(supo1)\n",
        "        idx2 = i % len(supo2)\n",
        "        idx3 = i % len(supo3)\n",
        "\n",
        "        if answers[i] == supo1[idx1]:\n",
        "            score[0] += 1\n",
        "        if answers[i] == supo2[idx2]:\n",
        "            score[1] += 1\n",
        "        if answers[i] == supo3[idx3]:\n",
        "            score[2] += 1\n",
        "    ans = max(score)\n",
        "\n",
        "    if ans == score[0]:\n",
        "        answer.append(1)\n",
        "    if ans == score[1]:\n",
        "        answer.append(2)\n",
        "    if ans == score[2]:\n",
        "        answer.append(3)\n",
        "\n",
        "    return answer\n",
        "\n",
        "\n",
        "solution([1,2,3,4,5])"
      ]
    },
    {
      "cell_type": "markdown",
      "source": [
        "## 다른 사람의 풀이\n",
        "enumerate함수를 사용해 굳이 없어도 될 코드가 없어지니까 전체적인 코드가 훨씬 간결하면서 가독성이 좋음."
      ],
      "metadata": {
        "id": "iL2-405fziLd"
      }
    },
    {
      "cell_type": "code",
      "source": [
        "def solution(answers):\n",
        "    pattern1 = [1,2,3,4,5]\n",
        "    pattern2 = [2,1,2,3,2,4,2,5]\n",
        "    pattern3 = [3,3,1,1,2,2,4,4,5,5]\n",
        "    score = [0, 0, 0]\n",
        "    result = []\n",
        "\n",
        "    for idx, answer in enumerate(answers):\n",
        "        if answer == pattern1[idx%len(pattern1)]:\n",
        "            score[0] += 1\n",
        "        if answer == pattern2[idx%len(pattern2)]:\n",
        "            score[1] += 1\n",
        "        if answer == pattern3[idx%len(pattern3)]:\n",
        "            score[2] += 1\n",
        "\n",
        "    for idx, s in enumerate(score):\n",
        "        if s == max(score):\n",
        "            result.append(idx+1)\n",
        "\n",
        "    return result\n",
        "\n",
        "solution([1,2,3,4,5])"
      ],
      "metadata": {
        "colab": {
          "base_uri": "https://localhost:8080/"
        },
        "id": "_77FXeFHxQ37",
        "outputId": "02384b6b-9bfa-4051-9e8c-76433f627be3"
      },
      "execution_count": 8,
      "outputs": [
        {
          "output_type": "execute_result",
          "data": {
            "text/plain": [
              "[1]"
            ]
          },
          "metadata": {},
          "execution_count": 8
        }
      ]
    }
  ]
}