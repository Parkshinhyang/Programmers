{
  "nbformat": 4,
  "nbformat_minor": 0,
  "metadata": {
    "colab": {
      "provenance": [],
      "authorship_tag": "ABX9TyMsodr2ursyL0JTQexV7dnj",
      "include_colab_link": true
    },
    "kernelspec": {
      "name": "python3",
      "display_name": "Python 3"
    },
    "language_info": {
      "name": "python"
    }
  },
  "cells": [
    {
      "cell_type": "markdown",
      "metadata": {
        "id": "view-in-github",
        "colab_type": "text"
      },
      "source": [
        "<a href=\"https://colab.research.google.com/github/Parkshinhyang/Programmers/blob/main/%EA%B7%A4_%EA%B3%A0%EB%A5%B4%EA%B8%B0(Lv_2).ipynb\" target=\"_parent\"><img src=\"https://colab.research.google.com/assets/colab-badge.svg\" alt=\"Open In Colab\"/></a>"
      ]
    },
    {
      "cell_type": "markdown",
      "source": [
        "#문제 - 귤 고르기\n",
        "[문제 링크](https://school.programmers.co.kr/learn/courses/30/lessons/138476)\n",
        "\n",
        "## 문제 설명\n",
        "\n",
        "경화는 과수원에서 귤을 수확했습니다. 경화는 수확한 귤 중 'k'개를 골라 상자 하나에 담아 판매하려고 합니다. 그런데 수확한 귤의 크기가 일정하지 않아 보기에 좋지 않다고 생각한 경화는 귤을 크기별로 분류했을 때 서로 다른 종류의 수를 최소화하고 싶습니다.\n",
        "\n",
        "예를 들어, 경화가 수확한 귤 8개의 크기가 [1, 3, 2, 5, 4, 5, 2, 3] 이라고 합시다. 경화가 귤 6개를 판매하고 싶다면, 크기가 1, 4인 귤을 제외한 여섯 개의 귤을 상자에 담으면, 귤의 크기의 종류가 2, 3, 5로 총 3가지가 되며 이때가 서로 다른 종류가 최소일 때입니다.\n",
        "\n",
        "경화가 한 상자에 담으려는 귤의 개수 k와 귤의 크기를 담은 배열 tangerine이 매개변수로 주어집니다. 경화가 귤 k개를 고를 때 크기가 서로 다른 종류의 수의 최솟값을 return 하도록 solution 함수를 작성해주세요.\n",
        "\n",
        "## 제한사항\n",
        "\n",
        "- 1 ≤ k ≤ tangerine의 길이 ≤ 100,000\n",
        "- 1 ≤ tangerine의 원소 ≤ 10,000,000\n",
        "\n",
        "## 입출력 예\n",
        "\n",
        "![image.png](data:image/png;base64,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)\n",
        "\n",
        "## 입출력 예 설명\n",
        "\n",
        "### 입출력 예 #1\n",
        "\n",
        "- 본문에서 설명한 예시입니다.\n",
        "\n",
        "### 입출력 예 #2\n",
        "\n",
        "- 경화는 크기가 2인 귤 2개와 3인 귤 2개 또는 2인 귤 2개와 5인 귤 2개 또는 3인 귤 2개와 5인 귤 2개로 귤을 판매할 수 있습니다. 이때의 크기 종류는 2가지로 이 값이 최소가 됩니다.\n",
        "\n",
        "### 입출력 예 #3\n",
        "\n",
        "- 경화는 크기가 1인 귤 2개를 판매하거나 2인 귤 2개를 판매할 수 있습니다. 이때의 크기 종류는 1가지로, 이 값이 최소가 됩니다."
      ],
      "metadata": {
        "id": "stPsp8wg5kOc"
      }
    },
    {
      "cell_type": "markdown",
      "source": [
        "## 첫 번째 방법\n",
        "\n",
        "1. 입력받은 tangerine 배열을 크키를 키가, 개수를 값으로 하는 딕셔너리 형태로 저장하고 값을 기준으로 내림차순 정렬.\n",
        "2. 맨 앞 값부터 k에서 빼고 answer을 카운트.\n",
        "3. k가 0보다 작거나 같으면 break한 뒤 answer을 return.\n",
        "\n",
        "결과 : 성공"
      ],
      "metadata": {
        "id": "W9aqA9hXRKz4"
      }
    },
    {
      "cell_type": "code",
      "execution_count": 43,
      "metadata": {
        "colab": {
          "base_uri": "https://localhost:8080/"
        },
        "id": "SiK3SIv75g-F",
        "outputId": "6c366069-6c4e-4fa0-b9ae-9fe76a3c81a8"
      },
      "outputs": [
        {
          "output_type": "execute_result",
          "data": {
            "text/plain": [
              "3"
            ]
          },
          "metadata": {},
          "execution_count": 43
        }
      ],
      "source": [
        "import operator\n",
        "\n",
        "def solution(k, tangerine):\n",
        "    answer = 0\n",
        "    dic = {}\n",
        "\n",
        "    for i in tangerine:\n",
        "        if str(i) not in dic:\n",
        "            dic[str(i)] = 1\n",
        "        else:\n",
        "            dic[str(i)] += 1\n",
        "\n",
        "    dic = dict(sorted(dic.items(), key = operator.itemgetter(1), reverse = True))\n",
        "\n",
        "    for i in dic:\n",
        "        k -= dic[i]\n",
        "        answer += 1\n",
        "        if k <= 0:\n",
        "            break\n",
        "    return answer\n",
        "solution(6, [1, 3, 2, 5, 4, 5, 2, 3])"
      ]
    }
  ]
}