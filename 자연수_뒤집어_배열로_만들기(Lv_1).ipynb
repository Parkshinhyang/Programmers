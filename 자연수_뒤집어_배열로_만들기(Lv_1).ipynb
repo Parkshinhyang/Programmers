{
  "nbformat": 4,
  "nbformat_minor": 0,
  "metadata": {
    "colab": {
      "provenance": [],
      "authorship_tag": "ABX9TyMzxt7x0MQpLK+fg/2mhVUD",
      "include_colab_link": true
    },
    "kernelspec": {
      "name": "python3",
      "display_name": "Python 3"
    },
    "language_info": {
      "name": "python"
    }
  },
  "cells": [
    {
      "cell_type": "markdown",
      "metadata": {
        "id": "view-in-github",
        "colab_type": "text"
      },
      "source": [
        "<a href=\"https://colab.research.google.com/github/Parkshinhyang/Programmers/blob/main/%EC%9E%90%EC%97%B0%EC%88%98_%EB%92%A4%EC%A7%91%EC%96%B4_%EB%B0%B0%EC%97%B4%EB%A1%9C_%EB%A7%8C%EB%93%A4%EA%B8%B0(Lv_1).ipynb\" target=\"_parent\"><img src=\"https://colab.research.google.com/assets/colab-badge.svg\" alt=\"Open In Colab\"/></a>"
      ]
    },
    {
      "cell_type": "markdown",
      "source": [
        "## 문제 - 자연수 뒤집어 배열로 만들기\n",
        "https://school.programmers.co.kr/learn/courses/30/lessons/12932"
      ],
      "metadata": {
        "id": "4mrO527eZq90"
      }
    },
    {
      "cell_type": "markdown",
      "source": [
        "## 첫 번째 방법\n",
        "1. map함수를 사용해 입력받은 n을 str형태로 변환 후 reversed 함수로 순서를 거꾸로 int형태로 list에 저장한 다음 출력.\n",
        "\n",
        "결과 : 성공"
      ],
      "metadata": {
        "id": "gIngC8gZZvoN"
      }
    },
    {
      "cell_type": "code",
      "execution_count": 8,
      "metadata": {
        "colab": {
          "base_uri": "https://localhost:8080/"
        },
        "id": "-zzA7nwgW2-U",
        "outputId": "9f28d2d0-3a39-4acc-f086-b8325559b00e"
      },
      "outputs": [
        {
          "output_type": "execute_result",
          "data": {
            "text/plain": [
              "[5, 4, 3, 2, 1]"
            ]
          },
          "metadata": {},
          "execution_count": 8
        }
      ],
      "source": [
        "def solution(n):\n",
        "    return list(map(int, reversed(str(n))))\n",
        "solution(12345)"
      ]
    },
    {
      "cell_type": "markdown",
      "source": [
        "## 다른 사람의 풀이(- , - , - , 김바비큐 , - 외 95 명)\n",
        "배열 안에서 for문을 사용하고 reversed 함수를 사용하지 않고 슬라이싱 [::-1]를 사용하여 배열을 거꾸로 변환.\n"
      ],
      "metadata": {
        "id": "3vzr7VN6eMex"
      }
    },
    {
      "cell_type": "code",
      "source": [
        "def digit_reverse(n):\n",
        "    return [int(i) for i in str(n)][::-1]"
      ],
      "metadata": {
        "id": "QjL1pFQHdL_1"
      },
      "execution_count": null,
      "outputs": []
    }
  ]
}