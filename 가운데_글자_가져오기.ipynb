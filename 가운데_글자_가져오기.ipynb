{
  "nbformat": 4,
  "nbformat_minor": 0,
  "metadata": {
    "colab": {
      "provenance": [],
      "authorship_tag": "ABX9TyMbqjCYBXsQ8FjK0r/AMP09",
      "include_colab_link": true
    },
    "kernelspec": {
      "name": "python3",
      "display_name": "Python 3"
    },
    "language_info": {
      "name": "python"
    }
  },
  "cells": [
    {
      "cell_type": "markdown",
      "metadata": {
        "id": "view-in-github",
        "colab_type": "text"
      },
      "source": [
        "<a href=\"https://colab.research.google.com/github/Parkshinhyang/Programmers/blob/main/%EA%B0%80%EC%9A%B4%EB%8D%B0_%EA%B8%80%EC%9E%90_%EA%B0%80%EC%A0%B8%EC%98%A4%EA%B8%B0.ipynb\" target=\"_parent\"><img src=\"https://colab.research.google.com/assets/colab-badge.svg\" alt=\"Open In Colab\"/></a>"
      ]
    },
    {
      "cell_type": "markdown",
      "source": [
        "## 문제 - 가운데 글자 가져오기\n",
        "https://school.programmers.co.kr/learn/courses/30/lessons/12903"
      ],
      "metadata": {
        "id": "T2tmS6oPkhNj"
      }
    },
    {
      "cell_type": "markdown",
      "source": [
        "## 첫 번째 방법\n",
        "1. 입력받은 s의 길이가 홀수이면 s의 len(s)//2 즉, s의 중간값을 출력.\n",
        "2. 입력받은 s의 길이가 짝수이면 s의 len(S)//2 - 1부터 len(s)//2 + 1을 출력.\n",
        "\n",
        "결과 : 성공"
      ],
      "metadata": {
        "id": "sgvf6UEykmcV"
      }
    },
    {
      "cell_type": "code",
      "execution_count": 4,
      "metadata": {
        "colab": {
          "base_uri": "https://localhost:8080/",
          "height": 35
        },
        "id": "tjtx6e6PjZ6n",
        "outputId": "aa6983ca-9d93-4d17-e315-e84ef2384125"
      },
      "outputs": [
        {
          "output_type": "execute_result",
          "data": {
            "text/plain": [
              "'we'"
            ],
            "application/vnd.google.colaboratory.intrinsic+json": {
              "type": "string"
            }
          },
          "metadata": {},
          "execution_count": 4
        }
      ],
      "source": [
        "def solution(s):\n",
        "    if len(s) % 2 == 1:\n",
        "        return s[len(s)//2]\n",
        "    else:\n",
        "        return s[len(s)//2 - 1 : len(s)//2 + 1]\n",
        "solution(\"qwer\")"
      ]
    }
  ]
}