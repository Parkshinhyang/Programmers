{
  "nbformat": 4,
  "nbformat_minor": 0,
  "metadata": {
    "colab": {
      "provenance": [],
      "authorship_tag": "ABX9TyOoaV0cHcpujlQFpscWjVmO",
      "include_colab_link": true
    },
    "kernelspec": {
      "name": "python3",
      "display_name": "Python 3"
    },
    "language_info": {
      "name": "python"
    }
  },
  "cells": [
    {
      "cell_type": "markdown",
      "metadata": {
        "id": "view-in-github",
        "colab_type": "text"
      },
      "source": [
        "<a href=\"https://colab.research.google.com/github/Parkshinhyang/Programmers/blob/main/K%EB%B2%88%EC%A7%B8%EC%88%98(Lv_1).ipynb\" target=\"_parent\"><img src=\"https://colab.research.google.com/assets/colab-badge.svg\" alt=\"Open In Colab\"/></a>"
      ]
    },
    {
      "cell_type": "markdown",
      "source": [
        "## 첫 번째 방법\n",
        "1. 주어진 commands에서 요구한 i, j만큼 array를 슬라이싱해 정렬한 후 arr라는 배열에 저장.\n",
        "2. commands에서 요구한 k번째 수를 arr에서 추출\n",
        "\n",
        "결과 : 성공\n",
        "- p.s. - 다른 사람의 풀이를 보니 단 두 줄로 문제를 해결하는 것을 보고 lambda 와 map 함수 공부의 필요성을 다시금 느끼게 되었다. def solution(array, commands):\n",
        "    return list(map(lambda x:sorted(array[x[0]-1:x[1]])[x[2]-1], commands))"
      ],
      "metadata": {
        "id": "L0COdBJ3qgRM"
      }
    },
    {
      "cell_type": "code",
      "execution_count": 3,
      "metadata": {
        "colab": {
          "base_uri": "https://localhost:8080/"
        },
        "id": "NhugNzuzoWFN",
        "outputId": "45f8ffcb-bcd3-4ee0-8afd-b523f8c9e88a"
      },
      "outputs": [
        {
          "output_type": "execute_result",
          "data": {
            "text/plain": [
              "[5, 6, 3]"
            ]
          },
          "metadata": {},
          "execution_count": 3
        }
      ],
      "source": [
        "def solution(array, commands):\n",
        "    answer = []\n",
        "    arr = []\n",
        "    for i in range(len(commands)):\n",
        "        arr = sorted(array[commands[i][0] - 1 : commands[i][1]])\n",
        "        answer.append(arr[commands[i][2] - 1])\n",
        "\n",
        "    return answer\n",
        "\n",
        "solution([1, 5, 2, 6, 3, 7, 4], [[2, 5, 3], [4, 4, 1], [1, 7, 3]])"
      ]
    }
  ]
}