{
  "nbformat": 4,
  "nbformat_minor": 0,
  "metadata": {
    "colab": {
      "provenance": [],
      "authorship_tag": "ABX9TyOI5Ty1vslUqhQQf3J/EsRq",
      "include_colab_link": true
    },
    "kernelspec": {
      "name": "python3",
      "display_name": "Python 3"
    },
    "language_info": {
      "name": "python"
    }
  },
  "cells": [
    {
      "cell_type": "markdown",
      "metadata": {
        "id": "view-in-github",
        "colab_type": "text"
      },
      "source": [
        "<a href=\"https://colab.research.google.com/github/Parkshinhyang/Programmers/blob/main/%EC%A0%95%EC%88%98_%EC%A0%9C%EA%B3%B1%EA%B7%BC_%ED%8C%90%EB%B3%84(Lv_1).ipynb\" target=\"_parent\"><img src=\"https://colab.research.google.com/assets/colab-badge.svg\" alt=\"Open In Colab\"/></a>"
      ]
    },
    {
      "cell_type": "markdown",
      "source": [
        "# 문제 - 정수 제곱근 판별\n",
        "https://school.programmers.co.kr/learn/courses/30/lessons/12934\n",
        "\n",
        "## 문제 설명\n",
        "\n",
        "임의의 양의 정수 n에 대해, n이 어떤 양의 정수 x의 제곱인지 아닌지 판단하려 합니다.\n",
        "n이 양의 정수 x의 제곱이라면 x+1의 제곱을 리턴하고, n이 양의 정수 x의 제곱이 아니라면 -1을 리턴하는 함수를 완성하세요.\n",
        "\n",
        "## 제한사항\n",
        "\n",
        "- n은 1이상, 50000000000000 이하인 양의 정수입니다.\n",
        "\n",
        "## 입출력 예\n",
        "\n",
        "![image.png](data:image/png;base64,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)\n",
        "\n",
        "## 입출력 예 설명\n",
        "\n",
        "### 입출력 예#1\n",
        "\n",
        "121은 양의 정수 11의 제곱이므로, (11+1)를 제곱한 144를 리턴합니다.\n",
        "\n",
        "### 입출력 예#2\n",
        "\n",
        "3은 양의 정수의 제곱이 아니므로, -1을 리턴합니다."
      ],
      "metadata": {
        "id": "VuCtwDKbhnV6"
      }
    },
    {
      "cell_type": "markdown",
      "source": [
        "## 첫 번째 방법\n",
        "1. 입력받은 n의 제곱근을 num에 저장.\n",
        "2. num이 int형태로 바꿨을 때 변함이 없으면(자연수임을 확인하기 위함) num에 1을 더한 값의 제곱을 return.\n",
        "3. 그렇지 않으면 -1을 return.\n",
        "\n",
        "결과 : 성공"
      ],
      "metadata": {
        "id": "vH6-J89_j-Cc"
      }
    },
    {
      "cell_type": "code",
      "execution_count": 14,
      "metadata": {
        "colab": {
          "base_uri": "https://localhost:8080/"
        },
        "id": "3fxS3rq0hjpJ",
        "outputId": "cc6fffdb-17e3-494e-e67c-152d196dab66"
      },
      "outputs": [
        {
          "output_type": "execute_result",
          "data": {
            "text/plain": [
              "144"
            ]
          },
          "metadata": {},
          "execution_count": 14
        }
      ],
      "source": [
        "def solution(n):\n",
        "    num = n ** (1 / 2)\n",
        "    if int(num) == num:\n",
        "        return int((num + 1) ** 2)\n",
        "    else:\n",
        "        return -1\n",
        "solution(121)"
      ]
    }
  ]
}