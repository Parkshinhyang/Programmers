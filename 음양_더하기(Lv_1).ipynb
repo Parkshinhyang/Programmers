{
  "nbformat": 4,
  "nbformat_minor": 0,
  "metadata": {
    "colab": {
      "provenance": [],
      "authorship_tag": "ABX9TyPT4x0Qg1mlR1FdxjS49sht",
      "include_colab_link": true
    },
    "kernelspec": {
      "name": "python3",
      "display_name": "Python 3"
    },
    "language_info": {
      "name": "python"
    }
  },
  "cells": [
    {
      "cell_type": "markdown",
      "metadata": {
        "id": "view-in-github",
        "colab_type": "text"
      },
      "source": [
        "<a href=\"https://colab.research.google.com/github/Parkshinhyang/Programmers/blob/main/%EC%9D%8C%EC%96%91_%EB%8D%94%ED%95%98%EA%B8%B0(Lv_1).ipynb\" target=\"_parent\"><img src=\"https://colab.research.google.com/assets/colab-badge.svg\" alt=\"Open In Colab\"/></a>"
      ]
    },
    {
      "cell_type": "markdown",
      "source": [
        "# 문제 - 음양 더하기\n",
        "https://school.programmers.co.kr/learn/courses/30/lessons/76501\n",
        "\n",
        "## 문제 설명\n",
        "어떤 정수들이 있습니다. 이 정수들의 절댓값을 차례대로 담은 정수 배열 absolutes와 이 정수들의 부호를 차례대로 담은 불리언 배열 signs가 매개변수로 주어집니다. 실제 정수들의 합을 구하여 return 하도록 solution 함수를 완성해주세요.\n",
        "\n",
        "\n",
        "\n",
        "## 제한 사항\n",
        "- absolutes의 길이는 1 이상 1,000 이하입니다.\n",
        "    - absolutes의 모든 수는 각각 1 이상 1,000 이하입니다.\n",
        "- signs의 길이는 absolutes의 길이와 같습니다.\n",
        "    - signs[i] 가 참이면 absolutes[i] 의 실제 정수가 양수임을, 그렇지 않으면 음수임을 의미합니다.\n",
        "\n",
        "## 입출력 예\n",
        "![image.png](data:image/png;base64,iVBORw0KGgoAAAANSUhEUgAAAcUAAACFCAYAAAAq7uNcAAAAAXNSR0IArs4c6QAAAARnQU1BAACxjwv8YQUAAAAJcEhZcwAAEnQAABJ0Ad5mH3gAAC78SURBVHhe7Z0LXFTV2v9/CYPKKIKEityRi6GcqZEMMbykppJJJh3T/kol/svLOZI3Ii21NC8HPfg/KpmIiYV6DmZqUabmrRetiOJFSUUFFbzAayKKKIjvf609a2BmGJBhhtvwfD+fzcxa+2HtvZ51edZ9HvN5Zvj/giAIgiAIPNa1RwAZRYIgCIJgPObeK5iMIlFJ6b1StG/XXrgIgmjuUJk1HVyXbcR3giAIgmj1kFEkCIIgCAEZRYIgCIIQkFEkCIIgCAEZRYIgCIIQkFEkCIIgCAEZRYIgCIIQkFEkCIIgCAEZRYIgCIIQkFEkCIIgCAEZRYIgCIIQkFEkCIIgCEHjGsUXo7Bz11bsXDRUeDQRzeU9Wj0vIO7gUeRkfIWEScKLIAhCl0assxvXKNo5wsvbDV6u9sKjiTDFe7y9BPtZIsW9LdxEPXCHiy37sOgMF0+VD0EQRDVqqLNnrNnK6uElmCHcpoCGT+uLE0sgnkhOwk3Ug3UYNWkeImdH4s1FwosgCKKOOHuq6mFn4TYFZBSJpuXUCezel47LwkkQBNGUmMQouoRMR8LeFJzOOIqck6rr9LGtSJgdKCSqMzh6EzI05Q9uQuw4R3FXA9cxiN3xlbYsC1ufLH+PL/alVMrlZBxAxt6VeG+QEKiFKQn8/1LwhZ65reV7eXhbsVxyRWE/D3uMm+TyGiOetTdKcqvp9doH2H/sgMa7pOBownSEugoBDQbPXqlXdrC43yKpY7pp61aNI0LnxeLo8ar/zRH/W01+Uiwy2P2MhHEIfZ/lqV+r/uf0vli9aW+W+iYIY9AoR1PW7qisy/d/JO4zTF2n1b3O1cNHW6Vwx3lwhxvGiedovm99Md4oDopCwkfjMNijA+5fO4VDew/gu58v4r6NGwa/8YHeCKPbKMS+6g1I8keRmv0n0NUboe/F4Ys3NCvNF5CQ+A5Ce3UGLqXjOxb27mPZKLZ2YxVgHBLGCDGGyxux2LlsHIKcrFCYzWVPIP3SHbT1CMSUVUy5dTCMdeMqzmVfxLnrZZLr/nX2nbsvXJXcnKB5m5AUPRReNmW4nK7qCZ27aQWXvuMQmxiLKRqZyIXJxr0RCC/rOzjFMtFuro985s9k45Knw0XItSzqnm76GPzRSqyYpIQL00ml/iq4oVyJPtZCSBenl7EizA33+fO4/P+Uoa2TElNWxmG22eubIEyE53jMHuTI6nJRr7GywWl2dVq+6v0K73JHGavztd/XGIw2ipNeVKKLZRnO7ZoHxfCpeDP6Q0x9cyJGxaajGB0QNHq6kKzCxtURBXvU8gvw2piXMGwVk7fojKDwdzBOyOGNYejzODM8GYkY9WIkprKwI6dOxti16Si8zxNEXbu+gMXhSjhY3EHqqonoO4bLzsPYF19isqdQ3Ja1JOZ9gCAhbRyJmDpmIoalqozg5VT2nbtnJkpuuE7He+O8YXM7GxtnhmCAmDMbNmgiPv75DvC4EhNnKFWyrEc0e5A32jJD+93slzBqKosf10fIh9idU4b7dt6YqBZtSdQ53fTQ7wMsZr3wtvcvYoeu/jLs4dVVyOlg49QRv8aKtBfyG0+zhot1L4x4UwiZq74JwkTYPG6FX1eNY3Wzql6b+gnzbI512icLpPf74Tp3XMUPvA5Wv6+RGG0UE2czBSqGYtj7J4SPisubr6KAf7G2r94yyD+BhdXkV+Cr0+zL4z4Y/qLKDw4dYcM+7t+/rTXndHlzJPr2CcGw6F0qj7dHIYhXwqe+wbvsuZqc+uRDVbiuSkSow21AXKYEoldb9tw9C/DxYeEpcRUb3/wS6axl49L3VYRKfr1gI/V8ynDrguQhOIHIF4dCMSQSH6cLr5ZEXdNND0FhvaT8cvngP/Gurv4W7cepCuHUJeeITtpfZfrPxn32rYurupllpvomCFNx+hu8plOHtrY6zYQLbbwx+MUxmL3oA8SuisXX+wbCi3vbdcYI6X4VxfmZSBXfq7iK+GyeGJ2ZglU+2J6OU6xWs+k7HRl7YxEXPQkj+lafSwzy7sxaJqwi/WOdngUbesJtQP7qyd+PtZ7spiB2GdOF1uUOG16p29mzrMM5gH0n/2SfrCe76yt8HReF2a+xDCjda8HUMd30MciNy/2Jc8f0lJxLR3D5mviuQ3FhbvW0L74vGcUqzFTfBGEiiov/R3yrorXVacYbRb6gYhefMN2EhGXvYEbYUIQOV8KLtRa0K6Qqbl0/Kr5pc/mBap6ukkvrMPX9HUjNL4ONhxIjXotAXMIO5Py8A1/MG1rZA+1l15H9vYMCrZZJFdXCbUAcbKzY3w7oFcL0wFpG2tcAePFXtbCSelKcHTPmYuHeiyi27IxewS9gRvRKfH3yKDJ2fYBJLbW2rmO66cOGt25wGwV7JacO6bhlZFKapb4JogFpbXWakUZRieVrpiPUuwOKs08gcQ2fTxwHj94D0DOYteqFlC6dug4Q37RxseTK1+Zyyjq8NnwoPMbNw8KN3+BQ+lUUt3VE0KR3kfCRanVrwV1eU3ZAp26Ss0lhnRPGnzi0ko+l13Stw1ZJmpONxOiJUCjG4bXZ8UjkE9jXmTHxHorFn2hPYLck6pJu+lDpzx4ur0lOHZToVD2LGIh56psgGorWVqcZaRSHoY83q6X+5wQ+HsMrP77yVHs8Wh823Xz1LnqZ6K3qphdkq9xanOJGdwXenDQOiplHUQgreAW/LI1j7750QxJx6Vm5REeL2aL7rzdcLazQTt3cqcSwivjUNT500BldnE5hN191qfc6gVMqcQ2uInVfIhbyCewhE7HxFDP0dkqEviput1RqSTd9HL7I808HePfVYzj7jUIvkx2WYKb6JggT07B1mvF1rqkx0ijewf0aFj4MXqVUzSnqwzUQ07W2XjAGLcGInuzz9lkcTlR5TVr7FU5n6NnHwlou96TPMlbJMlYekSZ7bRSjqm+9YOGGKrjhPok9Ilx9bJQMqxV6DY/S2kszOHo6BtdSEbe11I7H7i9UG9F7hURVbxGxdzn6awp+TpjOkp2hfAdfHz+A03ujdBoJV3H/Af8sw31pyXHLos7ppofUNUel+UiHZ99BnOaeRtehiH1vgHHLuc1U3wTRkDRUnVbfOrc6zLCasPdppFH8EqnZzPo/Hoj3dq3E4ilDETrlHSTs+Apxg+xrnFMsvHQbfSI3YT+fhJ0SgeVxm/DzKl7hleHUrhXYKOQSf87FfYsOCJq5AzuXRWCStJBnJfavVsmeO86er5LEqpSLuM+3XqxisqvewYzXNMO9g9Qt/8QOSbYGElhLh71wW48XEHd4K3Ym8MVCKUh4zR565p6BfNYgYB8uz8dhP5NNUB9Ue/xDbD3OJ6WVeG/HVnyh+y5trVBw+ktIy0jSj+DkNfFMDf3FJX6FKdyQ3zyJ79ZKobYo6p5ueri0DquSs6Wh1hHv78DpYzuwn6XD6b0fINT2JFIvCbn6YKb6JogGpaHqNEPrXD3k3eRTZ6yuSGTvlbASy02ww8DCtoubEadO3sGxE7fRM6gPevVwgyJwIEYEPgGPTkU4tjYNCPJE57KrOLbpO5XCFCMwtb8j/vwhAvEFz2HEQCWCAhXo7WYPeQXram/9GGExfP+EIOM7nGmvgNLfBz39FBg8tB/6+jmjs+UdnPvmE7z5/iEUC9HLh3fhFJf1Y7JPPIGgYBEue/6hDfMQHn9RSDLEeyD/F3yyW3T6b/2CY7dcEKz0RBc7Wzg6OaJL2xvsnWKQ0X0Yetvdwqn1u3BAJQ2kpaO4R18EeTE5F0cW58fwy+c/SC2q9L0/4KZLX/Tx4+fyabxLtThexYHjt+HR1x8Kb89K/Xk5tkdFfjo2fxiJNblCtJF48OABZJYy4aonBqTb0AlvVNNt7o978E2uNdzdu0tp0bl9BYrPHcXKudFoO0RHXl9aqql2r/npmyCMxSRltrZyxGiQOs2QOreG9/v5V5X96elkDxcnZ3SqyMDm7x89hVcTXJePufcK/l/hNgqXvgOg7MoHglnFp3d8WQ+9AhHq2YH1qP9E+r7azr90RNDwXnDgwRsie/sidh9+5ERiNaS4WF+t4//yrSiOuJ9xVE8vxoD3VuuCUXzhAA7VSYGmp/ReKdq3ay9cxmJIutUNfvzTOI+L2NF7It4VfvWimeibIIzFtGX2UTRMnWZYnasH/iznMqPrGK5LkxlFwjxo3AKmD0eEvv8BJlltwVidAx7g+g6+3jsGve6m4+N+kZXD7ATRmmn6Mms+kFEkqtHkBcx1Or7eNQ692pahMH0/Ev/zq9Ty6+Q5CBNfVe2JKjy8An1nfKOSJ4hWDhlF00FGkahGsyhgg6bji+gx0uHuWlTcwbmUjXgzepfRw7AEYS6QUTQdZBSJajSnAibNM3j7oJ9rGY6fPFv3uWqCaEWQUTQdZBSJalABI4iWBZVZ08F1afzZpwRBEARhJpBRJAiCIAgBGUWCIAiCEJBRJAiCIAgBGUWCIAiCEJBRJAiCIAgBGUWCIAiCEJBRJAiCIAjBY117BNDmfYIgCIJg0Ik2hBZ0OgZBtCyozJoOOtGGIAiCIDQgo0gQBEEQAjKKBEEQBCEgo0gQBEEQAjKKBEEQBCEgo0gQBEEQAjKKBEEQBCEwyT7FiooKPKh4gIcPHwofojFo06YNLC0sYWFhIXyMx1R7nihPEK2FhiiHhkD7FE0H16XRRrH8QblU8VlaskzRpmkyRWul4iEzPA8eSIVSZikTvsZhigJGeYJoTTREOTQEMoqmg+vSqOFT3hvglV9bq7ZU+TUBXOdc9zwNeFo0ByhPEK2N5lgOifpjlFHkw2O8N0A0LTwNeFo0ByhPEK2V5lQOifpjlFHkLSPqDTQ9PA14WjQHKE8QrZXmVA6J+mPUnCKNZTcfTJUWxoZDeYJozTRF/jfpM9t3hd+IUAzwd4aHrSWKb+Th1H/txzeHs1EuRMwZrstGM4rhMVsx2l041OQewdg58cLRugl+dwMiA6yFS3A7C7FvLMMx4awNUxUMY8Mx6P9fX4Gdo7oLh5or2BMWhS3CpYutvRuKblwUrhaOTzg+njcQvrZicYYB6a2JbtkqSduGSctThKt50nzTMQIxyQPhIVxqcr6eiDmfCUctmKocGoLJnukxCJMjQqGwZd8fPkAps4KWbS3Bc2fppcNYuWI3bkiC5gvXZeMaRftzSIrdj7PCD3fykXm+5oKhjFyL+c92qndlob/S1cBIoywfHI3/N90Ptnorcgf4h0zA+FF+8LS3hoyPKFaUo+TGFRzdsgbxPxWqxARypwB4Pm4lXG4YGxkCf7QGo2iLzKQt2Hle+KEElzMyUCRcVYRifnwYlEXm0pDyQ8SaaIzscguZP55CXinzuncR3yWlIE8lUGeUo6ZC2YV9sXPH0H7dUdasjWJzT0c3eCic0EG48GwYFg12aAVGsSuej56DUc6sd3g2Bf/6dD+u8zzZ3hvPTX8DL3m0R3HGViz4NF0lbqZwXTby5v0yFGSkIlN91WIQ4TMTU7hBNIaMX/BtSmr16+Qt6XZBXpb0WS98IrD4/3KDWBNPY/QrAfCVlyPvtzTVc49fQbmdG0bOXYK5A4WYoCQ/rUovGbdaxVCFmvIbGnlCr0HkOMCuZmW3QILQ04nFPee/sGhdHOIT2FUPg8hJ/1r8f1oRK2HNneaejheRU5kX2VXSSkqifwj6MYOIwhP45xphEDml2fiBdWiOs0Jp4xeM4Ma1901CMz3Rxg/hkxWwy81C5m3hVR9+S1ZVFlpXMu5acWNbiF+/TFXJGYo8BPPn8SGWK8i5JvyqUYTMvVswOXwG5ixnPUP+7NgF+PsX51hfyBp9ho8XckRrpqxY1UAjiCbFxx727CPv1B49Q6R/4Ng55itzhmKQ8DJjmqVRlI96BUN63MWJ7Rmm7zG5huEZH/aZn43vLqm8DEU5JQRK27tI/zQGmfeEZzVSsefLA9V6PSVf56OAfcoc3RGs8iJqgc+17kzeyi4xz+M+ULj5tQHztXrcfD5oKxLfDYHt8JlYE6+W24rtq2fCX0hJw7bV/lc1xL8zeQXChVuFAwLfXIK4LVVhJa5fgohnHMR9w9CNjzxgfGW4OzdHa+QJPwx5eyGLQ0LV/R0J2LRiKoJ57VVffMZj/poN2L6jKszE9SsQoaMLjm/oHK3nb49fgbmhCnHXMBoiHVVh6qYXa7BuZrJauuSYNh3NlfKH6i6iNsX3+V9L2HfzltzmTDM0iiGIHOsFnDyMjWnCy4Q4h3jDmX2eOZ5cr6EqTnpsCrZsXY+lh7TnBeuEwhZy/nmzCOY9Om8acn5SD3ufUzUwbpyrGgZn14kcSUwLufNQLHtTgQ7XMlRyP15EiZV1LUPdNeGAIe8uwdwQN8hvZOEgD+tQFm7K3TAycg7CeePKQHTjU35JvCO/9megKjruCHzGC3ZlhUg/pLp/8LdCyNyDELkiGkOkTGQoIZg7jzXourEewXHxzOMXcdOqO3rqrCzxZQ2HxRMV6FpxBcek98vAhQpmWCZOw/zBhhsSc0tHs+PmXXBz6OwRIi2s0cYdz7GeJEfWtqP0ac40O6OojGSFtt0VHExIRonwMx0DMf4pVqDLL+Lk3noYtEpSsGd3hvhuCA4YPcYPfE1Ezn8faYD4mR95h7aIYe983OQet/OFm19bcFBfb7+bLUq+XYPJC2JUcrELMDkq3vBGSEA4wgKsUXJyN6bOWob1PKx1yzBzaRoKZN0xZFyoEKw7uvEpK8gSbnZpzSnmInnZLEyaFoWlYs5x/fIovHeA5Vtb1oscKcQMoZ8CPZlFKfltN+bEimfGLsbMiFlY+B8hw5GPR/jw7pBdS8PCtxYgVnq/GLw3KwWZJdZQvhQmNSwNwdzS0ez44QRO3WFGz+NZvDXaW8MwdoRi8v9BcCvqUDcvo+gzFeHPdELBT6wnVs+hzVoZGAR/1uApP/M7kprAIvm+PgcTestQnnsEGz8zYpEPUTu3s/HtZzqNlpJCgxsh/s+6swbMXZw5otNAO/sLzhQw2+HoXTUka3KycOZs9YZbHvPj72JVuTzSAPLvSgtxrLq4Qak1BMvC1IzgyF7wZLViXnoSzggviZJkZOazzy5OeEbl07CYRTq2FNKx7av/xo2H7eEzfBqWL3sXM6LexfyYDzFZ2Ql5mdkoFpLmTjMyig4Y+/rTcL6XhaTYI8LPtIwc4A05ynH6eLLwaTz49o15o1jruygLGxfGa1c2hGm5UYiD4qsx+HThC7JYz2h61TyU6pqKYN7dby+rx1Be3VHNp2nMKfLrb36q4ff6cCkJyT/dgsw1CPM3bMX2zWuxZkk0wp91EwIq/J1tpZ6Cc8hq7WezawIfapTJqrYsNCRmko4thfLjm/Hxv1Jw/MptPGjfFT6uXdG5/DqO71qHf2aojq8rvvGH9GnONB+jyFonoT4y5P2UiiIF69FJVyfRjbdCF+b2dTKmDz8ewX4sNNb6PLhPeDUW6u0b5VewZ+UyHDS0qUs0Iaxi/igOi/RdK3Y33LzwwGismhIA53ZFyDx0BFtWiWcm8dXL9YXF5R8zMDkqGUmHsnChWAbnnn4YHbkQMa/rLqC5i8wkjbhqXUnYLaRaDk2Uji2M8rP7sW3pB4iKfAd/n/4OZkcvx7YDubDx6AIblOLaRf0LccyJ5mMUHa2lFrDz0Agsen+quELgz+d1O3phAnPPn/i0JFof5K+qhoSKTqYafgiAMTCDGLNYtX1jz8IobKk8uYBoWmSQaa0ZcIBMpzScLeDbJeSw66yxb03zOp1lhIGqncC+7qz3chfpG2dh0bp47DkuntlGxpqI7O3b1L+BWHR+N3auW4b3Zr6Fse+lIq9cBo++wyqHEDPzilDOelZ2ttnV4yxdNe0lbQpkkLuKrzXQlOnYYlCOxdtRczB57BPCQxOx0KY0Dxk/Cy8zpvkYxb1JelpxKap9irfPIYm5l279RSWrge+rS7Dp8wTEzQ2pZVjJD+P7ubHicwuZBx41NKvAhCUbsP3ztZhbj1V2WtiHVu5n/HZpDBlEU8CMQr2HD9VcLGKVoAwuvhr7AHzC4O8ovgsyf8xllb81/F+IgK/wq8IN/r39xHcN5CGI5FseNq9ogFWNCkQE8XwM2HXR00A8Uiht97GyqeHQC7lDdd2dvYgC3W1F32bjQjlroAZF6Fnl6sDirWdbhqHxNkE6phdwU+bA3rOqnMoHK+Crs0CyXunY2vijFJaOTlAEv4DndVYi248Nkxba3Dh1CPVZXtjSsLDt4rZIfDcY/sOadf1RzSeffxm+1oU4sftH6F1DU3odBdcv61yu6P+SPxxxDQc3bEP67btCWE0AJk4bDt9OFpA7d4PNiX34Rd9eaNcJmPJKd8jz07H6s7TaJ4x7voppf3WDjWU7OLvaIzXlp+ryT4UhImQglE89DTdPF3S1foiyDm7wYm6lkxzprKLhJ5ZErgpHIGtgFZzMxFUbP0m+8nqiCwpqnLz2xgAp3rXoSwdD0qI2jA3HoP9/chjG+bTD1Z+/xrFHHoN5D679g+HtYo8nu7vA1Y/rsRfsbmQgpzLNlXj+r+6wK7qIf39fy4BYrj0UL/ixtOuJvjysPsMQPt4fHe49RLt2d3Hm3wdUhf9KNko8gxHox9JjSB84d/FFb5Z2gcNfwdt/C0WwTR52/ZgtBVnJi+GI7M96nW07wrOrBZIP17SgSvWu8isnq4fByJP5Y9Qz3eHWm8XZyRO+/v0xenIo+svvo6Qd0+919n/HdP/vHhz7BsOvh5MqXlxHmvksaCY+WTkRQ570h6e7PxRP8TCfw5P2Fig4/jkS0q5LoaA8A3kdAzHgL54IHBoIb2dv9nwW1sCXMGXqOLzgU15dv3WOt+nSsfyGJ/oPd4GndyD8urHy1/8l/N9RTnhYKkM7zbJTn3RUI+XRjig6uwvf/y78asFU5dAQTPLMB9k4L/dHfy8nPNGnP9y6d0Y3778gcMxrmPCXzrAo/gOJ6/ah0Mx/GYvrshkttKkPafj1vLokyWGn08JRo3zFW7UN4rc67E08zVrJ6iMd5Naqjca6KJ7GyJAg6eKrWYFO8BfukYPUm1ttIRdHIvH5ULV85TVMoT9sogayEL/uAM4UyeDxbJUeA+ulxN34x2es4i9h6cvDGuCO8iNJSDqne1REIQ4uX4B/fHkO1626I1g8c4jCFmW5WTj6U66Q0yAtF3mi5yXrYMTyjSPLsHRrFsuvDlAOZs8droBLyS+IjfoPMotY1nRU7bfVJgtbPk1Ber6GjjTzWU42MnPLYefuhyFSXALg35E1AlK2YM4n2n2AM59FYeHGNORUiOdz+X7dYVV0DscO6zEgdY63CdPxUhzWJ19EURtW/vg7PmWNC/9Zj6PVjmSpRzq2Qm7sXIe1h/NRLOsIv4Bn8fygQAR0b4/iSz9i7YpPkWX+04kSjXwgeD0P9n4Ug6ORON0BR8NnId5EkwND5m/ANPvfMWlWXBPMN/BTOcaz9nLrOBA8/V9vYWnDLDhuIhwQsXo1BtzYhklLm/evVZgWM4y3lEe7t45fyaikPWx6OMOGdT5Lr2XjRvOZQG5wuC4bt6fY0Q+RmkuiYyLEDWNwwOiB3pDzY9tMZb3kYQj2sUbeH423wb7qGCx+MYNo/gdHCKyh/JtGnqh2bFcLxGcC+riW40JaazKIDLOIt+qIucr8WNuv7JgtpSg+n428063LIKpptJ6ibY8guOhubnrET0c9EnkQxs6agAl+JSZb2SnvPR5z/xaCnrePYOGcxttPqP3TUYL7RbhQx5VxpmotGhuOQf9vr4C/s+5yi5p+OqplYPvsTCx+OwAdTm7D35enNMEoQ9NgPvHW+ekowZ28VOTU4ccETVUODaEpnmmucF0aZRTvl92HpaUlLNrwHwtsAuTMgH3ghDObYrDHRCs75WHRWOyWi42rtrWYDfYVDyukCeK2Vm2FT/0xtoA1eZ5oYpRTliCs4jCWJhxoNQaR01rjrYkpy6EhkFE0HUYbxYoKlgkqGj8TENpIhsiCGSIL4w2RsQWM8gTRWjFlOTQEMoqmg+vSqDlFnvht2rSRMgNvJRGNC9c51z1Pg8YuiDVBeYJobTTHckjUH6N6imrUvYOHDx8KH6Ix4IXQ1C1TU7U6KU8QrYWGKIeGQD1F08F1aRKjSJgPVMAIomVBZdZ0cF228M37BEEQBGE6yCgSBEEQhICMIkEQBEEIyCgSBEEQhICMIkEQBEEIyCgSBEEQhOCxrj0CaEsGQRAEQTBonyKhBe15IoiWBZVZ00H7FAmCIAhCAzKKBEEQBCEgo0gQBEEQAjKKBEEQBCEgo0gQBEEQAjKKBEEQBCEgo0gQBEEQAvqR4WZIU/5oqan2PFGeIIjqNOcfBidUujTaKJY/KJcqPktLltBtmuaXp82NiofMoDx4IBUgmaVM+DYOpihglCcIQj8NUbbJKJoOrkujhk95b4BXfm2t2lLlZ0K4LrlOuW65jlsSlCcIomZactluLRhlFPnwGO8NEA0D1y3XcUuC8gRBPJqWWLZbC0YZRd7aod5Aw8F1y3XckqA8QRCPpiWW7daCUXOKNJbd8DS2jo19HuUJgqgbpiorpi1z7dF10GiM6u8ND/tOKC/KQ07mMfxnVzpKhYQ5w3XZaEYxPGYrRrsLh5rcIxg7J144zBNj493YRsbY5xn0/6+vwM5R3YVDzRXsCYvCFuHSRoEJS6ZhtLc1ZFJn9C7S//UWlh6RbtaZ4Hc3IDLAWrgYzT4fttZ4A3J7N+DGRZQId3Oimj45t7MQ+8YyHBPO2jBV2TZdHdEefm9H423/jpKr/P4DQGYJWRv2Pe8wPl62GzekO+YL12XjGkX7c0iK3Y+zwg938pF5/qJwaKJg8jOZMZGhJG0bJi1PEf4GIg/CyNdDMDqgO7p0FCu9yu+i4Pzv2LIsDifqVdJCEbl6GJRdrCFvJ8KsYGFm/46kf8bhmE6use0RBJcOwoGnEfF+AJzJKKqQjKItMpO2YOd54ceqv8sZGSgSLk2cp6zGmuEOKDiZhl8vlTGfu8g5sAUHL6nu1xXnweEY4cErsy7oF+IF22ZuHFpnvIMQEROBkfbZdTYyjY3cKQCej1sJlxvGRobAHy3XKNqMmYOFQ51YI+S/kbh6MzJ4IWzvjeemv4GXPNqjOGMrFnyarhI2U7guG3nzfhkKMlKRqb70GkQHDHmXtYqZQTSagIEYP9gN8tJCpB9KxbcpqTh2vhx2PYMwd000goWYYTjA2R64eSZLCo9fB0+WSGFGrojGELkQExSd14hvRgnKhT9RRfkNTR3pN4icIV4OTPgiDixag/iEOHYZbhg4eYe2iP/Px03h15xpnfG2RVf7xt2OZCgl+Wka+fZWCy/bT+CFACfIWF/w2GZhEDml2fhh3ffIKGVG0y8YwY3XPm8yGtkoPhrf1+dgSoA1inILjR8yKcrG7tgFmDQtCkvX8cogDrELFiPpJMu+tn4YGSbkDCIec8JnYOZHMaKCicP6j2Zh5fFbqjBfFmKE6eFDh/dKUKBytR5aa7yJxqNnAHxsWdsrJx3f5Ag/NaWHse+P24DMGYpBws+MaV5GsVs4wod2l+Y6Vu4tFJ5GkJGMnT/q9kYLsYcZXI6zV4j0aQoKSviwFmFyBkYjMXkrdrJLmpvt6IdI4d6ZvAHzB6rEOMpXoxGzfgO27xD3dyQgcU00xvZmPa16o8Dod1cjcZv6mVuxffNaxEzRk3d8xmPuao3nb9uANbPHw1fcNggD4o2nwjF/xVqdd1yN+S8HQWfgwgAcEPjmCmz6vCrMnZ+z+MwdD2chUYkp482H1KXnjYeST21pxXsrYl5Xianh0zI7N0cj2D4U09g7qOV2fr4a0xRCCBGIYX6J7+qkmXiWbpi+oXOwJj6hMqzt8SswN7QyMPOkV1fYs48/r/yqt8ebl3MNpbBENzel8DFfmpdRvLYF67enYOPCeJwRXg2Bv62qqrhZ8Iv0aRT2CgSOmoO5A1nFe+8ijn8p/AnTkJOB78QwdSafr713BSeEm18nNFq1/gF+8LAqwenj4v7xKyi398OE+XMQ7iOEDCR47jSEB7C0vZQhnpmB08UyeHjpLBDyYRXv4hAEOpbjgng+H6rv2i8E81hlbLBxMiDeUPhB6S7Dzayqd7xQZgvlhAgsfr1+lbnzxDmIDOkOedE5HJTCTEN6fjnsvNzhIWQkTB3vjF8q45B3j7l14n00QyWmRUcnTFgchgHyQhwT/3umBJCzno+h+DJDuXiiAl0rrlSGdaGCNRAmTsP8wcY0rpo3PvY20ufd0uvSZzWKSiVjadPJReU2Y5rd8Gne19twsCGXmsnDMPapTkD5FaQfMKI3qm7Jb2AGkVU8HS4dwfqZC7CzOS6Ta8lcSkGSGKbOuc3c5UU4Idy6c2snPo3B2IhZWBQr7scuwOSt51Ai647AkCAhZQhDEehrLa0o3BilHi6PwaKZb2HSh7uFDMcBY18PgoesEAcXzsB74vnqoXrbgKEY7ypE64oB8UZqEt4b95bGkH4M3ntrNzJLmPHuOwz+QswQhvTuDhmu4NsZi7FeCnMNlkbNwKRZ8ahaatEA8f4tWcQhCwW8FtaKdxz2/KYS06YT7O4dwcK3FiBWkuPxX4b1aeJ2XZGPR/hwFu9radphzUphurSG8qWw6r1kc6ENP3CjFDfyVc5qpP+pWnna7CyG6WkFUdREgXDWqvWXlyNnXxK21GOxQiVpu7H0ozgs+uQADmYUQt5jIKbMi6jfkBFhEs6c1dON2JcvzcXJ29Wj28CMQgnvrbRzgP9TbiovQUmJZoNqKPp4yJghy8aWyqXVnELsOcl6q8x4ePYVXg0Bi3f1kZXdyOGv2F6G+sT8Zim3SLbwCPHT7u2xeFe1+5o43pXcReY3uqNL7D0NbaCO7AVPFp289CTtsEqSkcmNRRcnPKPyMVNkkFWulNehezvobD4xW1qRUaxa1VqUloyFn+kbhzGAkiyc4avODmyRFtosZL1OGTOM06b4CQGisZH3Dsei9RrzStI1UHu4zyCysGVnForasLwzf4k0Vxa3egnmTxyqbWgUTrDjCyVdgyrnASuvV91YVQNY1VTZmAJ5ECa8vxaJ6jk9cVXbH2sAe5JSkXPPGv5vRrNwE7BpzQosmh7GGpRCgNPU8a6kCHmHxFcj8He2ld7ZOWS1dlzYNYEPv8tkaJToNAE5N4rZX0vY2Knc1XDuBL7wtPhWDcOrZkSrMYrqVa3lfBHP8hSTbwY+c/yK1CNx9qrPMB1hNK4RWDx/KPztWQH/MRVJn7BePO/Jf5SGPCFSH0oOLcPkaTFYvz0N6edLYOXkBmVoOD6JqT4qUJKRIp5Z/Vq3VwiZHD+EfxCBsYpOQG4Gvt2eXPnMgzUNhdWFs/GY89Yy/OOzIzh2shBltt3hPzgUi9ZU33bUNPFuKFivM0l/XBZ9lMT63+ZJOTOK/MQa+66BKg8dZG6dwWcdS4t0l6aaH63CKEqT5/zkFGYQF85p2EU80vJ5ovEZ6A0+kpfz7QLMiY3DzgNi/xhr+0vbq41JlxsZOJi8BksXzMLkcTH49hKrJNyfxEj1GpaMfNwsZx02O1tcqNy3pn3lNNhRIEHw78EizvL2VD7vmbxbPJP10ni3h6HeXm4wJVk48XU8Yj+KwtTwWVj/211p29GQkeJ+k8bbcKzaaQ8AytsIBQky84pQDmvY2WbrjUtte2hbPMdzcZmlpY3TE3rmTdsj0I2vTb2NC5nUU2z2+L66BJs+T0DcXP0r3WyHR2OeZBBTsbROq1r5kVobsP3ztZirb7WZj0LPvKEDAoe6owv7VpCXpfIimgEOGDLKW0oXuZ3ucXKcXFzntZy1bQ2LURwgr5apMlhFz4yDFgdwkjegXZ9EpJ48I+8dpCfPPCKfGYl88EAoecQ72uqp5B4Vb/b/ct13KsSJq7rjK/WJ96PLrIoylIlfVqq3Ua/kCm7ybXaO7qjaUKDAeN2tOt9m4wIzDM5BEdV6wzwv+Pc2420ZpYdwIof1FVmjZ8Ir2uPusn4TMdzDkmWBU/g+U3iaMRa2XdwWie8Gw38ss64/lPnk8y/D15oVrN0/oub1LawVOiEMQ55+Gsoe3eDt0hEWDx7C1kkB5VO9YMda7Dm3hKhEACZOGw7fThaQO3eDzYl9+EXzvmIm/vmOAvYVt5D1SyFs/Fi4T1VdPW3vIlPsWayk56uY9lc32Fi2g7OrPVJTfgIfba/kxVn4NPoV9H+iJ5y9+Hv1x8iJ4xDWuyNQlIUtS7chh69R0IsSz//VHXZFF/Hv7+t2XJIhOjYFxj7PoP9/chjG+bTD1Z+/xjF9hxvpUGseKnJH3+fc4eEViCdd3ODB0nrAqxMQ5s1ulcvQ7u4VfLMvTWcP1gVY+I1AoHc3+Pm6w9FLydKTVQi/ZeGqdH8Q5sV9gNeH9GG9MV/4+j+NwFET8PKTtrC4dhIbNv8kzoJk+eiyPfoO8Ibf08Ho79UDzj48rEEImxKBKS+4oOTfB5g51eBR+UyD2svOPTj2DYavuxMG/4U1ANxZnhz4CqaPcUF58UO0a1eOC9/sQ7pWxB8Vb2DCsg2Y/VIgFN7e8OLlhoc5qBusSs/hmzVHcEYKrx7xflSZreQCOilehJLpxq3yHZ9mBj4NZ64JEYakG9vbOFPtOZpko8NfWFge3dGnTw/Yuz7NymwI+tmU42E7GYrP7sL3vzOx8gzkdQzEgL94skZuILydvaU0Vw58CVOmjsMLPuW1lFtvDHjJH4688VBrHVeFqcq2acJ5gCuXO6BnP0+49QhA357d0JHF329AKMKHuaMD6yUeT16Ln40Zkm8BcF02s56iOwKHBWFkCLv68SXhrJXiqlC52RVYbcVEGn49ry5Rctjp3re1VrVELTrBf7gIV+Ma8YyelQinWWtRPeQjt66+SCMnVyqUXX3V7xUApSPrIZ5ORWzUsobdTkLUzKV4LIxNRU5JJ/g+q0pfZbtcJC1dgKPSysEuGKKS1OLYv/6Db8+Xo4siQKTn0xq9p1xknryCMpvuUA5WhTmktxw3WVr/I2qN9qgDn4NbmIyDuSxvPKUOSwFPqyJk/vgLqjWwH5XP6gxriC3cIsXBtqfIk0/JcGZHPP5+hDf4WE9xsEpSk9rjDRbvc7hp5cAqSVW8R/ZzQHl+Bmv0LcYezTxuaLwfVWY1+HZ1Mo7la75jEAbUs7OmDkveg+soAJ7lvyP2i1zWH9XmzGdRWLgxDTkVDpVpzusiq6JzOHY4W0iZKVd2Y+36/cgqtoR9D9aAH/QsnvPvival13F8+z+w7WchZ+Y08oHgdT8s1yAGRyNxugOOhs9CvImM0pD5GzDN/ndMmhVnwkU5/GSNgfAw4CBmUx32W1eMfZ5B/y8OBK/PLz6YCw2Tz1oADVBmm5YQzN88HsoWfCC4JrKu7ujKlxbfvYa8S3yjbOuA67Jxe4o6RzbtjIkQN4zBAaMHekOen43vTFW45GEI9rFG3h9HjK6opGOoKuNszPYAc8Uayr9p6mgFwsUds8eE+axl0QBltgngPx1VlW/FsXRmQvn1XOSdzm5VBlFNo/UUtX9CSVDjT0fVEXkQxs6agAl+JdizMEpnA3H9kPcej7l/C0HP26ZZqWpsvBuiFVgbxj7PoP+3V8DfWXdFQ80/HWVOmDqftRgaoMw2Fdo/HSW4X4QLp7Pq1MgxVdlu7DrCnOG6NMoo3i+7D0tLS1i0aaJ9CHJWsXzghDObYrDHRIVLHhaNxW652LhqW5NXVBUPK6SJ37ZWbYVPw2NsAWvyPNFCaE75rFFpgDLbEjFl2SajaDqMNooVFSxhKxq30m5NSAbGghkYi8YzMMYWMMoTBPFoTFm2ySiaDq5Lo+YUeYK2adNGSmDe8iFMA9cl1ynXbWMaRFNAeYIgaqYll+3WglE9RTXq3sHDhw+FD2EMvMA0dg9RjalanZQnCKI6DVG2qadoOrguTWIUCfOBChhBtCyozJoOrstWcfYpQRAEQdQFMooEQRAEISCjSBAEQRACMooEQRAEISCjSBAEQRACMooEQRAEIXisa48A2pJBEARBEIzHfJ4ZTkaRIAiCIBg0fEoQBEEQEsD/B2GWyW5wqU31AAAAAElFTkSuQmCC)\n",
        "\n",
        "## 입출력 예 설명\n",
        "###입출력 예 #1\n",
        "\n",
        "- signs가 [true,false,true] 이므로, 실제 수들의 값은 각각 4, -7, 12입니다.\n",
        "- 따라서 세 수의 합인 9를 return 해야 합니다.\n",
        "###입출력 예 #2\n",
        "\n",
        "- signs가 [false,false,true] 이므로, 실제 수들의 값은 각각 -1, -2, 3입니다.\n",
        "- 따라서 세 수의 합인 0을 return 해야 합니다."
      ],
      "metadata": {
        "id": "euEbcFBYRwVN"
      }
    },
    {
      "cell_type": "markdown",
      "source": [
        "## 첫 번째 방법\n",
        "1. absolutes의 크기만큼 반복하는 반복문으로 signs를 하나하나 탐색해 True면 answer에 absolutes[i]를 더함.\n",
        "2. False면 answer에 absolutes[i]를 빼고 answer을 return.\n",
        "\n",
        "결과 : 성공"
      ],
      "metadata": {
        "id": "G1CPwnIaTTY6"
      }
    },
    {
      "cell_type": "code",
      "execution_count": 8,
      "metadata": {
        "colab": {
          "base_uri": "https://localhost:8080/"
        },
        "id": "4vDWRyxJRtof",
        "outputId": "2ce2d994-08ec-4e0c-c43a-ee4442c26d8f"
      },
      "outputs": [
        {
          "output_type": "execute_result",
          "data": {
            "text/plain": [
              "0"
            ]
          },
          "metadata": {},
          "execution_count": 8
        }
      ],
      "source": [
        "def solution(absolutes, signs):\n",
        "    answer = 0\n",
        "    for i in range(len(absolutes)):\n",
        "        if signs[i]:\n",
        "            answer += absolutes[i]\n",
        "        else:\n",
        "            answer -= absolutes[i]\n",
        "    return answer\n",
        "\n",
        "solution([1,2,3], [False,False,True])"
      ]
    }
  ]
}