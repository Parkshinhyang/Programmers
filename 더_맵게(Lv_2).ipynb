{
  "nbformat": 4,
  "nbformat_minor": 0,
  "metadata": {
    "colab": {
      "provenance": [],
      "authorship_tag": "ABX9TyPo+DQgEaQN1jdgNvD3y1iG",
      "include_colab_link": true
    },
    "kernelspec": {
      "name": "python3",
      "display_name": "Python 3"
    },
    "language_info": {
      "name": "python"
    }
  },
  "cells": [
    {
      "cell_type": "markdown",
      "metadata": {
        "id": "view-in-github",
        "colab_type": "text"
      },
      "source": [
        "<a href=\"https://colab.research.google.com/github/Parkshinhyang/Programmers/blob/main/%EB%8D%94_%EB%A7%B5%EA%B2%8C(Lv_2).ipynb\" target=\"_parent\"><img src=\"https://colab.research.google.com/assets/colab-badge.svg\" alt=\"Open In Colab\"/></a>"
      ]
    },
    {
      "cell_type": "markdown",
      "source": [
        "# 문제 - 더 맵게\n",
        "[문제 링크](https://school.programmers.co.kr/learn/courses/30/lessons/42626)\n",
        "\n",
        "## 문제 설명\n",
        "\n",
        "매운 것을 좋아하는 Leo는 모든 음식의 스코빌 지수를 K 이상으로 만들고 싶습니다. 모든 음식의 스코빌 지수를 K 이상으로 만들기 위해 Leo는 스코빌 지수가 가장 낮은 두 개의 음식을 아래와 같이 특별한 방법으로 섞어 새로운 음식을 만듭니다.\n",
        "\n",
        "    섞은 음식의 스코빌 지수 = 가장 맵지 않은 음식의 스코빌 지수 + (두 번째로 맵지 않은 음식의 스코빌 지수 * 2)\n",
        "\n",
        "Leo는 모든 음식의 스코빌 지수가 K 이상이 될 때까지 반복하여 섞습니다.\n",
        "Leo가 가진 음식의 스코빌 지수를 담은 배열 scoville과 원하는 스코빌 지수 K가 주어질 때, 모든 음식의 스코빌 지수를 K 이상으로 만들기 위해 섞어야 하는 최소 횟수를 return 하도록 solution 함수를 작성해주세요.\n",
        "\n",
        "## 제한 사항\n",
        "\n",
        "- scoville의 길이는 2 이상 1,000,000 이하입니다.\n",
        "- K는 0 이상 1,000,000,000 이하입니다.\n",
        "- scoville의 원소는 각각 0 이상 1,000,000 이하입니다.\n",
        "- 모든 음식의 스코빌 지수를 K 이상으로 만들 수 없는 경우에는 -1을 return 합니다.\n",
        "\n",
        "## 입출력 예\n",
        "\n",
        "![image.png](data:image/png;base64,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)\n",
        "\n",
        "1. 스코빌 지수가 1인 음식과 2인 음식을 섞으면 음식의 스코빌 지수가 아래와 같이 됩니다.\n",
        "\n",
        "- 새로운 음식의 스코빌 지수 = 1 + (2 * 2) = 5\n",
        "\n",
        "- 가진 음식의 스코빌 지수 = [5, 3, 9, 10, 12]\n",
        "\n",
        "2. 스코빌 지수가 3인 음식과 5인 음식을 섞으면 음식의 스코빌 지수가 아래와 같이 됩니다.\n",
        "\n",
        "- 새로운 음식의 스코빌 지수 = 3 + (5 * 2) = 13\n",
        "\n",
        "- 가진 음식의 스코빌 지수 = [13, 9, 10, 12]\n",
        "\n",
        "모든 음식의 스코빌 지수가 7 이상이 되었고 이때 섞은 횟수는 2회입니다."
      ],
      "metadata": {
        "id": "ZyoChi3oaWif"
      }
    },
    {
      "cell_type": "markdown",
      "source": [
        "## 첫 번째 방법\n",
        "\n",
        "1. scoville을 정렬한 후 heapq 형태로 정렬.\n",
        "2. scoville[0]이 K보다 크거나 같으면 0을 return.\n",
        "3. scoville[0]이 K보다 작을 때 반복하는 while문으로 scoville[0] + scoville[1] * 2한 값을 scoville에 heappush하고 answer을 카운트.\n",
        "4. answer을 return.\n",
        "\n",
        "결과 : 성공"
      ],
      "metadata": {
        "id": "i97Z17Rig00F"
      }
    },
    {
      "cell_type": "code",
      "execution_count": 15,
      "metadata": {
        "colab": {
          "base_uri": "https://localhost:8080/"
        },
        "id": "MWbD6uT0aSAs",
        "outputId": "8fe124a3-c157-4ecd-c17d-a9e72e480430"
      },
      "outputs": [
        {
          "output_type": "execute_result",
          "data": {
            "text/plain": [
              "2"
            ]
          },
          "metadata": {},
          "execution_count": 15
        }
      ],
      "source": [
        "import heapq\n",
        "\n",
        "def solution(scoville, K):\n",
        "    answer = 0\n",
        "    scoville = sorted(scoville, reverse = False)\n",
        "    heapq.heapify(scoville)\n",
        "\n",
        "    if scoville[0] >= K:\n",
        "        return answer\n",
        "        \n",
        "    while scoville[0] < K:\n",
        "        if len(scoville) == 1:\n",
        "            return -1\n",
        "        heapq.heappush(scoville, heapq.heappop(scoville) + heapq.heappop(scoville) * 2)\n",
        "        answer += 1\n",
        "    return answer\n",
        "solution([1, 2, 3, 9, 10, 12], 7)"
      ]
    }
  ]
}