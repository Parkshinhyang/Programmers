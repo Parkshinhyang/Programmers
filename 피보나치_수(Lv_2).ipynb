{
  "nbformat": 4,
  "nbformat_minor": 0,
  "metadata": {
    "colab": {
      "provenance": [],
      "authorship_tag": "ABX9TyMCFHUW2Sg74dg+qlibQSPQ",
      "include_colab_link": true
    },
    "kernelspec": {
      "name": "python3",
      "display_name": "Python 3"
    },
    "language_info": {
      "name": "python"
    }
  },
  "cells": [
    {
      "cell_type": "markdown",
      "metadata": {
        "id": "view-in-github",
        "colab_type": "text"
      },
      "source": [
        "<a href=\"https://colab.research.google.com/github/Parkshinhyang/Programmers/blob/main/%ED%94%BC%EB%B3%B4%EB%82%98%EC%B9%98_%EC%88%98(Lv_2).ipynb\" target=\"_parent\"><img src=\"https://colab.research.google.com/assets/colab-badge.svg\" alt=\"Open In Colab\"/></a>"
      ]
    },
    {
      "cell_type": "markdown",
      "source": [
        "# 문제 - 피보나치 수\n",
        "\n",
        "[문제 링크](https://school.programmers.co.kr/learn/courses/30/lessons/12945)\n",
        "\n",
        "## 문제 설명\n",
        "\n",
        "피보나치 수는 F(0) = 0, F(1) = 1일 때, 1 이상의 n에 대하여 F(n) = F(n-1) + F(n-2) 가 적용되는 수 입니다.\n",
        "\n",
        "예를들어\n",
        "\n",
        "- F(2) = F(0) + F(1) = 0 + 1 = 1\n",
        "- F(3) = F(1) + F(2) = 1 + 1 = 2\n",
        "- F(4) = F(2) + F(3) = 1 + 2 = 3\n",
        "- F(5) = F(3) + F(4) = 2 + 3 = 5\n",
        "\n",
        "와 같이 이어집니다.\n",
        "\n",
        "2 이상의 n이 입력되었을 때, n번째 피보나치 수를 1234567으로 나눈 나머지를 리턴하는 함수, solution을 완성해 주세요.\n",
        "\n",
        "## 제한 사항\n",
        "\n",
        "- n은 2 이상 100,000 이하인 자연수입니다.\n",
        "\n",
        "## 입출력 예\n",
        "\n",
        "![image.png](data:image/png;base64,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)\n",
        "\n",
        "## 입출력 예 설명\n",
        "\n",
        "피보나치수는 0번째부터 0, 1, 1, 2, 3, 5, ... 와 같이 이어집니다."
      ],
      "metadata": {
        "id": "q-bFvVgNNzD8"
      }
    },
    {
      "cell_type": "markdown",
      "source": [
        "## 첫 번째 방법\n",
        "\n",
        "1. 만약 n이 3봐 작으면 1을 return.\n",
        "2. 아니라면 재귀함수를 사용해 n - 2와 n - 1을 매개변수로 입력받은 solution함수 값을 더한 값에 1234567을 나눈 나머지를 return.\n",
        "\n",
        "결과 : 실패\n",
        "\n",
        "-> 시간 초과\n",
        "\n",
        "보다 효율적으로 구현하기 위해 재귀함수를 사용x"
      ],
      "metadata": {
        "id": "_S3gsmQveMPD"
      }
    },
    {
      "cell_type": "code",
      "source": [
        "def solution(n):\n",
        "\n",
        "    if n < 3:\n",
        "        return 1\n",
        "    else:\n",
        "        return (solution(n - 2) % 1234567) + (solution(n - 1) % 1234567) \n",
        "solution(6)"
      ],
      "metadata": {
        "colab": {
          "base_uri": "https://localhost:8080/"
        },
        "id": "fbm5o1ohdwhS",
        "outputId": "d9e3b129-b709-4aa9-8c0d-09293a0f2574"
      },
      "execution_count": 29,
      "outputs": [
        {
          "output_type": "execute_result",
          "data": {
            "text/plain": [
              "8"
            ]
          },
          "metadata": {},
          "execution_count": 29
        }
      ]
    },
    {
      "cell_type": "markdown",
      "source": [
        "## 두 번째 방법\n",
        "\n",
        "1. a와 b를 1로 초기화.\n",
        "2. n만큼 반복하는 반복문으로 answer에 a를 append하고 a, b = b, a + b로 스왑.\n",
        "3. answer의 맨 끝 원소를 1234567로 나눈 나머지를 return.\n",
        "\n",
        "결과 : 성공"
      ],
      "metadata": {
        "id": "wVrbQl-8e0G1"
      }
    },
    {
      "cell_type": "code",
      "execution_count": 24,
      "metadata": {
        "colab": {
          "base_uri": "https://localhost:8080/"
        },
        "id": "VH7DRrAWNt_P",
        "outputId": "a40b482e-aeae-4c97-f881-970db40b9209"
      },
      "outputs": [
        {
          "output_type": "execute_result",
          "data": {
            "text/plain": [
              "5"
            ]
          },
          "metadata": {},
          "execution_count": 24
        }
      ],
      "source": [
        "def solution(n):\n",
        "\n",
        "    a, b, answer = 1, 1, []\n",
        "\n",
        "    for i in range(n):\n",
        "        answer.append(a)\n",
        "        a, b = b, a + b\n",
        "    return answer[-1] % 1234567\n",
        "solution(5)"
      ]
    }
  ]
}