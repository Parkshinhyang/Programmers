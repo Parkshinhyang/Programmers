{
  "nbformat": 4,
  "nbformat_minor": 0,
  "metadata": {
    "colab": {
      "provenance": [],
      "authorship_tag": "ABX9TyNYKRXbXa46174jkotb/CSW",
      "include_colab_link": true
    },
    "kernelspec": {
      "name": "python3",
      "display_name": "Python 3"
    },
    "language_info": {
      "name": "python"
    }
  },
  "cells": [
    {
      "cell_type": "markdown",
      "metadata": {
        "id": "view-in-github",
        "colab_type": "text"
      },
      "source": [
        "<a href=\"https://colab.research.google.com/github/Parkshinhyang/Programmers/blob/main/%ED%83%80%EA%B2%9F_%EB%84%98%EB%B2%84(Lv_2).ipynb\" target=\"_parent\"><img src=\"https://colab.research.google.com/assets/colab-badge.svg\" alt=\"Open In Colab\"/></a>"
      ]
    },
    {
      "cell_type": "markdown",
      "source": [
        "# 문제 - 타겟 넘버\n",
        "[문제 링크](https://school.programmers.co.kr/learn/courses/30/lessons/43165)\n",
        "\n",
        "## 문제 설명\n",
        "\n",
        "n개의 음이 아닌 정수들이 있습니다. 이 정수들을 순서를 바꾸지 않고 적절히 더하거나 빼서 타겟 넘버를 만들려고 합니다. 예를 들어 [1, 1, 1, 1, 1]로 숫자 3을 만들려면 다음 다섯 방법을 쓸 수 있습니다.\n",
        "\n",
        "![image.png](data:image/png;base64,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)\n",
        "\n",
        "사용할 수 있는 숫자가 담긴 배열 numbers, 타겟 넘버 target이 매개변수로 주어질 때 숫자를 적절히 더하고 빼서 타겟 넘버를 만드는 방법의 수를 return 하도록 solution 함수를 작성해주세요.\n",
        "\n",
        "## 제한사항\n",
        "\n",
        "- 주어지는 숫자의 개수는 2개 이상 20개 이하입니다.\n",
        "- 각 숫자는 1 이상 50 이하인 자연수입니다.\n",
        "- 타겟 넘버는 1 이상 1000 이하인 자연수입니다.\n",
        "\n",
        "## 입출력 예\n",
        "\n",
        "![image.png](data:image/png;base64,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)\n",
        "\n",
        "## 입출력 예 설명\n",
        "\n",
        "### 입출력 예 #1\n",
        "\n",
        "문제 예시와 같습니다.\n",
        "\n",
        "### 입출력 예 #2\n",
        "\n",
        "![image.png](data:image/png;base64,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)\n",
        "\n",
        "- 총 2가지 방법이 있으므로, 2를 return 합니다."
      ],
      "metadata": {
        "id": "SmngopN3YBqs"
      }
    },
    {
      "cell_type": "markdown",
      "source": [
        "## 첫 번째 방법\n",
        "\n",
        "1. \"+\"와 \"-\"를 numbers의 길이만큼 각각 곱해 더한 배열 sign을 선언하고 순열 모듈을 활용해 numbers의 길이만큼 조합한 걸 signs에 저장.\n",
        "2. signs의 배열을 순회해 부호에 맞게 값을 더하고 그 값이 target 값과 일치하면 answer을 카운트한 뒤 answer을 return.\n",
        "\n",
        "결과 : 실패\n",
        "\n",
        "-> 시간 초과\n",
        "\n",
        "이중 for문 사용을 최대한 피해야 함."
      ],
      "metadata": {
        "id": "QDOK27tSb0x7"
      }
    },
    {
      "cell_type": "code",
      "execution_count": null,
      "metadata": {
        "colab": {
          "base_uri": "https://localhost:8080/"
        },
        "id": "Hpt459IxX_5z",
        "outputId": "c74ef72b-6a19-400a-b308-084e746b6bda"
      },
      "outputs": [
        {
          "output_type": "execute_result",
          "data": {
            "text/plain": [
              "5"
            ]
          },
          "metadata": {},
          "execution_count": 16
        }
      ],
      "source": [
        "from itertools import permutations as pe\n",
        "\n",
        "def solution(numbers, target):\n",
        "    answer = 0\n",
        "    sign = [\"+\"] * len(numbers) + [\"-\"]  * len(numbers)\n",
        "    signs = set(pe(sign, len(numbers)))\n",
        "\n",
        "    for i in signs:\n",
        "        number = 0\n",
        "        for j in range(len(i)):\n",
        "            if i[j] == \"+\":\n",
        "                number += numbers[j]\n",
        "            else:\n",
        "                number -= numbers[j]\n",
        "        if number == target:\n",
        "            answer += 1\n",
        "    return answer\n",
        "solution([1, 1, 1, 1, 1], 3)"
      ]
    },
    {
      "cell_type": "markdown",
      "source": [
        "## 두 번째 방법\n",
        "\n",
        "1. queue에 index를 나타내는 i와 넘버를 나타내는 a를 넣음.\n",
        "2. i가 number의 길이가 될 때까지 queue에 1을 더하고 뺀 값을 따로 구반해 queue에 삽입.\n",
        "3. i가 numbers의 길이가 되면 최종적으로 더하고 뺀 값이 target과 일치하는지 확인해 일치하면 answer을 카운트.\n",
        "\n",
        "결과 : 성공"
      ],
      "metadata": {
        "id": "t8z78QQkl2ih"
      }
    },
    {
      "cell_type": "code",
      "source": [
        "from collections import deque\n",
        "\n",
        "def solution(numbers, target):\n",
        "    answer = 0\n",
        "\n",
        "    queue = deque()\n",
        "    queue.append([0, 0])\n",
        "\n",
        "    while queue:\n",
        "        i, a = queue.popleft()\n",
        "\n",
        "        if i < len(numbers):\n",
        "            queue.append([i + 1, a + numbers[i]])\n",
        "            queue.append([i + 1, a - numbers[i]])\n",
        "\n",
        "        if i == len(numbers) and a == target:\n",
        "            answer += 1\n",
        "    return answer\n",
        "\n",
        "solution([1, 1, 1, 1, 1], 3)"
      ],
      "metadata": {
        "colab": {
          "base_uri": "https://localhost:8080/"
        },
        "id": "oodm76sQisfx",
        "outputId": "839c133b-2cd2-4438-99cc-c2507474ada3"
      },
      "execution_count": 2,
      "outputs": [
        {
          "output_type": "execute_result",
          "data": {
            "text/plain": [
              "5"
            ]
          },
          "metadata": {},
          "execution_count": 2
        }
      ]
    }
  ]
}