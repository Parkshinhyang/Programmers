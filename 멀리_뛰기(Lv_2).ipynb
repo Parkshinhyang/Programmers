{
  "nbformat": 4,
  "nbformat_minor": 0,
  "metadata": {
    "colab": {
      "provenance": [],
      "authorship_tag": "ABX9TyOR/0EArDRJshI6kAPEzwjQ",
      "include_colab_link": true
    },
    "kernelspec": {
      "name": "python3",
      "display_name": "Python 3"
    },
    "language_info": {
      "name": "python"
    }
  },
  "cells": [
    {
      "cell_type": "markdown",
      "metadata": {
        "id": "view-in-github",
        "colab_type": "text"
      },
      "source": [
        "<a href=\"https://colab.research.google.com/github/Parkshinhyang/Programmers/blob/main/%EB%A9%80%EB%A6%AC_%EB%9B%B0%EA%B8%B0(Lv_2).ipynb\" target=\"_parent\"><img src=\"https://colab.research.google.com/assets/colab-badge.svg\" alt=\"Open In Colab\"/></a>"
      ]
    },
    {
      "cell_type": "markdown",
      "source": [
        "# 문제 - 멀리 뛰기\n",
        "https://school.programmers.co.kr/learn/courses/30/lessons/12914\n",
        "\n",
        "## 문제 설명\n",
        "\n",
        "효진이는 멀리 뛰기를 연습하고 있습니다. 효진이는 한번에 1칸, 또는 2칸을 뛸 수 있습니다. 칸이 총 4개 있을 때, 효진이는\n",
        "(1칸, 1칸, 1칸, 1칸)\n",
        "(1칸, 2칸, 1칸)\n",
        "(1칸, 1칸, 2칸)\n",
        "(2칸, 1칸, 1칸)\n",
        "(2칸, 2칸)\n",
        "의 5가지 방법으로 맨 끝 칸에 도달할 수 있습니다. 멀리뛰기에 사용될 칸의 수 n이 주어질 때, 효진이가 끝에 도달하는 방법이 몇 가지인지 알아내, 여기에 1234567를 나눈 나머지를 리턴하는 함수, solution을 완성하세요. 예를 들어 4가 입력된다면, 5를 return하면 됩니다.\n",
        "\n",
        "## 제한사항\n",
        "\n",
        "- n은 1 이상, 2000 이하인 정수입니다.\n",
        "\n",
        "## 입출력 예\n",
        "\n",
        "![image.png](data:image/png;base64,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)\n",
        "\n",
        "##입출력 예 설명\n",
        "\n",
        "### 입출력 예 #1\n",
        "위에서 설명한 내용과 같습니다.\n",
        "\n",
        "### 입출력 예 #2\n",
        "(2칸, 1칸)\n",
        "\n",
        "(1칸, 2칸)\n",
        "\n",
        "(1칸, 1칸, 1칸)\n",
        "\n",
        "총 3가지 방법으로 멀리 뛸 수 있습니다."
      ],
      "metadata": {
        "id": "L-KbbeoIlkR9"
      }
    },
    {
      "cell_type": "markdown",
      "source": [
        "## 첫 번째 방법\n",
        "\n",
        "1. num에 n의 크기만큼 0으로 초기화.\n",
        "2. 입력받은 n에 따라 뛸 수 있는 방법의 규칙성을 찾음. ex) 3 -> 3, 4 -> 5, 5 -> 8\n",
        "3. 위 규칙에 의거해 n이 2보다 작을 땐 규칙성이 필요가 없으므로 n을 return.\n",
        "4.  num의 첫 번째와 두 번쨰 원소를 각각 0, 1로 초기화.\n",
        "5. 2부터 n만큼 반복하는 반복문으로 num[i]에 num[i - 1]와 num[i - 2]를 합한 값에 % 1234567을 한 값을 저장후 num[-1]을 return.\n",
        "\n",
        "결과 : 성공"
      ],
      "metadata": {
        "id": "Lm2XX5tkuQ6y"
      }
    },
    {
      "cell_type": "code",
      "execution_count": 14,
      "metadata": {
        "colab": {
          "base_uri": "https://localhost:8080/"
        },
        "id": "57omxbDvlgOz",
        "outputId": "a0921996-2322-480a-a909-ed9f2ed22c03"
      },
      "outputs": [
        {
          "output_type": "execute_result",
          "data": {
            "text/plain": [
              "2"
            ]
          },
          "metadata": {},
          "execution_count": 14
        }
      ],
      "source": [
        "def solution(n):\n",
        "    num = [0 for _ in range(n)]\n",
        "\n",
        "    if n < 2:\n",
        "        return n\n",
        "    \n",
        "    num[0] = 1\n",
        "    num[1] = 2\n",
        "\n",
        "    for i in range(2, n):\n",
        "        num[i] = (num[i - 1] + num[i - 2]) % 1234567\n",
        "\n",
        "    return num[-1]\n",
        "\n",
        "solution(2)"
      ]
    }
  ]
}