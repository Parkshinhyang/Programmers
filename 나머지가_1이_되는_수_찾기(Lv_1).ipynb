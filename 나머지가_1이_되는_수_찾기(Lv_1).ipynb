{
  "nbformat": 4,
  "nbformat_minor": 0,
  "metadata": {
    "colab": {
      "provenance": [],
      "authorship_tag": "ABX9TyMsD/MeFM3WMTbvNiY8Ykkj",
      "include_colab_link": true
    },
    "kernelspec": {
      "name": "python3",
      "display_name": "Python 3"
    },
    "language_info": {
      "name": "python"
    }
  },
  "cells": [
    {
      "cell_type": "markdown",
      "metadata": {
        "id": "view-in-github",
        "colab_type": "text"
      },
      "source": [
        "<a href=\"https://colab.research.google.com/github/Parkshinhyang/Programmers/blob/main/%EB%82%98%EB%A8%B8%EC%A7%80%EA%B0%80_1%EC%9D%B4_%EB%90%98%EB%8A%94_%EC%88%98_%EC%B0%BE%EA%B8%B0(Lv_1).ipynb\" target=\"_parent\"><img src=\"https://colab.research.google.com/assets/colab-badge.svg\" alt=\"Open In Colab\"/></a>"
      ]
    },
    {
      "cell_type": "markdown",
      "source": [
        "## 첫 번째 방법 \n",
        "1. 1부터 n보다 작은 수로 n을 나눴을 때 그 값이 1이면 num에 저장.\n",
        "2. num에서 가장 작은 값을 출력\n",
        "\n",
        "결과 : 성공\n"
      ],
      "metadata": {
        "id": "l-KfqxhPokY6"
      }
    },
    {
      "cell_type": "code",
      "execution_count": 11,
      "metadata": {
        "colab": {
          "base_uri": "https://localhost:8080/"
        },
        "id": "y6Z1Mt-Lk-zF",
        "outputId": "aeb108b4-777d-4745-8a2c-2e7d0ad2128a"
      },
      "outputs": [
        {
          "output_type": "execute_result",
          "data": {
            "text/plain": [
              "3"
            ]
          },
          "metadata": {},
          "execution_count": 11
        }
      ],
      "source": [
        "def solution(n):\n",
        "    num = []\n",
        "    for i in range(1, n):\n",
        "        if n % i == 1:\n",
        "            num.append(i)\n",
        "    return min(num)\n",
        "\n",
        "solution(10)"
      ]
    }
  ]
}