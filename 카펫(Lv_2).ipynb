{
  "nbformat": 4,
  "nbformat_minor": 0,
  "metadata": {
    "colab": {
      "provenance": [],
      "authorship_tag": "ABX9TyMPsCSkBTtcqA5+O/zF6pCO",
      "include_colab_link": true
    },
    "kernelspec": {
      "name": "python3",
      "display_name": "Python 3"
    },
    "language_info": {
      "name": "python"
    }
  },
  "cells": [
    {
      "cell_type": "markdown",
      "metadata": {
        "id": "view-in-github",
        "colab_type": "text"
      },
      "source": [
        "<a href=\"https://colab.research.google.com/github/Parkshinhyang/Programmers/blob/main/%EC%B9%B4%ED%8E%AB(Lv_2).ipynb\" target=\"_parent\"><img src=\"https://colab.research.google.com/assets/colab-badge.svg\" alt=\"Open In Colab\"/></a>"
      ]
    },
    {
      "cell_type": "markdown",
      "source": [
        "# 문제 - 카펫\n",
        "[문제 링크](https://school.programmers.co.kr/learn/courses/30/lessons/42842#qna)\n",
        "\n",
        "## 문제 설명\n",
        "\n",
        "Leo는 카펫을 사러 갔다가 아래 그림과 같이 중앙에는 노란색으로 칠해져 있고 테두리 1줄은 갈색으로 칠해져 있는 격자 모양 카펫을 봤습니다.\n",
        "\n",
        "![image.png](data:image/png;base64,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)\n",
        "\n",
        "Leo는 집으로 돌아와서 아까 본 카펫의 노란색과 갈색으로 색칠된 격자의 개수는 기억했지만, 전체 카펫의 크기는 기억하지 못했습니다.\n",
        "\n",
        "Leo가 본 카펫에서 갈색 격자의 수 brown, 노란색 격자의 수 yellow가 매개변수로 주어질 때 카펫의 가로, 세로 크기를 순서대로 배열에 담아 return 하도록 solution 함수를 작성해주세요.\n",
        "\n",
        "##제한사항\n",
        "\n",
        "- 갈색 격자의 수 brown은 8 이상 5,000 이하인 자연수입니다.\n",
        "- 노란색 격자의 수 yellow는 1 이상 2,000,000 이하인 자연수입니다.\n",
        "- 카펫의 가로 길이는 세로 길이와 같거나, 세로 길이보다 깁니다.\n",
        "\n",
        "## 입출력 예\n",
        "\n",
        "![image.png](data:image/png;base64,iVBORw0KGgoAAAANSUhEUgAAAQYAAACsCAYAAACZxQIAAAAAAXNSR0IArs4c6QAAAARnQU1BAACxjwv8YQUAAAAJcEhZcwAAEnQAABJ0Ad5mH3gAACPzSURBVHhe7d0LWBTX/TfwbyMbslQ3xg1ZhQXcCBRBJC8SwqpYJIKX0lCKFjWRPMZcTCVRo5HGmovWJOqbVNNgNKbEN/A3Sg1VvCWKQeoNHor8izcomCAIKjEYsxgpgdj3zMwBlp1FWZhdQX+f51nZOTuMs2fO/OZ3Zs4wP/N9ZPx/QQghZu7iPwkhpJWYMXz/bR2fJIQQs8CgvkfNi4g9NPyngerYAaielUFdCUKIDAUGQogMBQZCiAwFBkKIDAUGQogMBQZCiAwFBkKIDAUGQogMBQZCiAwFBkKIDAUGQogMBQZCiIxygeHXycjclo7MN8bxAtJrWNl2Se+lI3vbciTxaXJnUS4w3DcI3j5e8PbU8gLSa1jZdvoH2TQr0/Np0kWzl7MAm451s/l0L0FdCULsyV0KsN7ufLqXoMBACJGxS2AY+0oqiosPouKk9Cr9MhVrEgbxT7nENShmnxV/nIBnUjJQyufP/hP/nAl4/DVkH9rfupyK4j0oyHgNiZ58BgzCip3CZxlYZ+RF3Mh3M6Tf2ZkMD14mGYePc4VlpWKxOJ2MbD5fwOxVOJgnLI+/DqXL1/uWScAmYd3Yei9t/f5meH1WfDa/7ft6jsPijzPabwvhOz3uw2ew3c23CeDxp3Txs4PvBvMSzrgcB8XfS8cKi+8Qm7Jd/J1di3jBLSS1KbaOEfOx6xD/nnlr8Az/vHP1yttVnJc45R3H52XtTGTW/mV4/ZnvCzdap2c+3sOm92DTzHFYmrGndV+qKN6Pgx/PwVhpETZRPjAMjMGaqayCLp7CAfZljpZfBnQ+iF28jq24lZ3swWlYEDEIjRcrcaacvWqk4rGscjJfGQdvzY84V5SPrL1FOHURcA1gX34TqxCxYV3AjrIL7CfrI08yX/YgPObLpz19MUN6J/l1NIbdz36Wn0S6VCJxCca658Nwr0lY73wU1VxlfW8vxL66Busi+Dy3VAZ2/IvVZR8fjHxGXo9J44ZBw36eKliNc2JJAtZt/AOeCR0E5+8qcXTvfhwouoBGDftOr6xjjS5MnMsWndsmwLk9leI6ePhGtQvKHpO8+LQXhk0V33DjEDtsAPBTOY5t4UW3XD9EvhGHAOfLUrssv4BvxPLO1usF6fdqfxSnGmt5+/5aaK9d1dE6STym/gGJBrZtjh3EFwWVuNR8NzxC2fpuetri4HhzigcGjecgfLNjEYLGP4+nXlmCx+N+g6h3i2DqMwAjn5zPqrU9zf1349i7CWz+GYiKm4Hn17NCzzlYwBqRc2MlMuZOwpjERZi3YB5ixs/CvJ2sYu8LxoLlieLvH/2sXGyE3kN/K05LfothQiNtZBuljxdGmJ1aHxnhBVf280zJFr4DcTotGlvXexHix0/CH3LZjsiCzMjH46R5brGMPWW4xH56P5RosaETMdbvbuDaKXyxSipJSJmGCbq7ce7L1YiKmIHHFyzDU4msnufuxpnGu+E9/knbrjjYsE2Q93ecEgK8RVCeMZQdPX/6EY3svXfQ01KhwBgBbyFYV5Xhr1VS0a03AJr63XgqlLVf1i6jElcii5V2vl7T8Lzwe0elQHDuqNS+o+amidNdY32dJH3h4XISb01mnz21BM8/NQOhcRk4xSrbOeiXmMPn6izlM4aafLz+aj6fkJzbuBLbS9mb+30x/tdSWavS3Xh8Y/soOjJpDIuKwKXDa9nOyQtFF5D1ShoOfCt9WbErkJeLM2wansOwQJgWJA2Ddx929NyTz3Z+FjX9Wi7DtWQSF9hnFpG7/iT+ZrHeGZtOisFDM9BXKrjVdm7BUWHHMbCd0LzrNNuIABcWB0vzkCIWJOCxEewI/G0+1s7d1j4A5q7E67nsu7sEYIINabtN2wRF+ELIFNsF5acxQgjW5dk4wIKGs7svYqUPWjOJcyXZ7df1lrqMoxtW4gCfkihfr7axtk5tzrB1+Mg8sFatxYFSIWPRwoPH7M5SPDCYak7gKH/f5gL+ytIeIeJ5hEolLUwmYa9uz+guXDa7ivKC9juqZDfyvmZpfp9BCBC/7H7sLWGN0MULwfzLPxPMjmyoxMmPpKDh6hOBkeInPJOoKcff8sSCNt9ewEf8bau8evHo1nMU4W8nhXochOC4tv77gnAf9n1Zo9nGj0bGQHj0Y4Hi2t0wvv0a1li8fiekTMwDrK/cWbZtEyDrSyG7YUfQYJ4jJrJgzYLXmZI0KWjc74UJPLiJmYQQrLcVSQU9Qj2+2cnftrBDvdrGyjq1uopvxH2sPZOQNXeB4oHh+9qD/F1755o7v4KuGpYWow7nNknTN5ORdxYmlkr5hAobZByMD/ZlO38ldlTtlxqsuxceEwICzyQuledaCV69w9GUIpxhPz2GxfBg9zRG+rD6+rYMe7eJBYBPX9zLfjh7BiP216z/bvkKls5ROLt0fsyJrdsE246hvJ5lWw+OEDOD2NDB0LCd/wzL1LIKhO3Vcl6IZxLfVuILy2Dd09ihXnsqxQPDvbox/F17Hk5Cw+ock3iY7ocHLLsdHUljO8s1nhnw/mrLzv9RbhlrhNLJLimTuIyTe/dLv9cbVaXhqNAt8wzADOGImzRC7EacO7YFGeIMzHdSP76RddPmvbKsw1fyeutB3Bqbtwlbm7xydjAQM4NgTPARUnC+86fl4SQLGuJ5IZ5JXDq5z6y/3EPZoV57KuVPPg78BT+StTfDR4imQrojTd/IqYvCST+h2yFF4PaCEezOMgLh6NXa12U7i9AI3X0wY7LQXxVSXr7zp50Ug4Z3ULKUSdSfRV6H6VhvcAGvFwiVyNL2ycFYHBHAgt0FFH1mlobvrMQ3P7Ej1/1a3LNzP7I6eH1RIE89O2L7NgFS2Ho2Cus59bfiAB/T18f4zp+Boq/Z9vIchhViJmG2vXoyO9SrszPrm1gY6dL5g6i9KH/y0TMMcywvS0YsxwQ/9rO+DLmdOCmbtalIPLHjHZHcegmshUfSMxgrjCIrLcJasxMt7xZXsn8HYWwE669eq0RR6//zVxxj8zn7RWEkyyRMJXnycwm9zap/oIgFO48RyexIzKarTlmcM1mLL4qFo3UwnpZdlhyEBZv28OvuvKgTurJNkMKCMtuRPEaHwRs/4kxRa04jbS8XH/zGyDKJTraLW6/r9ersZLFPpEmXGp39fokV5pfDI+Zjcbi14OtYigeGS1X1GDEvFdnrkrHgmaexYl0qCt4dw47iP+LUtpWd2ynzliH9EDtC3ceOiBnp+PiNp5H4zHys+zgDu2azI6RwySyl5Xo9t6oIp4Ro7szeV53Eu1KpKL2ENULnu9mRtX3j7L3SpLPN9w+Ch3D15dBHsnMmKeuypctncctRkLEKK+bGIemV5di0MxVJQX3h/NMF5HX2fIGgK9uE7UhHheSG1T1+qsQx6ZKJZEsZzoBtE7a9Gr8+2WuCtc31WnNV7H54RK9D9sdrWL21nJjk29DZCwnvbkd22hpsyshA8XtxeOCakJ3dWsqffDw2D+8eqodH+K+QNDcRCeE+cGWp7tGNSxCzqvMp1kfPP4/XWepmcvHC2MmJWMo2wASWxmq+K0faq4ssLpkJ/o6T/Gh1qmCt9IZrGXCDa+U4at44e7GUbUXimAZxUNAmK/WatxJRCzJwtEYYgBSGBLYTL3h8DEYa+sJUvh+vJy5qOyfRSbZvEx6UBeVFeEt6J6liO5g4mI0dMPL+Khb1CrbW6/pleGtvJRqdBsA7NBhjjS1XyC7grZfWIqv8KgsO7LPgYIwM0LL9JwPJbP+51ez37EpWabFCn/7HyyjaK6WhXeODsb/2Ekf1Ndaesqn/1pMo/kzFuFUoYOmspjgNfo/fZMdq2RaM6ev9OHBKfNsNPXebOPTZlTbVq1Bng9BYfFAai2LOMxgTgu7GuZ356PamUQg91NZBlG2wQn82naWuQFHKOMQLo0WJiB5qqwzlTz4SO0rAinXL8XHGOjzDjjDCKNMUCgrEDigw9CaJRkwMH4OxAQNYUCjCR28v6XB4LCHdQV0JB6EU1zGonpVBGQMhRIYCAyFEhgIDIUSGAgMhRIYCAyFEhgIDIUSGAgMhRIYCAyFEhgIDIUSmdeQjIYS0oCHRDkJDdR2D6lkZ1JUghMhQYCCEyFBgIITIUGAghMhQYCCEyFBgIITIUGAghMhQYCCEyFBgIITIUGAghMhQYCCEyNC9Eg5CY/gdQ5l6VkMzRA+Nik8yDRfLUXeFT/QI/aD1G8jWtEUTTJVnYWrgk91kh8Cghm78VMQ9pIXTxXykfHKYl5tR+yAoPgrjffXQ9m1GXXU1Cg9uRk7hrX+Yp70oGhjUOvhPiMWYQD0M/Z1gqqvGqSPZ2J1bzprHnU2Zeg5G4soZCJEeSymqyJmP1Zl8QkaH8GdnIOg+9v+XZSF1m/CI727oH4zwuDAYDcL+gQ62byzmr42AgU+x/xmFnyxGWgGf7KY+Wr33G43XGqByMguPXcW+UMzc5zEzVA/XezXQ/vcbfH743/xDTh2GxNdmIsZbC809P0PzdRW0rjr4/Z9w+KnLkV/So8KyYpqbm5WpY1Z/05bMRpy/K1xd+rD664Of3+cK74CHMca/D/73aDlrIncuZep5EIKiguD2Yzk2f5iBzwv+iWMnLrOgwz+2oJr4NJLGeOIB1uZdfihlB7iuP+RXZZyJV+dGI8Sd7R8qtn/8t237Gj2/x6HCalwX5zyP8q9LUMDW7ch1T4zycMb54i9RLD5BvPsUOscgZAm/x+t/moFoTxVqq+o6aJw6RL4YjxBNM2qLMpH8wstIfullLHgvG2UNTjBEPoVpoXxWYoUa4XPiYezfjOq89Lb6W/gBdlU3Q20Yi8R4HZ+XdB/LZkvLUc1eHXYj1BFIfHQwFAj5bFlReC5hOLSoR/GOD7BgHt++f0zHoUvN0ATG47mJLdlQfeu6VTc08zLlKBQYhmJ8pA+012qwa8NrePPAN9ZT2sBJCPd0Ai4VYn3q4dbg0VS2Bx/uEY50/RAyZpIylXxbYkcSA6+//ylqC74N5di35jAqwIKrdxgvJPanhv/MaASpG1B8pAQmXtplE4Lgyxp/3b82I3WvWbfhShG2smkT274evo/wQvtSKDDUo6IwC0uT38G+4o4TWX2IO4uGzSgr3AHLvxnVlHMA/2JRWaX3ATXtDvix/mZVDYpPHJc3woZa1F1lP3+ugV4qIfYWOhXTA9RoqjiAtDO8rDu2vYMX58zH0tQSXmDmuwYxUKjvuVeatjOFAkM5Dm3Nle3slvwHatm/36O6yFrwKEH5NywlUulgoO6EdaVZSF35DlIzrTScwKEw9GUB1nQR1byI2FMwpsUNh6bpLLavzbb7SV9tsBc7qALVlflSgZ05cBwD6ztphJ//gem8WCBjahAChhpad2madNZgRD/mzxoOS2kPZvMyYk/6mZNg1DSj4h9bcKjjJLnr1Dro/HygD45AzAtLsHiUFk11RdiVVctnsC8HBgYnqIT/7aqpwyNaWR1PkB24Vr0f6+fOfgoxbk4wndiBzQpdriI3YEjAkyFsRz2fj7RtdtpRA2Pxwgu/x6JZsYj2Yx3wqnx8+Od0nLZHELLC8bugygli4mCFxvke/o50ljZ+DmYF9kNTdS5Wr8+3e0pLWHY2PQQ61nE+9GnmTbvPXVZ9HDm5h7GPvQ6V1qJJH4akPy3DNKNS441uzIGBoQQXhYTA2QUDpAKZgRoX9m8D6jroapD2tPELsTjSHSpTCVLXZNmvkZJWmrjJGM+ys7rCTGyv4IX2wLKRnK2Z2MVeW99fgaXv56P2rn4wxs9EEJ/FnhwYGBpw+apwvXUABhqlkvbUGKwVouE1mCqlEtIxlfFZzG8JCis3OCzFvLNFYfovWZ2zttz8wK+QlLyw7RWlZy2YtWKvaHF6VpyP9CsKaSrLwMEKtv+oB8I/mBfakUO7EsVfVbNUVw2D/1BeYkY9Fr6u7OeVGhRSxnBDQlB4/Ymh0DQJ40Y2oPj2HCzaA7lALQ6yUUPn6Q5f85dbP3H8jUqjE6cNun7CjDYJelIIMs8i0o8X3EIODQxNXxaLRzZtYCyi2wZ5M8JAkdHi4I7aUwfoctuNGGKRlMCDwnvvYJ8901liIQur58wXxxrIXp9IA5xMJ9LF6SXri6RfsUHdXfewoDIUkZFhskF+Kt94GPVOLPG+iNO2L9pmyt4r0cJ9BCIfcoWz6Wz7eyWaz+Krnwci3GcQhj48Cl6DWLfCZzjC4n6Hx4awRMx0HP9vzc3HQ/RGiozhd4vF/AURMLDFNNTXQ+U9EqGjLV9D0HjkOBxzUavnUfReCXyLgv3HOtceeZvHN8ct7pUQbnaajenhbvjqy3/dcFmmf/8I17BhMHgMw5hRgXBzGwSPX/gj6NFYJEzyh6tTM8r+kYqdpT/w3+D8R2KiQd0T75XoPNO2tVi19yxMffrBP2Q0oiPCEOKmRkPtcdZX3ogyPh+xQq+Dlrd5dX+LVLb1pQPdLdGDBA8QBybhyuWbt+2GfKStTMe+qno4se0bYhT2j9EI99NBfbUG+zYuQ4q9Lo9auIV/j6Htnveed6+78ujvMTiGorddowQpyRu6d7CaOBfvxgzG5SMr8OantuzUbX9voem7atTW3uDscvxC/CVygKK3XTs8Y2jTANNXN7lzjZBbSTUAI6bEI4a9QgJ4mY30A4WTknUoK7L1SN9296T1oDAUIXzdYvQdjQzqulsYGAjp4Zx1MLJUXkrneZmNfB9gHYkrNcgr5QWK8UU4X7doX9uvgNwM/Wk3B6GuhGP0rHoejMjZk2G4tNv6jW89GAUGB6HA4BhUz8qgrgQhRIYCAyFEhgIDIUSGAgMhRIYCAyFEhgIDIUSGAgMhRIYCAyFEhgIDIUSmdeQjIYS0oCHRDkJDdR2D6lkZ1JUghMhQYCCEyFBgIITIUGAghMhQYCCEyFBgIITIUGAghMhQYCCEyFBgIITIUGAghMhQYCCEyNC9Eg5CY/gdQ5l6bnt8Youe9xjFtkfYSZpgqjwL0w2eZGcL5QND/2BETg1HiJceWucG1FVXo/DgZuQU1vMZ7kxKBwaVbxQmxwRBq6rFoZXpKObldzpl6pk/u7Ivn2QqcuZjdSafELB2Hh4XBqOBtXM2n6muGqeOZGN3bjnbRbupU8sWnqIdAQOfYt9c0WdXKhoYVMaZWDx9OLRCB6WpGQ3XWex1dmITzagtzMSqjfndr7ReSrnA0A++U5/DrHB3frSowa4572Cf+J4oGhhQjs0bs3GOlZhnDNbauRNr50KCYTqRgaXru97OO79ss4whJB6LjJqe+lDb0UiMF75QPQq3vIYX572M5Jdexot/zEShyQm6kMeQGM5nJV0iZAmz3lyGJBYUcKkGtY38A2Inza0Plm3tRqij8FwCa+eoR/GOD7CAt/MFf0zHoUvN0ATG47mJXQxMNi277aG31Q3NvEw5ygWGUH8Y2Do3lOUg7ZBZt+HKYaRll7NERw1DQDAvJF1hiByLIE0DynI3YskbOTh3p6Zft9KEIPiyw3fdvzYjda9Zan+lCFvZtAlO8PB9hBfayJ7LtpGCGYOkqdHE35m52nzHdiGUdK3yGDb/eTFSth6n+rxVtr2DF+fMx9JUKw+p/a5B3C7qe+6Vpm1lz2XbSLnAcKIaF9maazyCoOdFLXyDB0PD0rKL1b3rib89TfXnmcir4BOkx9EGe7FuANtOlflSgYLsuWxrlAsMDXuw+VANmvoPx/w352LKxDDoR0VhykvL8FygGk3Vh7F5l0LXUgjpCdQ66Px8oA+OQMwLS7B4lBZNdUXYlVXLZ+gGey67ExTtStTtycJnxXVA/8EIj0nAoumTED6kH3DpOD7L3Af6k7PkthIYixde+D0WzYpFtJ8WzVX5+PDP6TitxPHPnsvuhD5avfcbjdcaoHIyG83RFeowTFsyExMHu+CHqiLs2L0NuwvO49L1fvAY4oOQR0LR/0o+TlYrfwa1N2hubu5+HbczCEFRQXC7ux5le47iK156p1Omnnnd4lsU7D/W8QHtv+z/uX4FVWercP4/znA1+CE8cpQy7dyWZfuPxESDGueLv0RxDS/rJsUyBv3UcTD259daV6bj0JFyVBflImfjO1j6aQlMd/WDceJk2fkHQnqt8/nI2ZqJXey19f0VWPp+PmqFdh4/E0F8li6z57I7QaHAoEOIl3BqpBYHP5EP7mjKS8fB8+yN1h3+3R17QkgP1VSWgYMV7GiuHgh/ha/M23PZ1igUGDRQdWpJTrjXi78lpBcKenIhkpKfRaQfL1CQPZdtK4UCQznKLglnRXR4ON5HHL5pTuX7GB52Y28aLqOsVCojpDequ+se+HoORWRkmJV2Hg+j3kkYP43TRbzQBvZctq0UO/lYW90XfsbB0Hs9DGPIEGgf8MSDAf4ImhCPJ8b7ov/PmlH2j1TsLP2B/8adhU4+Ooa9Tz6a/v0jXMOGweAxDGNGBcLNbRA8fsHa+aOxSJjkD1cny3Yu3HexCLPiAtHIttONhqHYvmyuJ598xPksrH4jEznn66HW+SA8YjSi2St8iBZOV2uwb+MypGxzzDVYQuymIR9pK9Oxr6oeTv3dEWLk7dxPB7XVdu4h3iEJUx2qpYKO2bxs+7HT32Nou/Or593Hfmsofds1sU7ZuytLkJK8AWW8VK6tnTd9V43aWiuDDPxm4PUXguFSloXk93J5YWd0Ytkt4hfiL5EDeurdleba7vyioEB6LdUAjJgSjxj2CgngZe20tfMOd1zDAPF2gHNltgQFwc2WPRQhfN1i9Bpephw7BQZCbgPOOhhbusRdvFLg66GFqqkaxbbGhZvybe2uR/v242XKoT/t5iDUlXCMnlbPQU/MRbiqGB9uzO1Vd8RSYHAQCgyOQfWsDOpKEEJkKDAQQmQoMBBCZCgwEEJkKDAQQmQoMBBCZCgwEEJkKDAQQmQoMBBCZFpHPhJCSAsaEu0gNFTXMaielUFdCUKIDAUGQogMBQZCiAwFBkKIDAUGQogMBQZCiAwFBkKIDAUGQogMBQZCiAwFBkKIDAUGQogM3SvhIDSG3zGUqWc1NEP00Jg9G7enPWpRpRsM3X1mK3jtIqqr6vlE9ykeGFS6MITHPYIQLz20d32Puupy7N27A8VlN3j2Xgu3KEybEQQtTDidtQE5t9Ej8xUNDGod/CfEYkygHob+TjDVVePUkWzszi3vxENNdAh/dgaC7mPrVJaF1G3lvPz2oEw982dXCg+j5Spy5mN1Jp9gVL6j8avxoxGg10IDG9v5TbRb9vU6VFSWIGdLFsrMApPv7LeQFGj2Patz8eLbWXyi+xR7DL5AZZyJxXMeRfDA/izmXsf1Pn2hHahHcNhIDLnrKxSYfzMZNcKfexrjB/eH9t6+uFqq3CO9ewLFHoOvDsO0JbMR5+8KV5c+aL7eBz+/zxXeAQ9jjH8f/O/RctyoaaomPo2kMZ544F4NXH4oRU7hBf7J7UHRx+D/WI7NH2bg84J/4tiJyyzoSJ9q4xfi1WmPwPf+vnD+r63t/Ma0MXPx6hMj25Z9twZugwYjdMzD6Pv9P3G6ulmcz3TuKxQfL8KRgkvoG+CDgf85i88P/1v8TAnKnWNQR+G5hOHQ/lSLnI2vYcFLLyP5pflY8N5hVDSp4TtuMqLd+LxWqCJnIsbgxKeIdSx4zomHsX8zqvPSkfyCUMcvY8HCD7CLNRi1YSwS43V8XivUEUh8dDAUCE93iGb5w5nd4jEr0h3qphrsem+xvJ1PnIqYG7TzGzIkYPbEwVA3nMX2lmXPW4w3d5TDpNIiPH4mgvisTbVnxfWqLq2zy6PvlAsME4Lgy1pcbcFGbC9s6+s0lWUi5RA79KvcEfAIL7QkHAXH+7AKKUfOqe6nYrevaIQIwfNSIdb/T1FbZsDqbd8a1jDhBIN3GC+0pIb/zGgEqRtQfKSEddZIlxgN0LMftQXp2GfWbRDaeWqB8AePdPAxSmW2MsaFsN+uw6FP3kNO67IbULv3A2wtZdNqA8In8mI7Uyww6FlTK6sqxz9P1PKSNk3nTWJD1PT3kQos+M6YxPpzzSj7ciNOX+eFRM6PpZBVNSg+cVy+YzfUou4q+/lzjdhwZUKnYnqAGk0VB5B2hpeRLrvWKG/npkbe1+iSKIzwZEG/+gS2n+BFZorfX4wX57yMlM95gZ0pFhiqt21AysoPsM/Kl9L766ER0rKLVk50hc5EYlA/1mD34cPPKVu4odIspK58B6mZJbzATOBQGPqyIGy6iGpe1CYY0+KGQ9PEUtS12b3qqcs9TlkdO6azNm2YZNEl0yHaV+jG1eNimVRik2A9BrIF1l08zbaPGhpjFH4zey5mzYxHuFHn8O6f/ccxGOIxPbAfcJWlu7JoNxRTYoQGW4Pdn1KD7brBiH7MH1qWdhYfzOZlbfQzJ8GoaUbFP7bgEMXe7jmxBVtP1ENliMLyPz6LmMjh8I2MR+If5yJG7wTTiT34zMrB8aYMwtUNlnVc1WLKsmVY/sQkRAYORlDIaEx54g9Y/sYM+Ct0Uasz7BsY1GFIfHY09Kp6FG5Ph2Ug1U5n0VDbjOojnyHnPC8kNlLDf/ZTiHETGuUObC7gxS0MCXgyRMu6c/lI2yZPf4mtGnB6yx7sqqqH2m0oouNnIil+NELc1Kybl4tPt+R36wCnH8X2Cc33KNy1EUsWzkfyygzsq2qA2jUYs+bFsuDvGHYMDOwoNi8eIcKRKudjpOVZHKpYJjErlH3NS4VI3XqWFxJbaePnYBbLyJqqc7F6vWWjZNtgOj+h9WmmmAKTbjLEYv5rCYjxVKO29DDSUj/Aqk/3IKe0DirPCMx+bSGiDXzeLlCpvseh1OVI+/w4TGyXaajKx66VG7DrfDNU+kfwm3A+o53ZKTCwBvnKHJ5aZSIl03LH1yHyd2Esk2ANNjODGmwXCdfTF0e6Q2UqQeqaLFk9auImYzzLJOoKM7G9gheSblAjnGUHBmfhYLcWb76ficKicpbxZmP7+8uxKqcGTc7uGB8Xxee3XVNFkZWTj2exr6haPPdgGDqcl9mXHQIDT22FoHAqE2/KjmLM+Kn4lXAGlkVE3aSFSEpue/3GSzjNooJvlDD9LCL9pF8h7amMz2J+S1BgR5TTsnMHUZj+S/Y5q+TmB37Vro6TovRsK7Et5RUtTs+Ks361iFh6BL4s0Arny/bKDnZAXeZhFF9l20ZngD8v67Tvrgm7AxquXrTeFalrED/HXY4Z66NwYBCCwiuY3ZLafnBY+jKW+qqks6xqLXw93du99BrhiztB4yZMD2bTwozEnBAUXn9iqHjSdteGDSi2OtDOBWqpkqGzqGNft35i/as0OnHaoOsnzEhuSgV1Z/YYZ7Xt5wLyanCR/dAM9BFPQlrSeD8gljeYHDMcWNF7JVpSW2Hc9ltvy1PbzpDGgAOFnyxGmuWJtF5MsXslhD7u3AgYIIy8ewf7utJFCH0Wy58cCpxIx5L1Rbzw9qDovRIoQUryBrOT5jrEvPYHROsacHrb21i/v/1NS+pxv8cbLPtS1x7GkmWZNg4iY92UhcswxSDcl7EWq80zkpZtrqrFvjdXYFe7E/V8Xa/00HslNHEL8eqjQurajCsmZwwZNRKhoy1e3nehoLiK/4Z12pBHEaoDzhfTvRIybqyBLBAaCNsB6uuh8rZSx6OHoPHIcdzw+oP7CEQ+5Ap8c5zulbCK3yuBb1Gw/5jZAe4HlDW4YdRDeuiHhiM00ID73AbDO2A4wuISMD10EJyv1yPv7x/gWEvbZQfLvyRNwSj9BeQcu9FWaUbVBRf4PfwgDN4hCPUbiH56H/g+Eo1psQ/BjX0lU/E2rM+13F58XXvqvRIDdQOk7gHrBmj1Fqlry8vNURdbblN6HbS8zav7W6lf8aVjxzViNwUbsfS9bBTXNUHrORSREaMRHRGGENY9a64tweb33253ydhXK3UM6i4dF3/eUEUWVr+XhcJatuwhwWy5bNkhg6HtU4+yXPb/bnBcdkd/j8FBFL3tmnTIvl0JC2oWhL007IDYBFPlWfHyoqXwhf+XdQ++R86by7HdlrE6LPDrB7oIQ1lR+1Wt9ROSIvt0Jex0uZKQ24BqAEZMiUcMe4UE8DJzDbWoFe9wtB4UAB8MFE6m11Wi0NYBfFdqpLsnOwgKGuMkcb1ipgSJQ6mVRoGBkI4462AUuwqjEd6ly+b+0LPec11loZX7V7pnYJC0XtERw6F35oUKoq6Eg1BXwjF6VD0PmYTEyYNxcY/1mwt7MgoMDkKBwTGonpVBXQlCiAwFBkKIDAUGQogMBQZCiAwFBkKIDAUGQogMBQZCiAXg/wN6xeEHdiILgQAAAABJRU5ErkJggg==)\n",
        "\n"
      ],
      "metadata": {
        "id": "_DV5mPNEB5KM"
      }
    },
    {
      "cell_type": "markdown",
      "source": [
        "## 첫 번째 방법\n",
        "\n",
        "1. brown과 yeelow의 합의 약수를 구하고 answer에 append 후 정렬.\n",
        "2. answer의 크기가 짝수이면 출력할 값의 각각 -2한 값을 곱했을 때 yellow값과 동일하지 않으면 idx를 하나씩 늘려가며 비교 후 동일해졌을 때 answer의 가운데 값을 두 개 return. (18, 6이 입력됐을 때 이 과정을 거치지 않으면 [8, 3]이 출력되어야 하는 걸 [6,4]로 출력됨.)\n",
        "3. answer의 크기가 홀수면 answer의 카운데 값을 두 개 return.\n",
        "\n",
        "결과 : 성공"
      ],
      "metadata": {
        "id": "-4MY4z77OB5d"
      }
    },
    {
      "cell_type": "code",
      "execution_count": 19,
      "metadata": {
        "colab": {
          "base_uri": "https://localhost:8080/"
        },
        "id": "FiMgdxArBw2q",
        "outputId": "70f9442a-4a3f-4a84-ef94-f74965bd52b1"
      },
      "outputs": [
        {
          "output_type": "execute_result",
          "data": {
            "text/plain": [
              "[8, 3]"
            ]
          },
          "metadata": {},
          "execution_count": 19
        }
      ],
      "source": [
        "def solution(brown, yellow):\n",
        "    answer = []\n",
        "    num = brown + yellow\n",
        "    idx = 0\n",
        "    for i in range(1, int((num) ** (1 / 2) + 1)):\n",
        "        if num % i == 0:\n",
        "            answer.append(i)\n",
        "            if (i ** 2) != num:\n",
        "                answer.append(num // i)\n",
        "    answer.sort()\n",
        "    \n",
        "    if len(answer) % 2 == 0:\n",
        "        while True:\n",
        "            if (answer[len(answer) // 2 + idx] - 2) * (answer[len(answer) // 2 - 1 - idx] - 2) == yellow:\n",
        "                return [answer[len(answer) // 2 + idx], answer[len(answer) // 2 - 1 - idx]]\n",
        "            else:\n",
        "                idx += 1\n",
        "    else:\n",
        "        return [answer[len(answer) // 2], answer[len(answer) // 2]]\n",
        "solution(18, 6)"
      ]
    }
  ]
}