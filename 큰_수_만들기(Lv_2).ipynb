{
  "nbformat": 4,
  "nbformat_minor": 0,
  "metadata": {
    "colab": {
      "provenance": [],
      "authorship_tag": "ABX9TyMWcsUXaPe70dYTQGTKgOdS",
      "include_colab_link": true
    },
    "kernelspec": {
      "name": "python3",
      "display_name": "Python 3"
    },
    "language_info": {
      "name": "python"
    }
  },
  "cells": [
    {
      "cell_type": "markdown",
      "metadata": {
        "id": "view-in-github",
        "colab_type": "text"
      },
      "source": [
        "<a href=\"https://colab.research.google.com/github/Parkshinhyang/Programmers/blob/main/%ED%81%B0_%EC%88%98_%EB%A7%8C%EB%93%A4%EA%B8%B0(Lv_2).ipynb\" target=\"_parent\"><img src=\"https://colab.research.google.com/assets/colab-badge.svg\" alt=\"Open In Colab\"/></a>"
      ]
    },
    {
      "cell_type": "markdown",
      "source": [
        "# 문제 - 큰 수 만들기\n",
        "https://school.programmers.co.kr/learn/courses/30/lessons/42883\n",
        "\n",
        "## 문제 설명\n",
        "\n",
        "어떤 숫자에서 k개의 수를 제거했을 때 얻을 수 있는 가장 큰 숫자를 구하려 합니다.\n",
        "\n",
        "예를 들어, 숫자 1924에서 수 두 개를 제거하면 [19, 12, 14, 92, 94, 24] 를 만들 수 있습니다. 이 중 가장 큰 숫자는 94 입니다.\n",
        "\n",
        "문자열 형식으로 숫자 number와 제거할 수의 개수 k가 solution 함수의 매개변수로 주어집니다. number에서 k 개의 수를 제거했을 때 만들 수 있는 수 중 가장 큰 숫자를 문자열 형태로 return 하도록 solution 함수를 완성하세요.\n",
        "\n",
        "## 제한 사항\n",
        "\n",
        "- number는 2자리 이상, 1,000,000자리 이하인 숫자입니다.\n",
        "- k는 1 이상 number의 자릿수 미만인 자연수입니다.\n",
        "\n",
        "## 입출력 예\n",
        "\n",
        "![image.png](data:image/png;base64,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)"
      ],
      "metadata": {
        "id": "rZUihkMXbktK"
      }
    },
    {
      "cell_type": "markdown",
      "source": [
        "## 첫 번째 방법\n",
        "\n",
        "1. number를 하나하나 i로 탐색하는 반복문 생성.\n",
        "2. answer의 길이가 0이면 i를 append.\n",
        "3. answer에 맨 뒤 원소가 i보다 작을 때 answer을 pop하고 k는 디스카운트.\n",
        "4. answer의 크기가 0이거나 k가 양수가 아니면 break.\n",
        "5, answer에 i를 append하고 answer에 크기가 조건에 만족하는 크기를 초과할 경우 슬라이싱을 통해 맨앞에서부터 answer을 잘라서 저장.\n",
        "6. join함수를 사용해 answer을 문자열로 return.\n",
        "\n",
        "결과 : 성공\n"
      ],
      "metadata": {
        "id": "8bbHT_r7Fk1D"
      }
    },
    {
      "cell_type": "code",
      "source": [
        "def solution(number, k):\n",
        "    \n",
        "    answer = []\n",
        "    \n",
        "    for i in number:\n",
        "        if len(answer) == 0:\n",
        "            answer.append(i)\n",
        "            continue\n",
        "        if k > 0:\n",
        "            while answer[-1] < i:\n",
        "                answer.pop()\n",
        "                k -= 1\n",
        "                if len(answer) == 0 or k <= 0:\n",
        "                    break\n",
        "        answer.append(i)\n",
        "    if len(answer) != len(number) - k:\n",
        "        answer = answer[:len(number) - k]\n",
        "    return ' '.join(str(i) for i in answer).replace(\" \", \"\")\n",
        "solution(\"4321\", 1)"
      ],
      "metadata": {
        "colab": {
          "base_uri": "https://localhost:8080/",
          "height": 35
        },
        "id": "6rPlRwe16Gek",
        "outputId": "0ab8e8ce-9767-4df8-edbe-6bc8f9ffcba6"
      },
      "execution_count": 27,
      "outputs": [
        {
          "output_type": "execute_result",
          "data": {
            "text/plain": [
              "'432'"
            ],
            "application/vnd.google.colaboratory.intrinsic+json": {
              "type": "string"
            }
          },
          "metadata": {},
          "execution_count": 27
        }
      ]
    }
  ]
}