{
  "nbformat": 4,
  "nbformat_minor": 0,
  "metadata": {
    "colab": {
      "provenance": [],
      "authorship_tag": "ABX9TyPUt8KVdPUg+3gwsvT+XDEd",
      "include_colab_link": true
    },
    "kernelspec": {
      "name": "python3",
      "display_name": "Python 3"
    },
    "language_info": {
      "name": "python"
    }
  },
  "cells": [
    {
      "cell_type": "markdown",
      "metadata": {
        "id": "view-in-github",
        "colab_type": "text"
      },
      "source": [
        "<a href=\"https://colab.research.google.com/github/Parkshinhyang/Programmers/blob/main/2016%EB%85%84(Lv_1).ipynb\" target=\"_parent\"><img src=\"https://colab.research.google.com/assets/colab-badge.svg\" alt=\"Open In Colab\"/></a>"
      ]
    },
    {
      "cell_type": "markdown",
      "source": [
        "##문제 - 2016년\n",
        "https://school.programmers.co.kr/learn/courses/30/lessons/12901"
      ],
      "metadata": {
        "id": "g01r7v4De5Dm"
      }
    },
    {
      "cell_type": "markdown",
      "source": [
        "## 첫 번째 방법\n",
        "1. 2016년 월 마다 일수를 month에 저장.\n",
        "2. 모든 요일을 day에 순차적으로 저장.\n",
        "3. 2016년 1월 1일이 금요일이기 때문에 day의 index 역할을 해줄 answer에 5로 초기화.\n",
        "4. 0부터 a - 1 까지 지난 달의 일수를 answer에 모두 더해주는 반복문 생성.\n",
        "5. answer에 b를 더해주어 모든 요구한 날짜까지의 일수를 저장.\n",
        "6. answer를 7로 나누고 1을 뺀 값을 index로 가지는 요일을 출력.(배열의 첫 번째 요일의 index가 0부터 시작하기 때문에 마지막에 1을 뺌.)\n",
        "\n",
        "결과 : 성공"
      ],
      "metadata": {
        "id": "-wNCQqy0e7do"
      }
    },
    {
      "cell_type": "code",
      "execution_count": 2,
      "metadata": {
        "colab": {
          "base_uri": "https://localhost:8080/",
          "height": 35
        },
        "id": "oI0IIgo5bqbu",
        "outputId": "34d4ae38-0ba7-4b6e-b7cc-80f1fc2fa6d5"
      },
      "outputs": [
        {
          "output_type": "execute_result",
          "data": {
            "text/plain": [
              "'TUE'"
            ],
            "application/vnd.google.colaboratory.intrinsic+json": {
              "type": "string"
            }
          },
          "metadata": {},
          "execution_count": 2
        }
      ],
      "source": [
        "def solution(a, b):\n",
        "    answer = 5\n",
        "    month = [31, 29, 31, 30, 31, 30, 31, 31, 30, 31, 30, 31]\n",
        "    day = ['SUN','MON','TUE','WED','THU','FRI','SAT']\n",
        "\n",
        "    for i in range(a - 1):\n",
        "        answer += month[i]\n",
        "    answer += b\n",
        "    return day[answer % 7 - 1]\n",
        "\n",
        "solution(5, 24)"
      ]
    },
    {
      "cell_type": "markdown",
      "source": [
        "## 다른 사람의 풀이\n",
        "- 모든 일수를 더하는 과정을 반복문을 사용하지 않고 슬라이싱과 sum 함수를 활용하여 구함.\n",
        "- 요일이 저장돼있는 배열 w_list를 'FRI'의 인덱스를 1로 놓고 초기화하여 따로 5를 더할 필요가 없어 훨씬 간단해 보임."
      ],
      "metadata": {
        "id": "tUKMPDxompk9"
      }
    },
    {
      "cell_type": "code",
      "source": [
        "def getDayName(a,b):\n",
        "    m_list=[31,29,31,30,31,30,31,31,30,31,30,31]\n",
        "    w_list=['THU','FRI','SAT','SUN','MON','TUE','WED']\n",
        "    day=sum(m_list[:a-1])+b\n",
        "    answer = w_list[day%7]\n",
        "\n",
        "    return answer"
      ],
      "metadata": {
        "id": "vdbQYgdvmsiP"
      },
      "execution_count": null,
      "outputs": []
    }
  ]
}