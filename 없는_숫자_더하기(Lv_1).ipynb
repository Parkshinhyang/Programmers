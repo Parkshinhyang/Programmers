{
  "nbformat": 4,
  "nbformat_minor": 0,
  "metadata": {
    "colab": {
      "provenance": [],
      "authorship_tag": "ABX9TyOL2/KQrIYRodnTFSJ/4FJL",
      "include_colab_link": true
    },
    "kernelspec": {
      "name": "python3",
      "display_name": "Python 3"
    },
    "language_info": {
      "name": "python"
    }
  },
  "cells": [
    {
      "cell_type": "markdown",
      "metadata": {
        "id": "view-in-github",
        "colab_type": "text"
      },
      "source": [
        "<a href=\"https://colab.research.google.com/github/Parkshinhyang/Programmers/blob/main/%EC%97%86%EB%8A%94_%EC%88%AB%EC%9E%90_%EB%8D%94%ED%95%98%EA%B8%B0(Lv_1).ipynb\" target=\"_parent\"><img src=\"https://colab.research.google.com/assets/colab-badge.svg\" alt=\"Open In Colab\"/></a>"
      ]
    },
    {
      "cell_type": "markdown",
      "source": [
        "## 첫 번째 방법\n",
        "1. 1 부터 9까지 하나씩 저장돼있는 배열 a를 선언한다.(0은 더하나마나이기 때문에 생략)\n",
        "2. a의 원소와 numbers에 원소를 비교하여 numbers에 없는 숫자를 answer에 더해주고 출력한다. \n",
        "\n",
        "결과 : 성공"
      ],
      "metadata": {
        "id": "gfXxNF8eEHKU"
      }
    },
    {
      "cell_type": "code",
      "execution_count": 3,
      "metadata": {
        "colab": {
          "base_uri": "https://localhost:8080/"
        },
        "id": "IQg3OUs48rsV",
        "outputId": "6245066c-b9ad-4f2a-8429-e1f784e419a7"
      },
      "outputs": [
        {
          "output_type": "execute_result",
          "data": {
            "text/plain": [
              "6"
            ]
          },
          "metadata": {},
          "execution_count": 3
        }
      ],
      "source": [
        "def solution(numbers):\n",
        "    answer = 0\n",
        "    a = [1, 2, 3, 4, 5, 6, 7, 8, 9] ## 1 ~ 9까지 저장돼있는 배열 a 생성\n",
        "    ## a와 numbers를 비교하여 numbers에 없는 숫자가 있으면 answer에 저장\n",
        "    for i in a:\n",
        "        if i not in numbers:\n",
        "            answer += i\n",
        "    return answer\n",
        "\n",
        "solution([5,8,4,0,6,7,9])"
      ]
    }
  ]
}