{
  "nbformat": 4,
  "nbformat_minor": 0,
  "metadata": {
    "colab": {
      "provenance": [],
      "authorship_tag": "ABX9TyP9cTGY/pmsMYwFmmGV4dlQ",
      "include_colab_link": true
    },
    "kernelspec": {
      "name": "python3",
      "display_name": "Python 3"
    },
    "language_info": {
      "name": "python"
    }
  },
  "cells": [
    {
      "cell_type": "markdown",
      "metadata": {
        "id": "view-in-github",
        "colab_type": "text"
      },
      "source": [
        "<a href=\"https://colab.research.google.com/github/Parkshinhyang/Programmers/blob/main/124_%EB%82%98%EB%9D%BC%EC%9D%98_%EC%88%AB%EC%9E%90(Lv_2).ipynb\" target=\"_parent\"><img src=\"https://colab.research.google.com/assets/colab-badge.svg\" alt=\"Open In Colab\"/></a>"
      ]
    },
    {
      "cell_type": "markdown",
      "source": [
        "## 첫 번째 방법(반복문)\n",
        "1. 1, 2, 4를 원소로 가지는 배열을 선언.\n",
        "2. numbers가 0 보다 클 때까지 numbers의 나머지로 1, 2, 4 중 알맞은 값을 할당하는 while 반복문을 수행하고 출력.\n",
        "\n",
        "결과 : 실패\n",
        "-> 시간 초과\n",
        "\n",
        "## 두 번째 방법(재귀 함수)\n",
        "1. numbers가 3보다 작거나 같으면 별도의 반복문이 필요없으므로 1, 2, 4가 원소로 되어있는 arr배열에서 출력.\n",
        "2. 몫과 나머지를 한번에 추출하기 위해 divmod함수를 사용.\n",
        "3. 재귀적으로 solution 함수를 반복.\n",
        "\n",
        "결과 : 실패\n",
        "-> 시간 초과\n",
        "\n",
        "## 세 번째 방법(조건문)\n",
        "1. 방법 2와 비슷하지만 재귀 함수를 사용하지 않고 직관적으로 if문으로 각 조건을 다르게 함.\n",
        "\n",
        "결과 : 성공"
      ],
      "metadata": {
        "id": "aKqSvH_2jk8S"
      }
    },
    {
      "cell_type": "code",
      "execution_count": 27,
      "metadata": {
        "colab": {
          "base_uri": "https://localhost:8080/",
          "height": 35
        },
        "id": "ECKlo0bSbSZc",
        "outputId": "4381a92d-83e7-4499-f332-06d4256a8809"
      },
      "outputs": [
        {
          "output_type": "execute_result",
          "data": {
            "text/plain": [
              "'12'"
            ],
            "application/vnd.google.colaboratory.intrinsic+json": {
              "type": "string"
            }
          },
          "metadata": {},
          "execution_count": 27
        }
      ],
      "source": [
        "def solution(numbers):\n",
        "    x = numbers - 1\n",
        "    answer = ''\n",
        "    while True:\n",
        "        x,y = divmod(x,3)\n",
        "        if y == 0:\n",
        "            answer += '1'\n",
        "        elif y == 1:\n",
        "            answer += '2'\n",
        "        else:\n",
        "            answer += '4'\n",
        "        if x == 0:\n",
        "            break\n",
        "        x = x - 1\n",
        "    return answer[::-1]\n",
        "    \n",
        "solution(5)"
      ]
    }
  ]
}