{
  "nbformat": 4,
  "nbformat_minor": 0,
  "metadata": {
    "colab": {
      "provenance": [],
      "authorship_tag": "ABX9TyPbZc52tcwq0CBwWBbySv3T",
      "include_colab_link": true
    },
    "kernelspec": {
      "name": "python3",
      "display_name": "Python 3"
    },
    "language_info": {
      "name": "python"
    }
  },
  "cells": [
    {
      "cell_type": "markdown",
      "metadata": {
        "id": "view-in-github",
        "colab_type": "text"
      },
      "source": [
        "<a href=\"https://colab.research.google.com/github/Parkshinhyang/Programmers/blob/main/%EC%95%BD%EC%88%98%EC%9D%98_%EA%B0%9C%EC%88%98%EC%99%80_%EB%8D%A7%EC%85%88(Lv_1).ipynb\" target=\"_parent\"><img src=\"https://colab.research.google.com/assets/colab-badge.svg\" alt=\"Open In Colab\"/></a>"
      ]
    },
    {
      "cell_type": "markdown",
      "source": [
        "## 첫 번째 방법\n",
        "1. left에서 right까지 수 i를 반환하는 반복문과 1부터 i까지 j를 반환하는 이중 for문으로 i % j가 0일 때 약수인 것을 활용해 cnt를 count.\n",
        "2. cnt가 짝수이면 answer에 i를 더하고, 홀수이면 answer에 i를 빼고 answer를 출력.\n",
        "\n",
        "결과 : 성공"
      ],
      "metadata": {
        "id": "UCrErWXZDNvm"
      }
    },
    {
      "cell_type": "code",
      "execution_count": 14,
      "metadata": {
        "colab": {
          "base_uri": "https://localhost:8080/"
        },
        "id": "QkRH94JG9ZYp",
        "outputId": "4dacaa49-6b5a-498f-a123-bb4ec33609ad"
      },
      "outputs": [
        {
          "output_type": "execute_result",
          "data": {
            "text/plain": [
              "52"
            ]
          },
          "metadata": {},
          "execution_count": 14
        }
      ],
      "source": [
        "def solution(left, right):\n",
        "    cnt = 0\n",
        "    answer = 0\n",
        "    for i in range(left, right + 1):\n",
        "        for j in range(1, i + 1):\n",
        "            if i % j == 0:\n",
        "                cnt += 1\n",
        "        if cnt % 2 == 0:\n",
        "            answer += i\n",
        "            cnt = 0\n",
        "        else:\n",
        "            answer -= i\n",
        "            cnt = 0\n",
        "    return answer\n",
        "\n",
        "solution(24, 27)"
      ]
    }
  ]
}