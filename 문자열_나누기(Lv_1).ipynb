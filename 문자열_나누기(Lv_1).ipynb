{
  "nbformat": 4,
  "nbformat_minor": 0,
  "metadata": {
    "colab": {
      "provenance": [],
      "authorship_tag": "ABX9TyODSkXI6ce+KNuUCRZgyFrA",
      "include_colab_link": true
    },
    "kernelspec": {
      "name": "python3",
      "display_name": "Python 3"
    },
    "language_info": {
      "name": "python"
    }
  },
  "cells": [
    {
      "cell_type": "markdown",
      "metadata": {
        "id": "view-in-github",
        "colab_type": "text"
      },
      "source": [
        "<a href=\"https://colab.research.google.com/github/Parkshinhyang/Programmers/blob/main/%EB%AC%B8%EC%9E%90%EC%97%B4_%EB%82%98%EB%88%84%EA%B8%B0(Lv_1).ipynb\" target=\"_parent\"><img src=\"https://colab.research.google.com/assets/colab-badge.svg\" alt=\"Open In Colab\"/></a>"
      ]
    },
    {
      "cell_type": "markdown",
      "source": [
        "## 첫 번째 방법\n",
        "1. 첫 번째 글자인 x와 x가 아닌 다른 글자를 저장할 배열을 만듦.\n",
        "2. 같은, 다른 글자를 찾기 위해 인덱스를 초기화 함.\n",
        "3. s를 하나하나 읽어가며 첫 번째 글자는 x에, x와 다른 글자는 y에 저장함.\n",
        "4. x와 y의 크기를 비교해 두 배열의 크기가 같을 때 answer을 카운드 해줌.\n",
        "\n",
        "결과 : 실패\n",
        "-> 범위 오류\n",
        "\n",
        "## 두 번째 방법\n",
        "1. 첫 번째 글자인 x, x를 읽은 횟수, x가 아닌 다른 글자를 읽은 횟수를 저장하는 res배열을 선언한다.\n",
        "2. 첫 번째 글자를 읽기 전과 후로 조건문을 나눠 차별화를 주는 반복문을 구현.\n",
        "3. x와 x가 아닌 다른 글자가 다른 상태로 반복문이 끝났을 경우 answer을 하나 증가시켜줌.\n",
        "\n",
        "결과 : 성공"
      ],
      "metadata": {
        "id": "GQ3LxZioPnhy"
      }
    },
    {
      "cell_type": "code",
      "execution_count": null,
      "metadata": {
        "colab": {
          "base_uri": "https://localhost:8080/"
        },
        "id": "8BlrudOELHU0",
        "outputId": "cd4b8f92-545a-4da3-bccc-70b7b49259a0"
      },
      "outputs": [
        {
          "output_type": "execute_result",
          "data": {
            "text/plain": [
              "6"
            ]
          },
          "metadata": {},
          "execution_count": 12
        }
      ],
      "source": [
        "def solution(s):\n",
        "    answer = 0\n",
        "    res = [\"\",0 ,0]\n",
        "\n",
        "    for i in s:\n",
        "        if res[0] == \"\": ## 첫 번째 글자가 읽기 전\n",
        "            res[0] = i\n",
        "            res[1] += 1\n",
        "\n",
        "        else: ## 첫 번째 글자를 읽은 후  \n",
        "            if res[0] == i:\n",
        "                res[1] += 1\n",
        "            else:\n",
        "                res[2] += 1\n",
        "            if res[1] == res[2]:\n",
        "                answer += 1\n",
        "                res = [\"\",0 ,0]\n",
        "    if res != [\"\", 0, 0]:\n",
        "        answer += 1\n",
        "    return answer\n",
        "\n",
        "solution(\"abracadabra\")"
      ]
    },
    {
      "cell_type": "code",
      "source": [],
      "metadata": {
        "id": "HHynW8fmN70q"
      },
      "execution_count": null,
      "outputs": []
    }
  ]
}