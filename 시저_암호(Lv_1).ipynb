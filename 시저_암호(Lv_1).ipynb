{
  "nbformat": 4,
  "nbformat_minor": 0,
  "metadata": {
    "colab": {
      "provenance": [],
      "authorship_tag": "ABX9TyOT8vWq0XoISzS8vxMOaV1r",
      "include_colab_link": true
    },
    "kernelspec": {
      "name": "python3",
      "display_name": "Python 3"
    },
    "language_info": {
      "name": "python"
    }
  },
  "cells": [
    {
      "cell_type": "markdown",
      "metadata": {
        "id": "view-in-github",
        "colab_type": "text"
      },
      "source": [
        "<a href=\"https://colab.research.google.com/github/Parkshinhyang/Programmers/blob/main/%EC%8B%9C%EC%A0%80_%EC%95%94%ED%98%B8(Lv_1).ipynb\" target=\"_parent\"><img src=\"https://colab.research.google.com/assets/colab-badge.svg\" alt=\"Open In Colab\"/></a>"
      ]
    },
    {
      "cell_type": "markdown",
      "source": [
        "##문제 - 시저 암호\n",
        "[문제 링크](https://school.programmers.co.kr/learn/courses/30/lessons/12926)\n",
        "\n",
        "## 문제 설명\n",
        "\n",
        "어떤 문장의 각 알파벳을 일정한 거리만큼 밀어서 다른 알파벳으로 바꾸는 암호화 방식을 시저 암호라고 합니다. 예를 들어 \"AB\"는 1만큼 밀면 \"BC\"가 되고, 3만큼 밀면 \"DE\"가 됩니다. \"z\"는 1만큼 밀면 \"a\"가 됩니다. 문자열 s와 거리 n을 입력받아 s를 n만큼 민 암호문을 만드는 함수, solution을 완성해 보세요.\n",
        "\n",
        "## 제한 조건\n",
        "\n",
        "- 공백은 아무리 밀어도 공백입니다.\n",
        "- s는 알파벳 소문자, 대문자, 공백으로만 이루어져 있습니다.\n",
        "- s의 길이는 8000이하입니다.\n",
        "- n은 1 이상, 25이하인 자연수입니다.\n",
        "\n",
        "## 입출력 예\n",
        "\n",
        "![image.png](data:image/png;base64,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)"
      ],
      "metadata": {
        "id": "f8qfmIMdJpOD"
      }
    },
    {
      "cell_type": "markdown",
      "source": [
        "##첫 번째 방법\n",
        "1. 모든 알파벳이 저장되어 있는 alpha 변수 선언.\n",
        "2. s의 문자를 하나하나 비교하여 i가 대문자면 소문자로 변환.\n",
        "3. i가 대문자고 z가 아니면 alpha에서 i의 index + n 위치에 있는 문자를 추출한 후 대문자로 바꿔주고 answer에 저장.\n",
        "4. i가 z이면 alpha의 n - 1위치에 있는 문자를 추출한 후 대문자로 바꿔주고 answer에 저장.\n",
        "5. i가 공백이면 answer에 ' '을 저장.\n",
        "6. i가 소문자고 z가 아니면 alpha에서 i의 index + n 위치에 있는 문자를 추출한 후 answer에 저장.\n",
        "7.  i가 z이면 i가 z이면 alpha의 n - 1위치에 있는 문자를 추출한 후 answer에 저장하고 answer를 출력.\n",
        "\n",
        "결과 : 실패\n",
        "-> 런타임에러"
      ],
      "metadata": {
        "id": "5ihqRYCUJ1Ql"
      }
    },
    {
      "cell_type": "code",
      "execution_count": null,
      "metadata": {
        "colab": {
          "base_uri": "https://localhost:8080/",
          "height": 35
        },
        "id": "s13zstIcDrSZ",
        "outputId": "25cea87d-a538-4907-824a-e19f66926374"
      },
      "outputs": [
        {
          "output_type": "execute_result",
          "data": {
            "text/plain": [
              "'e F d'"
            ],
            "application/vnd.google.colaboratory.intrinsic+json": {
              "type": "string"
            }
          },
          "metadata": {},
          "execution_count": 12
        }
      ],
      "source": [
        "def solution(s, n):\n",
        "    answer = ''\n",
        "    alpha = 'abcdefghijklmnopqrstuvwxyz'\n",
        "    for i in s:\n",
        "        if i.isupper():\n",
        "            i = i.lower()\n",
        "            if i != 'z':\n",
        "                answer += alpha[alpha.index(i) + n].upper()\n",
        "            else:\n",
        "                answer += alpha[n - 1].upper()\n",
        "        elif i == ' ':\n",
        "            answer += ' '\n",
        "        else:\n",
        "            if i != 'z':    \n",
        "                answer += alpha[alpha.index(i) + n]\n",
        "            else:\n",
        "                answer += alpha[n - 1]\n",
        "    return answer\n",
        "\n",
        "solution(\"a B z\", 4)"
      ]
    },
    {
      "cell_type": "markdown",
      "source": [
        "## 두 번째 방법\n",
        "\n",
        "1. s의 문자를 i로 두고 순차적으로 탐색해 공백이면 answer에 공백 추가.\n",
        "2. i가 소문자고 i의 아스키코드로 전환한 10진수 + n이 122보다 크면 answer에 아스키코드로 전환한 10진수 + n - 26의 값을 가지는 문자를 추가, 아니면 아스키코드로 전환한 10진수 + n를 추가. 대문자일 때도 이하동문.\n",
        "\n",
        "결과 : 성공"
      ],
      "metadata": {
        "id": "M21eoCMqL2x7"
      }
    },
    {
      "cell_type": "code",
      "source": [
        "def solution(s, n):\n",
        "    answer = ''\n",
        "\n",
        "    for i in s:\n",
        "        if i == ' ':\n",
        "            answer += ' '\n",
        "            continue\n",
        "        if i.islower():\n",
        "            if ord(i) + n > 122:\n",
        "                answer += chr(ord(i) + n - 26)\n",
        "            else:\n",
        "                answer += chr(ord(i) + n)\n",
        "        if i.isupper():\n",
        "            if ord(i) + n > 90:\n",
        "                answer += chr(ord(i) + n - 26)\n",
        "            else:\n",
        "                answer += chr(ord(i) + n)\n",
        "    return answer\n",
        "\n",
        "solution(\"a B z\", 4)"
      ],
      "metadata": {
        "colab": {
          "base_uri": "https://localhost:8080/",
          "height": 35
        },
        "id": "hQfuZi0oFXLN",
        "outputId": "514fb8d9-c1d1-456c-d6ed-04ae88eb099b"
      },
      "execution_count": 27,
      "outputs": [
        {
          "output_type": "execute_result",
          "data": {
            "text/plain": [
              "'e F d'"
            ],
            "application/vnd.google.colaboratory.intrinsic+json": {
              "type": "string"
            }
          },
          "metadata": {},
          "execution_count": 27
        }
      ]
    }
  ]
}