{
  "nbformat": 4,
  "nbformat_minor": 0,
  "metadata": {
    "colab": {
      "provenance": [],
      "authorship_tag": "ABX9TyN+ThVHmmOw/W0ORRPPI53u",
      "include_colab_link": true
    },
    "kernelspec": {
      "name": "python3",
      "display_name": "Python 3"
    },
    "language_info": {
      "name": "python"
    }
  },
  "cells": [
    {
      "cell_type": "markdown",
      "metadata": {
        "id": "view-in-github",
        "colab_type": "text"
      },
      "source": [
        "<a href=\"https://colab.research.google.com/github/Parkshinhyang/Programmers/blob/main/%EB%A1%9C%EB%98%90%EC%9D%98_%EC%B5%9C%EA%B3%A0_%EC%88%9C%EC%9C%84%EC%99%80_%EC%B5%9C%EC%A0%80_%EC%88%9C%EC%9C%84(Lv_1).ipynb\" target=\"_parent\"><img src=\"https://colab.research.google.com/assets/colab-badge.svg\" alt=\"Open In Colab\"/></a>"
      ]
    },
    {
      "cell_type": "markdown",
      "source": [
        "## 첫 번째 방법\n",
        "1. lottos와 win_nums에서 겹치는 원소를 카운트 해줄 cnt와 lottos의 0의 개수를 카운터 해줄 변수 zore_cnt를 선언.  \n",
        "2. cnt에 따라 순위가 정해질 수 있게 순위가 원소로 들어있는 rank 배열을 선언.\n",
        "3. lottos의 원소를 하나한 읽어 win_nums와 비교.\n",
        "4. 0이 당첨 번호라고 가정한 순위를 출력하기 위해 cnt와 zore_cnt를 더한 값의 순위를 출력\n",
        "5. 0이 당첨 번호라고 가정하지 않은 순위를 출력하기 위해 cnt값의 순위를 출력.\n",
        "\n",
        "결과 : 성공"
      ],
      "metadata": {
        "id": "YEf_GiYJUjvm"
      }
    },
    {
      "cell_type": "code",
      "execution_count": 5,
      "metadata": {
        "colab": {
          "base_uri": "https://localhost:8080/"
        },
        "id": "rqFPazjHQwI7",
        "outputId": "0a4fe7e5-0122-4f7f-9dec-f1f077030923"
      },
      "outputs": [
        {
          "output_type": "execute_result",
          "data": {
            "text/plain": [
              "[3, 5]"
            ]
          },
          "metadata": {},
          "execution_count": 5
        }
      ],
      "source": [
        "def solution(lottos, win_nums):\n",
        "    answer = []\n",
        "    zero_cnt = 0\n",
        "    cnt = 0\n",
        "    rank = [6, 6, 5, 4, 3, 2, 1]\n",
        "    for i in lottos:\n",
        "        if i in win_nums:\n",
        "            cnt += 1\n",
        "        elif i == 0:\n",
        "            zero_cnt += 1\n",
        "    \n",
        "    answer.append(rank[cnt + zero_cnt])\n",
        "    answer.append(rank[cnt])\n",
        "\n",
        "    return answer\n",
        "\n",
        "solution([44, 1, 0, 0, 31, 25], [31, 10, 45, 1, 6, 19])"
      ]
    }
  ]
}
