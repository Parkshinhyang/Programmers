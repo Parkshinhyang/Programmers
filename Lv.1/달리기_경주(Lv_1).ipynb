{
  "nbformat": 4,
  "nbformat_minor": 0,
  "metadata": {
    "colab": {
      "provenance": [],
      "authorship_tag": "ABX9TyOfguucoplU+2GMpIhU0J8s",
      "include_colab_link": true
    },
    "kernelspec": {
      "name": "python3",
      "display_name": "Python 3"
    },
    "language_info": {
      "name": "python"
    }
  },
  "cells": [
    {
      "cell_type": "markdown",
      "metadata": {
        "id": "view-in-github",
        "colab_type": "text"
      },
      "source": [
        "<a href=\"https://colab.research.google.com/github/Parkshinhyang/Programmers/blob/main/%EB%8B%AC%EB%A6%AC%EA%B8%B0_%EA%B2%BD%EC%A3%BC(Lv_1).ipynb\" target=\"_parent\"><img src=\"https://colab.research.google.com/assets/colab-badge.svg\" alt=\"Open In Colab\"/></a>"
      ]
    },
    {
      "cell_type": "markdown",
      "source": [
        "# 문제 - 달리기 경주\n",
        "[문제 링크](https://school.programmers.co.kr/learn/courses/30/lessons/178871)\n",
        "\n",
        "## 문제 설명\n",
        "\n",
        "얀에서는 매년 달리기 경주가 열립니다. 해설진들은 선수들이 자기 바로 앞의 선수를 추월할 때 추월한 선수의 이름을 부릅니다. 예를 들어 1등부터 3등까지 \"mumu\", \"soe\", \"poe\" 선수들이 순서대로 달리고 있을 때, 해설진이 \"soe\"선수를 불렀다면 2등인 \"soe\" 선수가 1등인 \"mumu\" 선수를 추월했다는 것입니다. 즉 \"soe\" 선수가 1등, \"mumu\" 선수가 2등으로 바뀝니다.\n",
        "\n",
        "선수들의 이름이 1등부터 현재 등수 순서대로 담긴 문자열 배열 players와 해설진이 부른 이름을 담은 문자열 배열 callings가 매개변수로 주어질 때, 경주가 끝났을 때 선수들의 이름을 1등부터 등수 순서대로 배열에 담아 return 하는 solution 함수를 완성해주세요.\n",
        "\n",
        "## 제한사항\n",
        "\n",
        "- 5 ≤ players의 길이 ≤ 50,000\n",
        "    - players[i]는 i번째 선수의 이름을 의미합니다.\n",
        "    - players의 원소들은 알파벳 소문자로만 이루어져 있습니다.\n",
        "    - players에는 중복된 값이 들어가 있지 않습니다.\n",
        "    - 3 ≤ players[i]의 길이 ≤ 10\n",
        "- 2 ≤ callings의 길이 ≤ 1,000,000\n",
        "    - callings는 players의 원소들로만 이루어져 있습니다.\n",
        "    - 경주 진행중 1등인 선수의 이름은 불리지 않습니다.\n",
        "\n",
        "## 입출력 예\n",
        "\n",
        "![image.png](data:image/png;base64,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)\n",
        "\n",
        "## 입출력 예 설명\n",
        "\n",
        "### 입출력 예 #1\n",
        "\n",
        "4등인 \"kai\" 선수가 2번 추월하여 2등이 되고 앞서 3등, 2등인 \"poe\", \"soe\" 선수는 4등, 3등이 됩니다. 5등인 \"mine\" 선수가 2번 추월하여 4등, 3등인 \"poe\", \"soe\" 선수가 5등, 4등이 되고 경주가 끝납니다. 1등부터 배열에 담으면 [\"mumu\", \"kai\", \"mine\", \"soe\", \"poe\"]이 됩니다."
      ],
      "metadata": {
        "id": "juayxyVuD7qh"
      }
    },
    {
      "cell_type": "markdown",
      "source": [
        "## 첫 번째 방법\n",
        "\n",
        "1. calling의 index를 idx에 저장.\n",
        "2. players[idx]와 players[idx - 1]과 스왑한 후 players을 return.\n",
        "\n",
        "결과 : 실패 \n",
        "\n",
        "-> 시간 초과"
      ],
      "metadata": {
        "id": "VTQjGRQ1HhaN"
      }
    },
    {
      "cell_type": "code",
      "execution_count": 23,
      "metadata": {
        "colab": {
          "base_uri": "https://localhost:8080/"
        },
        "id": "mFjAqdcAD5tO",
        "outputId": "1d5b97c4-6672-45e0-84b6-50013065c0f6"
      },
      "outputs": [
        {
          "output_type": "execute_result",
          "data": {
            "text/plain": [
              "['mumu', 'kai', 'mine', 'soe', 'poe']"
            ]
          },
          "metadata": {},
          "execution_count": 23
        }
      ],
      "source": [
        "def solution(players, callings):\n",
        "    \n",
        "    for calling in callings:\n",
        "        idx = players.index(calling)\n",
        "        players[idx], players[idx - 1] = players[idx - 1], players[idx]\n",
        "    return players\n",
        "solution([\"mumu\", \"soe\", \"poe\", \"kai\", \"mine\"], [\"kai\", \"kai\", \"mine\", \"mine\"])"
      ]
    },
    {
      "cell_type": "markdown",
      "source": [
        "## 두 번째 방법\n",
        "\n",
        "1. 입력받은 players의 원소와 원소의 인덱스를 키 값, 값 키로하는 딕셔너리를 두 개 생성.\n",
        "2. callings를 순차적으로 탐색해 추월한 사람과 추월당한 사람의 키와 값을 업데이트.\n",
        "3. 인덱스를 키로 하는 딕셔너리의 값을 리스트 형태로 return.\n",
        "\n",
        "결과 : 성공\n",
        "\n",
        "-> index함수를 사용하는 것보다 딕셔너리로 인덱스를 하나하나 관리해나가는 것이 보다 효율적."
      ],
      "metadata": {
        "id": "6-Nm9nSjo4U3"
      }
    },
    {
      "cell_type": "code",
      "source": [
        "def solution(players, callings):\n",
        "    players_idx = {player : i for i, player in enumerate(players)}\n",
        "    idx_players = {i : player for i, player in enumerate(players)}\n",
        "\n",
        "    for calling in callings:\n",
        "        player_idx = players_idx[calling]\n",
        "        change_player = idx_players[player_idx - 1]\n",
        "\n",
        "        players_idx[change_player] = player_idx\n",
        "        players_idx[calling] = player_idx - 1\n",
        "        idx_players[player_idx - 1] = calling\n",
        "        idx_players[player_idx] = change_player\n",
        "        \n",
        "    return list(idx_players.values())\n",
        "solution([\"mumu\", \"soe\", \"poe\", \"kai\", \"mine\"], [\"kai\", \"kai\", \"mine\", \"mine\"])"
      ],
      "metadata": {
        "colab": {
          "base_uri": "https://localhost:8080/"
        },
        "id": "p8WtHuC0HzTE",
        "outputId": "1a430947-a20f-4f7a-9efb-702bbdabf996"
      },
      "execution_count": 36,
      "outputs": [
        {
          "output_type": "execute_result",
          "data": {
            "text/plain": [
              "['mumu', 'kai', 'mine', 'soe', 'poe']"
            ]
          },
          "metadata": {},
          "execution_count": 36
        }
      ]
    },
    {
      "cell_type": "code",
      "source": [],
      "metadata": {
        "id": "1B-E-5BwkMQF"
      },
      "execution_count": null,
      "outputs": []
    }
  ]
}
