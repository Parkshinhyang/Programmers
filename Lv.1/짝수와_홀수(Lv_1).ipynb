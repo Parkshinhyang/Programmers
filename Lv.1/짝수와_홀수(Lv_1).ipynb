{
  "nbformat": 4,
  "nbformat_minor": 0,
  "metadata": {
    "colab": {
      "provenance": [],
      "authorship_tag": "ABX9TyNildxw0FFNq7zrqXPBkjhK",
      "include_colab_link": true
    },
    "kernelspec": {
      "name": "python3",
      "display_name": "Python 3"
    },
    "language_info": {
      "name": "python"
    }
  },
  "cells": [
    {
      "cell_type": "markdown",
      "metadata": {
        "id": "view-in-github",
        "colab_type": "text"
      },
      "source": [
        "<a href=\"https://colab.research.google.com/github/Parkshinhyang/Programmers/blob/main/%EC%A7%9D%EC%88%98%EC%99%80_%ED%99%80%EC%88%98(Lv_1).ipynb\" target=\"_parent\"><img src=\"https://colab.research.google.com/assets/colab-badge.svg\" alt=\"Open In Colab\"/></a>"
      ]
    },
    {
      "cell_type": "markdown",
      "source": [
        "## 문제 - 짝수와 홀수\n",
        "https://school.programmers.co.kr/learn/courses/30/lessons/12937"
      ],
      "metadata": {
        "id": "bTHYbKdOOGqI"
      }
    },
    {
      "cell_type": "markdown",
      "source": [
        "## 첫 번째 방법\n",
        "1. 입력받은 num을 2로 나눴을 때 나머지가 1이면 홀수, \"Odd\"를 return.\n",
        "2. 그 외의 경우는 짝수, \"Even\"을 return.\n",
        "\n",
        "결과 : 성공"
      ],
      "metadata": {
        "id": "AGphuXK0OI44"
      }
    },
    {
      "cell_type": "code",
      "execution_count": 8,
      "metadata": {
        "colab": {
          "base_uri": "https://localhost:8080/",
          "height": 35
        },
        "id": "V649iaAuOEpz",
        "outputId": "e5715ce6-be37-472e-e480-71d9ab2dfe62"
      },
      "outputs": [
        {
          "output_type": "execute_result",
          "data": {
            "text/plain": [
              "'Even'"
            ],
            "application/vnd.google.colaboratory.intrinsic+json": {
              "type": "string"
            }
          },
          "metadata": {},
          "execution_count": 8
        }
      ],
      "source": [
        "def solution(num):\n",
        "    if num % 2 == 1:\n",
        "        return \"Odd\"\n",
        "    else:\n",
        "        return \"Even\"\n",
        "solution(4)"
      ]
    }
  ]
}
