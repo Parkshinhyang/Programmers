{
  "nbformat": 4,
  "nbformat_minor": 0,
  "metadata": {
    "colab": {
      "provenance": [],
      "authorship_tag": "ABX9TyMNlHxHkCM/CXasJN9arn04",
      "include_colab_link": true
    },
    "kernelspec": {
      "name": "python3",
      "display_name": "Python 3"
    },
    "language_info": {
      "name": "python"
    }
  },
  "cells": [
    {
      "cell_type": "markdown",
      "metadata": {
        "id": "view-in-github",
        "colab_type": "text"
      },
      "source": [
        "<a href=\"https://colab.research.google.com/github/Parkshinhyang/Programmers/blob/main/%EC%A7%81%EC%82%AC%EA%B0%81%ED%98%95_%EB%B3%84%EC%B0%8D%EA%B8%B0(Lv_1).ipynb\" target=\"_parent\"><img src=\"https://colab.research.google.com/assets/colab-badge.svg\" alt=\"Open In Colab\"/></a>"
      ]
    },
    {
      "cell_type": "markdown",
      "source": [
        "## 문제 - 직사각형 별찍기\n",
        "https://school.programmers.co.kr/learn/courses/30/lessons/12969"
      ],
      "metadata": {
        "id": "-zJte2jNomF5"
      }
    },
    {
      "cell_type": "markdown",
      "source": [
        "## 첫 번째 방법\n",
        "1. 이중 for문으로 가로는 b만큼, 세로는 a만큼 \"*\"을 출력.\n",
        "2. 한 줄을 다 찍었으면 print함수를 사용해 라인을 바꿈.\n",
        "\n",
        "결과 : 성공"
      ],
      "metadata": {
        "id": "sFgGUQP0pYRv"
      }
    },
    {
      "cell_type": "code",
      "execution_count": 5,
      "metadata": {
        "colab": {
          "base_uri": "https://localhost:8080/"
        },
        "id": "olRdP08_oi9q",
        "outputId": "ae2bdd59-b4e3-4d25-ed7a-46652820ad80"
      },
      "outputs": [
        {
          "output_type": "stream",
          "name": "stdout",
          "text": [
            "5 3\n",
            "*****\n",
            "*****\n",
            "*****\n"
          ]
        }
      ],
      "source": [
        "a, b = map(int, input().strip().split(' '))\n",
        "for i in range(b):\n",
        "    for i in range(a):\n",
        "        print(\"*\", end ='')\n",
        "    print()"
      ]
    },
    {
      "cell_type": "markdown",
      "source": [
        "## 다른 사람의 풀이\n"
      ],
      "metadata": {
        "id": "UO0cOFTWpuMQ"
      }
    },
    {
      "cell_type": "markdown",
      "source": [
        "- 반복문을 사용하지 않고 산술연산으로만 구현. \n",
        "- P.S. 별찍기 문제는 꼭 for문을 사용해 풀어야 한다는 고정관념을 깰 필요가 있음."
      ],
      "metadata": {
        "id": "co7qB6W6pzUA"
      }
    },
    {
      "cell_type": "code",
      "source": [
        "a, b = map(int, input().strip().split(' '))\n",
        "answer = ('*'*a +'\\n')*b\n",
        "print(answer)"
      ],
      "metadata": {
        "colab": {
          "base_uri": "https://localhost:8080/"
        },
        "id": "KqJklF5FpwRQ",
        "outputId": "4954007a-a00b-4586-938f-3a41c107bfd8"
      },
      "execution_count": 6,
      "outputs": [
        {
          "output_type": "stream",
          "name": "stdout",
          "text": [
            "5 3\n",
            "*****\n",
            "*****\n",
            "*****\n",
            "\n"
          ]
        }
      ]
    }
  ]
}
