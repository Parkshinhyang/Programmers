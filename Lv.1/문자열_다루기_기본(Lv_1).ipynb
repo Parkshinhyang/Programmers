{
  "nbformat": 4,
  "nbformat_minor": 0,
  "metadata": {
    "colab": {
      "provenance": [],
      "authorship_tag": "ABX9TyP4tVDCRI0M0ixnp89vfTtD",
      "include_colab_link": true
    },
    "kernelspec": {
      "name": "python3",
      "display_name": "Python 3"
    },
    "language_info": {
      "name": "python"
    }
  },
  "cells": [
    {
      "cell_type": "markdown",
      "metadata": {
        "id": "view-in-github",
        "colab_type": "text"
      },
      "source": [
        "<a href=\"https://colab.research.google.com/github/Parkshinhyang/Programmers/blob/main/%EB%AC%B8%EC%9E%90%EC%97%B4_%EB%8B%A4%EB%A3%A8%EA%B8%B0_%EA%B8%B0%EB%B3%B8(Lv_1).ipynb\" target=\"_parent\"><img src=\"https://colab.research.google.com/assets/colab-badge.svg\" alt=\"Open In Colab\"/></a>"
      ]
    },
    {
      "cell_type": "markdown",
      "source": [
        "## 문제 - 문자열 다루기 기본\n",
        "https://school.programmers.co.kr/learn/courses/30/lessons/12918"
      ],
      "metadata": {
        "id": "HVMv7NgzDofZ"
      }
    },
    {
      "cell_type": "markdown",
      "source": [
        "##첫 번째 방법\n",
        "1. s의 크기가 4 또는 6이며 isdigit함수를 사용하요 숫자로만 구성되어 있는지 확인.\n",
        "2. 조건을 충족하면 True를 출력 충족하지 않으면 False를 출력.\n",
        "\n",
        "결과 : 성공\n"
      ],
      "metadata": {
        "id": "uv1347AwEbL_"
      }
    },
    {
      "cell_type": "code",
      "execution_count": 3,
      "metadata": {
        "colab": {
          "base_uri": "https://localhost:8080/"
        },
        "id": "c9jUcZYaDlkO",
        "outputId": "720deca1-eac2-4302-88a3-4b1ee10d552e"
      },
      "outputs": [
        {
          "output_type": "execute_result",
          "data": {
            "text/plain": [
              "False"
            ]
          },
          "metadata": {},
          "execution_count": 3
        }
      ],
      "source": [
        "def solution(s):\n",
        "    if len(s) == 4 or len(s) == 6:\n",
        "        if s.isdigit():\n",
        "            return True\n",
        "        else:\n",
        "            return False\n",
        "    else:\n",
        "        return False\n",
        "solution(\"a234\")"
      ]
    },
    {
      "cell_type": "markdown",
      "source": [
        "##다른 사람의 풀이 (- - , - , - , - , - 외 61 명)\n",
        "- 조건문을 통해 크기 비교를 하는 것이 아닌 '4와 6이 저장되어 있는 리스트에 크기가 포함되어 있나'라고 접근하는 방식이 인상적.\n"
      ],
      "metadata": {
        "id": "bORug7q_Eqs7"
      }
    },
    {
      "cell_type": "code",
      "source": [
        "def alpha_string46(s):\n",
        "    return s.isdigit() and len(s) in (4, 6)"
      ],
      "metadata": {
        "id": "4kcPCdr6EZmN"
      },
      "execution_count": 4,
      "outputs": []
    }
  ]
}
