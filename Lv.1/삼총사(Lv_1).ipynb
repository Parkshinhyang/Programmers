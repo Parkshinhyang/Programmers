{
  "nbformat": 4,
  "nbformat_minor": 0,
  "metadata": {
    "colab": {
      "provenance": [],
      "authorship_tag": "ABX9TyPdKSVAqYnMY0/GlPFuMBtd",
      "include_colab_link": true
    },
    "kernelspec": {
      "name": "python3",
      "display_name": "Python 3"
    },
    "language_info": {
      "name": "python"
    }
  },
  "cells": [
    {
      "cell_type": "markdown",
      "metadata": {
        "id": "view-in-github",
        "colab_type": "text"
      },
      "source": [
        "<a href=\"https://colab.research.google.com/github/Parkshinhyang/Programmers/blob/main/%EC%82%BC%EC%B4%9D%EC%82%AC(Lv_1).ipynb\" target=\"_parent\"><img src=\"https://colab.research.google.com/assets/colab-badge.svg\" alt=\"Open In Colab\"/></a>"
      ]
    },
    {
      "cell_type": "markdown",
      "source": [
        "## 첫 번째 방법\n",
        "1. combination 라이브러리를 사용하여 number의 원소를 3개씩 묶어 arr에 저장.\n",
        "2. arr의 길이만큼 반복하는 반복문을 통해 3개씩 묶인 arr의 원소들의 합이 0이면 answer을 카운트.\n",
        "\n",
        "결과 : 성공\n"
      ],
      "metadata": {
        "id": "4xkpc6N76tgb"
      }
    },
    {
      "cell_type": "code",
      "execution_count": 3,
      "metadata": {
        "colab": {
          "base_uri": "https://localhost:8080/"
        },
        "id": "UGArFYDM22VK",
        "outputId": "6197b84c-a3c2-45e1-bc40-42e3f6a06b2f"
      },
      "outputs": [
        {
          "output_type": "execute_result",
          "data": {
            "text/plain": [
              "0"
            ]
          },
          "metadata": {},
          "execution_count": 3
        }
      ],
      "source": [
        "from itertools import combinations\n",
        "\n",
        "def solution(number):\n",
        "    answer = 0\n",
        "    arr = list(combinations(number, 3))\n",
        "    for i in range(len(arr)):\n",
        "        if sum(arr[i]) == 0:\n",
        "            answer += 1\n",
        "\n",
        "    return answer\n",
        "    \n",
        "solution([-1, 1, -1, 1])"
      ]
    }
  ]
}
