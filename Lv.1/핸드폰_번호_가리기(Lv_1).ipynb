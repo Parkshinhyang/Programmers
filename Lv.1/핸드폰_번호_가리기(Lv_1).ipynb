{
  "nbformat": 4,
  "nbformat_minor": 0,
  "metadata": {
    "colab": {
      "provenance": [],
      "authorship_tag": "ABX9TyOz0FifkvacO4dDXHxUcDMB",
      "include_colab_link": true
    },
    "kernelspec": {
      "name": "python3",
      "display_name": "Python 3"
    },
    "language_info": {
      "name": "python"
    }
  },
  "cells": [
    {
      "cell_type": "markdown",
      "metadata": {
        "id": "view-in-github",
        "colab_type": "text"
      },
      "source": [
        "<a href=\"https://colab.research.google.com/github/Parkshinhyang/Programmers/blob/main/%ED%95%B8%EB%93%9C%ED%8F%B0_%EB%B2%88%ED%98%B8_%EA%B0%80%EB%A6%AC%EA%B8%B0(Lv_1).ipynb\" target=\"_parent\"><img src=\"https://colab.research.google.com/assets/colab-badge.svg\" alt=\"Open In Colab\"/></a>"
      ]
    },
    {
      "cell_type": "markdown",
      "source": [
        "## 문제 - 핸드폰 번호 가리기\n",
        "https://school.programmers.co.kr/learn/courses/30/lessons/12948"
      ],
      "metadata": {
        "id": "1srf0NJebpDg"
      }
    },
    {
      "cell_type": "markdown",
      "source": [
        "## 첫 번째 방법\n",
        "1. answer에 phone_number의 길이 - 4만큼 \"*\"를 곱한만큼 더함.\n",
        "2. answer에 phone_number[-4:] 즉, 끝에서 네 번째부터 끝까지의 문자를 더하고 answer을 return.\n",
        "\n",
        "결과 : 성공\n"
      ],
      "metadata": {
        "id": "hHKPc4TdbrTl"
      }
    },
    {
      "cell_type": "code",
      "execution_count": 9,
      "metadata": {
        "colab": {
          "base_uri": "https://localhost:8080/",
          "height": 35
        },
        "id": "IgONC46bbk_c",
        "outputId": "e3e38e62-6392-4447-d259-2f5873fa02d9"
      },
      "outputs": [
        {
          "output_type": "execute_result",
          "data": {
            "text/plain": [
              "'*****8888'"
            ],
            "application/vnd.google.colaboratory.intrinsic+json": {
              "type": "string"
            }
          },
          "metadata": {},
          "execution_count": 9
        }
      ],
      "source": [
        "def solution(phone_number):\n",
        "    answer = ''\n",
        "    answer += '*' * (len(phone_number) - 4)\n",
        "    answer += phone_number[-4:  ]\n",
        "    return answer\n",
        "solution(\"027778888\")"
      ]
    }
  ]
}
