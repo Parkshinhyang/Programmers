{
  "nbformat": 4,
  "nbformat_minor": 0,
  "metadata": {
    "colab": {
      "provenance": [],
      "authorship_tag": "ABX9TyOcysWV47LOK4ldLGIjP4pq",
      "include_colab_link": true
    },
    "kernelspec": {
      "name": "python3",
      "display_name": "Python 3"
    },
    "language_info": {
      "name": "python"
    }
  },
  "cells": [
    {
      "cell_type": "markdown",
      "metadata": {
        "id": "view-in-github",
        "colab_type": "text"
      },
      "source": [
        "<a href=\"https://colab.research.google.com/github/Parkshinhyang/Programmers/blob/main/%EA%B3%BC%EC%9D%BC_%EC%9E%A5%EC%88%98(Lv_1).ipynb\" target=\"_parent\"><img src=\"https://colab.research.google.com/assets/colab-badge.svg\" alt=\"Open In Colab\"/></a>"
      ]
    },
    {
      "cell_type": "markdown",
      "source": [
        "## 문제 - 과일 장수\n",
        "https://school.programmers.co.kr/learn/courses/30/lessons/135808"
      ],
      "metadata": {
        "id": "MZ65X4b8XTAr"
      }
    },
    {
      "cell_type": "markdown",
      "source": [
        "# 첫 번째 방법\n",
        "1. socre를 내림차순으로 정렬.\n",
        "2. 0부터 score의 크기만큼 m씩 증가하는 반복문으로 score를 i부터 m + i까지 슬라이싱한 값인 arr 설정.\n",
        "3. arr의 길이가 m이면 answer에 arr 중 가장 작은 값을 m만큼 곱한 값을 저장 후 출력.\n",
        "\n",
        "결과 : 성공"
      ],
      "metadata": {
        "id": "KhY5nWgvXS7Y"
      }
    },
    {
      "cell_type": "code",
      "execution_count": 7,
      "metadata": {
        "colab": {
          "base_uri": "https://localhost:8080/"
        },
        "id": "jj9L-dQjTLrz",
        "outputId": "1c887997-a71c-4712-cc72-d4ee75046fdc"
      },
      "outputs": [
        {
          "output_type": "execute_result",
          "data": {
            "text/plain": [
              "8"
            ]
          },
          "metadata": {},
          "execution_count": 7
        }
      ],
      "source": [
        "def solution(k, m, score):\n",
        "    answer = 0\n",
        "    score = sorted(score, reverse = True)\n",
        "\n",
        "    for i in range(0, len(score), m):\n",
        "        arr = score[i : m + i]\n",
        "        if len(arr) == m:\n",
        "            answer += min(arr) * m\n",
        "    return answer\n",
        "\n",
        "solution(3, 4 ,\t[1, 2, 3, 1, 2, 3, 1])"
      ]
    }
  ]
}
