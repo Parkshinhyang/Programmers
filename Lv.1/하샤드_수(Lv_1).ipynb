{
  "nbformat": 4,
  "nbformat_minor": 0,
  "metadata": {
    "colab": {
      "provenance": [],
      "authorship_tag": "ABX9TyOImQ1pI5NtPiC2eITbtVWH",
      "include_colab_link": true
    },
    "kernelspec": {
      "name": "python3",
      "display_name": "Python 3"
    },
    "language_info": {
      "name": "python"
    }
  },
  "cells": [
    {
      "cell_type": "markdown",
      "metadata": {
        "id": "view-in-github",
        "colab_type": "text"
      },
      "source": [
        "<a href=\"https://colab.research.google.com/github/Parkshinhyang/Programmers/blob/main/%ED%95%98%EC%83%A4%EB%93%9C_%EC%88%98(Lv_1).ipynb\" target=\"_parent\"><img src=\"https://colab.research.google.com/assets/colab-badge.svg\" alt=\"Open In Colab\"/></a>"
      ]
    },
    {
      "cell_type": "markdown",
      "source": [
        "## 첫 번째 방법\n",
        "1. 입력받은 x를 변수 num에 저장하고 x는 tpe을 str으로 변환.\n",
        "2. x의 길이만큼 반복하는 반복문에서 x의 각 문자 합을 num2에 저장.\n",
        "3. num 을 num2로 나눴을 때 나머지가 0이면 True, 0이 아니면 False를 return.\n",
        "\n",
        "결과 : 성공"
      ],
      "metadata": {
        "id": "BihUh7suAPMT"
      }
    },
    {
      "cell_type": "code",
      "execution_count": 14,
      "metadata": {
        "colab": {
          "base_uri": "https://localhost:8080/"
        },
        "id": "KNEB2w9w968a",
        "outputId": "1be4304f-64ca-44d8-f8a4-2ef6edabdf96"
      },
      "outputs": [
        {
          "output_type": "execute_result",
          "data": {
            "text/plain": [
              "True"
            ]
          },
          "metadata": {},
          "execution_count": 14
        }
      ],
      "source": [
        "def solution(x):\n",
        "    num = x\n",
        "    x = str(x)\n",
        "    num2 = 0\n",
        "    for i in range(len(x)):\n",
        "        num2 += int(x[i])\n",
        "    if num % num2 == 0:\n",
        "        return True\n",
        "    else:\n",
        "        return False\n",
        "\n",
        "solution(12)"
      ]
    },
    {
      "cell_type": "code",
      "source": [],
      "metadata": {
        "id": "xklQ91v2-piH"
      },
      "execution_count": null,
      "outputs": []
    }
  ]
}
