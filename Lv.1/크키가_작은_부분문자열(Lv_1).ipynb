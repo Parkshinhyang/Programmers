{
  "nbformat": 4,
  "nbformat_minor": 0,
  "metadata": {
    "colab": {
      "provenance": [],
      "authorship_tag": "ABX9TyOCj7OcrU9OEyLRYMW8l7jT",
      "include_colab_link": true
    },
    "kernelspec": {
      "name": "python3",
      "display_name": "Python 3"
    },
    "language_info": {
      "name": "python"
    }
  },
  "cells": [
    {
      "cell_type": "markdown",
      "metadata": {
        "id": "view-in-github",
        "colab_type": "text"
      },
      "source": [
        "<a href=\"https://colab.research.google.com/github/Parkshinhyang/Programmers/blob/main/%ED%81%AC%ED%82%A4%EA%B0%80_%EC%9E%91%EC%9D%80_%EB%B6%80%EB%B6%84%EB%AC%B8%EC%9E%90%EC%97%B4(Lv_1).ipynb\" target=\"_parent\"><img src=\"https://colab.research.google.com/assets/colab-badge.svg\" alt=\"Open In Colab\"/></a>"
      ]
    },
    {
      "cell_type": "code",
      "execution_count": null,
      "metadata": {
        "colab": {
          "base_uri": "https://localhost:8080/"
        },
        "id": "gIpvC8ccdSop",
        "outputId": "018a01db-3de3-43e1-f110-694208d295ed"
      },
      "outputs": [
        {
          "output_type": "execute_result",
          "data": {
            "text/plain": [
              "2"
            ]
          },
          "metadata": {},
          "execution_count": 8
        }
      ],
      "source": [
        "def solution(t, p):\n",
        "    answer = 0\n",
        "    p_len = len(p)\n",
        "    for i in range(len(t) - p_len+1):\n",
        "        if int(t[i:i+p_len]) <= int(p):\n",
        "            answer += 1\n",
        "    return answer\n",
        "\n",
        "solution(\"3141592\", \"271\")"
      ]
    },
    {
      "cell_type": "code",
      "source": [],
      "metadata": {
        "id": "RKWlZtoUhpzO"
      },
      "execution_count": null,
      "outputs": []
    }
  ]
}
