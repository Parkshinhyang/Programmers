{
  "nbformat": 4,
  "nbformat_minor": 0,
  "metadata": {
    "colab": {
      "provenance": [],
      "authorship_tag": "ABX9TyPy6y7SrwurrLxa0acEDuMM",
      "include_colab_link": true
    },
    "kernelspec": {
      "name": "python3",
      "display_name": "Python 3"
    },
    "language_info": {
      "name": "python"
    }
  },
  "cells": [
    {
      "cell_type": "markdown",
      "metadata": {
        "id": "view-in-github",
        "colab_type": "text"
      },
      "source": [
        "<a href=\"https://colab.research.google.com/github/Parkshinhyang/Programmers/blob/main/%ED%96%84%EB%B2%84%EA%B1%B0_%EB%A7%8C%EB%93%A4%EA%B8%B0(Lv_1).ipynb\" target=\"_parent\"><img src=\"https://colab.research.google.com/assets/colab-badge.svg\" alt=\"Open In Colab\"/></a>"
      ]
    },
    {
      "cell_type": "markdown",
      "source": [
        "## 첫 번째 방법\n",
        "1. 배열 s를 선언한다.\n",
        "2. s에 ingredient를하나하나 append한다.\n",
        "3. s[-4:0] 즉, s의 끝에서 4번째까지의 원소가 [1, 2, 3, 4]가 맞는지 확인한다.\n",
        "4. 맞으면 answer에 1을 더해주고 4개의 원소를 pop해준다.\n",
        "\n",
        "결과 : 성공\n"
      ],
      "metadata": {
        "id": "ue1R_9PUFVNK"
      }
    },
    {
      "cell_type": "code",
      "execution_count": null,
      "metadata": {
        "colab": {
          "base_uri": "https://localhost:8080/"
        },
        "id": "0ktGeSg7nqNC",
        "outputId": "bb3ebfda-e615-45c8-8621-3390eda19c34"
      },
      "outputs": [
        {
          "output_type": "execute_result",
          "data": {
            "text/plain": [
              "2"
            ]
          },
          "metadata": {},
          "execution_count": 5
        }
      ],
      "source": [
        "def solution(ingredient):\n",
        "    answer = 0 \n",
        "    s = []\n",
        "    for i in ingredient:\n",
        "        s.append(i)\n",
        "        ## s의 끝에서부터 4개의 원소가 [1, 2, 3, 4]가 맞는지 확인\n",
        "        if s[-4:] == [1, 2, 3, 1]:\n",
        "            answer += 1\n",
        "            ## 조건에 충족했을 경우 원소 4개를 pop\n",
        "            for _ in range(4):\n",
        "                s.pop()\n",
        "                \n",
        "    return answer\n",
        "\n",
        "solution([2, 1, 1, 2, 3, 1, 2, 3, 1])"
      ]
    },
    {
      "cell_type": "code",
      "source": [],
      "metadata": {
        "id": "ZAoCcOT_qBUT"
      },
      "execution_count": null,
      "outputs": []
    }
  ]
}
