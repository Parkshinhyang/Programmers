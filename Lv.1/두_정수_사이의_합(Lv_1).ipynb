{
  "nbformat": 4,
  "nbformat_minor": 0,
  "metadata": {
    "colab": {
      "provenance": [],
      "authorship_tag": "ABX9TyPVrXHD2t/RoapDZ7NhxEt8",
      "include_colab_link": true
    },
    "kernelspec": {
      "name": "python3",
      "display_name": "Python 3"
    },
    "language_info": {
      "name": "python"
    }
  },
  "cells": [
    {
      "cell_type": "markdown",
      "metadata": {
        "id": "view-in-github",
        "colab_type": "text"
      },
      "source": [
        "<a href=\"https://colab.research.google.com/github/Parkshinhyang/Programmers/blob/main/%EB%91%90_%EC%A0%95%EC%88%98_%EC%82%AC%EC%9D%B4%EC%9D%98_%ED%95%A9(Lv_1).ipynb\" target=\"_parent\"><img src=\"https://colab.research.google.com/assets/colab-badge.svg\" alt=\"Open In Colab\"/></a>"
      ]
    },
    {
      "cell_type": "markdown",
      "source": [
        "## 문제 - 두 정수 사이의 합\n",
        "https://school.programmers.co.kr/learn/courses/30/lessons/12912"
      ],
      "metadata": {
        "id": "hwRmoruIXw9m"
      }
    },
    {
      "cell_type": "markdown",
      "source": [
        "## 첫 번째 방법\n",
        "1. a와 b를 비교하여 a가 b보다 작거나 같으면 for문의 범위를 a부터 b + 1까지, 그 외에는 b부터 a + 1까지로 설정.\n",
        "2. answer에 i를 모두 더한 후 출력.\n",
        "\n",
        "결과 : 성공"
      ],
      "metadata": {
        "id": "8j3I-NeCX0yl"
      }
    },
    {
      "cell_type": "code",
      "execution_count": 6,
      "metadata": {
        "colab": {
          "base_uri": "https://localhost:8080/"
        },
        "id": "bqFdcUYDWIxX",
        "outputId": "3e6c6fd0-d7b8-4007-d137-2498500e9cb0"
      },
      "outputs": [
        {
          "output_type": "execute_result",
          "data": {
            "text/plain": [
              "12"
            ]
          },
          "metadata": {},
          "execution_count": 6
        }
      ],
      "source": [
        "def solution(a, b):\n",
        "    answer = 0\n",
        "    if a <= b:\n",
        "        for i in range(a, b + 1):    \n",
        "            answer += i\n",
        "        return answer\n",
        "    else:\n",
        "        for i in range(b, a + 1):    \n",
        "            answer += i\n",
        "        return answer\n",
        "solution(3, 5)"
      ]
    }
  ]
}
