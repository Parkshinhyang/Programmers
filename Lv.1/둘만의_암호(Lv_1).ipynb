{
  "nbformat": 4,
  "nbformat_minor": 0,
  "metadata": {
    "colab": {
      "provenance": [],
      "authorship_tag": "ABX9TyNLlLw5VL2XEKdrJ4Deecry",
      "include_colab_link": true
    },
    "kernelspec": {
      "name": "python3",
      "display_name": "Python 3"
    },
    "language_info": {
      "name": "python"
    }
  },
  "cells": [
    {
      "cell_type": "markdown",
      "metadata": {
        "id": "view-in-github",
        "colab_type": "text"
      },
      "source": [
        "<a href=\"https://colab.research.google.com/github/Parkshinhyang/Programmers/blob/main/%EB%91%98%EB%A7%8C%EC%9D%98_%EC%95%94%ED%98%B8(Lv_1).ipynb\" target=\"_parent\"><img src=\"https://colab.research.google.com/assets/colab-badge.svg\" alt=\"Open In Colab\"/></a>"
      ]
    },
    {
      "cell_type": "markdown",
      "source": [
        "## 문제 - 둘만의 암호\n",
        "[문제 링크](https://school.programmers.co.kr/learn/courses/30/lessons/155652)\n",
        "\n",
        "## 문제 설명\n",
        "\n",
        "두 문자열 s와 skip, 그리고 자연수 index가 주어질 때, 다음 규칙에 따라 문자열을 만들려 합니다. 암호의 규칙은 다음과 같습니다.\n",
        "\n",
        "- 문자열 s의 각 알파벳을 index만큼 뒤의 알파벳으로 바꿔줍니다.\n",
        "- index만큼의 뒤의 알파벳이 z를 넘어갈 경우 다시 a로 돌아갑니다.\n",
        "- skip에 있는 알파벳은 제외하고 건너뜁니다.\n",
        "\n",
        "예를 들어 s = \"aukks\", skip = \"wbqd\", index = 5일 때, a에서 5만큼 뒤에 있는 알파벳은 f지만 [b, c, d, e, f]에서 'b'와 'd'는 skip에 포함되므로 세지 않습니다. 따라서 'b', 'd'를 제외하고 'a'에서 5만큼 뒤에 있는 알파벳은 [c, e, f, g, h] 순서에 의해 'h'가 됩니다. 나머지 \"ukks\" 또한 위 규칙대로 바꾸면 \"appy\"가 되며 결과는 \"happy\"가 됩니다.\n",
        "\n",
        "두 문자열 s와 skip, 그리고 자연수 index가 매개변수로 주어질 때 위 규칙대로 s를 변환한 결과를 return하도록 solution 함수를 완성해주세요.\n",
        "\n",
        "## 제한사항\n",
        "\n",
        "- 5 ≤ s의 길이 ≤ 50\n",
        "- 1 ≤ skip의 길이 ≤ 10\n",
        "- s와 skip은 알파벳 소문자로만 이루어져 있습니다.\n",
        "    - skip에 포함되는 알파벳은 s에 포함되지 않습니다.\n",
        "- 1 ≤ index ≤ 20\n",
        "\n",
        "## 입출력 예\n",
        "\n",
        "![image.png](data:image/png;base64,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)\n",
        "\n",
        "## 입출력 예 설명\n",
        "\n",
        "### 입출력 예 #1\n",
        "\n",
        "본문 내용과 일치합니다.\n",
        "\n"
      ],
      "metadata": {
        "id": "CywF3aLpP8Ek"
      }
    },
    {
      "cell_type": "markdown",
      "source": [
        "## 첫 번째 방법\n",
        "\n",
        "1. s를 i로 순회하여 ord(i)를 idx로 저장.\n",
        "2. idx가 122보다 크면 즉, z이상의 문자이면 a의 10진수로 초기화. \n",
        "3. chr(i)가 skip에 포함되어 있으면 idx를 증가시키고 (2) 조건을 반복.\n",
        "4. skip_5에 chr(idx)를 append하고 answer에 skip_5[-1]을 저장한 후 return.\n",
        "\n",
        "결과 : 성공"
      ],
      "metadata": {
        "id": "7-RcFlQ5CHlS"
      }
    },
    {
      "cell_type": "code",
      "execution_count": 27,
      "metadata": {
        "colab": {
          "base_uri": "https://localhost:8080/",
          "height": 35
        },
        "id": "rp0sRu3wkUM6",
        "outputId": "dcd93cba-ffdd-4db2-82bd-1e3eb9ec4ab8"
      },
      "outputs": [
        {
          "output_type": "execute_result",
          "data": {
            "text/plain": [
              "'happy'"
            ],
            "application/vnd.google.colaboratory.intrinsic+json": {
              "type": "string"
            }
          },
          "metadata": {},
          "execution_count": 27
        }
      ],
      "source": [
        "def solution(s, skip, index):\n",
        "    answer = ''\n",
        "    for i in s: \n",
        "        skip_5 = []\n",
        "        idx = ord(i)\n",
        "        while len(skip_5) < index:\n",
        "            if idx >= 122:\n",
        "                idx = 96\n",
        "            idx += 1\n",
        "            while True:\n",
        "                if chr(idx) in skip:\n",
        "                    idx += 1\n",
        "                    if idx > 122:\n",
        "                        idx = 97\n",
        "                else:\n",
        "                    break\n",
        "            if idx > 122:\n",
        "                idx = 97\n",
        "            skip_5.append(chr(idx))\n",
        "        answer += skip_5[-1]\n",
        "    return answer\n",
        "\n",
        "solution(\"aukks\", \"wbqd\", 5)"
      ]
    },
    {
      "cell_type": "code",
      "source": [],
      "metadata": {
        "id": "v-T9QD8fTREo"
      },
      "execution_count": 16,
      "outputs": []
    }
  ]
}
