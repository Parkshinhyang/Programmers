{
  "nbformat": 4,
  "nbformat_minor": 0,
  "metadata": {
    "colab": {
      "provenance": [],
      "authorship_tag": "ABX9TyMYwA3yGjxl8GntbbgOMLCm",
      "include_colab_link": true
    },
    "kernelspec": {
      "name": "python3",
      "display_name": "Python 3"
    },
    "language_info": {
      "name": "python"
    }
  },
  "cells": [
    {
      "cell_type": "markdown",
      "metadata": {
        "id": "view-in-github",
        "colab_type": "text"
      },
      "source": [
        "<a href=\"https://colab.research.google.com/github/Parkshinhyang/Programmers/blob/main/%EA%B0%80%EC%9E%A5_%EA%B0%80%EA%B9%8C%EC%9A%B4_%EA%B0%99%EC%9D%80_%EA%B8%80%EC%9E%90(Lv_1).ipynb\" target=\"_parent\"><img src=\"https://colab.research.google.com/assets/colab-badge.svg\" alt=\"Open In Colab\"/></a>"
      ]
    },
    {
      "cell_type": "markdown",
      "source": [
        "##  문제 - 가장 가까운 같은 글자\n",
        "https://school.programmers.co.kr/learn/courses/30/lessons/142086"
      ],
      "metadata": {
        "id": "l6TtLrAmTiDz"
      }
    },
    {
      "cell_type": "markdown",
      "source": [
        "## 첫 번째 방법\n",
        "1. enumerate를 사용하여 입력받은 s를 리스트로 변환 후 각 원소와 그 원소의 인덱스를 ans, idx로 불러옴.\n",
        "2. ans가 ans_dic에 없을 경우 answer에 -1을 append하고 ans_dic[ans]에 idx를 저장.\n",
        "3. ans가 ans_dic에 있을 경우 answer에 idx - ans_dic[ans]를 append하고 ans_dic[ans]에 idx를 저장 후 answer를 출력\n",
        "\n",
        "결과 : 성공"
      ],
      "metadata": {
        "id": "U-6QP_85eHwT"
      }
    },
    {
      "cell_type": "code",
      "execution_count": 9,
      "metadata": {
        "colab": {
          "base_uri": "https://localhost:8080/"
        },
        "id": "mmNVHINuTeyP",
        "outputId": "b48c06fe-f2aa-4fdc-c20e-af3a66d5a0c2"
      },
      "outputs": [
        {
          "output_type": "execute_result",
          "data": {
            "text/plain": [
              "[-1, -1, -1, 2, 2, 2]"
            ]
          },
          "metadata": {},
          "execution_count": 9
        }
      ],
      "source": [
        "def solution(s):\n",
        "    answer = []\n",
        "    ans_dic = {}\n",
        "    for idx, ans in enumerate(list(s)):\n",
        "        if ans not in ans_dic:\n",
        "            answer.append(-1)\n",
        "            ans_dic[ans] = idx\n",
        "        else:\n",
        "            answer.append(idx - ans_dic[ans])\n",
        "            ans_dic[ans] = idx\n",
        "    return answer\n",
        "\n",
        "solution(\"banana\")"
      ]
    },
    {
      "cell_type": "code",
      "source": [],
      "metadata": {
        "id": "PbuPQNNyVyLF"
      },
      "execution_count": null,
      "outputs": []
    }
  ]
}
