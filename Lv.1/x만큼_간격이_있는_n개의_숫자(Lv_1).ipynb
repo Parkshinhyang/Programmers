{
  "nbformat": 4,
  "nbformat_minor": 0,
  "metadata": {
    "colab": {
      "provenance": [],
      "authorship_tag": "ABX9TyOEIr1s5Edyz+7xRpuMDsML",
      "include_colab_link": true
    },
    "kernelspec": {
      "name": "python3",
      "display_name": "Python 3"
    },
    "language_info": {
      "name": "python"
    }
  },
  "cells": [
    {
      "cell_type": "markdown",
      "metadata": {
        "id": "view-in-github",
        "colab_type": "text"
      },
      "source": [
        "<a href=\"https://colab.research.google.com/github/Parkshinhyang/Programmers/blob/main/x%EB%A7%8C%ED%81%BC_%EA%B0%84%EA%B2%A9%EC%9D%B4_%EC%9E%88%EB%8A%94_n%EA%B0%9C%EC%9D%98_%EC%88%AB%EC%9E%90(Lv_1).ipynb\" target=\"_parent\"><img src=\"https://colab.research.google.com/assets/colab-badge.svg\" alt=\"Open In Colab\"/></a>"
      ]
    },
    {
      "cell_type": "markdown",
      "source": [
        "## 문제 - x만큼 간격이 있는 n개의 숫자\n",
        "https://school.programmers.co.kr/learn/courses/30/lessons/12954"
      ],
      "metadata": {
        "id": "yk2b3V9SMLt5"
      }
    },
    {
      "cell_type": "markdown",
      "source": [
        "## 첫 번째 방법\n",
        "1. 1부터 n + 1까지 반복하는 for문을 통해 answer에 x * i를 저장하고 return\n",
        "\n",
        "결과 : 성공"
      ],
      "metadata": {
        "id": "Ca1kig53NNFZ"
      }
    },
    {
      "cell_type": "code",
      "execution_count": 4,
      "metadata": {
        "colab": {
          "base_uri": "https://localhost:8080/"
        },
        "id": "Y-otdEygL8Zg",
        "outputId": "6e7c9ed1-1626-4807-b072-7200ecbab937"
      },
      "outputs": [
        {
          "output_type": "execute_result",
          "data": {
            "text/plain": [
              "[-4, -8]"
            ]
          },
          "metadata": {},
          "execution_count": 4
        }
      ],
      "source": [
        "def solution(x, n):\n",
        "    answer = []\n",
        "    for i in range(1, n + 1):\n",
        "        answer.append(x * i)\n",
        "    return answer\n",
        "solution(-4, 2)"
      ]
    },
    {
      "cell_type": "markdown",
      "source": [
        "## 다른 사람의 풀이\n",
        "- for문을 사용하지 않고 range함수만 사용하여 list로 묶어 return하는 것이 인상적.\n",
        "- 간단한 문제라도 함수 활용이 중요하다는 것을 깨닫게 되는 코드."
      ],
      "metadata": {
        "id": "rUbywUmENcEk"
      }
    },
    {
      "cell_type": "code",
      "source": [
        "def number_generator(x, n):\n",
        "\n",
        "    t = list(range(x, n*x+1, x))\n",
        "    return t"
      ],
      "metadata": {
        "id": "kQQeWpACNeB-"
      },
      "execution_count": null,
      "outputs": []
    }
  ]
}
