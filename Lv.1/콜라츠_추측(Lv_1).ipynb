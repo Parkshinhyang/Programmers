{
  "nbformat": 4,
  "nbformat_minor": 0,
  "metadata": {
    "colab": {
      "provenance": [],
      "authorship_tag": "ABX9TyMUmcHcHQEnGw/KaeLqeP0E",
      "include_colab_link": true
    },
    "kernelspec": {
      "name": "python3",
      "display_name": "Python 3"
    },
    "language_info": {
      "name": "python"
    }
  },
  "cells": [
    {
      "cell_type": "markdown",
      "metadata": {
        "id": "view-in-github",
        "colab_type": "text"
      },
      "source": [
        "<a href=\"https://colab.research.google.com/github/Parkshinhyang/Programmers/blob/main/%EC%BD%9C%EB%9D%BC%EC%B8%A0_%EC%B6%94%EC%B8%A1(Lv_1).ipynb\" target=\"_parent\"><img src=\"https://colab.research.google.com/assets/colab-badge.svg\" alt=\"Open In Colab\"/></a>"
      ]
    },
    {
      "cell_type": "markdown",
      "source": [
        "##문제 - 콜라츠 추측\n",
        "https://school.programmers.co.kr/learn/courses/30/lessons/12943"
      ],
      "metadata": {
        "id": "j1Y_rAXjIEe_"
      }
    },
    {
      "cell_type": "markdown",
      "source": [
        "## 첫 번째 방법\n",
        "1. 입려받은 num이 1이면 0을 return.\n",
        "2. num이 1이 아닐 때까지 반복하는 while문으로 num이 짝수인지 홀수인지 판별.\n",
        "3. 짝수이면 num // 2를 num에 저장하고 answer에 1 추가.\n",
        "4. 홀수이면 num * 3 + 1을 num에 저장하고 answer에 1추가\n",
        "5. answer가 500이 되면 -1을 return, answer가 500이 안 되면 answer을 return.\n",
        "\n",
        "결과 : 성공"
      ],
      "metadata": {
        "id": "9fSDDZPRISK_"
      }
    },
    {
      "cell_type": "code",
      "execution_count": 12,
      "metadata": {
        "colab": {
          "base_uri": "https://localhost:8080/"
        },
        "id": "CPcguD-4DDyg",
        "outputId": "ec754b70-eeb8-4d6a-9209-d835fbd949a0"
      },
      "outputs": [
        {
          "output_type": "execute_result",
          "data": {
            "text/plain": [
              "-1"
            ]
          },
          "metadata": {},
          "execution_count": 12
        }
      ],
      "source": [
        "def solution(num):\n",
        "    answer = 0\n",
        "    if num == 1:\n",
        "        return 0\n",
        "\n",
        "    while num != 1:\n",
        "        if num % 2 == 0:\n",
        "            num //= 2 \n",
        "            answer += 1\n",
        "        else:\n",
        "            num = num * 3 + 1\n",
        "            answer += 1\n",
        "        if answer == 500:\n",
        "            return -1\n",
        "    return answer\n",
        "\n",
        "solution(626331)"
      ]
    }
  ]
}
