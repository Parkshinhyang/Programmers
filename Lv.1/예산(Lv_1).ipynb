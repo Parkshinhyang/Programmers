{
  "nbformat": 4,
  "nbformat_minor": 0,
  "metadata": {
    "colab": {
      "provenance": [],
      "authorship_tag": "ABX9TyPB15iykBRYDDvpW8JjcVuw",
      "include_colab_link": true
    },
    "kernelspec": {
      "name": "python3",
      "display_name": "Python 3"
    },
    "language_info": {
      "name": "python"
    }
  },
  "cells": [
    {
      "cell_type": "markdown",
      "metadata": {
        "id": "view-in-github",
        "colab_type": "text"
      },
      "source": [
        "<a href=\"https://colab.research.google.com/github/Parkshinhyang/Programmers/blob/main/%EC%98%88%EC%82%B0(Lv_1).ipynb\" target=\"_parent\"><img src=\"https://colab.research.google.com/assets/colab-badge.svg\" alt=\"Open In Colab\"/></a>"
      ]
    },
    {
      "cell_type": "markdown",
      "source": [
        "# 문제 - 예산\n",
        "https://school.programmers.co.kr/learn/courses/30/lessons/12982\n",
        "\n",
        "## 문제 설명\n",
        "S사에서는 각 부서에 필요한 물품을 지원해 주기 위해 부서별로 물품을 구매하는데 필요한 금액을 조사했습니다. 그러나, 전체 예산이 정해져 있기 때문에 모든 부서의 물품을 구매해 줄 수는 없습니다. 그래서 최대한 많은 부서의 물품을 구매해 줄 수 있도록 하려고 합니다.\n",
        "\n",
        "물품을 구매해 줄 때는 각 부서가 신청한 금액만큼을 모두 지원해 줘야 합니다. 예를 들어 1,000원을 신청한 부서에는 정확히 1,000원을 지원해야 하며, 1,000원보다 적은 금액을 지원해 줄 수는 없습니다.\n",
        "\n",
        "부서별로 신청한 금액이 들어있는 배열 d와 예산 budget이 매개변수로 주어질 때, 최대 몇 개의 부서에 물품을 지원할 수 있는지 return 하도록 solution 함수를 완성해주세요.\n",
        "\n",
        "## 제한 사항\n",
        "- d는 부서별로 신청한 금액이 들어있는 배열이며, 길이(전체 부서의 개수)는 1 이상 100 이하입니다.\n",
        "- d의 각 원소는 부서별로 신청한 금액을 나타내며, 부서별 신청 금액은 1 이상 100,000 이하의 자연수입니다.\n",
        "- budget은 예산을 나타내며, 1 이상 10,000,000 이하의 자연수입니다.\n",
        "\n",
        "## 입출력 예\n",
        "![image.png](data:image/png;base64,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)\n",
        "\n",
        "## 입출력 예 설명\n",
        "###입출력 예 #1\n",
        "각 부서에서 [1원, 3원, 2원, 5원, 4원]만큼의 금액을 신청했습니다. 만약에, 1원, 2원, 4원을 신청한 부서의 물품을 구매해주면 예산 9원에서 7원이 소비되어 2원이 남습니다. 항상 정확히 신청한 금액만큼 지원해 줘야 하므로 남은 2원으로 나머지 부서를 지원해 주지 않습니다. 위 방법 외에 3개 부서를 지원해 줄 방법들은 다음과 같습니다.\n",
        "\n",
        "- 1원, 2원, 3원을 신청한 부서의 물품을 구매해주려면 6원이 필요합니다.\n",
        "- 1원, 2원, 5원을 신청한 부서의 물품을 구매해주려면 8원이 필요합니다.\n",
        "- 1원, 3원, 4원을 신청한 부서의 물품을 구매해주려면 8원이 필요합니다.\n",
        "- 1원, 3원, 5원을 신청한 부서의 물품을 구매해주려면 9원이 필요합니다.\n",
        "- 3개 부서보다 더 많은 부서의 물품을 구매해 줄 수는 없으므로 최대 3개 부서의 물품을 구매해 줄 수 있습니다.\n",
        "\n",
        "###입출력 예 #2\n",
        "모든 부서의 물품을 구매해주면 10원이 됩니다. 따라서 최대 4개 부서의 물품을 구매해 줄 수 있습니다."
      ],
      "metadata": {
        "id": "909ACRppWMZV"
      }
    },
    {
      "cell_type": "code",
      "execution_count": 14,
      "metadata": {
        "colab": {
          "base_uri": "https://localhost:8080/"
        },
        "id": "4vIpO1rHVnL3",
        "outputId": "9df79cb9-1a73-4140-9471-c463a7e9a1a9"
      },
      "outputs": [
        {
          "output_type": "execute_result",
          "data": {
            "text/plain": [
              "4"
            ]
          },
          "metadata": {},
          "execution_count": 14
        }
      ],
      "source": [
        "def solution(d, budget):\n",
        "    d.sort()\n",
        "    for _ in range(len(d)):\n",
        "        if sum(d) > budget:\n",
        "            d.pop()\n",
        "    return len(d)\n",
        "solution([2,2,3,3], 10)"
      ]
    }
  ]
}
