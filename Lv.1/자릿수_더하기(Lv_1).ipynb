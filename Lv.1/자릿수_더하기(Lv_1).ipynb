{
  "nbformat": 4,
  "nbformat_minor": 0,
  "metadata": {
    "colab": {
      "provenance": [],
      "authorship_tag": "ABX9TyPk1FsMUW0hYKYJuRl2fEEI",
      "include_colab_link": true
    },
    "kernelspec": {
      "name": "python3",
      "display_name": "Python 3"
    },
    "language_info": {
      "name": "python"
    }
  },
  "cells": [
    {
      "cell_type": "markdown",
      "metadata": {
        "id": "view-in-github",
        "colab_type": "text"
      },
      "source": [
        "<a href=\"https://colab.research.google.com/github/Parkshinhyang/Programmers/blob/main/%EC%9E%90%EB%A6%BF%EC%88%98_%EB%8D%94%ED%95%98%EA%B8%B0(Lv_1).ipynb\" target=\"_parent\"><img src=\"https://colab.research.google.com/assets/colab-badge.svg\" alt=\"Open In Colab\"/></a>"
      ]
    },
    {
      "cell_type": "markdown",
      "source": [
        "##문제 - 자릿수 더하기\n",
        "https://school.programmers.co.kr/learn/courses/30/lessons/12931"
      ],
      "metadata": {
        "id": "GItYS8SljDa4"
      }
    },
    {
      "cell_type": "markdown",
      "source": [
        "##첫 번째 방법\n",
        "1. map함수를 사용해 입력받은 n을 str형태로 바꾸로 하나하나 int형태로 바꿔 sum함수를 사용해 출력.\n",
        "\n",
        "결과 : 성공"
      ],
      "metadata": {
        "id": "_sOBcVWTXgcN"
      }
    },
    {
      "cell_type": "code",
      "execution_count": 3,
      "metadata": {
        "colab": {
          "base_uri": "https://localhost:8080/"
        },
        "id": "VhpmihfhjA5R",
        "outputId": "38be5593-0c44-46c4-e77e-ad86ce687d80"
      },
      "outputs": [
        {
          "output_type": "execute_result",
          "data": {
            "text/plain": [
              "24"
            ]
          },
          "metadata": {},
          "execution_count": 3
        }
      ],
      "source": [
        "def solution(n):\n",
        "    return sum(map(int, str(n)))\n",
        "solution(987)"
      ]
    }
  ]
}
