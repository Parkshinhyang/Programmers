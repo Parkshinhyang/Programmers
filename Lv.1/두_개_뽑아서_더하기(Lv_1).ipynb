{
  "nbformat": 4,
  "nbformat_minor": 0,
  "metadata": {
    "colab": {
      "provenance": [],
      "authorship_tag": "ABX9TyNtCPnmF60qgBJ6gfk5EQph",
      "include_colab_link": true
    },
    "kernelspec": {
      "name": "python3",
      "display_name": "Python 3"
    },
    "language_info": {
      "name": "python"
    }
  },
  "cells": [
    {
      "cell_type": "markdown",
      "metadata": {
        "id": "view-in-github",
        "colab_type": "text"
      },
      "source": [
        "<a href=\"https://colab.research.google.com/github/Parkshinhyang/Programmers/blob/main/%EB%91%90_%EA%B0%9C_%EB%BD%91%EC%95%84%EC%84%9C_%EB%8D%94%ED%95%98%EA%B8%B0(Lv_1).ipynb\" target=\"_parent\"><img src=\"https://colab.research.google.com/assets/colab-badge.svg\" alt=\"Open In Colab\"/></a>"
      ]
    },
    {
      "cell_type": "markdown",
      "source": [
        "## 첫 번째 방법 \n",
        "1. numbers를 작은 숫자부터 하나하나 더해가기위해 오름차순으로 정렬.\n",
        "2. 이중 for문을 활용해 숫자를 하나하나 더해줌.\n",
        "3. 같은 수끼리 덧셈을 방지하기 위해 pass문을 활용.\n",
        "4. 더한 값을 not in문을 활용해 하나의 값만 answer에 저장.\n",
        "5. 마지막으로 answer를 오름차순으로 정렬하여 출력.\n",
        "\n",
        "결과 : 성공\n",
        "- p.s. - not in문 대신 set함수를 사용하면 코드가 더 간단해지고 가독성이 좋다는 걸 다른 사람의 풀이를 보며 깨달음."
      ],
      "metadata": {
        "id": "vancZKmsbosK"
      }
    },
    {
      "cell_type": "code",
      "execution_count": 13,
      "metadata": {
        "colab": {
          "base_uri": "https://localhost:8080/"
        },
        "id": "uHmLVwZzXVtx",
        "outputId": "7f6f8b78-b3e4-4d23-ad3b-2ead4e7969f9"
      },
      "outputs": [
        {
          "output_type": "execute_result",
          "data": {
            "text/plain": [
              "[2, 3, 4, 5, 6, 7]"
            ]
          },
          "metadata": {},
          "execution_count": 13
        }
      ],
      "source": [
        "def solution(numbers):\n",
        "    answer = []\n",
        "    ans = 0\n",
        "    numbers.sort()\n",
        "\n",
        "    for i in range(len(numbers) - 1):\n",
        "        for j in range(1, len(numbers)):\n",
        "            if i == j:\n",
        "                pass\n",
        "            else:\n",
        "                ans = numbers[i] + numbers[j]\n",
        "                if ans not in answer:\n",
        "                    answer.append(ans)\n",
        "    answer.sort()\n",
        "    return answer\n",
        "\n",
        "solution([2,1,3,4,1])"
      ]
    },
    {
      "cell_type": "code",
      "source": [],
      "metadata": {
        "id": "rgVkccLhXiy1"
      },
      "execution_count": null,
      "outputs": []
    }
  ]
}
