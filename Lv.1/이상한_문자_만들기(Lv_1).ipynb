{
  "nbformat": 4,
  "nbformat_minor": 0,
  "metadata": {
    "colab": {
      "provenance": [],
      "authorship_tag": "ABX9TyOtchNdBQACepd7gG2z8VSA",
      "include_colab_link": true
    },
    "kernelspec": {
      "name": "python3",
      "display_name": "Python 3"
    },
    "language_info": {
      "name": "python"
    }
  },
  "cells": [
    {
      "cell_type": "markdown",
      "metadata": {
        "id": "view-in-github",
        "colab_type": "text"
      },
      "source": [
        "<a href=\"https://colab.research.google.com/github/Parkshinhyang/Programmers/blob/main/%EC%9D%B4%EC%83%81%ED%95%9C_%EB%AC%B8%EC%9E%90_%EB%A7%8C%EB%93%A4%EA%B8%B0(Lv_1).ipynb\" target=\"_parent\"><img src=\"https://colab.research.google.com/assets/colab-badge.svg\" alt=\"Open In Colab\"/></a>"
      ]
    },
    {
      "cell_type": "markdown",
      "source": [
        "## 문제 - 이상한 문자 만들기\n",
        "https://school.programmers.co.kr/learn/courses/30/lessons/12930"
      ],
      "metadata": {
        "id": "-ZyISEuh_uRI"
      }
    },
    {
      "cell_type": "markdown",
      "source": [
        "##첫 번째 방법\n",
        "1. s를 split함수를 통해 공백을 기준으로 나눠준다.\n",
        "2. s에 저장된 단어를 하나하나 i로 읽어 단어 i의 짝수 번째 글자는 대문자로, 홀수 번째 글자느 소문자로 arr에 저장.\n",
        "3. arr를 answer에 append하고 arr를 초기화.\n",
        "4. answer에 저장된 단어들을 공백을 기준으로 하여 문자열로 변환 후 출력.\n",
        "\n",
        "결과 : 실패\n",
        "-> split함수로 단어들을 쪼갤 때 공백이 여러 개일 수도 있기 때문에 s.split()이 아닌 s.split(\" \")로 s를 초기화 해야함.\n",
        "\n",
        "##두 번째 방법\n",
        "결과 : 성공"
      ],
      "metadata": {
        "id": "cdyBw85t_24g"
      }
    },
    {
      "cell_type": "code",
      "execution_count": 9,
      "metadata": {
        "colab": {
          "base_uri": "https://localhost:8080/",
          "height": 35
        },
        "id": "nrqzO65K7egF",
        "outputId": "954cd321-18bb-44de-e33b-1c2348f35e23"
      },
      "outputs": [
        {
          "output_type": "execute_result",
          "data": {
            "text/plain": [
              "'TrY HeLlO WoRlD'"
            ],
            "application/vnd.google.colaboratory.intrinsic+json": {
              "type": "string"
            }
          },
          "metadata": {},
          "execution_count": 9
        }
      ],
      "source": [
        "def solution(s):\n",
        "    answer = []\n",
        "    arr = ''\n",
        "    s = s.split(\" \")\n",
        "    for i in s:\n",
        "        for j in range(len(i)):\n",
        "            if j % 2 == 0:\n",
        "                arr += i[j].upper()\n",
        "            else:\n",
        "                arr += i[j].lower()\n",
        "        answer.append(arr)\n",
        "        arr = ''\n",
        "    return \" \".join(answer)\n",
        "    \n",
        "solution(\"try hello world\")"
      ]
    }
  ]
}
