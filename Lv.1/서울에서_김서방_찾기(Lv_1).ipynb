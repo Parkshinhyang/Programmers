{
  "nbformat": 4,
  "nbformat_minor": 0,
  "metadata": {
    "colab": {
      "provenance": [],
      "authorship_tag": "ABX9TyN8qkbzz1QSGC7PfmbuP5/3",
      "include_colab_link": true
    },
    "kernelspec": {
      "name": "python3",
      "display_name": "Python 3"
    },
    "language_info": {
      "name": "python"
    }
  },
  "cells": [
    {
      "cell_type": "markdown",
      "metadata": {
        "id": "view-in-github",
        "colab_type": "text"
      },
      "source": [
        "<a href=\"https://colab.research.google.com/github/Parkshinhyang/Programmers/blob/main/%EC%84%9C%EC%9A%B8%EC%97%90%EC%84%9C_%EA%B9%80%EC%84%9C%EB%B0%A9_%EC%B0%BE%EA%B8%B0(Lv_1).ipynb\" target=\"_parent\"><img src=\"https://colab.research.google.com/assets/colab-badge.svg\" alt=\"Open In Colab\"/></a>"
      ]
    },
    {
      "cell_type": "markdown",
      "source": [
        "##문제 - 서울에서 김서방 찾기\n",
        "https://school.programmers.co.kr/learn/courses/30/lessons/12919 "
      ],
      "metadata": {
        "id": "5FcBtNUuvs3p"
      }
    },
    {
      "cell_type": "markdown",
      "source": [
        "## 첫 번째 방법\n",
        "1. format 함수를 이용해 입력받은 seoul에서 Kim의 index를 {}에 출력.\n",
        "\n",
        "결과 : 성공"
      ],
      "metadata": {
        "id": "YGRUDOt7yFU3"
      }
    },
    {
      "cell_type": "code",
      "execution_count": 7,
      "metadata": {
        "colab": {
          "base_uri": "https://localhost:8080/",
          "height": 35
        },
        "id": "1hwOp7zNvYa4",
        "outputId": "aea768ee-811c-4ebf-8ad3-863c558d2cb3"
      },
      "outputs": [
        {
          "output_type": "execute_result",
          "data": {
            "text/plain": [
              "'김서방은 1에 있다'"
            ],
            "application/vnd.google.colaboratory.intrinsic+json": {
              "type": "string"
            }
          },
          "metadata": {},
          "execution_count": 7
        }
      ],
      "source": [
        "def solution(seoul):\n",
        "    return \"김서방은 {}에 있다\".format(seoul.index(\"Kim\"))\n",
        "solution([\"Jane\", \"Kim\"])"
      ]
    }
  ]
}
