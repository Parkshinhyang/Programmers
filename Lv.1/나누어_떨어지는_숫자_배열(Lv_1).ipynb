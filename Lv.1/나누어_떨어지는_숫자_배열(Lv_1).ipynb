{
  "nbformat": 4,
  "nbformat_minor": 0,
  "metadata": {
    "colab": {
      "provenance": [],
      "authorship_tag": "ABX9TyPmhfK8mNDBBbZGZ9PAzEt1",
      "include_colab_link": true
    },
    "kernelspec": {
      "name": "python3",
      "display_name": "Python 3"
    },
    "language_info": {
      "name": "python"
    }
  },
  "cells": [
    {
      "cell_type": "markdown",
      "metadata": {
        "id": "view-in-github",
        "colab_type": "text"
      },
      "source": [
        "<a href=\"https://colab.research.google.com/github/Parkshinhyang/Programmers/blob/main/%EB%82%98%EB%88%84%EC%96%B4_%EB%96%A8%EC%96%B4%EC%A7%80%EB%8A%94_%EC%88%AB%EC%9E%90_%EB%B0%B0%EC%97%B4(Lv_1).ipynb\" target=\"_parent\"><img src=\"https://colab.research.google.com/assets/colab-badge.svg\" alt=\"Open In Colab\"/></a>"
      ]
    },
    {
      "cell_type": "markdown",
      "source": [
        "## 문제 - 나누어 떨어지는 숫자 배열\n",
        "https://school.programmers.co.kr/learn/courses/30/lessons/12910"
      ],
      "metadata": {
        "id": "--rxDc8M_6Yj"
      }
    },
    {
      "cell_type": "markdown",
      "source": [
        "##첫 번째 방법\n",
        "1. arr의 원소 i를 순차적으로 비교하는 반복문 생성.\n",
        "2. i % divisor의 값이 0이면 answer에 i를 append.\n",
        "3. answer의 크기가 0 즉, 나누어 떨어지는 값이 없을 때 answer에 -1을 을 출력.\n",
        "4. answer을 정렬하고 answer을 출력.\n",
        "\n",
        "결과 : 실패\n",
        "-> -1을 출력하는 것이 아니라 append 후 리스트 형태로 출력하는 것이었음.\n",
        "입출력 예시를 꼼꼼히 확인한 필요성을 느낌.\n",
        "\n",
        "## 두 번째 방법\n",
        "첫 번째 방법 3번에서 answer을 -1로 출력하는 것이 아닌 -1을 append하고 answer을 출력.\n",
        "\n",
        "결과 : 성공\n"
      ],
      "metadata": {
        "id": "MoQM9jRR_8R-"
      }
    },
    {
      "cell_type": "code",
      "execution_count": 8,
      "metadata": {
        "colab": {
          "base_uri": "https://localhost:8080/"
        },
        "id": "EWnprcRB_19C",
        "outputId": "732d3a76-acf1-4801-91e0-8e01720da1ef"
      },
      "outputs": [
        {
          "output_type": "execute_result",
          "data": {
            "text/plain": [
              "[-1]"
            ]
          },
          "metadata": {},
          "execution_count": 8
        }
      ],
      "source": [
        "def solution(arr, divisor):\n",
        "    answer = []\n",
        "    for i in arr:\n",
        "        if i % divisor == 0:\n",
        "            answer.append(i)\n",
        "    if len(answer) == 0:\n",
        "        answer.append(-1)\n",
        "    answer.sort()\n",
        "    return answer\n",
        "solution([3,2,6], 10)"
      ]
    },
    {
      "cell_type": "markdown",
      "source": [
        "## 다른 사람의 풀이(- , - , jay1020 , osjf , milliwonaire 외 34 명)\n",
        "- 파이썬의 특징을 잘 파악한 코드(파이썬은 or 앞이 참일 경우 해당 값까지만, 거짓일 경우 뒤에 것까지 호출)"
      ],
      "metadata": {
        "id": "RLq6fnjEB7pR"
      }
    },
    {
      "cell_type": "code",
      "source": [
        "def solution(arr, divisor): \n",
        "    return sorted([n for n in arr if n%divisor == 0]) or [-1]"
      ],
      "metadata": {
        "id": "ET5P9-BcCE2r"
      },
      "execution_count": 11,
      "outputs": []
    }
  ]
}
