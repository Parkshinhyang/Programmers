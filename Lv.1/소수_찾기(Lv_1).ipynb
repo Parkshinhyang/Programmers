{
  "nbformat": 4,
  "nbformat_minor": 0,
  "metadata": {
    "colab": {
      "provenance": [],
      "authorship_tag": "ABX9TyMwEqSp4WVJdKCgIopspqlP",
      "include_colab_link": true
    },
    "kernelspec": {
      "name": "python3",
      "display_name": "Python 3"
    },
    "language_info": {
      "name": "python"
    }
  },
  "cells": [
    {
      "cell_type": "markdown",
      "metadata": {
        "id": "view-in-github",
        "colab_type": "text"
      },
      "source": [
        "<a href=\"https://colab.research.google.com/github/Parkshinhyang/Programmers/blob/main/%EC%86%8C%EC%88%98_%EC%B0%BE%EA%B8%B0(Lv_1).ipynb\" target=\"_parent\"><img src=\"https://colab.research.google.com/assets/colab-badge.svg\" alt=\"Open In Colab\"/></a>"
      ]
    },
    {
      "cell_type": "markdown",
      "source": [
        "## 문제 - 소수 찾기\n",
        "https://school.programmers.co.kr/learn/courses/30/lessons/12921\n",
        "\n",
        "## 문제 설명\n",
        "\n",
        "1부터 입력받은 숫자 n 사이에 있는 소수의 개수를 반환하는 함수, solution을 만들어 보세요.\n",
        "\n",
        "소수는 1과 자기 자신으로만 나누어지는 수를 의미합니다.\n",
        "(1은 소수가 아닙니다.)\n",
        "\n",
        "## 제한 조건\n",
        "\n",
        "- n은 2이상 1000000이하의 자연수입니다.\n",
        "\n",
        "##입출력 예\n",
        "\n",
        "![image.png](data:image/png;base64,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)\n",
        "\n",
        "## 입출력 예 설명\n",
        "\n",
        "### 입출력 예 #1\n",
        "\n",
        "1부터 10 사이의 소수는 [2,3,5,7] 4개가 존재하므로 4를 반환\n",
        "\n",
        "### 입출력 예 #2\n",
        "\n",
        "1부터 5 사이의 소수는 [2,3,5] 3개가 존재하므로 3를 반환"
      ],
      "metadata": {
        "id": "3j5rgFcd1ZR7"
      }
    },
    {
      "cell_type": "markdown",
      "source": [
        "## 첫 번째 방법\n",
        "\n",
        "1. 입력받은 n의 제곱근까지 나누는 방식으로 2부터 n까지 소수임을 확인할 수 있는 prime_num함수를 정의하고 호출한 뒤 answer을 카운트 후 return.\n",
        "\n",
        "결과 : 성공"
      ],
      "metadata": {
        "id": "il0m2R0m_9-c"
      }
    },
    {
      "cell_type": "code",
      "execution_count": 6,
      "metadata": {
        "colab": {
          "base_uri": "https://localhost:8080/"
        },
        "id": "4tFOscNA1U_n",
        "outputId": "5e0f5c13-5c2c-4fdd-dedf-c2182b38eee3"
      },
      "outputs": [
        {
          "output_type": "execute_result",
          "data": {
            "text/plain": [
              "4"
            ]
          },
          "metadata": {},
          "execution_count": 6
        }
      ],
      "source": [
        "def prime_num(n):\n",
        "    for i in range(2, int(n **  (1 / 2)) + 1):\n",
        "        if n % i == 0:\n",
        "            return 0\n",
        "    return 1\n",
        "\n",
        "def solution(n):\n",
        "    answer = 0\n",
        "\n",
        "    for i in range(2, n + 1):\n",
        "        answer += prime_num(i)\n",
        "    return answer\n",
        "\n",
        "solution(10)"
      ]
    }
  ]
}
