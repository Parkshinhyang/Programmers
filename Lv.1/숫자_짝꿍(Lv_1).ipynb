{
  "nbformat": 4,
  "nbformat_minor": 0,
  "metadata": {
    "colab": {
      "provenance": [],
      "authorship_tag": "ABX9TyNnSbGURlyNr+OBs47nMpAA",
      "include_colab_link": true
    },
    "kernelspec": {
      "name": "python3",
      "display_name": "Python 3"
    },
    "language_info": {
      "name": "python"
    }
  },
  "cells": [
    {
      "cell_type": "markdown",
      "metadata": {
        "id": "view-in-github",
        "colab_type": "text"
      },
      "source": [
        "<a href=\"https://colab.research.google.com/github/Parkshinhyang/Programmers/blob/main/%EC%88%AB%EC%9E%90_%EC%A7%9D%EA%BF%8D(Lv_1).ipynb\" target=\"_parent\"><img src=\"https://colab.research.google.com/assets/colab-badge.svg\" alt=\"Open In Colab\"/></a>"
      ]
    },
    {
      "cell_type": "markdown",
      "source": [
        "## 첫 번째 방법\n",
        "1. 입력받은 X의 크기만큼 반복하는 반복문에서 X 문자열의 문자를 하나하나 Y의 문자열 안에 있는지 확인.\n",
        "2. X문자열의 문자가 Y문자열에 있으면 count 함수를 사용하여그 개수만큼 문자를 arr에 저장.\n",
        "3. arr의 길이가 0이면 일치하는 문자가 없은 것이므로 -1을 return.\n",
        "4. arr을 내림차순으로 정렬.\n",
        "5. arr의 원소를 하나로 합쳐서 출력.\n",
        "\n",
        "결과 : 실패 \n",
        "-> 앞에서 저장한 문자와 다음에 저장할 문자가 일치하는 경우 arr에 또 저장하게 되는 오류 발생.  \n",
        "\n",
        "## 두 번째 방법\n",
        "1. 반복문을 9부터 0까지 순차적으로 수행.\n",
        "2. (1)반복문에서의 i는 int의 형태이기 때문에 str형태로 바꿔주고 X에 포함되어 있는 i와 Y에 포함되어 있는 i중 min함수를 사용해 적은 개수를 찾아 answer에 그 수만큼 i를 저장\n",
        "(->이 방식을 사용하면 자연스럽게 큰 수부터 answer에 저장되기 때문에 첫 번째 방법에서 했듯이 내림차순으로 정렬을 할 필요가 없음.)\n",
        "3. answer의 길이가 0이면 일치하는 문자가 없은 것이므로 '-1'을 return.\n",
        "4. answer의 길이가 answer에 들어있는 0의 개수와 같으면 answer에 0만 들어있는 것이므로 '0'을 return.\n",
        "\n",
        "결과 : 성공\n"
      ],
      "metadata": {
        "id": "57Fy2CmWTwMe"
      }
    },
    {
      "cell_type": "code",
      "execution_count": 4,
      "metadata": {
        "colab": {
          "base_uri": "https://localhost:8080/",
          "height": 35
        },
        "id": "UfRyjimjBY4K",
        "outputId": "3a857c98-2525-4751-fa60-aceb1be6cba3"
      },
      "outputs": [
        {
          "output_type": "execute_result",
          "data": {
            "text/plain": [
              "'321'"
            ],
            "application/vnd.google.colaboratory.intrinsic+json": {
              "type": "string"
            }
          },
          "metadata": {},
          "execution_count": 4
        }
      ],
      "source": [
        "def solution(X, Y):\n",
        "    answer = ''\n",
        "    for i in range(9, -1, -1):\n",
        "        answer += str(i) * min(X.count(str(i)), Y.count(str(i)))\n",
        "    if len(answer) == 0:\n",
        "        return '-1'\n",
        "    elif len(answer) == answer.count('0'):\n",
        "        return '0'\n",
        "    return answer\n",
        "\n",
        "solution(\"12321\", \"42531\")"
      ]
    }
  ]
}
