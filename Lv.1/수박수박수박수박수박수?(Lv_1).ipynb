{
  "nbformat": 4,
  "nbformat_minor": 0,
  "metadata": {
    "colab": {
      "provenance": [],
      "authorship_tag": "ABX9TyM4Z372HfEoFET5ubHlR7K/",
      "include_colab_link": true
    },
    "kernelspec": {
      "name": "python3",
      "display_name": "Python 3"
    },
    "language_info": {
      "name": "python"
    }
  },
  "cells": [
    {
      "cell_type": "markdown",
      "metadata": {
        "id": "view-in-github",
        "colab_type": "text"
      },
      "source": [
        "<a href=\"https://colab.research.google.com/github/Parkshinhyang/Programmers/blob/main/%EC%88%98%EB%B0%95%EC%88%98%EB%B0%95%EC%88%98%EB%B0%95%EC%88%98%EB%B0%95%EC%88%98%EB%B0%95%EC%88%98%3F(Lv_1).ipynb\" target=\"_parent\"><img src=\"https://colab.research.google.com/assets/colab-badge.svg\" alt=\"Open In Colab\"/></a>"
      ]
    },
    {
      "cell_type": "markdown",
      "source": [
        "##문제 - 수박수박수박수박수박수?\n",
        "https://school.programmers.co.kr/learn/courses/30/lessons/12922"
      ],
      "metadata": {
        "id": "tjdXq355zMOW"
      }
    },
    {
      "cell_type": "markdown",
      "source": [
        "##첫 번째 방법\n",
        "1. n만큼 반복하는 반복문 생성.\n",
        "2. i가 짝수일 때 answer에 '수'를 추가.\n",
        "3. i가 홀수일 때 answer에 '박'을 추가한 후 answer을 출력.\n",
        "\n",
        "결과 : 성공"
      ],
      "metadata": {
        "id": "VAyetddrzPrC"
      }
    },
    {
      "cell_type": "code",
      "execution_count": 2,
      "metadata": {
        "colab": {
          "base_uri": "https://localhost:8080/",
          "height": 35
        },
        "id": "WSWA4zgIzD60",
        "outputId": "d5ee7ba3-c23c-48ca-cc72-19e6a0825e1f"
      },
      "outputs": [
        {
          "output_type": "execute_result",
          "data": {
            "text/plain": [
              "'수박수박'"
            ],
            "application/vnd.google.colaboratory.intrinsic+json": {
              "type": "string"
            }
          },
          "metadata": {},
          "execution_count": 2
        }
      ],
      "source": [
        "def solution(n):\n",
        "    answer = ''\n",
        "    for i in range(n):\n",
        "        if i % 2 == 0:\n",
        "            answer += '수'\n",
        "        else:\n",
        "            answer += '박'\n",
        "    return answer\n",
        "solution(4)"
      ]
    },
    {
      "cell_type": "markdown",
      "source": [
        "##다른 사람의 풀이(- , - , - , - , - 외 38 명)\n",
        "- 불필요한 메모리공간이 전혀 없고 출제자의 의도를 잘 파악한 코드\n"
      ],
      "metadata": {
        "id": "Xs-SlyAn1bjj"
      }
    },
    {
      "cell_type": "code",
      "source": [
        "def water_melon(n):\n",
        "    return \"수박\"*(n//2) + \"수\"*(n%2)"
      ],
      "metadata": {
        "id": "CJGSQvum05OS"
      },
      "execution_count": null,
      "outputs": []
    }
  ]
}
