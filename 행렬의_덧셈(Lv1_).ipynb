{
  "nbformat": 4,
  "nbformat_minor": 0,
  "metadata": {
    "colab": {
      "provenance": [],
      "authorship_tag": "ABX9TyPJLUFhahoHlQpwQg4oB7EU",
      "include_colab_link": true
    },
    "kernelspec": {
      "name": "python3",
      "display_name": "Python 3"
    },
    "language_info": {
      "name": "python"
    }
  },
  "cells": [
    {
      "cell_type": "markdown",
      "metadata": {
        "id": "view-in-github",
        "colab_type": "text"
      },
      "source": [
        "<a href=\"https://colab.research.google.com/github/Parkshinhyang/Programmers/blob/main/%ED%96%89%EB%A0%AC%EC%9D%98_%EB%8D%A7%EC%85%88(Lv1_).ipynb\" target=\"_parent\"><img src=\"https://colab.research.google.com/assets/colab-badge.svg\" alt=\"Open In Colab\"/></a>"
      ]
    },
    {
      "cell_type": "markdown",
      "source": [
        "## 문제 - 행렬의 덧셈\n",
        "https://school.programmers.co.kr/learn/courses/30/lessons/12950"
      ],
      "metadata": {
        "id": "KkVC0nIJhgpK"
      }
    },
    {
      "cell_type": "markdown",
      "source": [
        "## 첫 번째 방법\n",
        "1. arr1[0]의 길이를 행으로, arr1의 길이를 열로 가지는 빈 행렬을 생성.\n",
        "2. 이중for문을 통해 answer에 arr1과 arr2의 대응하는 수를 더한 값을 저장 후 answer을 return.\n",
        "\n",
        "결과 : 성공"
      ],
      "metadata": {
        "id": "Z6rQeFvrhlN9"
      }
    },
    {
      "cell_type": "code",
      "execution_count": 39,
      "metadata": {
        "colab": {
          "base_uri": "https://localhost:8080/"
        },
        "id": "4B7R7Ot_hdPj",
        "outputId": "b7c0076c-7fdd-4820-e406-b720f5651391"
      },
      "outputs": [
        {
          "output_type": "execute_result",
          "data": {
            "text/plain": [
              "[[4], [6]]"
            ]
          },
          "metadata": {},
          "execution_count": 39
        }
      ],
      "source": [
        "def solution(arr1, arr2):\n",
        "    answer = [[_ for _ in range(len(arr1[0]))] for _ in range(len(arr1))]\n",
        "    for i in range(len(arr1)):\n",
        "        for j in range(len(arr1[0])):\n",
        "            answer[i][j] = arr1[i][j] + arr2[i][j]\n",
        "    return answer\n",
        "\n",
        "solution([[1],[2]], [[3],[4]])"
      ]
    },
    {
      "cell_type": "markdown",
      "source": [
        "## 다른 사람의 풀이\n",
        "- 굳이 빈 행렬을 생성하지 않고 입력받은 두 행렬 중 하나를 선택해 다른 행렬과 대응하는 값을 더하고 그 행렬을 출력."
      ],
      "metadata": {
        "id": "h_Dbba-bn2OP"
      }
    },
    {
      "cell_type": "code",
      "source": [
        "def sumMatrix(A,B):\n",
        "    for i in range(len(A)) :\n",
        "        for j in range(len(A[0])):\n",
        "            A[i][j] += B[i][j] \n",
        "    return A"
      ],
      "metadata": {
        "id": "_cFTute1n1L7"
      },
      "execution_count": null,
      "outputs": []
    }
  ]
}