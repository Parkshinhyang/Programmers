{
  "nbformat": 4,
  "nbformat_minor": 0,
  "metadata": {
    "colab": {
      "provenance": [],
      "authorship_tag": "ABX9TyMmCEXQbJMro8xOouSUMTEG",
      "include_colab_link": true
    },
    "kernelspec": {
      "name": "python3",
      "display_name": "Python 3"
    },
    "language_info": {
      "name": "python"
    }
  },
  "cells": [
    {
      "cell_type": "markdown",
      "metadata": {
        "id": "view-in-github",
        "colab_type": "text"
      },
      "source": [
        "<a href=\"https://colab.research.google.com/github/Parkshinhyang/Programmers/blob/main/%EB%AC%B8%EC%9E%90%EC%97%B4_%EB%82%B4_%EB%A7%88%EC%9D%8C%EB%8C%80%EB%A1%9C_%EC%A0%95%EB%A0%AC%ED%95%98%EA%B8%B0(Lv_1).ipynb\" target=\"_parent\"><img src=\"https://colab.research.google.com/assets/colab-badge.svg\" alt=\"Open In Colab\"/></a>"
      ]
    },
    {
      "cell_type": "markdown",
      "source": [
        "## 문제 - 문자열 내 마음대로 정렬하기\n",
        "https://school.programmers.co.kr/learn/courses/30/lessons/12915\n",
        "\n",
        "## 문제 설명\n",
        "\n",
        "문자열로 구성된 리스트 strings와, 정수 n이 주어졌을 때, 각 문자열의 인덱스 n번째 글자를 기준으로 오름차순 정렬하려 합니다. 예를 들어 strings가 [\"sun\", \"bed\", \"car\"]이고 n이 1이면 각 단어의 인덱스 1의 문자 \"u\", \"e\", \"a\"로 strings를 정렬합니다.\n",
        "\n",
        "## 제한조건\n",
        "\n",
        "- strings는 길이 1 이상, 50이하인 배열입니다.\n",
        "- strings의 원소는 소문자 알파벳으로 이루어져 있습니다.\n",
        "- strings의 원소는 길이 1 이상, 100이하인 문자열입니다.\n",
        "- 모든 strings의 원소의 길이는 n보다 큽니다.\n",
        "- 인덱스 1의 문자가 같은 문자열이 여럿 일 경우, 사전순으로 앞선 문자열이 앞쪽에 위치합니다.\n",
        "\n",
        "## 입출력 예\n",
        "\n",
        "![image.png](data:image/png;base64,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)\n",
        "\n",
        "## 입출력 예 설명\n",
        "\n",
        "### 입출력 예 1\n",
        "\n",
        "\"sun\", \"bed\", \"car\"의 1번째 인덱스 값은 각각 \"u\", \"e\", \"a\" 입니다. 이를 기준으로 strings를 정렬하면 [\"car\", \"bed\", \"sun\"] 입니다.\n",
        "\n",
        "### 입출력 예 2\n",
        "\n",
        "\"abce\"와 \"abcd\", \"cdx\"의 2번째 인덱스 값은 \"c\", \"c\", \"x\"입니다. 따라서 정렬 후에는 \"cdx\"가 가장 뒤에 위치합니다. \"abce\"와 \"abcd\"는 사전순으로 정렬하면 \"abcd\"가 우선하므로, 답은 [\"abcd\", \"abce\", \"cdx\"] 입니다."
      ],
      "metadata": {
        "id": "F9pgqvHb8eDT"
      }
    },
    {
      "cell_type": "markdown",
      "source": [
        "## 첫 번째 방법\n",
        "\n",
        "1. \"인덱스 1의 문자가 같은 문자열이 여럿 일 경우, 사전순으로 앞선 문자열이 앞쪽에 위치합니다.\" 조건을 만족시키기 위해 strings을 먼저 정렬.\n",
        "2. lambda함수를 사용해 x[n]번째를 key로 하여 strings을 정렬한 후 return.\n",
        "\n",
        "결과 : 성공"
      ],
      "metadata": {
        "id": "08jM9pOkmFml"
      }
    },
    {
      "cell_type": "code",
      "execution_count": 3,
      "metadata": {
        "colab": {
          "base_uri": "https://localhost:8080/"
        },
        "id": "sbkUvvk-8Z5i",
        "outputId": "5de66b07-364e-4a56-912e-41218462825b"
      },
      "outputs": [
        {
          "output_type": "execute_result",
          "data": {
            "text/plain": [
              "['abcd', 'abce', 'cdx']"
            ]
          },
          "metadata": {},
          "execution_count": 3
        }
      ],
      "source": [
        "def solution(strings, n):\n",
        "    strings.sort()\n",
        "    return sorted(strings, key = lambda x : x[n])\n",
        "\n",
        "solution([\"abce\", \"abcd\", \"cdx\"], 2)"
      ]
    }
  ]
}