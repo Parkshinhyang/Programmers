{
  "nbformat": 4,
  "nbformat_minor": 0,
  "metadata": {
    "colab": {
      "provenance": [],
      "authorship_tag": "ABX9TyO4sCJxtlIakV2gxJZwGXSO",
      "include_colab_link": true
    },
    "kernelspec": {
      "name": "python3",
      "display_name": "Python 3"
    },
    "language_info": {
      "name": "python"
    }
  },
  "cells": [
    {
      "cell_type": "markdown",
      "metadata": {
        "id": "view-in-github",
        "colab_type": "text"
      },
      "source": [
        "<a href=\"https://colab.research.google.com/github/Parkshinhyang/Programmers/blob/main/%EB%82%B4%EC%A0%81(Lv_1).ipynb\" target=\"_parent\"><img src=\"https://colab.research.google.com/assets/colab-badge.svg\" alt=\"Open In Colab\"/></a>"
      ]
    },
    {
      "cell_type": "markdown",
      "source": [
        "# 문제 - 내적\n",
        "https://school.programmers.co.kr/learn/courses/30/lessons/70128\n",
        "\n",
        "## 문제 설명\n",
        "길이가 같은 두 1차원 정수 배열 a, b가 매개변수로 주어집니다. a와 b의 내적을 return 하도록 solution 함수를 완성해주세요.\n",
        "\n",
        "이때, a와 b의 내적은 a[0]*b[0] + a[1]*b[1] + ... + a[n-1]*b[n-1] 입니다. (n은 a, b의 길이)\n",
        "\n",
        "## 제한 사항\n",
        "- a, b의 길이는 1 이상 1,000 이하입니다.\n",
        "- a, b의 모든 수는 -1,000 이상 1,000 이하입니다.\n",
        "\n",
        "## 입출력 예\n",
        "![image.png](data:image/png;base64,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)\n",
        "\n",
        "## 입출력 예 설명\n",
        "### 예 #1\n",
        "\n",
        "- a와 b의 내적은 1*(-3) + 2*(-1) + 3*0 + 4*2 = 3 입니다.\n",
        "###입출력 예 #2\n",
        "\n",
        "- a와 b의 내적은 (-1)*1 + 0*0 + 1*(-1) = -2 입니다.\n"
      ],
      "metadata": {
        "id": "5SYvy_8HQF8H"
      }
    },
    {
      "cell_type": "code",
      "execution_count": 1,
      "metadata": {
        "colab": {
          "base_uri": "https://localhost:8080/"
        },
        "id": "kjVXVscEQCpT",
        "outputId": "aed05ef0-3178-45d4-c4ba-fd3f75877423"
      },
      "outputs": [
        {
          "output_type": "execute_result",
          "data": {
            "text/plain": [
              "3"
            ]
          },
          "metadata": {},
          "execution_count": 1
        }
      ],
      "source": [
        "def solution(a, b):\n",
        "    answer = []\n",
        "    for i in range(len(a)):\n",
        "        answer.append(a[i]*b[i])\n",
        "    return sum(answer)\n",
        "    \n",
        "solution([1,2,3,4], [-3,-1,0,2])"
      ]
    }
  ]
}