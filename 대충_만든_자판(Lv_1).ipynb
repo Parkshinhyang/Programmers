{
  "nbformat": 4,
  "nbformat_minor": 0,
  "metadata": {
    "colab": {
      "provenance": [],
      "authorship_tag": "ABX9TyO6ejw6JyZRxmg9DtNj9waD",
      "include_colab_link": true
    },
    "kernelspec": {
      "name": "python3",
      "display_name": "Python 3"
    },
    "language_info": {
      "name": "python"
    }
  },
  "cells": [
    {
      "cell_type": "markdown",
      "metadata": {
        "id": "view-in-github",
        "colab_type": "text"
      },
      "source": [
        "<a href=\"https://colab.research.google.com/github/Parkshinhyang/Programmers/blob/main/%EB%8C%80%EC%B6%A9_%EB%A7%8C%EB%93%A0_%EC%9E%90%ED%8C%90(Lv_1).ipynb\" target=\"_parent\"><img src=\"https://colab.research.google.com/assets/colab-badge.svg\" alt=\"Open In Colab\"/></a>"
      ]
    },
    {
      "cell_type": "markdown",
      "source": [
        "# 문제 - 대충 만든 자판\n",
        "https://school.programmers.co.kr/learn/courses/30/lessons/160586\n",
        "\n",
        "## 문제 설명\n",
        "휴대폰의 자판은 컴퓨터 키보드 자판과는 다르게 하나의 키에 여러 개의 문자가 할당될 수 있습니다. 키 하나에 여러 문자가 할당된 경우, 동일한 키를 연속해서 빠르게 누르면 할당된 순서대로 문자가 바뀝니다.\n",
        "\n",
        "예를 들어, 1번 키에 \"A\", \"B\", \"C\" 순서대로 문자가 할당되어 있다면 1번 키를 한 번 누르면 \"A\", 두 번 누르면 \"B\", 세 번 누르면 \"C\"가 되는 식입니다.\n",
        "\n",
        "같은 규칙을 적용해 아무렇게나 만든 휴대폰 자판이 있습니다. 이 휴대폰 자판은 키의 개수가 1개부터 최대 100개까지 있을 수 있으며, 특정 키를 눌렀을 때 입력되는 문자들도 무작위로 배열되어 있습니다. 또, 같은 문자가 자판 전체에 여러 번 할당된 경우도 있고, 키 하나에 같은 문자가 여러 번 할당된 경우도 있습니다. 심지어 아예 할당되지 않은 경우도 있습니다. 따라서 몇몇 문자열은 작성할 수 없을 수도 있습니다.\n",
        "\n",
        "이 휴대폰 자판을 이용해 특정 문자열을 작성할 때, 키를 최소 몇 번 눌러야 그 문자열을 작성할 수 있는지 알아보고자 합니다.\n",
        "\n",
        "1번 키부터 차례대로 할당된 문자들이 순서대로 담긴 문자열배열 keymap과 입력하려는 문자열들이 담긴 문자열 배열 targets가 주어질 때, 각 문자열을 작성하기 위해 키를 최소 몇 번씩 눌러야 하는지 순서대로 배열에 담아 return 하는 solution 함수를 완성해 주세요.\n",
        "\n",
        "단, 목표 문자열을 작성할 수 없을 때는 -1을 저장합니다.\n",
        "\n",
        "## 제한사항\n",
        "- 1 ≤ keymap의 길이 ≤ 100\n",
        "    - 1 ≤ keymap의 원소의 길이 ≤ 100\n",
        "    - keymap[i]는 i + 1번 키를 눌렀을 때 순서대로 바뀌는 문자를 의미합니다.\n",
        "        - 예를 들어 keymap[0] = \"ABACD\" 인 경우 1번 키를 한 번 누르면 A, 두 번 누르면 B, 세 번 누르면 A 가 됩니다.\n",
        "    - keymap의 원소의 길이는 서로 다를 수 있습니다.\n",
        "    - keymap의 원소는 알파벳 대문자로만 이루어져 있습니다.\n",
        "- 1 ≤ targets의 길이 ≤ 100\n",
        "    - 1 ≤ targets의 원소의 길이 ≤ 100\n",
        "    - targets의 원소는 알파벳 대문자로만 이루어져 있습니다.\n",
        "\n",
        "## 입출력 예\n",
        "\n",
        "![image.png](data:image/png;base64,iVBORw0KGgoAAAANSUhEUgAAAa8AAACdCAYAAAADrvcTAAAAAXNSR0IArs4c6QAAAARnQU1BAACxjwv8YQUAAAAJcEhZcwAAEnQAABJ0Ad5mH3gAADunSURBVHhe7Z0PXFRV+v8/lRONXxlNclFBZVRYhBAXWQIDv0AKRRQa62q10s9Mv5aWurqarkvqmqbfTC3/fXWR32plLMv6J6IUQzZMyJBvqKCBNQqDijZmgznhkL/fc/8MDMOAMzL8GXrer9eBe889c+fec57nPM8597ln7nIfEvz/wDAMwzBOhGi8lPcp5V2G+eVi+MkA1gWms8Dy2DJ3y/8ZhmEYxmlg48UwDMM4HWy8GIZhGKeDjRfDMAzjdLDxYhiGYZwONl4MwzCM08HGi2EYhnE62HgxDMMwTgcbL4ZhGMbpYOPFMAzDOB2tM15J61F86jNk/1XeZ5hfMANCRiPhiVD4y/udG29EPTEGj4b0k/cZpm1548PPoMlfj2nyvoB/5BgkxAZhgLxvDzzyYhgH8eiMV7F+1UxMlvc7N09h8apkrJ4xWt5nmPZn8rxkrF+ahEflfXtg48UwDMM4HW1gvPph2va9OHMsC9l/fVzOAwbEzcSOD7NwppiGjqc+w5m8XdixYEz9cPHRNbvoM3vx3gw5w4xpW4Tz7cL6R2jn2TX47NghZP4lFIt3pKFYOF/xIRTvSUbSQPqeicnIzjskfofmeBY+25LUZBrH/9lkZH7a/LUILEs7hDMH1iApcibeO5AlnU/4ng9XYJZzzAsx7cZcZJJMzhvZg7YHYRxtnzmWhh3PSkcFnUhYsKZBLgU5+jQF65/1lo8LjMeOA/S5tIVI+EsKio8LspmF95LkwySH5vpTfGA9FkeaPjNXLiRxO11L2phG1zcWQ2lbNXIabTc+R5PP56fhvXmh8lHGWTD1YdNmUJ+ZL7VlwyMebyStSsGx/Ia+8lga9aFNOsvxWJ+2V5ZHqVz2qvFmfaV1GRSo70Pl/UbI/fg46rPhGoR5os6kYJl01CYcbLzIcG3cgnlhPaA/9nc8/5ePpOzIhdjx14mI6n8TZ48ewr4PC3D2536ISnqV8iWl+GTPeVzu3hsjR1neKg0pR/aGy42LOPwp7d5zL3p2vxe/euRVJA2+juNZh3D425tQeY/B4k0peG9BKFzKC6TvuNkDAyJewJY1QdKpiFFLdyFj0Rj4d69BicW1bFnQMP/vQt/hohqEyXTdD94swycfHsInxy8CA0dj3s5deCNMLsgwKCPZ/AxHK27S9lWU0PYnnxYg/1vp6LTtZKiSQjHg54s4Soq+79Ap/NDdGwmL/hs7xktlAEHeKA38Tyz/3SDUVhTh8LEyVH5Ph0h/steS/pCiV1InIsosfDDtr09hqPAZktV6bNC1s8cL6PrKcYW2he/5RLjeo2XiMYSZPk/6cUj4/GcoueGGUVNWIGMWPx9zJsQ+7P4HMWtaKHrqS3A4rwRnq4Qj1E/v2IBlT3jD5btTUt9WrIOL7xgs27oe0wSDIjIR722diwTfe3GZjMs+Kne4Ahj6xFy8t9bkzMhyay6DMlIfSkneb8S3x0WdKRHk+8Z5HBV1Jh+l0lGbcKDxkg1XJBmu3O1InJWGSjE/COsXPE5e3nmkzRuH+BeXY86iBYiPXIJ9Ffdi6JPTsEyorPx/oYgqxsU3DLPEz8nMCCNDQ0p77APsk7ME+lCH8VrkVDy/aDmeHz8V20tuwkVNnmzucox+fon4HWMnppHikSc5bKz8KX86103oq4qwcuJEJJquJWkPlbsX/mEWhtO1H35VvgnxT8zBi/Q9Lz4/GfHri6B3Ie/6Rav+BPOL5COsJfnIvyIYrxqU0/acReuwPV84NoZkVYcr5R/hxcjJeHYeHZs3B6MXfUbGg5y1uHrrJeEKnFo/GSHj5+D55+fg1Q+BxS/SKMnlOo6un4qxsmwnxk7Fxop+GEDlG7BN146mrqP8c/iBPlF75ThtU7kNkqM54Mkg6bs2kn4I17poCRIf2Y5Pyi/ip+485eB0kAG5nLUAgbEv4vkXX8SLWylvRjLmhQgDDCt92/1BmLZInjGbEoYH76e+N4vkTpQloa9dgrSi87jy8yCStlZAo/nX6HzlNbT9sw75os78DWnSUZtwkPHqh6S1660YLiLsKQQJHmPuOryaK+eJFGBOVglq7/HGyEnCfhHWHj9Ple2NKDPrNWsUeQe4iKI9RXKOROXxD8xu9CKu/Ch0HNdRWVwgZQlUbMKpavr/ABlWMaME2xdMRUjsHGwnQ1lPxXFUCpXY11TOBHnK283uhahMXY2PNZKRnSfnMUzzHMLKaYIxWo3Dco7ItxdxmRwrVV8fOUOGHKtNqTTCr2cmRpHnizPZeLVR/kWs/aBIHD3VY7OuNU9lraBHPTDAx3waPQ0vjifDu+aQvM84DTfK8clfzPpEYl4E9ak3SrDzecu+bSeO0sisz7D/RIKQIYgC0dNjrNmjlyK8mjQZiQvSaKtjcYjx6jlyPRbH9oNLdQFeNzdcAt490JP+DYhcI82tm6cp/uKQ0kX2Hiu3F6HkZ2EE9IKUgRcQJSpuAdaKXmwDtTfuvOr8x7+AN7ZsQfaeNBQL11G8Bo+6ywfNqSGjafG9QqfxzZXrZGR7kEfNMLbQD6OmzMWWHSnI/nCvJHMfThRnFJpwswZH5U2JHnC5B9DrLzTWK4EPy1BJBrAeO3StWXZk4uh3dI4nkvGZ8Mw4bT3Wz34co+qnkhin4uda6OVNE31U1KfSKHqapYwcW4OovlTA5V78Sij43gf4uPwmVEEvILM4C8c+3IIdi5IQ1UkG4A4xXn0GuuJyBXXo7qOxfMfERoEPJmqvXURllUWqOI+z5ZTEeViiYh2OllPdPRiGxcL+rJGigpfQKKuJ4t4RNLLavheZf03CxFGD0LPbTVw+U4RPPtiEfeYjMYZxGKF4Y88uvDdvPB4NJAevrgaVpwqwd8ceFAmj/TbAJl1rjoo0PJs0Byv/SY4kGbFfDQ1CwrSFeI8cvR1T+JlXl+Hn67hsKSNC+laQk4u4LBYqwKvjX8Sr2z9DUcVNuPT3R9SzL2DH+1nIXNTxATwOMV5XPl2O0XHLkaYhKx0yDTuWms2Gfn8TtfTv8lfrMHb8ZKtJnIeVWXlImt4YtQBYHEneIg1vD68yny5pDUn4fVhvUtBDeD4wDiFP0PcnLcCcVZ/Jxy1w7Qd/Kx5nH1UPavybTTwahmnCs5PwmPe94vOF0SPjMJrkPf75JXh1wwX8JBdpmeuo/RlQqfo3dQrDvNDHfPRmp641S0URti+dg/jYOPiOHI140o/Kbv0QNWEaRslFGOdFLwhJ7XnssyIfYkpabRZfUI60DUuQ+MQ4BJIsjF4gxBH0gP/45xrHJtzjYnXQ0pY4xHj9oBfmVMlKz9yOo9/fK0ajvBEpHcOH/8YpYRpi5CRMlLNMDJi9Bpk7FmKaeeTe1nwxyMI/ZAtGeVMdn8nHWvmQo9Bf+rrx84ewJPh7yNuN6Ieg2RYeRmQyHhUinMtPYZeUwzBm3Iue5vJ8j/TvcpXFdHpSGB683RSeyL9wtPwm4DsWbzQa+Xhj8ZzQxh2GvbpGuFjMI05ctB7ZacmNPl/y3r9Qcok27u/tJKuHMC2x63i5FFtgFl0t8TjeeG8LdsyWAjbECNMP12OxmQNfmbVJjO4WHpt4ijmf4YoQMegxCC+YO/rUT9o81UyGTyVv2oODAjZkhCmHv3yEsxiEiX81hVx+hNeyylH7QCiWfboFb0wbg4QnxmDW0i3ISAqF/zCqwEZTGTvxj+NXSVn94X/PVRzds1POdwSnUEnKrQp8ihpovHgdCdOSkf3WWAyok4uYc+M6elIjZK9Kaii7agwG3HMdR/evc9BUJtNV2H5GmCHoh1EL1ogrbQjvHSL3PCpp5DQ0MqVe9pPIQByb/SBcKP/2XMTKjdk4W9sDo+btwrEPdyF7zy58lpeCab10jQM27NK146IuuPjGI2NtMt6YITtpHl4Y6j8Gi9+biyRB5p8Yj2U7khFFzp3+dD62S6UYJ6Zy1b9w+Lt74Z+UguwNL0jt/OwL2LJnJiYG+mNoX51Urk8/+KuDkLR1BWaJskCytGoXkgLvBTSnsF8sdRH/OEVyf483ktJ2YceqZKzfkoJja0PxK2GEdxvyz1NfT4Z04s4V4kobUXK+LTjWeAnkrsbKrPOovT8I8zYtFC+mcs1UvJhahMu9/DFxNt0c3eC83/lD9V0Rti+yiPwj0g6WSUr5XRkO7BGzHAQp95ZDOHuzH6KmzRWvY/3s0XA5vh2fXJCLmPNzGTZuLEPPuBfksmMw9N6LOLxxNp51pE1lugZrtmNnyXWovEPFTj/hScqrWIe1O4tQKSioLPvLJvng8j/34Lh5sEVLkE6NTVqHfUU6uLj3wwAPN9x34RBem1YkhrubY7uu0ef/XkAOWG8ExY7BxPHx4pRg2qw3sP3YRbgEktESZH4VGbGQ3qgt2YPkpfYEMjOdl4/wvCBPNAAb+kiS1M6LkvDoYODsh+vw7CIpOrFyzRKs/JD6co/RmCfKAsnSE4PgUlWAta+urg8sOrpgHbYXkRFyHSSul5kwqh9+OEh9qhDpfRv2rdmNw0KEY9BoJPzucfzejvdn73IfEvz/lPcp5d22R1iIcagrUFtdgk9ISawStgKfbR8NHJiD0fPaIiCTvONYf/QhB0L/7SEcLpGzzRAWkZz4QBFWhpHCi4uYDoLq5lUUHaCOSC7DdC0MPxngEF0YGEQdQQ0+yaXeoR5ZhnATV4qFF5rl7FaxENmnHsfQM2lQ/26TnNeATbpG+EeORs9vLa5JuIfA3nBx6PUy9uAweWyJ+na+ToarAFa6QsIku833lxJULtYVZ++kj/QPxaP/cb5FObWk3Y3X7RHe/k7B4pAa7Js2EXOahKq3D42NF/NLoF06izvA/9kV2JLUA//44xxsNOs4/OelIGOKN/S5yxEyi9/B6mp0VnnsLDh+2rAVLH4vC8IahovFt7//1eTdLob5JaK/twd6egRh3s69yN6xAutXrUHGh3tFw+XyfRG288vDzC+QTmS8xuNX3XTiuwZFH67DMxZvf7c32kbvOzBMx1GZOgfxC9Jw+MK9GPBgKB59JAj+D1D+sY/w2oymz4wZ5pdAJ5w2ZJiOgadpmM4Ey2PLdKppQ4ZhGIaxBTZeDMMwjNPBxothGIZxOth4MQzDME4HGy+GYRjG6WDjxTAMwzgdbLwYhmEYp4ONF8MwDON0iC8py9sMwzAM4xTwChsMI8MrGjCdCZbHluFpQ4ZhGMbpYOPFMAzDOB1svBiGYRing40XwzAM43Sw8WIYhmGcDjZeDMMwjNPBxothGIZxOth4MQzDME4HGy+GYRjG6WDjxTAMwzgdrV8e6snZWB3pKe8Amtw/Yet+ecepcIWbb1+INWHUo/qbahjF/C6K0h3ug1RQCNs3LkFbUSNmOxUOlr1WL8fTiXVB4e4F9/vF1obhUjl018RNxqEMx4SlkxGsknf1J5CydBfK5F17af3yULe/nga5uAHdmSoYpOy2w4E60nrjlTgfb0f3RnXFVfxAu9VH30R6XhCSVk+Gj2YXlmwtQsyidYjvdRobF25rVHGeU5djQZArjJpsvPpmlhVjkYC5myKhlvfMMRqqUfzJB9h56JycY4EyDrNWjYWPogb5W5Ox+6Scb4nSG2HPJWKcvzuU5uPQ2hoU5+7Czv3lZtfVwvXo6Xrys7B7/4nG9yHWD5A5800cDJmOFc8Ngy5nLtZlyMdbQizvhbK/L8bOY9J3u52U6lRArNcGOWjglgHakoNI2ZoLnZxVT68gxP/XOEQNdJUMl4nr1cjJ3IS9eWZGTL5ek+w34XpDmzZ7LTIa0z23cE6D7hzys/fRNTRuU/HcyMUrq/bBZ8ZKzAq4KtVnxGTMGuVOJe7DgIFuuGRrvTZDqzuLTqgLyuBETE0Mh49FhesvFCB9UxqKzYyYVLdW7p/kqVpTjMw9VF4j54nYcm+2lFEiYv5yTFB3g65oG5alnJbzm8OG8i3ImVFfhQMfbMLB4oauuvl7r4NOW4Cdb2dAYyrerF7WIPqlBPi5At17ucPz7vIm7WwPrTdeUt0H3qqG5lodUFOOvZv3QSscUg7HuDmTEO1pdn5q59LsVKQ06vPuFC+MWzob0X1I1sz6LDhQZx00bXgVX65+ExsppefJWbdlGCIGUysTCrUfolpqo2vlOJh7pCHln0Y13BE8/nk8HSKXsUDxiDfUYu/sCv+Hg8S8JihDMWHRdDwd4A7jpdM4mJGKNe+kYmfeaWiMrgiMfQmLp4c27uQFLK+nsBzVd9P1xE7BivlxcJOLtQ81KDW/ltwCFF6izjCAlGq6xX2ryaAvmYyYgUrovylC+vub6X7TkF54DjqFO6InJWNuopdcuAHDhRNm5zdLn58AfZUZltfSkPLOyEVkLM+Zc7IKN3p40TXMxJ+nWKlza+TtEmVu4+qTFtfRkXQeXXCLn42lU8hwuVC7FGYh5R1q7/ezkPdNDRT9QzE1eT5imljDOmiLzM4vyJO2DqohVH72EkwIa01n2gzKKAR6dhM33Xwi4CNutYAd5ZvILsm6XumB+CkzEd1fLlSP5b2T3JLFUg0Mx6xXEpp34uopR85mqe33nm999+8oDOcPSnpiMlxkWGLmTCbDpUD1ySxsFOQiJQuFOgX8Yqdj1njBuLQOtwmTEEGGqwkO1NmOe+YVEYURvQDtmXLo4YERCS1U2PUqZKZnNKR3t2HNpgJSWleMCIuUC5njjtggLygM5Sim1lINDUWgfMQcn8lxiCBLo8ndjGWvb0Nmzgm6nhMo/GAb1i3djExSWrfAMRgXIH/AhOX1pFLjL0xGSkkNlOqxmPFMUwPQdujxrfm1pKdhJ91LzhW6b99QBMulhDqJ/n0UfJQ1dH/LseytXcj7vJzutwB5qRuwbHkGCvXdoI5IQIRF/2TUkdfd6DvktL+Avt0cy2tpSIUlchEZy3Pu3fomlv1ZqHO60uAnkRTdBp1kZ6UtdKF/ApLGeEGpP42U5cnYmpqNYjq/9vNspL+VjKUfnIbexQOxiWMtHAUjLp00O78gT6uTsWTDEWjILYtInIJgBzeNKmE4fBQGur4qgByYiAj5QDPYU76J7JKsr6SRhUHhgbBIy3q2vPcMqqtV2F1mgGJggBVj56RExOERMv76kgys2ZqNMkEuirKxc+kO5OmoD3g40Wp/aTNqGu0/7I66MjqvnNUWdJjxChzhSYP/Knz1twKUXaeRgk+4DZ6NGZpyVNLnlN17yhlm9A+HH8ml/iwN98tIwJWeCG4i4GMRI4zvrxRiZ7qVYTIZvoOZpdCRwgY2N3JrRA2KN+9G/jXqfIPiWtf4reYcSi8ZAJfu6C3nwDcGEQO7wVCWg93mU4Mmrh3B7s/PwajwQnBcBxkOoc7XH0aZUYnA8Dj75MGJaQtd8IwNgFro4LN3NZoaNGEgD/iApo5GeoEtj/RkjGUZ2HiI5EPpjeiWjKvduGO0D53v+jnk/a2cDKQSPiPC5WPWsLd8U4w5VaLXr1R5SBktYqCR51X63x2qFqbFnQmfYcKzfR0K9xZY9HunsfdktdhfBjYzo3V7BCc5FJ7UB2Vuq3LA9GPztJHxqkLh50eQU0yGgyj9gobgjaaYxiJiiBJGTSkOG4qQU0adqfswxPrKh21AERQIdQ8yUN9XyjkNeMYOo8qrQcnnRTBmlYqdod9DY+WjMtHeGEAup+bk/qbPhUycTMWymXMb5mtvy2l8VEJnU/aFn8nenSnEwdxClArb2hPIEaYiLKbQmkUuXyi6L2XIo21TnbaIcjhGDqAe6bqeREhCFTSIzLABJfm5zQqUMXMD5tH9rsto88e2zWPIQgF1qnBX148aRfn5QnpycKlYmM6R69Mp6AhdcEfwIDepg89pri0NyHvzT3hFeHZoY3MbM4tRWkv6NShUzrndvQncpgw5VSPJFunK8lBmOIhCanvlkJFodjBlb3krKJ/0pv6BznHlds/WBFwRPVQw1ldpVCbl3LFedhbuFqZc63Dje2m3KUq4DZA37UTx2CQ8PpD61X9/gLw27kbayHhVo3R/BnLyyYoT2hwagptNMSni/cgrrIPmzGGxI9Ue04gjHL+Hh0kFLOnhgfgJiQ1pyny8NmU4ul8pwvt/tzQswxAxlBT3mgZ5grAZDqNYSx6mp1/j6bD7u1MTGaCrdGwN6zWX6T5d0df0LKEkF5npudLw+UIBctKbTqE1i1g+C6UXhJ3TKKTPmuq0ARUGm9fNhMmYtXQKwpQ65O1tiCzqq+pOf0kBj0n7dqFwg6cvKbxFcuslH6+nG7pbKec5UHqeYyvFFwR3ojc8Ze9PlJ8cqaPR52c11KdT0BG64AGVIOvXqu84WMA6X6BSbBp3+TlTy/cm0XIZz4dJjsjRLDsmtK8BBWe0NPonzz/e+nDQ3vIKt8BG9TXu5SVYGusBwzfZ2NnESVOgb4BZ3U6YiKlLkzHO04jSj//ZYORt0svOi+aKMJJ0g3+cYJTN8UKUTyue2CsjkfSIl1g/O/e0fX10wLShElEBXlAYtSjOlKXh5BGUklK4DRaGm1bo5Y2YyPCGFEzK+XMNKisrUW0pfyER8KdOVXf2iNzBkYdZIgv4Iw0Cru7VRpNSP8v/2w1X+JnXTWQQfHrUQVddBa0wdSjj3tO6ctuCyjcOC15+qUlKekQuUI87oq2UW/BstHzcNoy3aOT1i6CtdKEvRF/F4dAX3JI3HUIQon3IsdGVS44mYcwshcbYDWrfKCtBO/aWpxruP7xRfUX7ukFp0EFTqbUwsgLd4BlkVreRoQjs0w0GnRbfVjqPcbodxiwaNV6nOouciamx3lK99SKnf/bziO8rBcLYjxJ+U2IQKDjN72c0P5vlQNrfePWPwwjSSqP2HDT13jkNUM7T7ZJixlob/2tz8crMufVp3vJUpJ+5CXVQAhbPb/zAOfAhLxqL6FBGo5t6z19D31XbDT5BDc9RNNeaiq5D6NHNqhK1HVXINKubV+a/gXWZ5ajrNxxPz55dP9qs/sHSytuO/kwW1ggRSRZp56dygXqqkWOl3Jr3cuTjtqFyuU/e6uK0mS5cgv6GuOFg3NHdRd50BBGh8O9BUnOelLX+/s+hVJgpUQ9HrGWAhL3lCSFM27y+Fq5Ow8Er3REYOQWLp1iObg0o/HtD2VdmJmPZ+0dwqYc34qfPwwTLwC1nxVCA3SlHpIjqJ1/C2k3r8Pbr0zFBfRN5uaetGHUbCJmEZ/yV0BVmYG+j1ynajnY3XqrRJHD0X6GObOSdzwgShqu2PXw1Vp9A3ta1UhSQ+iE8Xi+04QgeJPTWbgh7zszzfzkSPoLSuXtjtKns9zdIVJUYIM5nOw7PQb3prDW41E4N2ARDNTQfb8MaMaLKC6PlsNdLYm/mjgH2DYIkjDoxEs4yNX3RtQ43rJSz9wXowP5C4MFVaO9kitOJaDtdqIJe8FX6eJhFmzqC4fAUpoqvOmY6UgpUIakMmtzo/sepBe/fHX6jG+umveWtYagoQOZqKRrXLSDqNvVTA93nGVgnRnO6ITjaWmSzcyIE4Kz7YzLWZORKrwVkpmHJohVI/15wvg3QiVOithKEp8cPh+r6aexOteU5omNoZ+NF3qQQBmgoR3oTDz0VeSRQtj98tRIF9NhI+JF0Vx8T3teyOD+NRgwk4CNpmCyScwKk73D3jbE+PSMQMAWvkVeyYoYt0YaEMhKx/vLzNltjPNoIy4gqPXlUWnSDX5BlaHQDivjZohc2N1EernUE6okYTZ2REMCQJ2d1TdpSF2gEfKYacFEj9LHm2lJ40fe/8fam+YixsbndnnkIPoo6lJUclHNagxSogitF0ntGjVIWSkk3Pf3MddPe8i1hJRq3JVqKbHZChFU1PH29oFLWQJuzT3ot4OMC0eHx8SEHwUgOcL5c2BZCguEvTGn1GIZZwiiuPkkv1asCJov7cxPF0g6jfY1XQDj8qG8XQtjzmnjoJ7D3ZBXVbPMPXxujRLCnIHo3oBcfbpEy+ntSx1yFL/8hvK9lcX5qnBISQLeh4bKAH8EBITLQLQgzZlh5KVYZiqRnhpO/pUPhARsskdIbMXMeR6CyDprCrA4PKFBEe6Av/Tfo5SioC1nIF0OjYzDLyovIUCdg1hjp3bi8LJLijqBXOJKmh5KLUYPCz6ytMtGFaFNdoPPuO44yYzf4xM608iIyiX3iTHHEYigrxGEbmlsZMR1zHxYuuJS89NbLhxSoIkT7/lN6z6hRykbOWfoON29EyFN19pZvGS/49aV6rb1B43sbUHtjQA/SpRvCuinOj9EnDi+/PBtzn7GYNlUnYpyvEgZNMQrkLJuQoy/NX+6WUrn47Mv0orjNUdY2cqdP5+4IHzFSiLzEIuvGQAxrj/CQHr5mmnVecoRVPS5u8BrmDZ9egod+GB8JQ1xlDIKF6QNteTPKKIQhj0NwkFoUcGG5KG3qu8jsOxPxAROx4vWHUPjVOVwiA9ezrxdGBnjBzYUMUc67TedwG11PN/QeoIaP2h0qcgV0xWnYaEukTdBk/PkPw2Es3IQ17zezxJVNyNGG8p54PYP94T/QlTyoc8isvxYD8jZlQJ08EcHRs7HC9zQKyzTQXVfBbZA3gv2F6yejkZaKQov6kyK2rC1MpMNXdxj51/ic3eHuMwg+fd2gvFuo8x3Y3cWnDNtUFwQM2fifNDVe+8MwxP9xJfxLilF+/ip+6NEbap9ABPenzlt4gXmb5asTcsTdIHm3hzv81J7wdBM6+ypkbku1acow4o//jfg+NKpctA2Fcl4DcqAKOZolzThKZZ9TxxcwHD4h1MGePGdn+YapqyayK9yP8KyMjJGu8LDFtVncO6Hs641AH9INkvW8nFw518nJy8Kn4dTvBT2PP3c/gszsUmDYWMRHeJPjSG2831wm4jDjrSh4nv0ISzY3c/9i9KW83YgEeEd6QyG+KO74qah2HHmFI2IoKcC1cuQ01zGZwtotH75aRliFDYNaaUBZfgZWvpktVrQqgfJQh7KTBy2UsQEpDNkVI+gcEudwcNVybMyrglHlhYjISEyIj0RMMA2pa6uRv2cT1mVYMSyNrieUjKabuLzU3tRkLNtm+eJfM5Cxc3chX/n71hguActoQ7oeTyVuVBQgZcOGxu9aGAqwc/lmMtzVUPQdhujIOLrfcEQHuENB15G5bRV25jftHCwjthpSMPzkMvbS+JxBCOzTHXqNcM3J1uu8S9G2umDCmL8NyzZkofAKiVtAKGLiqb0F+aAhefU3R7Bu+TZxuq0xFhF3wdShudxAKZ3/9T+/iYM2PcsNIvHuRs6TweKdLxlToIr4bpucZ8nJApRdo8HUsCgE2ltezhJoIrvC/aAaxQdSsbLJ8xnLaENqJyF0/Eo59m5bi3TTe15OD/V763chs8IId99ITH35JUwd443eteewd/Omxm0cQo6LCzlGhs73HpuDFuaVF56Vs5wV5UDyhrtTv9EOq277TF+OWYE3kDn/DZtfEnUsSqiGeEKlMEJ//pz0gN9pkRZHRadYmLeT6oLpVwTa5RcT5MVqS9LIW7drAqrLIC70qz7XKRbmNS2KbBVZLvC9FtUN71o0MJ5kekxvFL67mBxbOc8htF5nHTTy6o3fLpyPWZQm2POqeyfDUCHNobfHz0V43i8sTaVBQYcZDQP03wj368SGS1ihWpS7APH5Xuegk+qCoRrVwvOh9vipn6DecIPw4vUvzXB5I/olqe3HDWouLKr9UQ6KkfTkpYSmAS2yXFg1XIRPHzJstVoaecsZrcWBOtt643W5GmXyT0AwthIE4fm67nzRnb1TwVjwEyorqqC9LO92FKwLEmo3qIxalNn3el+X4oawusn5arTJ63Y2UwPt+Srp51DuEC83VxgvlFt5btlaWq+zrZ82ZO4A4Ycv3WB0+um6rkXrp2kYAfEHDl10zvkDp52IjpdH6dGCQtc+s1H2wsaLYWTYeDGdCZbHlmnf97wYhmEYxgGw8WIYhmGcDjZeDMMwjNPBxothGIZxOth4MQzDME4HGy+GYRjG6WDjxTAMwzgdbLwYhmEYp0N8SVneZhiGYRingFfYYBgZXtGA6UywPLYMTxsyDMMwTgcbL4ZhGMbpYOPFMAzDOB1svBiGYRing40XwzAM43Sw8WIYhmGcDjZeDMMwjNPBxothGIZxOth4MQzDME4HGy+GYRjG6Wj98lBPzsbqSE95B9Dk/glb98s7nYI4zHgrCmp5D9rDWPhWlrzDMA20ejmeDtOF4ZiwdDKCVfKu/gRSlu5CmbzLOCetXx6qLeSi88ha60deCgWULkboq6tRSUn3vZAZhKTV67BiRpBYJGbROry9ejp8xL0GPKcux9ub1mHt/Dgo5LyWaKm8+B2LEsRtnxkrqdx8xIh7eujka9Pf6kbXass3McwdcAe6IO6TTDdJ76zEghmRcJPLiYRMx4pNK5EUIuwkYC6Vk85rgO6y/J21gFLJ6+ExAtTfKbuhW61OlI3Ky3rckI/YgjI4EXPflOTRJL+dSdYcNG14FV+ufhMbKaXnyVm3ZRgiBruKWwq1H6JuWwf2ljdxBOnytX2pk7MYps24E12oQWnuERysTwUovETOWgAZqOmmTqMlypGzWfrOveeNch7DSBjOHxRlY+PmfdDKeS2i9EbYjCVYMSUc6rvr0FiiOo+sddwzr4gojOgFaM+U09jIAyMS3OUDzWBveYZxGvT4Nj0DmfUpDTtf34acK4DKNxTBcimGaRfiEvB0QE9U5+/Cwg/KaazVOekw4xU4whNKVOGrvxWg7Dp5mT7hME2jWsPe8gzj3JxD6SXqNly6o7ecwzDtQmUhdm9Ixpp3izqt4RJoI+NVhcLPjyCnuErcK/3iCA5+fgKXxD2BsYgYooRRU4rDhiLklNUA7sMQ6ysfbsLty4vf8YX02PBSsTD1UohScY9hOpLb6UIzKIdj5AAlcF1PZkxGewI5uUdQKM79lCGPtk3nZRiHcSwX+WWd2WxJtJHxqkbp/gzk5FeLe9qcDGTuL4Be3AMU8X5QK+qgOXNYnE/VHtNABzf4PTxMKmCBLeXF78g5LW7r87OQmZ5r2/wuw7QpLeuChAqDJyQivj5NxqylUxCm1CFvr1kk14UC5KRnofSCsHMahekN52WYXxodMG2oRFSAFxRGLYozZet+8ghKdYDb4FA0BBqbsLc8wzgbrvCLDEdMfQqCT4866KqroBWmDhnGkfhHmjlKDSnYXz7uJLS/8eofhxFkcYzac9D4esNTTEDJebJGvbwRGyGXM2FveYZxOqqQOXMuXjGl+W9gXWY56voNx9OzZyOCI98ZR+IbbOYoNaSIZh/bdE7a3XipRpPxof8KdSQWvPxSfZoRJLzRooTPiHCxnAl7yzOM02OohubjbVizvxwGhRdGj+fIWsaBZLzZ4CiZpXUZ8nEnoZ2NF42U/EgRDeVIf2cz1jRKqci7QuZoyEg0DKbsLc8wXQdjTpUY2KFUeUgZDMPU077GKyAcfjRg0p8tQN6ZcvGdrYZ0AntPVtEQyxOB8fI8ib3lGaYLoYj2QF/6b9BzRCHDWNKuxsvnYW+4wYCyoiI5pzHGrFKUGbtB7RslLv9kb3mGcU4sow0nImnhcqxI9IbSeA6f7eGIQoaxpB2NVzgihtII6Vo5co7JWZYYDqNYWweFejhi+9tbXs5jGKfDMtowFMGeStyoKEDKhg3I44BDhmlC61eVT5yPt6OBzJlv4qCc1VkRFkGNRy5eWbVPzmGYBlq9incn0AVhUepZ6nPYuHAbryrv5LR+VXlhUejJ8NHswpKt1mevWkNHy9o9PXr3X6ro1opJN79ReEzdGz0DfoPA8FEYdPdRlFbIxzoF4Ziw8PeIpmsb/IAKPQzn8PGRr+VjDNNAXR2N4p1SF7wR/dLzeDx6FAL6qqC66yqOHToOXofauWm1PKIfAscGwrNnX/gEhyIksA8ufPm1xQvy9tJ5ZK3104aXq1FWcRU/yLudmR+uVKHsAqs000Z0Al24cY2u4Xy1XT99wXRVaqA9XwXNtTp537F0tKy1ftqQYboIrZ+mYRjHwfLYMu38nhfDMAzDtB42XgzDMIzTwcaLYRiGcTrYeDEMwzBOBxsvhmEYxulg48UwDMM4HWy8GIZhGKeDjRfDMAzjdLDxYhiGYZwOcYUNeZthGIZhnAJeHophZHg5HqYzwfLYMjxtyDAMwzgdbLwYhmEYp4ONF8MwDON0sPFiGIZhnA42XgzDMIzTwcaLYRiGcTrYeDEMwzBOBxsvhmEYxulg48UwDMM4HWy8GIZhGKej9ctDPTkbqyM95R1Ak/snbN0v7zgY5UBvuHWXtg2XyqG7Jm13KZTucB+kgkLYvnEJ2ooaMds6rnDz7Qux9Yx6VH9TDaOYbx2Fuxfc7xfPbGf9xWHGW1FQy3vQHsbCt7Lkna5Dq5fjaTddsK/dOzPtp9POJ8OtXx5qOCYsnYxglbyrP4GUpbtQJu+2FQ39zA3ozlTBIGVLOFBHWm+8Eufj7ejeqK64ih9ot/rom0jPC0LS6snw0ezCkq1FiFm0DvG9TmPjwm2NKs5z6nIsCHKFUZONV9/MalYBlRETMSM+FOoecoaMvuIIdv5PBsrMBF78roa6sYr+pHRd0rUDmTPfxMGQ6Vjx3DDocuZiXYZcsCXE8l4o+/ti7DyWgLmbIuFmOi/R7HXcMkBbchApW3Ohk7NElMMR88rvEDvQVTJcJq5XIfP9TThYbC4CXgibMQnj/N2hNB871+pQmPUudh46J2dIKAIT8V+TwuFjEmIZof5S3s6AxnTqZusjHBMWhsKdivTs4wF3XS5eWbVP+kwXotWdRZvrgn3tXk/AFLw2YzjcjOeQvmgD8sxFyRYdaLGMJPv1RsEMo6EaxZ98YPW62l+nnU+GW2+8JNkLvFUNzbU6oKYcezfvg1Y+ao4i+iWsSPQmh4j6G6Hu5Hy7EPuwSYgfaHbNt2pQvG8HUkwyEDEZs0YJrXAfBgx0wyVb+1srOGja8Cq+XP0mNlJKz5OzbsswRAx2FbcUaj9ENdNGbiSMSyeRkCtqUFqYhZR3NmPN+1nI+6YGioHhmJU8HzFmmlP6xREczLWeSvVCiRqUFEkGpu2ha250DQUovEQdVQAp/PQguYyAF2LmTBYb/eqZXOkeKaUcKke1wgPx0+dhXP09KuE343k8HeAOo7YAO1OkshszClBmdEPw+OmYGm1WmeoEzJpChstFh+JDaWLZNe+kYe8ZnVh/cxdOhJtctHmOIF1u3y8bWVymKW2lC3a2uxmeIWqpjRVeCI5rRtFay7VyMzmnlH8a1WQqgsfTNYfIZWQ6Rqd/uTJsOH9QvO+NzRguKEPxdKxguFqDqQ+j0VT+PmwU2zQXpdddEWguA3m7pGtZfRLUFbaKjnvmFRGFEb1o9H6mHHp4YESCYI0t6J+ApAgPKPWnkbI8GVtTs1FM5bWfZyP9rWSsyamC0cUDsYlj60cr2pwMZKY3TQeue8KbRh764r3YfUwu3Obo8W2j60jDzte3IecKoPINRbBcCiExGO3ZDbqiHXj9nX3SPVIq3rMZr6eeoBEadU6xsrFTxiA2QPLQl61OQ2GRVLYsJw0bl2ZTR6ZE4EMx9fXhE/uQ2Enkp65Ayp4Csaz2TAFy3lmBd4pqgD6BeNyic2HaGVt0wc52byAcscPIMFaTPF0nX8Y/DhYDcMcgzBCYy/q727BmUwEZMFeMCIuUCxFOr9NdDXKKpjyJ4B7k3JY1muCzj4g4PEKjY23uNqx7NxdlYpvuw9ZtkgwEjx4rF3QcHWa8Akd4ikPUr/5GniMpladPeBOl8nxsJHW8BhRn70KxlblwXcYm7NXUkbf6EB7vL2daQzkW/xXrBYX+BHZua69RV3OcQ+klEhKX7ugt52CASrx3/bXT0r45J/8pejFbs8qlffK8BS/acP1S06klw2HsFDyefxTIGeQP3S/4U3roTkr75mgz/oe891R81NaT4EyL2KIL9rZ7PRHD4UMioClJRZ4wP+zujdEt6Yoj0ZSjku5H2b2nnNFVddqJCZmEZ/yV0BVmIK9WzrsDIh5SQ2nQ4EC6xRSxZj/eeWsz1u05YcWxah1tZLyqUPj5EeQUV4l74rD/8xNmw8SxiBiiJC+yFIcNRcgpoxGA+zDE+sqHRdwRPIA8xuvnkJfTnEdgQN6bf8IrM1dg7wU5qwlKRMyMgY8w+tiT2vhh5ZlCHMwtRKmwrT2BnNwjyDsjHrk9cvlCcRxehjzaNt1viyiHY+QA6k2u68mMyZRUk3dCih0wGT7kgTemBjrBizEFbhzTQEu9l0odijChV2qEAfpvqKzZA/zSC8IciTt++1xQ02mBa1Wi917/kLw19cE0gyN0gbCz3U2InYrxHAqzDCj7nNqaZGFkrLd8lLClze9QLhRBgeIzLf33lXJOJ9fpXxzDMCF+OFTkAOxOteI428xweLp1g/ESje5plOXz2GRMXTgfM2YkIti/W7Oy2Vru6dG7/1JFt1bYRL9ReExN3XfWUXwjZwE/4srXp6HR/iju6TWnUfa1FibDroh/AhN+3QOaglQUlNVBX+eFkGA1+igq8O///U4u9WuEPBaI/tdK8O6Rr+U8+1E8NhOzHuqNH4v/gbf3X5RzZa6cQ1npORqXEDVaaEpP48IV8cjtEcuX44poU77DBfqs6X4FhkQ8Ch/VXaj7j97o6+8HHzEFI+aZOIxw0SHvX1uRp62TCn9HnYr7CAR5D0FY1H8iaPgQuKkUuPKdFoafpCINfAtNN1885D8Evwl9BA8HU9ne/wHD99W49qN8PjP0ZTfRY6Qf/Lx/g7HRv8WQwf3g4nINVypr0KS0DfUh3heZ3Y9b0Sadlbo68vg7pS4I2NfuIso4PPmUN1TaL/F/PyvHrcu16P/wSPj0dsHJnK+kdrZFB1os44uwx71w/y0j7nEbKMs5pYcexx/ivHHfd0V4d9MBXBEvsXPotLPIcKvlEf0QODYQbtfIiBda1BPh9swMJP36LhSmb0YO9UVuwY8gxJ2cnEbyawuhGPsUjYIvVMN93HNIHN4Pbvd1h1t/LwT9Ngohnj/g6HEtbsmlJSS5geYACu7QbnbAtKESUQF0o0YtijNl7+vkEZTSAMFtcCgagor6QiWH0FoS+Nx8zCLLbp4mRMgHzenwqQVX+EWGI6Y+BcGnRx101TTiEaYO6zGgNHUFlmzOQr72BlSewxAdPxGvvb4Oq5OnN/G0dZkbsGR5Gg6eIW+mtzcixiRgbvJKrF01H/HB0oP/egwFSE9ejjWZJ1B2ozvUAaGY8Mx8rH5nJRbMGAv3JsMxpv2wVRck7Gp3QhFHRkRRB02JKXrxNPLO0sl7qRERIGY4jl7eZnJOKdgDqp9rUFlZiep6Ue8KOt1FUCdiaogbDGUHsTu/uVGwfaj8wxH88wmk/Hku5v3xT5g3fzMyBaMYmIhZ4608x20l7W+8+tPIg7TSqD0Hja83PMUElJwXlMobsfUCewn6G/KmBSo3dwxwl1M/D/gM9IDnA/LBelqYWmg3hLDTuXjFlOa/gXWZ5ajrNxxPz56NCAvDYSjJxu7VK7Dw5cVYsm0fDp6kTqrPMCq7qEnElrG6AJnvvIFlc+Zi4eo0pBeSt+nigZgpyZjbRFBqoP04FRuTF5NA0TVkHJGjHuPw5+Qp5IUyHYLNutCA7e3ujlh/D6BWi1KN6dzedPIqKYiCDIxD0eY2yDmlectTkX7mJtRBCVg83xR80RV0uivgjujfC87ROWRuy3XgdF41Dm9NbXiWaSjHwfUfodjQDerASIcHCrW78VKNJiWi/wp1JBa8/FJ9mhEkPI5WwmeESamqoBccgj4eDVF5Mnlv/QkLybKLKU94lmCAzuJxk+Kx6Rin7ta5IpEM1dB8vA1r9pfDoPDC6Ga9EQNddy4yt76BJW8dgdboirCoBPlYUwwVBchL3YBlf05D4XUSlJC45g2ScA05Gdj5+mIsyyXjqBqOx8fLx5h2xXZdsE6L7d4/HH6CeLl4YZzZuRc8N5y6Ljr7oOEIFAu2DcbqE8jbuha7ywxmwRddUKedENX4yXhcCGnP+6DxO393zA0YBQt4oRwHLJ9TGnJRSb4YlD1p3O1Y2tl4kTcpaBRZ5HQhOqpRSkXeFbrHISMhOZzVKBQ8UBc1Qh9rbm6LPDG1oIo3oDd/gcE0taArwtZOOLVgzKkSH9grVeQZE57RiYifENlkmkhEc1x6YbO3u9gxqcLiqGwc/KxFYhkKUH6hTnBj4SVmDEPwBDp39DBxzxJdoQZX6b+bu/k7Z0z7YI8u2NvuJFOxw0ieDCjNtDz3Zmw8RnqlVCPiMblwm2FAoVaQsO5QicLddXXamQj19aCRMDk70a/i7U3r6tOsAKFNPBAv7K+ebseMzAlohT7KpbvoGDWGztlGVqZ9jVcAeYPkVOrPkscoRNA1Siew9yS5WgpPBMZLgq394AuUGbvBJ3YmYppEWFGnO2YKYskTM2pPIqfe4pumFnTIS99l/aW8DkYR7SF6IQa95Fp29xmJmMgYxFp7yZS8Vv8+ZPCuaMRpEkN/Pyo7FuMjTd2UGcpI+A3oRlapWoq2orrwCw5HTFwUgq2c2i3Mm4StDpfOc2fQ7tipC/a1+zBEDKWTXz+HnI8tz12Osn+chEbovPzjHB6+3Bglgj2FF0IaDFFX1WlnormXvvMFB8i0sEKjiNjbUY2cM9XUeMMQHda4TRVhk8VXM0z9lyNpo2hD6/g89XtEutfh5CfvwlpU+a1zvTAkyhvqe2/h8NFy3Kr7Fv/7wyCE/WYwAkJGwXfQA3igTx+oAh7CmMRn8UyIO1xqq/DxjlSUyvOspkikWxfOovyuIQ3RT2bJs+fVRpGBTQiajD//aTLC3Mrx+UnTBK59WI82HI7QJyZiUlg/MXz5442fooLkRXehB3zJkPg+OAoBA3uh9lYd7u7pg8AnEjEl4UH0uacGx/an4BTV2a3TP6FXRCB8vYMR4tsXt+424NZ/eMJnTAL+8Idw+CjroDm6CwfPCPd3ERrXAET82gtBEb9Bn97dYKhTQPnrkYid8H/wdGAv3KM/hd1bv2q8VFULcLRhC7ShLhjtafeQpzAptA9qv/4E6VaizFBXAYXffyLAUwH9v78QZbApwlqA0zFuiBE5Xzaz7JRIM9GGQRGImfg7RHu4wKjJxZYD30rRZh2l02b80qMNxYjX0qbppn8UQtyv4Yv/TsHH9RGxtslB7Td16BM6AsEjR2GI28+4dlMF9aOTMDXGm2SD2jP1XXzTqCttfbRhOxqvcIybNBx9fzyNd3fJYbqW1Gnh8iAplVqFu746AuGVl1va48g7ewtug9XwpzTExxeBgz3R35UUr+IItr+VgmNmLsJQUuYwdwXucXXHEK+BVlP/uzRWQ0frGRWDCd49cOlEOo6dlfPsRDJeLujT6LuF674H+spj2L2DrtsUwlvzNY5/ew/6+pJiDvJCYNBv8fBDD8K/fy8ofqzCp++/jX99eVMufBGnjv8Il2FD4D9oIPwDhLK/QeAg6gDqqlH48bvYkVlRH5Zae+Z/UdyNyqkHYuhgX4Q8ROUDvDGotwt+FOpvw/soaxKO3zxsvFqgTXXB9nYPfCoRYQ/8hKI97+PUZel0janDxd5+iCan5n7lV/j8lJVOPyQK40a6w1iRg39/JUz9NYdsvO5zM5NzSgPouu76Ed98mYktW3NxXS4t0CE6bcYv3Xg1h9VQeVvlgOS1+Nta9Bk6BAG+D1I/Q7I5QOq/Pn53EzlVlh5S642XgxbmlRfClLPaDNOK6228krbP9OWYFXgDmfPfwEHHRJHaTi8PePaV4omN32tR3RBn3BS7VqCn4vUreBuhP39OenhuJ+IiqeCFea3SXrpgZ7vfEePpXsb0RuG7i7EzX85rC9pJp81xFhl21MK8pkWh74g7kQO5D2u5/5IWdEYrFuZ10MirN3oGkKUNH4VBdx9FaYV8zNHU/Ygfv7sK/fc/Wrzw5lgCxzwJ35unsPNQSf3LpO3GTzXQC/dI6cfmXj41YaoPIf1gGpk1T90PctnvrqH2NqdujLAi9+8RTe07+AEVehh45GWV9tIFO9v9TvAZ/ShC7r+AQylfotmFLhxBO+m0M8qwo0Zenj37wic4FCGBfXDhy6+tj/Sb4Y7kQO7DrPZfwqryT8cgJNwDHj2743qHvqR8uRpl8k9AdA2CIDxj1p0vsquRfyn8cKUKZeKSU0wTupAueLm5wnihHIXyflfilyPDNdCer5J+DuUOaTs5+AmVFVXQWp3Wto3WTxt2OYQf+nOD8Q6n1RjnpfXTNF0FJVRDPKHQteWPQzK3o+PlsXPLARsvhpFh48V0JlgeW6bdV9hgGIZhmNbCxothGIZxOth4MQzDME4HGy+GYRjG6WDjxTAMwzgdbLwYhmEYp4ONF8MwDON0sPFiGIZhnA7xJWV5m2EYhmGcgrt8Hopl48UwDMM4EcD/BxpiMTIPiNa4AAAAAElFTkSuQmCC)\n",
        "\n",
        "## 입출력 예 설명\n",
        "\n",
        "### 입출력 예 #1\n",
        "\n",
        "- \"ABCD\"의 경우,\n",
        "- 1번 키 한 번 → A\n",
        "- 2번 키 한 번 → B\n",
        "- 2번 키 두 번 → C\n",
        "- 1번 키 다섯 번 → D\n",
        "- 따라서 총합인 9를 첫 번째 인덱스에 저장합니다.\n",
        "- \"AABB\"의 경우,\n",
        "- 1번 키 한 번 → A\n",
        "- 1번 키 한 번 → A\n",
        "- 2번 키 한 번 → B\n",
        "- 2번 키 한 번 → B\n",
        "- 따라서 총합인 4를 두 번째 인덱스에 저장합니다.\n",
        "- 결과적으로 [9,4]를 return 합니다.\n",
        "\n",
        "###입출력 예 #2\n",
        "\n",
        "- \"B\"의 경우, 'B'가 어디에도 존재하지 않기 때문에 -1을 첫 번째 인덱스에 저장합니다.\n",
        "- 결과적으로 [-1]을 return 합니다.\n",
        "\n",
        "###입출력 예 #3\n",
        "\n",
        "- \"ASA\"의 경우,\n",
        "- 1번 키 한 번 → A\n",
        "- 2번 키 두 번 → S\n",
        "- 1번 키 한 번 → A\n",
        "- 따라서 총합인 4를 첫 번째 인덱스에 저장합니다.\n",
        "- \"BGZ\"의 경우,\n",
        "- 2번 키 한 번 → B\n",
        "- 1번 키 두 번 → G\n",
        "- 1번 키 세 번 → Z\n",
        "- 따라서 총합인 6을 두 번째 인덱스에 저장합니다.\n",
        "- 결과적으로 [4, 6]을 return 합니다."
      ],
      "metadata": {
        "id": "56LFGoYGMZRo"
      }
    },
    {
      "cell_type": "markdown",
      "source": [
        "## 첫 번째 방법\n",
        "\n",
        "1. targets의 원소를 target으로, target의 원소를 tar로, keymap의 원소를 key로 탐색하는 3중 for문으로 생성.\n",
        "2. tar가 key에 포함되어 있고 그 인덱스가 101로 초기화 되어 있는 min보다 작으면 min을 업데이트.\n",
        "3. min이 101이면 True로 선언했던 flag를 False로 업데이트.\n",
        "4. 그게 아니라면 sum에 min + 1을 추가.\n",
        "5. flag가 True이면 answer에 sum을 append, False라면 -1을 append한 후 answer을 return.\n",
        "\n",
        "결과 : 성공"
      ],
      "metadata": {
        "id": "A5XhxyaATTsN"
      }
    },
    {
      "cell_type": "code",
      "execution_count": 46,
      "metadata": {
        "colab": {
          "base_uri": "https://localhost:8080/"
        },
        "id": "20SG-p_5KCYM",
        "outputId": "421db351-40e7-4a6b-ae76-1388082a6b02"
      },
      "outputs": [
        {
          "output_type": "execute_result",
          "data": {
            "text/plain": [
              "[1, -1]"
            ]
          },
          "metadata": {},
          "execution_count": 46
        }
      ],
      "source": [
        "def solution(keymap, targets):\n",
        "    answer = []\n",
        "    for target in targets:\n",
        "        sum, flag = 0, True\n",
        "        for tar in target:\n",
        "            min = 101\n",
        "            for key in keymap:\n",
        "                if tar in key:\n",
        "                    if key.find(tar) < min:\n",
        "                        min = key.find(tar)\n",
        "            if min == 101:\n",
        "                flag = False\n",
        "                break\n",
        "            else:\n",
        "                sum += min + 1\n",
        "        if flag == True:\n",
        "            answer.append(sum)\n",
        "        else:\n",
        "            answer.append(-1)\n",
        "    return answer\n",
        "solution([\"A\"], [\"A\",\"B\"])"
      ]
    }
  ]
}