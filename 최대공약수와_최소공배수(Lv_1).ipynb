{
  "nbformat": 4,
  "nbformat_minor": 0,
  "metadata": {
    "colab": {
      "provenance": [],
      "authorship_tag": "ABX9TyPOfOe57POox5CqNyOmue+n",
      "include_colab_link": true
    },
    "kernelspec": {
      "name": "python3",
      "display_name": "Python 3"
    },
    "language_info": {
      "name": "python"
    }
  },
  "cells": [
    {
      "cell_type": "markdown",
      "metadata": {
        "id": "view-in-github",
        "colab_type": "text"
      },
      "source": [
        "<a href=\"https://colab.research.google.com/github/Parkshinhyang/Programmers/blob/main/%EC%B5%9C%EB%8C%80%EA%B3%B5%EC%95%BD%EC%88%98%EC%99%80_%EC%B5%9C%EC%86%8C%EA%B3%B5%EB%B0%B0%EC%88%98(Lv_1).ipynb\" target=\"_parent\"><img src=\"https://colab.research.google.com/assets/colab-badge.svg\" alt=\"Open In Colab\"/></a>"
      ]
    },
    {
      "cell_type": "markdown",
      "source": [
        "문제 - 최대공약수와 최소공배수\n",
        "\n",
        "[문제 링크](https://school.programmers.co.kr/learn/courses/30/lessons/12940)\n",
        "\n",
        "## 문제 설명\n",
        "\n",
        "두 수를 입력받아 두 수의 최대공약수와 최소공배수를 반환하는 함수, solution을 완성해 보세요. 배열의 맨 앞에 최대공약수, 그다음 최소공배수를 넣어 반환하면 됩니다. 예를 들어 두 수 3, 12의 최대공약수는 3, 최소공배수는 12이므로 solution(3, 12)는 [3, 12]를 반환해야 합니다.\n",
        "\n",
        "## 제한사항\n",
        "\n",
        "- 두 수는 1이상 1000000이하의 자연수입니다.\n",
        "\n",
        "## 입출력 예\n",
        "\n",
        "![image.png](data:image/png;base64,iVBORw0KGgoAAAANSUhEUgAAAPoAAACECAYAAAC5xDaMAAAAAXNSR0IArs4c6QAAAARnQU1BAACxjwv8YQUAAAAJcEhZcwAAEnQAABJ0Ad5mH3gAABQgSURBVHhe7d0PVFNXngfwb5VI40CkZrtBE0C0MApL0005Fix0kCo6U1pLqcWtIz3a6qjYVsWR6jq2umoH167Uoeqhq5yB9XQ4DlVapxZkkBErLkVnkaFSYhvEqEQb/wRqSkG79yWXEv5VJC+Ieb/POc/k3fcg4eZ9370v7z7ffapx4T+AEOLWbEGX3y/ns+ROWb+zguqv/6j+XE+o4yH8OSHEjVHQCZEACjohEkBBJ0QCKOiESAAFnRAJoKATIgEUdEIkgIJOiARQ0AmRAAo6IRJAQSdEAijohEgABZ0QR0+nIX9fLvLfmsIL3AMFnRBHD4zCQ0EBeMhfyQvcAwWdEAkQJejzd38Cwz8+wZ65U7Au7xPUVh1h82yqKsaR3SmYzNcjPeuovwRk7BOe8/qryMPuuaPYGhFYvTuvc73uSEao/cclr6P+krC7sJjXXy5+z5cDQUh+OxdVJ3j9CVN5HvasnAI/vgaQhD3lrHylDgo2p5iYwtfLwHzb8jQcEuY/TrPNdZKcgSq2rGp3Ei+4zXtyWH/G73Z1el+1hRlYHWP7FaIStUX3m/UGkgO/xzn2xj+tOIvLbcPgNzEJO/a84lChpDd+s1Iww9eMY4VHcEx/BS3DR2Hyks3I//MGzNd64syx4o56jX4FOzbr+E8SQdBL8zHZl21/+rM4wyajrVSH1XnvYt3TAVB8fxEny3gdDhuFSclrkf9+Et82zfafa2i2zeHqRdvvOKO/iEv2kn7p+T1x6ueQ/nwAWhpO4tPCkzjzzffwVOswf/MOpPrzdUQiYtC94Df8H9j0/LOYOm8NFs2bg4kJeahpATy1v0AKX4v0htUfjmNe5BzMTl2D2QnPYlHhRVZ5AdD565HJ5uMXrbfXa+oRXGY/4ad9DpPsP0xY/T04lG1/T/8KTyTMwdSENchkpX4rU5Ac6gVLTR6r2yQkttdhwns4dhV4MPI5pEYKP1+MN5LZz/2pDhY2Z9F/yH4Hm09OR4GwuF96fk/tFGpvnMgQ3stSLEpdiqkxc/B+7ffA8FBMn8dXEomoLfqZ0nS838BnBA3v4bDwxqGEX7K9iPSu5q9rcJg/Fxyuumjb6Fr0J/COY72WVkPfxB4VXtR9d1Dz8dLO2x9GISU6CJ439dj/W7Yt8lKbhjzMzqtBC1tn0mzXfcPe/T05MPwNb2SznfmPLmJTqZ69J+Cf/TsOA8QgYtCbcYl1c7qytAhBJ7fXjOuN/GkXLS1CqslP66n+nkKQij2wveWIRWuR8XaXKcjLFqoHfX9uW1t8vX+mAsvlepzjz39kabG9J7GJ2qITMrgooRjOHh4Iwoynp3SfnmTH7cJqnl7Cv26Ngk7cWDNabrIH03FsWrUeS3ub3vnQvrobo6ATN/YlLl1lD/+khKaqGAUf9zKx4+I+G+bd/QtQhSc8+dPBioJO3Fgx/rviIjA0CM++1X4arcPkd/JQW74fe1L78pVmnX2nodYhxTa2gfNPwO6EUAo6IXfTsZUf2k6jCQNgDnycgR2rkpH8ehp25+3Hjmmj4DnMjJq9NXxtRn8F19mDYuJLOJKTgT2b208X7cNHVVfYoxcmLd2FI3lsWU4uKvYtw6ShV2xnRwYzCjpxc3mYPXsrCvTNUATqMH32K1g3/ylMDh0JnD+J91NfxibH01/l6/Fmdg0u3/SCn06HSTGRSOWL8pb8Hu+zHkLLULYslC3TBcCzoRib/ljP1xi86N5rTqJ7hzlnQOvPnwVdO9LWzW4x1eBToVvfq1GYNI11yY3FOOzQ4NsFYfLTo9BSdQTHejtHPogIdUxBdxIF3TlUf64n1DF13QmRAAo6IRJAQSdEAijohEgABZ0QCaCgEyIBFHRCJICCTogEUNAJkQAKOiESQEEnRAIo6IRIgO2iFv6cEOKm6Oo1J9HVV86h+nM9unqNEImgoBMiARR0QiSAgk6IBFDQCZEACjohEkBBJ0QCKOiESAAFnRAJoKATIgEUdEIkgMa6O4nGajtHrPqT+wdBOZzPMK1XjTCZrHzuHuGjhsbX8Y+wwPSVCa18tr+EOhY36PIgaGdMRmSwBoE+cty4ZoShugx7953EPVblfSZu0OVQTZuFhEeU8Gg8jsw/HuXlHWSqCEQnPIbwAA2UQ67DbNSjsPAjVNXdmzUsVv3FrdqKeA2fYSzVuViz8ySfY1y6bd7+c4NchZDpM/BEmPD6HrCYjaj57BD+UqrvCHLiCmyLVfMZpvk0MtOyUMdn+0vcoAfOwLJXYxAo3MHuVhus7N17yDwgYwcHrcZSbHq7AGb7mm5FtKD76BD/m+cR589/F6uz11idOZJFzsXqFx9mAWd12tKGNnhAbrsxtxV1B7OQeWDw39WzK3GDbkLJH/JRyeY7teiu3Db78LlBHoF/W5OESB/2vP31Pdnrs1mr4RA2b/nE/voOLXr4C4sR+zPxgj7Ua+Tot2Qewks6YwJmLk+E1rsNxvI92Jieg4OFh1BU+jWujfkXaAODEKZqwN/+7xu+vvtoa2uDc/UntAYLsGLhZIT53AdTw1UMHTEcMks9Dh79kq/DyKdi8etR8PuBbcw5m7Et+wCKCwtRfMYLwY+Ow0Nj/XDz1DF81cTXv0c4X39246KnI1hxHTU5B/D3b67g22/b+BJXbZt9/NzYetFLUzBt1K3Or3/4a9wM+VeEBgQiQH4Kx09/C3zXBAt778LkP4n9Pfd/g4riE043kEIdi/NlnC4CWiXbOxoOY+v/OHSFrHqUZ52AkT1VBjwMhb2UdDIB02LZ8eWN8ziQtRYbD1/q+ZhsuhbBLA+mimzsr+xIc2tdPjLLzrPmXo3Qx3gh6eCybbOPnxviEB7oAVyuxM4ur1+UcRQG1isLfCiCF7qOOEE/mY01KcuQyrog3f5YqwU3hELP4fC1l5BOmmCoLMC6tC0oqur9aFEDC+oa9Pi82sRLOrResLClgMInyF5AOrhs2+zb54bxgKXhPKqqT9k+o06sJpib2ePPFOzzdS1xgv4TZGyv58daIusFvdPHGu5Jj7K9pbftnhn3sWPw9O0oquYFDjQhGtYitcHcqOclpC+c2zb79rmhtgC70rdgV/5pXuAgbAICvdiO2tJo61m4kguC7g3l+CBoxkcgeu4KbEgMgtxajwMHevgmkjgvMBEvhnkDzawreJCXkV4Mpm1zDOKeCYGSdearjhziZa7jgqDHIvnVxVj5ahJmhqvhYT6FvduyUGbgi4l45BFIXhAFjawJlftzqcd0W4Nl25QjZOE8xI/2gKX6I3xQwYtdyAVBr0NZ6VEUsamk+jwsXg9jZtp6LEscw5cTcbAWYWkiwhVtMJTsRk75TxwnEm5wbJvKxBS8zHphwqm9rTuP9/IlnrhcEPTTqNybjwNs2r9zC9atL8AXVg8Exs5iezC+CnESC/mqFMRrhBYhH5n5997587vj7m+bysQVWB2rhsxyGrsyBm5sicu/jMO1UhyoEf4cFYLo9I8IeLdPCHlNPjYOUIvglgZ425RFLsCy9pCnZ7GdDF8wAEQJuiZhAZakrcDMaF5AXEQI+SosbO/2bT/acV6W9GiwbJtCyN/89QQoWoXz7lmousYXDBBRgm78To5AfzUinkiEkpf9yCcK08YLpSbo/9deRPrH8djOXYcUi21QbJuBM7AkiYf83S0ougtfTIs01r3jmBHNJlTV6mFqBjyUgdAGq6H0BMwnc7Ful8NFBm5CtLHu7SYuwIaX2EbRZcy0ImEF3pzCun3C+XKjCeZbfIGj3i6oGMTEHevOgpTCgsTL7O582wxeuAlLwuQwFC/D1n288HZ6+dwwegaWrYxBoHC+/tp5nOs2akZgQll6Lqr4nMD29/iIN9ZdpGP0ehRlZOGDahOsw1XQhkchLiYKsWGsIm+ZUPnRdmxyw5APJF/VSNtFEGwThVKjRjBrpbpNo7u1WaQf26ZmhLDjaULjWfu8UzQqKO0fHOQ+PXxmtkkFlX0Vl3HB9ehyKMZpoBD+uBuNMDbcY1dZ3CHRW3SJcX2L7qgv22YQZq5fjGgvPXKWb7ddCXc3DNIW3ZEVlq/0MLIukruHnAw2CoydmYh4NsVG9tRG9mXbHAOVQrh+QD/wIQ+Nsb13YRrrxctE4vrTa4QMGG+EsG65rWuudfgPHO6ETgNfWRsMtXfhu47x4bb3LkwhwrXrIqL/SspJ1HV3zqCrv8eTsCRqGI5vy0Wlm5y7FOqYgu4kCrpzqP5cT6hj6roTIgEUdEIkgIJOiARQ0AmRAAo6IRJAQSdEAijohEgABZ0QCaCgEyIBtpFx/DkhxE3REFgn0RBO51D9uR4NgSVEIijohEgABZ0QCaCgEyIBFHRCJICCTogEUNAJkQAKOiESQEEnRAIo6IRIAAWdEAmgse5OorHazhGr/uT+QVAO5zNM61UjTKbB/h+zO9wiirM26mEW+ZbKQh2LGnSZKgLRCY8hPEAD5ZDrMBv1KCz8CFV17nsXb9GCHj0HSyb1dqs9C74oyEJJLZ91I2LVn/3ea3yGsVTnYs1Ox5snyqGaNgsJjyjhIcJdZ2XBU/F8vBZKWfc7odqx14t5BvGPByFQOQKt14wwVJdh776TDve01yE5fQ7CHW6/ZChZhq35fEYkQh0P9Ro5+i2Zh8MupZ9kkXOxOuVJ6Hx92J94C7eGekHpq4EuYhLGDfkKFXUDfOf3AdLW1gYx6i/4V7Pwy+CRUI5Q9DB5obn2r6g6z1d2I2LV37jo6QhWmFDyhxzsrfgc5X//Gt9+22Zf6KND/OuLMHeiBg8K9fnDJRw8+qV92R3zRvCs17DihUcROFL4bG7hwifH8BVfaidHyMJVWD55HHy9h2PIzVvw9B4Jv3FaxGjvxwn22vawX4PB8CUqKz/HZyYfhP1cCauhEMdP2xaKRqhjcY7R5VPxm6SHobzJKjp7LVKX/xZpy5ch9d2jMLTKETzlecSN5uuSHtlv1WtGycZleC2l67QaORX29chPacMN4QaKwj3Qbd12oRVfjDf/Yw7i/GUwNZgdWtM7J7TiL29cjyXRauDyeZha+IIuFAkpeDnMG63mU9j17ywHLA+pK7djv8EKmSYGyxbo+JoON328yndKLiJO0KdrEcx2yqaKbOyv7LhLZWtdPjLLWDMkUyP0MV5IeqCCwtZ7/Q6WC7YCIooJmBbLjt1vnMeBrLXYePgSWvmS/giMnQytwoq60myseasE53r8ZRPwVLgaMrbTLsvORlV7R9aqR8l7RahiexpFSDSixTla7jNRgq5hx5B1DXp8Xm3iJR1aL1jYUvbH+QTZC0gP1PagN1tgtBcQUTTBUFmAdWlbUCQkzEk3zp7AB/+1Gpl7T/W+wxgfjmAftt0bTuIvBl7WzlqKwtOsIZRpoI3hZQNElKAb92UhM307iqp5gQNNiAYK1qUyN+p5CenOD0rhCxmLGY2hMYj99QIsfHUO4n8ZwVt60j96lO0tZW2rOIwH81HeNbxdhaqgZA9XLpzocWdgNDSyDrsHfAPau+8Dw7Xn0QMT8SI7VkGzHkUHeRnpbryC7QwZ3yhsWDwDz0ZOQMh4HeLik7Bh4xrMjKS03yuClbZPEjes3Xu3Ntesth2AYoSffX6AuC7o8ggkL4iCRtaEyv25qOPFpCcWmMxWWK7WoyQ/GxvXr0Zaejb2Vpth9VQiOul1xAXyVcngNsSD/WOFubczJCev2HsYrm1iu3HRy41B3NJEhCvaYCjZjZxy54+P3FptAXauXY01a9/F/pJTtm+MrQ2nULZzAzZ/xjYLmQpPxkfxlcngJ4PM4dx4J6Pvh8O4ngHjgqCzkK9KQbzGA5bqfGTm1/Ny0h/mfdUQDgvlo4MQbC8ig5jBLHz17AHFA/b5bjQjIByIWa730rV3EZGDLgwUmGcPeU0+Nu487tTpDMJYz8HczB6HOD+ohLheKwu60H9VqiLsBV3IAkbavo+xXrvdt3riEjHo9tFAC4WBAsZSbN1+1KnBCVKiemYBlqStwMxoXuCIteR+QjfQeh2N9hIymJXX286vK9QT4DAil5MjIkD4Tr4JX/dwKtqVRAu6MpGPBmIh3/R2gWinNKTAdNUDfv5qRDyRaDs108Eb2kQthBHwxtpS23gEMshZD+O4gTVxPiF4ceYYXmgni5yDaYEewOWaHk9Fu5IoY90VCSvwuyeF0UBtuGbxxLjHJ2FiVJfpoSGoqGrgP+E+RBmr3XAZQ7ThmKAeg5hfhMHrgVEYGxqO2NkvYJrGE7h2CjnbjrrlzlPcse5NqOs27tyB+lHEPvIgPC31nca6By/chDfnxmO8ZyGO9/nCoVHQTtVi9LCur9mGC+e8MD5yLALGhWPieF94a4IQ8sQMvDR1DLxYa17+50xUdP1Wnr+3QT3W3Vc1koVc4AGlRo1g1jp1m0Z3bquIo3oUZWThA9adsw5XIzomCnExOoT4eMDScBRbN2TT6UkXsl9n0ITGs/Z5p10oQOb2Q/jCwvIwTsc+yyjEhqkgt5pQ/qf/xAd34boFuh7dSaJdpvojbyhZKyBHKyxn62Fx8y86xL1M9TwOpGxBES/rmyDMXL8Y0V565CzfjkpeKhaZagxUD7Bm8EYjjA0d14F0M3EBNrw0AWYXXabqgtNrxDlNMNuuwHL/kItPgbEzExHPptjI3q7t74oFUSFck6EXPeSCVlO9/eq0HkOuQsgz9vcbH9beK3YNCjpxI94IsR32sK6yVs3LbkOnga+sDYZa5/4jiv5RI/xx+/uN07GuPS91Beq6O0n8rru03PX6ezwJS6KG4fi2XFS6aQ9KqGMKupMo6M6h+nM9oY6p606IBFDQCZEACjohEkBBJ0QCKOiESAAFnRAJoKATIgEUdEIkgIJOiATYRsbx54QQN3Vf8GPTKOiEuDnquhPi9oD/ByFEDsBl33VOAAAAAElFTkSuQmCC)\n",
        "\n",
        "## 입출력 예 설명\n",
        "\n",
        "### 입출력 예 #1\n",
        "\n",
        "위의 설명과 같습니다.\n",
        "\n",
        "### 입출력 예 #2\n",
        "\n",
        "자연수 2와 5의 최대공약수는 1, 최소공배수는 10이므로 [1, 10]을 리턴해야 합니다."
      ],
      "metadata": {
        "id": "AvO-GtQvnH-Y"
      }
    },
    {
      "cell_type": "markdown",
      "source": [
        "## 첫 번째 방법\n",
        "\n",
        "1. n과 m 중 작은 수부터 0까지 반복하는 반복문으로 n과 m이 동시에 나누어 나머지가 0이 되는 수 i를 answer에 append.\n",
        "2. i와 n * m // answer[0]을 리스트 형태로 return.\n",
        "\n",
        "결과 : 성공"
      ],
      "metadata": {
        "id": "AuB3yZhmqDV-"
      }
    },
    {
      "cell_type": "code",
      "execution_count": 16,
      "metadata": {
        "colab": {
          "base_uri": "https://localhost:8080/"
        },
        "id": "IbYQMuwsnFyn",
        "outputId": "a6000c6e-8fe8-4f4c-ff43-4fecc65bf3dc"
      },
      "outputs": [
        {
          "output_type": "execute_result",
          "data": {
            "text/plain": [
              "[1, 10]"
            ]
          },
          "metadata": {},
          "execution_count": 16
        }
      ],
      "source": [
        "def solution(n, m):\n",
        "    answer = []\n",
        "    for i in range(min(n, m), 0, -1):\n",
        "        if n % i == 0 and m % i == 0:\n",
        "            answer.append(i)\n",
        "            break\n",
        "    return [i, (n * m) // answer[0]]\n",
        "\n",
        "solution(1, 10)"
      ]
    }
  ]
}