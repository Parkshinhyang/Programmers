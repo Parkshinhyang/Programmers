{
  "nbformat": 4,
  "nbformat_minor": 0,
  "metadata": {
    "colab": {
      "provenance": [],
      "authorship_tag": "ABX9TyMk8pftfAqleQf2pkMsaqt3",
      "include_colab_link": true
    },
    "kernelspec": {
      "name": "python3",
      "display_name": "Python 3"
    },
    "language_info": {
      "name": "python"
    }
  },
  "cells": [
    {
      "cell_type": "markdown",
      "metadata": {
        "id": "view-in-github",
        "colab_type": "text"
      },
      "source": [
        "<a href=\"https://colab.research.google.com/github/Parkshinhyang/Programmers/blob/main/%EC%BD%9C%EB%9D%BC_%EB%AC%B8%EC%A0%9C(Lv_1).ipynb\" target=\"_parent\"><img src=\"https://colab.research.google.com/assets/colab-badge.svg\" alt=\"Open In Colab\"/></a>"
      ]
    },
    {
      "cell_type": "markdown",
      "source": [
        "## 문제 - 콜라 문제\n",
        "https://school.programmers.co.kr/learn/courses/30/lessons/132267"
      ],
      "metadata": {
        "id": "lNO1nbrcO2tM"
      }
    },
    {
      "cell_type": "markdown",
      "source": [
        "#첫 번째 방법\n",
        "1. n이 a보다 크거나 같을 때까지 반복하는 반복문으로 n // b를 answer에 더함.\n",
        "2. n을 n % a + n // a * b를 계산한 값으로 초기화 시키고 answer을 출력.\n",
        "\n",
        "결과 : 실패\n",
        "-> 결과는 잘 출력하여 어디서 틀렸는지 고민해본 결과 answer을 더하는 코드 line4 n // b 에서 끝에 * b를 생략함. 문제에는 b의 값이 1이라 결과값에 영향을 미치지 않았던 것. 앞으로 문제를 해결할 때 당장 입출력 예만 넣어 문제를 해결하는 일차원적인 접근을 하지 않아야겠다고 다짐.\n",
        "\n",
        "수정 결과 : 성공"
      ],
      "metadata": {
        "id": "262ovPYnO6aJ"
      }
    },
    {
      "cell_type": "code",
      "execution_count": 16,
      "metadata": {
        "colab": {
          "base_uri": "https://localhost:8080/"
        },
        "id": "OohcRe18Oyyg",
        "outputId": "430a79ef-ebff-4903-b635-d8a849ca9238"
      },
      "outputs": [
        {
          "output_type": "execute_result",
          "data": {
            "text/plain": [
              "19"
            ]
          },
          "metadata": {},
          "execution_count": 16
        }
      ],
      "source": [
        "def solution(a, b, n):\n",
        "    answer = 0\n",
        "    while n >= a:\n",
        "        answer += (n // a) * b\n",
        "        n = (n % a) + ((n // a) * b)\n",
        "    return answer\n",
        "\n",
        "solution(2, 1, 20)"
      ]
    }
  ]
}