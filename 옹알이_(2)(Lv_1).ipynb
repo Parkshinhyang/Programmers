{
  "nbformat": 4,
  "nbformat_minor": 0,
  "metadata": {
    "colab": {
      "provenance": [],
      "authorship_tag": "ABX9TyPWGoEaVs6KW0Mq1GV/AIhp",
      "include_colab_link": true
    },
    "kernelspec": {
      "name": "python3",
      "display_name": "Python 3"
    },
    "language_info": {
      "name": "python"
    }
  },
  "cells": [
    {
      "cell_type": "markdown",
      "metadata": {
        "id": "view-in-github",
        "colab_type": "text"
      },
      "source": [
        "<a href=\"https://colab.research.google.com/github/Parkshinhyang/Programmers/blob/main/%EC%98%B9%EC%95%8C%EC%9D%B4_(2)(Lv_1).ipynb\" target=\"_parent\"><img src=\"https://colab.research.google.com/assets/colab-badge.svg\" alt=\"Open In Colab\"/></a>"
      ]
    },
    {
      "cell_type": "markdown",
      "source": [
        "## 첫 번째 방법\n",
        "1. 순열을 사용하여 \"aya\", \"ye\", \"woo\", \"ma\"로 조합할 수 있는 말을 arr에 저장한다.\n",
        "2. 입력받은 babbling의 원소가 arr에 포함되어 있는지 확인하고 포함되어 있으면 answer에 카운터하고 출력.\n",
        "\n",
        "결과 : 실패\n",
        "-> 1이 나와야 하는데 3이 나옴.\n",
        "\n",
        "## 두 번째 방법\n",
        "1. 조카가 할 수 있는 발음을 저장하고 있는 배열 babble을 선언.\n",
        "2. 입력 받은 발음을 for문을 사용해 조카가 할 수 있는 발음과 비교.\n",
        "3. 연속된 발음이 아닐 때 babbling의 발음에 조카가 발음할 수 있는 단어를 공백처리함.\n",
        "4. babbling에 완전히 공백처리가 된 단어는 조카가 발음할 수 있는 단어로 구성되어 있는 것이므로 answer를 카운트 하고 출력.\n",
        "\n",
        "결과 : 성공"
      ],
      "metadata": {
        "id": "u1Kf25-xK4c1"
      }
    },
    {
      "cell_type": "code",
      "execution_count": 10,
      "metadata": {
        "colab": {
          "base_uri": "https://localhost:8080/"
        },
        "id": "PhMJHPeOK0OA",
        "outputId": "f00cf785-faeb-4e30-9f22-0bbd9fa0d2e9"
      },
      "outputs": [
        {
          "output_type": "execute_result",
          "data": {
            "text/plain": [
              "2"
            ]
          },
          "metadata": {},
          "execution_count": 10
        }
      ],
      "source": [
        "def solution(babbling):\n",
        "    answer = 0\n",
        "    babble = [\"aya\", \"ye\", \"woo\", \"ma\"]\n",
        "    for i in babbling:\n",
        "        for j in babble:\n",
        "            if j * 2 not in i:\n",
        "                i = i.replace(j,' ')\n",
        "        if i.strip() == '':\n",
        "            answer += 1\n",
        "\n",
        "    return answer\n",
        "\n",
        "solution([\"ayaye\", \"uuu\", \"yeye\", \"yemawoo\", \"ayaayaa\"]\t)\n"
      ]
    },
    {
      "cell_type": "code",
      "source": [],
      "metadata": {
        "id": "JP2k5hwJs4ZY"
      },
      "execution_count": null,
      "outputs": []
    }
  ]
}