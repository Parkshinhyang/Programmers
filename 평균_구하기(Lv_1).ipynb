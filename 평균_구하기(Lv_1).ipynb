{
  "nbformat": 4,
  "nbformat_minor": 0,
  "metadata": {
    "colab": {
      "provenance": [],
      "authorship_tag": "ABX9TyND6OVgv06I0F4ACVexJF4Y",
      "include_colab_link": true
    },
    "kernelspec": {
      "name": "python3",
      "display_name": "Python 3"
    },
    "language_info": {
      "name": "python"
    }
  },
  "cells": [
    {
      "cell_type": "markdown",
      "metadata": {
        "id": "view-in-github",
        "colab_type": "text"
      },
      "source": [
        "<a href=\"https://colab.research.google.com/github/Parkshinhyang/Programmers/blob/main/%ED%8F%89%EA%B7%A0_%EA%B5%AC%ED%95%98%EA%B8%B0(Lv_1).ipynb\" target=\"_parent\"><img src=\"https://colab.research.google.com/assets/colab-badge.svg\" alt=\"Open In Colab\"/></a>"
      ]
    },
    {
      "cell_type": "markdown",
      "source": [
        "##문제 - 평균 구하기\n",
        "https://school.programmers.co.kr/learn/courses/30/lessons/12944"
      ],
      "metadata": {
        "id": "B62v9ybKF8H-"
      }
    },
    {
      "cell_type": "markdown",
      "source": [
        "## 첫 번째 방법\n",
        "1. sum함수를 사용해 입력받은 arr의 합을 arr의 크기만큼 나눠서 출력.\n",
        "\n",
        "결과 : 성공\n"
      ],
      "metadata": {
        "id": "iL83s8xsTYAQ"
      }
    },
    {
      "cell_type": "code",
      "execution_count": 8,
      "metadata": {
        "colab": {
          "base_uri": "https://localhost:8080/"
        },
        "id": "RQPIXF4kF4zH",
        "outputId": "7fb7c9f1-e941-49e1-d37d-3fa8c004f46a"
      },
      "outputs": [
        {
          "output_type": "execute_result",
          "data": {
            "text/plain": [
              "5.0"
            ]
          },
          "metadata": {},
          "execution_count": 8
        }
      ],
      "source": [
        "def solution(arr):\n",
        "    return sum(arr) / len(arr)\n",
        "solution([5,5])"
      ]
    },
    {
      "cell_type": "markdown",
      "source": [
        "##다른 사람의 풀이 (유연수 , - , - , 김태환 , - 외 143 명)\n",
        "- reduce라는 누적 집계 함수를 사용하여 코드는 구현하였고 지금까지 접해보지 못한 모듈.\n"
      ],
      "metadata": {
        "id": "Uw5lwpmWThHR"
      }
    },
    {
      "cell_type": "code",
      "source": [
        "from functools import reduce\n",
        "def average(list):\n",
        "    return reduce(lambda x, y : x + y, list) / len(list)"
      ],
      "metadata": {
        "id": "zzgyMerFTsDN"
      },
      "execution_count": null,
      "outputs": []
    }
  ]
}