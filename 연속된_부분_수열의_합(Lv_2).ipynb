{
  "nbformat": 4,
  "nbformat_minor": 0,
  "metadata": {
    "colab": {
      "provenance": [],
      "authorship_tag": "ABX9TyMLnhs/pL+gpkqkN9vg5Fqp",
      "include_colab_link": true
    },
    "kernelspec": {
      "name": "python3",
      "display_name": "Python 3"
    },
    "language_info": {
      "name": "python"
    }
  },
  "cells": [
    {
      "cell_type": "markdown",
      "metadata": {
        "id": "view-in-github",
        "colab_type": "text"
      },
      "source": [
        "<a href=\"https://colab.research.google.com/github/Parkshinhyang/Programmers/blob/main/%EC%97%B0%EC%86%8D%EB%90%9C_%EB%B6%80%EB%B6%84_%EC%88%98%EC%97%B4%EC%9D%98_%ED%95%A9(Lv_2).ipynb\" target=\"_parent\"><img src=\"https://colab.research.google.com/assets/colab-badge.svg\" alt=\"Open In Colab\"/></a>"
      ]
    },
    {
      "cell_type": "markdown",
      "source": [
        "# 문제 - 연속된 부분 수열의 합\n",
        "[문제 링크](https://school.programmers.co.kr/learn/courses/30/lessons/178870)\n",
        "\n",
        "## 문제 설명\n",
        "\n",
        "비내림차순으로 정렬된 수열이 주어질 때, 다음 조건을 만족하는 부분 수열을 찾으려고 합니다.\n",
        "\n",
        "- 기존 수열에서 임의의 두 인덱스의 원소와 그 사이의 원소를 모두 포함하는 부분 수열이어야 합니다.\n",
        "- 부분 수열의 합은 k입니다.\n",
        "- 합이 k인 부분 수열이 여러 개인 경우 길이가 짧은 수열을 찾습니다.\n",
        "- 길이가 짧은 수열이 여러 개인 경우 앞쪽(시작 인덱스가 작은)에 나오는 수열을 찾습니다.\n",
        "\n",
        "수열을 나타내는 정수 배열 sequence와 부분 수열의 합을 나타내는 정수 k가 매개변수로 주어질 때, 위 조건을 만족하는 부분 수열의 시작 인덱스와 마지막 인덱스를 배열에 담아 return 하는 solution 함수를 완성해주세요. 이때 수열의 인덱스는 0부터 시작합니다.\n",
        "\n",
        "## 제한사항\n",
        "\n",
        "- 5 ≤ sequence의 길이 ≤ 1,000,000   \n",
        "    - 1 ≤ sequence의 원소 ≤ 1,000   \n",
        "    - sequence는 비내림차순으로 정렬되어 있습니다.\n",
        "- 5 ≤ k ≤ 1,000,000,000 \n",
        "    - k는 항상 sequence의 부분 수열로 만들 수 있는 값입니다.\n",
        "\n",
        "## 입출력 예\n",
        "\n",
        "![image.png](data:image/png;base64,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)\n",
        "\n",
        "## 입출력 예 설명\n",
        "\n",
        "### 입출력 예 #1\n",
        "\n",
        "[1, 2, 3, 4, 5]에서 합이 7인 연속된 부분 수열은 [3, 4]뿐이므로 해당 수열의 시작 인덱스인 2와 마지막 인덱스 3을 배열에 담아 [2, 3]을 반환합니다.\n",
        "\n",
        "### 입출력 예 #2\n",
        "\n",
        "[1, 1, 1, 2, 3, 4, 5]에서 합이 5인 연속된 부분 수열은 [1, 1, 1, 2], [2, 3], [5]가 있습니다. 이 중 [5]의 길이가 제일 짧으므로 해당 수열의 시작 인덱스와 마지막 인덱스를 담은 [6, 6]을 반환합니다.\n",
        "\n",
        "### 입출력 예 #3\n",
        "\n",
        "[2, 2, 2, 2, 2]에서 합이 6인 연속된 부분 수열은 [2, 2, 2]로 3가지 경우가 있는데, 길이가 짧은 수열이 여러 개인 경우 앞쪽에 나온 수열을 찾으므로 [0, 2]를 반환합니다."
      ],
      "metadata": {
        "id": "pmuXRQl77ySt"
      }
    },
    {
      "cell_type": "markdown",
      "source": [
        "## 첫 번째 방법\n",
        "\n",
        "1. 수열이 오름차순으로 정렬돼 있기 때문에 투포인터 방법을 활용해 입력받은 sequence를 start, end로 구역을 나누어 num_sum에 저장.\n",
        "2. num_sum이 k와 같으면 길이가 짧은 경우의 수를 구하기 위한 check_arr에 저장.\n",
        "3. 위를 반복해 원소의 합이 k가 되는 모든 경우의 수를 check_arr에 저장한 후 lambda를 활용해 check_arr에 저장되어 있는 인덱스 차이가 가장 작은 순으로 정렬해 answer에 저장.\n",
        "4. answer의 1번째 리스트를 return.\n",
        "\n",
        "결과 : 성공"
      ],
      "metadata": {
        "id": "9Gho_SfeC_gq"
      }
    },
    {
      "cell_type": "code",
      "execution_count": 6,
      "metadata": {
        "colab": {
          "base_uri": "https://localhost:8080/"
        },
        "id": "_nEa_QR97wQL",
        "outputId": "07d9b4c7-3068-4088-cc78-893ab1e9c364"
      },
      "outputs": [
        {
          "output_type": "execute_result",
          "data": {
            "text/plain": [
              "[6, 6]"
            ]
          },
          "metadata": {},
          "execution_count": 6
        }
      ],
      "source": [
        "def solution(sequence, k):\n",
        "    end = 0\n",
        "    num_sum = 0\n",
        "    check_arr = []\n",
        "\n",
        "    for start in range(len(sequence)):    \n",
        "    \n",
        "        while num_sum < k and end < len(sequence):\n",
        "            num_sum += sequence[end]\n",
        "            end += 1\n",
        "        \n",
        "        if num_sum == k:\n",
        "            check_arr.append([start, end - 1])\n",
        "        \n",
        "        num_sum -= sequence[start]\n",
        "\n",
        "    answer = sorted(check_arr, key = lambda x : x[1] - x[0])    \n",
        "    return answer[0]\n",
        "\n",
        "solution([1, 1, 1, 2, 3, 4, 5], 5)"
      ]
    }
  ]
}