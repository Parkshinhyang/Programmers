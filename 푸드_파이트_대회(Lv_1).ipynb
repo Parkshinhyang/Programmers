{
  "nbformat": 4,
  "nbformat_minor": 0,
  "metadata": {
    "colab": {
      "provenance": [],
      "authorship_tag": "ABX9TyNYhLNElqTVnPBDN4UoL8S0",
      "include_colab_link": true
    },
    "kernelspec": {
      "name": "python3",
      "display_name": "Python 3"
    },
    "language_info": {
      "name": "python"
    }
  },
  "cells": [
    {
      "cell_type": "markdown",
      "metadata": {
        "id": "view-in-github",
        "colab_type": "text"
      },
      "source": [
        "<a href=\"https://colab.research.google.com/github/Parkshinhyang/Programmers/blob/main/%ED%91%B8%EB%93%9C_%ED%8C%8C%EC%9D%B4%ED%8A%B8_%EB%8C%80%ED%9A%8C(Lv_1).ipynb\" target=\"_parent\"><img src=\"https://colab.research.google.com/assets/colab-badge.svg\" alt=\"Open In Colab\"/></a>"
      ]
    },
    {
      "cell_type": "markdown",
      "source": [
        "# 문제 - 푸드 파이트 대회\n",
        "[문제 링크](https://school.programmers.co.kr/learn/courses/30/lessons/134240)\n",
        "\n",
        "## 문제 설명 \n",
        "\n",
        "수웅이는 매달 주어진 음식을 빨리 먹는 푸드 파이트 대회를 개최합니다. 이 대회에서 선수들은 1대 1로 대결하며, 매 대결마다 음식의 종류와 양이 바뀝니다. 대결은 준비된 음식들을 일렬로 배치한 뒤, 한 선수는 제일 왼쪽에 있는 음식부터 오른쪽으로, 다른 선수는 제일 오른쪽에 있는 음식부터 왼쪽으로 순서대로 먹는 방식으로 진행됩니다. 중앙에는 물을 배치하고, 물을 먼저 먹는 선수가 승리하게 됩니다.\n",
        "\n",
        "이때, 대회의 공정성을 위해 두 선수가 먹는 음식의 종류와 양이 같아야 하며, 음식을 먹는 순서도 같아야 합니다. 또한, 이번 대회부터는 칼로리가 낮은 음식을 먼저 먹을 수 있게 배치하여 선수들이 음식을 더 잘 먹을 수 있게 하려고 합니다. 이번 대회를 위해 수웅이는 음식을 주문했는데, 대회의 조건을 고려하지 않고 음식을 주문하여 몇 개의 음식은 대회에 사용하지 못하게 되었습니다.\n",
        "\n",
        "예를 들어, 3가지의 음식이 준비되어 있으며, 칼로리가 적은 순서대로 1번 음식을 3개, 2번 음식을 4개, 3번 음식을 6개 준비했으며, 물을 편의상 0번 음식이라고 칭한다면, 두 선수는 1번 음식 1개, 2번 음식 2개, 3번 음식 3개씩을 먹게 되므로 음식의 배치는 \"1223330333221\"이 됩니다. 따라서 1번 음식 1개는 대회에 사용하지 못합니다.\n",
        "\n",
        "수웅이가 준비한 음식의 양을 칼로리가 적은 순서대로 나타내는 정수 배열 food가 주어졌을 때, 대회를 위한 음식의 배치를 나타내는 문자열을 return 하는 solution 함수를 완성해주세요.\n",
        "\n",
        "## 제한사항\n",
        "\n",
        "- 2 ≤ food의 길이 ≤ 9\n",
        "- 1 ≤ food의 각 원소 ≤ 1,000\n",
        "- food에는 칼로리가 적은 순서대로 음식의 양이 담겨 있습니다.\n",
        "- food[i]는 i번 음식의 수입니다.\n",
        "- food[0]은 수웅이가 준비한 물의 양이며, 항상 1입니다.\n",
        "- 정답의 길이가 3 이상인 경우만 입력으로 주어집니다.\n",
        "\n",
        "## 입출력 예\n",
        "\n",
        "![image.png](data:image/png;base64,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)\n",
        "\n",
        "## 입출력 예 설명\n",
        "\n",
        "### 입출력 예 #1\n",
        "\n",
        "문제 예시와 같습니다.\n",
        "\n",
        "### 입출력 예 #2\n",
        "\n",
        "두 선수는 1번 음식 3개, 3번 음식 1개를 먹게 되므로 음식의 배치는 \"111303111\"입니다."
      ],
      "metadata": {
        "id": "Xs0tpCswsm64"
      }
    },
    {
      "cell_type": "markdown",
      "source": [
        "## 첫 번째 방법\n",
        "\n",
        "1. 주어진 food를 조건에 맞게 answer에 문자를 더함.\n",
        "2. answer에 0을 추가로 더해주고 -2부터 answer의 처음 문자까지 거꾸로 answer에 더해준 후 answer을 return.\n",
        "\n",
        "결과 : 성공"
      ],
      "metadata": {
        "id": "otbb_1Uv1BWZ"
      }
    },
    {
      "cell_type": "code",
      "source": [
        "def solution(food):\n",
        "    answer = \"\"\n",
        "\n",
        "    for i in range(1, len(food)):\n",
        "        answer += str(i) * (food[i] // 2)\n",
        "    answer += '0'\n",
        "    answer += answer[-2::-1]\n",
        "    return answer\n",
        "solution([1, 3, 4, 6])"
      ],
      "metadata": {
        "colab": {
          "base_uri": "https://localhost:8080/",
          "height": 35
        },
        "id": "uRLRo69Kz4Cr",
        "outputId": "4449ebaa-7ccc-4ce2-f051-654eb63dba67"
      },
      "execution_count": 11,
      "outputs": [
        {
          "output_type": "execute_result",
          "data": {
            "text/plain": [
              "'1223330333221'"
            ],
            "application/vnd.google.colaboratory.intrinsic+json": {
              "type": "string"
            }
          },
          "metadata": {},
          "execution_count": 11
        }
      ]
    }
  ]
}