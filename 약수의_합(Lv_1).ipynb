{
  "nbformat": 4,
  "nbformat_minor": 0,
  "metadata": {
    "colab": {
      "provenance": [],
      "authorship_tag": "ABX9TyOSdFZ1HqUumP961SrqEV+O",
      "include_colab_link": true
    },
    "kernelspec": {
      "name": "python3",
      "display_name": "Python 3"
    },
    "language_info": {
      "name": "python"
    }
  },
  "cells": [
    {
      "cell_type": "markdown",
      "metadata": {
        "id": "view-in-github",
        "colab_type": "text"
      },
      "source": [
        "<a href=\"https://colab.research.google.com/github/Parkshinhyang/Programmers/blob/main/%EC%95%BD%EC%88%98%EC%9D%98_%ED%95%A9(Lv_1).ipynb\" target=\"_parent\"><img src=\"https://colab.research.google.com/assets/colab-badge.svg\" alt=\"Open In Colab\"/></a>"
      ]
    },
    {
      "cell_type": "markdown",
      "source": [
        "# 문제 - 약수의 합\n",
        "https://school.programmers.co.kr/learn/courses/30/lessons/12928\n",
        "\n",
        "## 문제 설명\n",
        "\n",
        "정수 n을 입력받아 n의 약수를 모두 더한 값을 리턴하는 함수, solution을 완성해주세요.\n",
        "\n",
        "## 제한사항\n",
        "\n",
        "- n은 0 이상 3000이하인 정수입니다.\n",
        "\n",
        "## 입출력 예\n",
        "\n",
        "![image.png](data:image/png;base64,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)\n",
        "\n",
        "## 입출력 예 설명\n",
        "\n",
        "### 입출력 예 #1\n",
        "12의 약수는 1, 2, 3, 4, 6, 12입니다. 이를 모두 더하면 28입니다.\n",
        "\n",
        "### 입출력 예 #2\n",
        "5의 약수는 1, 5입니다. 이를 모두 더하면 6입니다."
      ],
      "metadata": {
        "id": "IK_CYS2_SmlW"
      }
    },
    {
      "cell_type": "markdown",
      "source": [
        "## 첫 번째 방법\n",
        "\n",
        "1. 아래 설계한 for문이 n이 1일 경우 0을 return하기 때문에 n이 1일 때 예외 처리.\n",
        "2. 시간복잡도를 줄이기 위해 n까지 탐색하는 것이 아닌 n의 제곱근까지 탐색하는 for문으로 약수들을 answer에 저장.\n",
        "3. answer에 중복되는 수를 제거한 후 합을 return.\n",
        "\n",
        "결과 : 성공"
      ],
      "metadata": {
        "id": "RU93KNOSXHG8"
      }
    },
    {
      "cell_type": "code",
      "execution_count": 12,
      "metadata": {
        "colab": {
          "base_uri": "https://localhost:8080/"
        },
        "id": "FQy8pAwiSkMR",
        "outputId": "654649e1-7634-4864-a1ab-adac075a024b"
      },
      "outputs": [
        {
          "output_type": "execute_result",
          "data": {
            "text/plain": [
              "28"
            ]
          },
          "metadata": {},
          "execution_count": 12
        }
      ],
      "source": [
        "def solution(n):\n",
        "    answer=[]\n",
        "    if n == 1:\n",
        "        return 1\n",
        "        \n",
        "    for i in range(1, int(n ** 1 / 2) + 1):\n",
        "        if n % i == 0:\n",
        "            answer.append(i)\n",
        "            answer.append(n//i)\n",
        "\n",
        "    return sum(set(answer))\n",
        "\n",
        "solution(12)"
      ]
    }
  ]
}