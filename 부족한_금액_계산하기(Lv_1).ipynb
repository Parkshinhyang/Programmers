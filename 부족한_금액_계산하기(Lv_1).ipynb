{
  "nbformat": 4,
  "nbformat_minor": 0,
  "metadata": {
    "colab": {
      "provenance": [],
      "authorship_tag": "ABX9TyM/CuIsTJ4eRAjkYyiAJCkX",
      "include_colab_link": true
    },
    "kernelspec": {
      "name": "python3",
      "display_name": "Python 3"
    },
    "language_info": {
      "name": "python"
    }
  },
  "cells": [
    {
      "cell_type": "markdown",
      "metadata": {
        "id": "view-in-github",
        "colab_type": "text"
      },
      "source": [
        "<a href=\"https://colab.research.google.com/github/Parkshinhyang/Programmers/blob/main/%EB%B6%80%EC%A1%B1%ED%95%9C_%EA%B8%88%EC%95%A1_%EA%B3%84%EC%82%B0%ED%95%98%EA%B8%B0(Lv_1).ipynb\" target=\"_parent\"><img src=\"https://colab.research.google.com/assets/colab-badge.svg\" alt=\"Open In Colab\"/></a>"
      ]
    },
    {
      "cell_type": "markdown",
      "source": [
        "##첫 번째 방법\n",
        "1. 1부터 count + 1만큼 반복하는 반복문에서 answer에 price와 i를 곱한 값을 저장.\n",
        "2. answer - money 를 뺀 값을 pri에 저장 후 출력.\n",
        "\n",
        "결과 : 실패\n",
        "-> answer - money가 0이거나 0보다 작을 때의 경우를 구현하지 않음.\n",
        "\n",
        "## 두 번째 방법\n",
        "첫 번째 방법과 1, 2는 그대로 진행하였고 if문으로 pri 가 0보다 작거나 같으면 0을 출력.\n",
        "\n",
        "결과 : 성공"
      ],
      "metadata": {
        "id": "MDV65avFq9AY"
      }
    },
    {
      "cell_type": "code",
      "execution_count": 2,
      "metadata": {
        "colab": {
          "base_uri": "https://localhost:8080/"
        },
        "id": "G5TJAND4qJzg",
        "outputId": "5dee77a1-c2e1-49cf-df77-b3b0a8e72705"
      },
      "outputs": [
        {
          "output_type": "execute_result",
          "data": {
            "text/plain": [
              "10"
            ]
          },
          "metadata": {},
          "execution_count": 2
        }
      ],
      "source": [
        "def solution(price, money, count):\n",
        "    answer = 0\n",
        "    for i in range(1, count + 1):\n",
        "        answer += price * i\n",
        "    pri = answer - money\n",
        "    if pri <= 0:\n",
        "        return 0\n",
        "    return pri\n",
        "    \n",
        "solution(3, 20, 4)"
      ]
    }
  ]
}