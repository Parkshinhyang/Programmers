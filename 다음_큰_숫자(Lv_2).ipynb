{
  "nbformat": 4,
  "nbformat_minor": 0,
  "metadata": {
    "colab": {
      "provenance": [],
      "authorship_tag": "ABX9TyPmVAO1DZtHGcbEuwKH7YkV",
      "include_colab_link": true
    },
    "kernelspec": {
      "name": "python3",
      "display_name": "Python 3"
    },
    "language_info": {
      "name": "python"
    }
  },
  "cells": [
    {
      "cell_type": "markdown",
      "metadata": {
        "id": "view-in-github",
        "colab_type": "text"
      },
      "source": [
        "<a href=\"https://colab.research.google.com/github/Parkshinhyang/Programmers/blob/main/%EB%8B%A4%EC%9D%8C_%ED%81%B0_%EC%88%AB%EC%9E%90(Lv_2).ipynb\" target=\"_parent\"><img src=\"https://colab.research.google.com/assets/colab-badge.svg\" alt=\"Open In Colab\"/></a>"
      ]
    },
    {
      "cell_type": "markdown",
      "source": [
        "# 문제 - 다음 큰 숫자\n",
        "https://school.programmers.co.kr/learn/courses/30/lessons/12911\n",
        "\n",
        "## 문제 설명\n",
        "자연수 n이 주어졌을 때, n의 다음 큰 숫자는 다음과 같이 정의 합니다.\n",
        "- 조건 1. n의 다음 큰 숫자는 n보다 큰 자연수 입니다.\n",
        "- 조건 2. n의 다음 큰 숫자와 n은 2진수로 변환했을 때 1의 갯수가 같습니다.\n",
        "- 조건 3. n의 다음 큰 숫자는 조건 1, 2를 만족하는 수 중 가장 작은 수 입니다.\n",
        "예를 들어서 78(1001110)의 다음 큰 숫자는 83(1010011)입니다.\n",
        "\n",
        "자연수 n이 매개변수로 주어질 때, n의 다음 큰 숫자를 return 하는 solution 함수를 완성해주세요.\n",
        "\n",
        "## 제한 사항\n",
        "- n은 1,000,000 이하의 자연수 입니다.\n",
        "\n",
        "## 입출력 예\n",
        "![image.png](data:image/png;base64,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)\n",
        "\n",
        "##입출력 예 설명\n",
        "###입출력 예#1\n",
        "문제 예시와 같습니다.\n",
        "###입출력 예#2\n",
        "15(1111)의 다음 큰 숫자는 23(10111)입니다."
      ],
      "metadata": {
        "id": "-7akD2QcMRnm"
      }
    },
    {
      "cell_type": "markdown",
      "source": [
        "##첫 번째 방법\n",
        "1. 입력받은 n의 2진수를 b에 저장.\n",
        "2. while문으로 n을 1씩증가시켜 증가시킨 n의 2진수를 b2에 저장.\n",
        "3. count함수를 사용해 b의 1 개수와 b2의 1 개수를 비교해 같으면 while문을 멈추고 b2를 정수 형태로 return.\n",
        "\n",
        "결과 : 성공"
      ],
      "metadata": {
        "id": "HJditgDbco-y"
      }
    },
    {
      "cell_type": "code",
      "execution_count": 8,
      "metadata": {
        "colab": {
          "base_uri": "https://localhost:8080/"
        },
        "id": "RXmS8PJzMLwz",
        "outputId": "f7e9f74e-e350-45e2-dd4c-f6ba0670cd4c"
      },
      "outputs": [
        {
          "output_type": "execute_result",
          "data": {
            "text/plain": [
              "83"
            ]
          },
          "metadata": {},
          "execution_count": 8
        }
      ],
      "source": [
        "def solution(n):\n",
        "    b = bin(n)\n",
        "    while True:\n",
        "        n += 1\n",
        "        b2 = bin(n)\n",
        "        if b.count('1') == b2.count('1'):\n",
        "            break\n",
        "    return int(b2, 2)\n",
        "            \n",
        "\n",
        "solution(78)"
      ]
    }
  ]
}