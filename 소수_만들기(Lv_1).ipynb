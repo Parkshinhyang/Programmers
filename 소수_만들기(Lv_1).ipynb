{
  "nbformat": 4,
  "nbformat_minor": 0,
  "metadata": {
    "colab": {
      "provenance": [],
      "authorship_tag": "ABX9TyO6HpyIo6RM4FmI84CotCX1",
      "include_colab_link": true
    },
    "kernelspec": {
      "name": "python3",
      "display_name": "Python 3"
    },
    "language_info": {
      "name": "python"
    }
  },
  "cells": [
    {
      "cell_type": "markdown",
      "metadata": {
        "id": "view-in-github",
        "colab_type": "text"
      },
      "source": [
        "<a href=\"https://colab.research.google.com/github/Parkshinhyang/Programmers/blob/main/%EC%86%8C%EC%88%98_%EB%A7%8C%EB%93%A4%EA%B8%B0(Lv_1).ipynb\" target=\"_parent\"><img src=\"https://colab.research.google.com/assets/colab-badge.svg\" alt=\"Open In Colab\"/></a>"
      ]
    },
    {
      "cell_type": "markdown",
      "source": [
        "## 문제 - 소수 만들기\n",
        "https://school.programmers.co.kr/learn/courses/30/lessons/12977\n",
        "\n",
        "## 문제 설명\n",
        "\n",
        "주어진 숫자 중 3개의 수를 더했을 때 소수가 되는 경우의 개수를 구하려고 합니다. 숫자들이 들어있는 배열 nums가 매개변수로 주어질 때, nums에 있는 숫자들 중 서로 다른 3개를 골라 더했을 때 소수가 되는 경우의 개수를 return 하도록 solution 함수를 완성해주세요.\n",
        "\n",
        "## 제한사항\n",
        "\n",
        "- nums에 들어있는 숫자의 개수는 3개 이상 50개 이하입니다.\n",
        "- nums의 각 원소는 1 이상 1,000 이하의 자연수이며, 중복된 숫자가 들어있지 않습니다.\n",
        "\n",
        "## 입출력 예\n",
        "\n",
        "![image.png](data:image/png;base64,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)\n",
        "\n",
        "## 입출력 예 설명\n",
        "\n",
        "### 입출력 예 #1\n",
        "\n",
        "[1,2,4]를 이용해서 7을 만들 수 있습니다.\n",
        "\n",
        "### 입출력 예 #2\n",
        "\n",
        "[1,2,4]를 이용해서 7을 만들 수 있습니다.\n",
        "[1,4,6]을 이용해서 11을 만들 수 있습니다.\n",
        "[2,4,7]을 이용해서 13을 만들 수 있습니다.\n",
        "[4,6,7]을 이용해서 17을 만들 수 있습니다."
      ],
      "metadata": {
        "id": "TCEYy-Vyoy7X"
      }
    },
    {
      "cell_type": "markdown",
      "source": [
        "## 첫 번째 방법\n",
        "\n",
        "1. combinations를 이용해 입력받은 nums를 3개씩 묶어 list화하여 arr1에 저장.\n",
        "2. arr1에 3개씩 묶은 원소의 합을 num에 저장.\n",
        "3. num의 원소를 순차적으로 탐색해 2부터 i까지의 숫자 j를 i로 나누어 나머지가 0이면 flag를 False로 변환.\n",
        "4. for문을 다 탐색하고도 flag가 True면 소수라는 의미이므로 answer을 카운트 후 return.\n",
        "\n",
        "결과 : 성공"
      ],
      "metadata": {
        "id": "EmdWCt3pZqrk"
      }
    },
    {
      "cell_type": "code",
      "execution_count": 32,
      "metadata": {
        "colab": {
          "base_uri": "https://localhost:8080/"
        },
        "id": "UTUnx0qcoxOm",
        "outputId": "89b8a6d1-1356-4b2f-dbd6-93a1cf0d524c"
      },
      "outputs": [
        {
          "output_type": "execute_result",
          "data": {
            "text/plain": [
              "4"
            ]
          },
          "metadata": {},
          "execution_count": 32
        }
      ],
      "source": [
        "from itertools import combinations\n",
        "\n",
        "def solution(nums):\n",
        "    arr1 = list(combinations(nums, 3))\n",
        "    num = []\n",
        "    answer = 0\n",
        "\n",
        "    for i in range(len(arr1)):\n",
        "        num.append(sum(arr1[i]))\n",
        "    \n",
        "    for i in num:\n",
        "        flag = True\n",
        "        for j in range(2, i):\n",
        "            if i % j == 0 :\n",
        "                flag = False\n",
        "        if flag == True:\n",
        "            answer += 1\n",
        "    return answer\n",
        "\n",
        "solution([1,2,7,6,4])"
      ]
    }
  ]
}