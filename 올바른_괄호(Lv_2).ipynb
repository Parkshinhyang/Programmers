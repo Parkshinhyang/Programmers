{
  "nbformat": 4,
  "nbformat_minor": 0,
  "metadata": {
    "colab": {
      "provenance": [],
      "authorship_tag": "ABX9TyPPEaWNNcl8XGV+ocKztoaD",
      "include_colab_link": true
    },
    "kernelspec": {
      "name": "python3",
      "display_name": "Python 3"
    },
    "language_info": {
      "name": "python"
    }
  },
  "cells": [
    {
      "cell_type": "markdown",
      "metadata": {
        "id": "view-in-github",
        "colab_type": "text"
      },
      "source": [
        "<a href=\"https://colab.research.google.com/github/Parkshinhyang/Programmers/blob/main/%EC%98%AC%EB%B0%94%EB%A5%B8_%EA%B4%84%ED%98%B8(Lv_2).ipynb\" target=\"_parent\"><img src=\"https://colab.research.google.com/assets/colab-badge.svg\" alt=\"Open In Colab\"/></a>"
      ]
    },
    {
      "cell_type": "markdown",
      "source": [
        "# 문제 - 올바른 괄호\n",
        "https://school.programmers.co.kr/learn/courses/30/lessons/12909\n",
        "\n",
        "## 문제 설명\n",
        "\n",
        "괄호가 바르게 짝지어졌다는 것은 '(' 문자로 열렸으면 반드시 짝지어서 ')' 문자로 닫혀야 한다는 뜻입니다. 예를 들어\n",
        "\n",
        "- \"()()\" 또는 \"(())()\" 는 올바른 괄호입니다.\n",
        "- \")()(\" 또는 \"(()(\" 는 올바르지 않은 괄호입니다.\n",
        "\n",
        "'(' 또는 ')' 로만 이루어진 문자열 s가 주어졌을 때, 문자열 s가 올바른 괄호이면 true를 return 하고, 올바르지 않은 괄호이면 false를 return 하는 solution 함수를 완성해 주세요.\n",
        "\n",
        "## 제한사항\n",
        "\n",
        "- 문자열 s의 길이 : 100,000 이하의 자연수\n",
        "- 문자열 s는 '(' 또는 ')' 로만 이루어져 있습니다.\n",
        "\n",
        "## 입출력 예\n",
        "\n",
        "![image.png](data:image/png;base64,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)\n",
        "\n",
        "## 입출력 예 설명\n",
        "\n",
        "### 입출력 예 #1,2,3,4\n",
        "문제의 예시와 같습니다.\n",
        "\n"
      ],
      "metadata": {
        "id": "hzMFsoL22fsO"
      }
    },
    {
      "cell_type": "markdown",
      "source": [
        "## 첫 번째 방법\n",
        "1. 입력받은 s가 '('로 시작하지 않으면 False를 return.\n",
        "2. 입력받은 s의 맨 끝 문자가 ')'가 아니면 False를 return.\n",
        "3. 입력받은 s를 문자 하나하나 탐색해 '('가 있을 때 cnt에 1을 더해주고, ')'가 있을 때 cnt에서 1을 뺌\n",
        "4. cnt가 0이면 True를 cnt가 0이 아니면 False를 return.\n",
        "\n",
        "결과 : 실패\n",
        "\n",
        "-> \"())(()\"와 같은 문자열이 입력돼도 True를 return하는 경우가 발생.\n"
      ],
      "metadata": {
        "id": "mIyN_6b54S31"
      }
    },
    {
      "cell_type": "code",
      "execution_count": null,
      "metadata": {
        "colab": {
          "base_uri": "https://localhost:8080/"
        },
        "id": "QN9oBXD32dXx",
        "outputId": "5c4d2002-9203-42a0-bdc4-11e463996a98"
      },
      "outputs": [
        {
          "output_type": "execute_result",
          "data": {
            "text/plain": [
              "False"
            ]
          },
          "metadata": {},
          "execution_count": 8
        }
      ],
      "source": [
        "def solution(s):\n",
        "    cnt = 0\n",
        "\n",
        "    if s[0] != '(':\n",
        "        return False\n",
        "    elif s[-1] != ')':\n",
        "        return False\n",
        "    else:\n",
        "        for i in s:\n",
        "            if i == '(':    \n",
        "                cnt += 1\n",
        "            else:\n",
        "                cnt -= 1\n",
        "        if cnt == 0:\n",
        "            return True\n",
        "        else:\n",
        "            return False\n",
        "\n",
        "solution(\"(()(\")"
      ]
    },
    {
      "cell_type": "markdown",
      "source": [
        "## 두 번째 방법\n",
        "\n",
        "1. cnt라는 변수에 카운트하는 방법은 첫 번째 방법과 유사하나 문자열의 처음과 끝의 문자가 각각'(', ')'이 와야지만 True를 반환할 수 있는 것이 아니라 각 조건마다 cnt > 0이라는 제약을 둠으로써 위 코드을 없앰.\n",
        "\n",
        "결과 : 성공"
      ],
      "metadata": {
        "id": "gKD1QDgOtD0g"
      }
    },
    {
      "cell_type": "code",
      "source": [
        "def solution(s):\n",
        "    cnt = 0\n",
        "    for c in s:\n",
        "        if c == \"(\":\n",
        "            cnt += 1\n",
        "        else:\n",
        "            if cnt > 0:\n",
        "                cnt -= 1\n",
        "            else:\n",
        "                return False\n",
        "    if cnt > 0:\n",
        "        return False\n",
        "    return True\n",
        "\n",
        "solution(\"())(()\")"
      ],
      "metadata": {
        "colab": {
          "base_uri": "https://localhost:8080/"
        },
        "id": "7ngfPlp854DP",
        "outputId": "db12e7a1-bce2-4414-c1fe-1af85730f97b"
      },
      "execution_count": 13,
      "outputs": [
        {
          "output_type": "execute_result",
          "data": {
            "text/plain": [
              "False"
            ]
          },
          "metadata": {},
          "execution_count": 13
        }
      ]
    },
    {
      "cell_type": "code",
      "source": [],
      "metadata": {
        "id": "eh0y_pA4nQS8"
      },
      "execution_count": null,
      "outputs": []
    }
  ]
}