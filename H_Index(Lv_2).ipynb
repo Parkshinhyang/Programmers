{
  "nbformat": 4,
  "nbformat_minor": 0,
  "metadata": {
    "colab": {
      "provenance": [],
      "authorship_tag": "ABX9TyMQkfilXKW9hU/5haVbo499",
      "include_colab_link": true
    },
    "kernelspec": {
      "name": "python3",
      "display_name": "Python 3"
    },
    "language_info": {
      "name": "python"
    }
  },
  "cells": [
    {
      "cell_type": "markdown",
      "metadata": {
        "id": "view-in-github",
        "colab_type": "text"
      },
      "source": [
        "<a href=\"https://colab.research.google.com/github/Parkshinhyang/Programmers/blob/main/H_Index(Lv_2).ipynb\" target=\"_parent\"><img src=\"https://colab.research.google.com/assets/colab-badge.svg\" alt=\"Open In Colab\"/></a>"
      ]
    },
    {
      "cell_type": "markdown",
      "source": [
        "# 문제 - H-Index\n",
        "[문제 링크](https://school.programmers.co.kr/learn/courses/30/lessons/42747)\n",
        "\n",
        "## 문제 설명\n",
        "\n",
        "H-Index는 과학자의 생산성과 영향력을 나타내는 지표입니다. 어느 과학자의 H-Index를 나타내는 값인 h를 구하려고 합니다. 위키백과1에 따르면, H-Index는 다음과 같이 구합니다.\n",
        "\n",
        "어떤 과학자가 발표한 논문 n편 중, h번 이상 인용된 논문이 h편 이상이고 나머지 논문이 h번 이하 인용되었다면 h의 최댓값이 이 과학자의 H-Index입니다.\n",
        "\n",
        "어떤 과학자가 발표한 논문의 인용 횟수를 담은 배열 citations가 매개변수로 주어질 때, 이 과학자의 H-Index를 return 하도록 solution 함수를 작성해주세요.\n",
        "\n",
        "## 제한사항\n",
        "\n",
        "- 과학자가 발표한 논문의 수는 1편 이상 1,000편 이하입니다.\n",
        "- 논문별 인용 횟수는 0회 이상 10,000회 이하입니다.\n",
        "\n",
        "## 입출력 예\n",
        "\n",
        "![image.png](data:image/png;base64,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)\n",
        "\n",
        "## 입출력 예 설명\n",
        "\n",
        "이 과학자가 발표한 논문의 수는 5편이고, 그중 3편의 논문은 3회 이상 인용되었습니다. 그리고 나머지 2편의 논문은 3회 이하 인용되었기 때문에 이 과학자의 H-Index는 3입니다."
      ],
      "metadata": {
        "id": "iQWquEJCE-fd"
      }
    },
    {
      "cell_type": "markdown",
      "source": [
        "## 첫 번째 방법\n",
        "\n",
        "1. 입력받은 citations의 크기만큼 반복하는 이중 for문으로 citations의 원소가 1부터 증가하는 i보다 크면 count.\n",
        "2. count가 i보다 크거나 같으면 h_index에 count 값을 저장 후 count를 초기화하고 h_index를 return.\n",
        "\n",
        "결과 : 성공"
      ],
      "metadata": {
        "id": "sO05oy6WJXFY"
      }
    },
    {
      "cell_type": "code",
      "execution_count": 3,
      "metadata": {
        "colab": {
          "base_uri": "https://localhost:8080/"
        },
        "id": "8D3VdpjLE8g6",
        "outputId": "9e51e572-8d38-4795-961a-a61f5df79943"
      },
      "outputs": [
        {
          "output_type": "execute_result",
          "data": {
            "text/plain": [
              "3"
            ]
          },
          "metadata": {},
          "execution_count": 3
        }
      ],
      "source": [
        "def solution(citations):\n",
        "    count = 0\n",
        "\n",
        "    for i in range(len(citations)):\n",
        "        for j in range(len(citations)):\n",
        "            if i < citations[j]:\n",
        "                count += 1\n",
        "        if count >= i:\n",
        "            h_index = count\n",
        "        count = 0\n",
        "    return h_index\n",
        "solution([3, 0, 6, 1, 5])"
      ]
    }
  ]
}