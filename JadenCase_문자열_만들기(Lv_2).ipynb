{
  "nbformat": 4,
  "nbformat_minor": 0,
  "metadata": {
    "colab": {
      "provenance": [],
      "authorship_tag": "ABX9TyMtE3iLTd9PxbBV5d8al9GE",
      "include_colab_link": true
    },
    "kernelspec": {
      "name": "python3",
      "display_name": "Python 3"
    },
    "language_info": {
      "name": "python"
    }
  },
  "cells": [
    {
      "cell_type": "markdown",
      "metadata": {
        "id": "view-in-github",
        "colab_type": "text"
      },
      "source": [
        "<a href=\"https://colab.research.google.com/github/Parkshinhyang/Programmers/blob/main/JadenCase_%EB%AC%B8%EC%9E%90%EC%97%B4_%EB%A7%8C%EB%93%A4%EA%B8%B0(Lv_2).ipynb\" target=\"_parent\"><img src=\"https://colab.research.google.com/assets/colab-badge.svg\" alt=\"Open In Colab\"/></a>"
      ]
    },
    {
      "cell_type": "markdown",
      "source": [
        "# 문제 - JadenCase 문자열 만들기\n",
        "https://school.programmers.co.kr/learn/courses/30/lessons/12951\n",
        "\n",
        "## 문제 설명\n",
        "\n",
        "JadenCase란 모든 단어의 첫 문자가 대문자이고, 그 외의 알파벳은 소문자인 문자열입니다. 단, 첫 문자가 알파벳이 아닐 때에는 이어지는 알파벳은 소문자로 쓰면 됩니다. (첫 번째 입출력 예 참고)\n",
        "문자열 s가 주어졌을 때, s를 JadenCase로 바꾼 문자열을 리턴하는 함수, solution을 완성해주세요.\n",
        "\n",
        "## 제한 조건\n",
        "\n",
        "- s는 길이 1 이상 200 이하인 문자열입니다.\n",
        "- s는 알파벳과 숫자, 공백문자(\" \")로 이루어져 있습니다.\n",
        "    - 숫자는 단어의 첫 문자로만 나옵니다.\n",
        "    - 숫자로만 이루어진 단어는 없습니다.\n",
        "    - 공백문자가 연속해서 나올 수 있습니다.\n",
        "\n",
        "## 입출력 예\n",
        "\n",
        "![image.png](data:image/png;base64,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)\n",
        "\n"
      ],
      "metadata": {
        "id": "ymF6j6YPkAsJ"
      }
    },
    {
      "cell_type": "markdown",
      "source": [
        "## 첫 번째 방법\n",
        "1. 입력받은 s를 공백을 기준으로 나눔.\n",
        "2. s를 순차적으로 탐색하는 반복문으로 i의 첫문자가 숫자이면 answer에 i와 공백을 더함.\n",
        "3. 숫자가 아니면 title함수를 사용해 i의 첫문자를 대문자로 변환하고 answer에 i와 공백을 더함.\n",
        "4. 맨 오른쪽 공백을 없애주기 위해 rstrip함수를 사용해 answer을 return.\n",
        "\n",
        "결과 : 실패\n",
        "-> 런타임 에러\n",
        "\n",
        "## 두 번째 방법\n",
        "1. 입력받은 s를 공백을 기준으로 나눔.\n",
        "2. s를 순차적으로 탐색하는 반복문으로 i가 공백이면 answer에 공백을 저장.\n",
        "3. ans이라는 문자열을 선언하고 i에 lower를 사용하여 i를 소문자 형태로 저장.\n",
        "4. isdigit함수를 사용해 i[0]가 숫자면 answer에 i + 공백을 저장.\n",
        "5. i가 모두 문자면 ans에 i[0]을 저장하고 upper함수를 사용해 대문자로 변환.\n",
        "6. i에 ans + i[1:]를 저장하고 answer에 i + 공백을 저장\n",
        "7. answer을 -1전까지 출력.(문자의 맨 끝엔 공백이 저장되어있기 때문) \n",
        "\n",
        "결과 : 성공"
      ],
      "metadata": {
        "id": "3Y0JKM-e4khe"
      }
    },
    {
      "cell_type": "code",
      "execution_count": 66,
      "metadata": {
        "colab": {
          "base_uri": "https://localhost:8080/",
          "height": 35
        },
        "id": "TWmmu9Lmj-ga",
        "outputId": "0971728d-f125-4de0-ac06-abb72f441603"
      },
      "outputs": [
        {
          "output_type": "execute_result",
          "data": {
            "text/plain": [
              "'3people Unfollowed Me'"
            ],
            "application/vnd.google.colaboratory.intrinsic+json": {
              "type": "string"
            }
          },
          "metadata": {},
          "execution_count": 66
        }
      ],
      "source": [
        "def solution(s):\n",
        "    answer = ''\n",
        "    s = s.split(\" \")\n",
        "    \n",
        "    for i in s:\n",
        "        if i == '':\n",
        "            answer += ' '\n",
        "            continue\n",
        "        ans = ''\n",
        "        i = i.lower()\n",
        "        if i[0].isdigit():\n",
        "            answer += i + ' '\n",
        "            continue\n",
        "        else:\n",
        "            ans = i[0]\n",
        "            ans = ans.upper()\n",
        "            i = ans + i[1:]\n",
        "            answer += i + ' '\n",
        "\n",
        "    return answer[:-1]\n",
        "\n",
        "solution(\"3people unFollowed me\")"
      ]
    }
  ]
}