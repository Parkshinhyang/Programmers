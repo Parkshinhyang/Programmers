{
  "nbformat": 4,
  "nbformat_minor": 0,
  "metadata": {
    "colab": {
      "provenance": [],
      "authorship_tag": "ABX9TyNLBl6I63rUd7dORPq89TTO",
      "include_colab_link": true
    },
    "kernelspec": {
      "name": "python3",
      "display_name": "Python 3"
    },
    "language_info": {
      "name": "python"
    }
  },
  "cells": [
    {
      "cell_type": "markdown",
      "metadata": {
        "id": "view-in-github",
        "colab_type": "text"
      },
      "source": [
        "<a href=\"https://colab.research.google.com/github/Parkshinhyang/Programmers/blob/main/%EC%A3%BC%EC%8B%9D%EA%B0%80%EA%B2%A9(Lv_2).ipynb\" target=\"_parent\"><img src=\"https://colab.research.google.com/assets/colab-badge.svg\" alt=\"Open In Colab\"/></a>"
      ]
    },
    {
      "cell_type": "markdown",
      "source": [
        "# 문제 - 주식가격\n",
        "[문제 링크](https://school.programmers.co.kr/learn/courses/30/lessons/42584)\n",
        "\n",
        "## 문제 설명\n",
        "\n",
        "초 단위로 기록된 주식가격이 담긴 배열 prices가 매개변수로 주어질 때, 가격이 떨어지지 않은 기간은 몇 초인지를 return 하도록 solution 함수를 완성하세요.\n",
        "\n",
        "## 제한사항\n",
        "\n",
        "- prices의 각 가격은 1 이상 10,000 이하인 자연수입니다.\n",
        "- prices의 길이는 2 이상 100,000 이하입니다.\n",
        "\n",
        "## 입출력 예\n",
        "\n",
        "![image.png](data:image/png;base64,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)\n",
        "\n",
        "## 입출력 예 설명\n",
        "\n",
        "- 1초 시점의 ₩1은 끝까지 가격이 떨어지지 않았습니다.\n",
        "- 2초 시점의 ₩2은 끝까지 가격이 떨어지지 않았습니다.\n",
        "- 3초 시점의 ₩3은 1초뒤에 가격이 떨어집니다. 따라서 1초간 가격이 떨어지지 않은 것으로 봅니다.\n",
        "- 4초 시점의 ₩2은 1초간 가격이 떨어지지 않았습니다.\n",
        "- 5초 시점의 ₩3은 0초간 가격이 떨어지지 않았습니다.\n",
        "\n"
      ],
      "metadata": {
        "id": "qytkHfSMBvy7"
      }
    },
    {
      "cell_type": "markdown",
      "source": [
        "## 첫 번째 방법\n",
        "\n",
        "1. 이중 for문으로 prices의 원소가 다음 원소보다 크면 idx를 카운트한 후 answer에 append.\n",
        "2. 각 원소가 다음 원소고 넘어가며 카운트가 되는 방식이라 마지막 원소는 넘어갈 원소가 없기 때문에 answer의 마지막 원소를 0이 돼야해서 answer에 0을 append한 후 return.\n",
        "\n",
        "결과 : 성공"
      ],
      "metadata": {
        "id": "Pw2j9514w5Ll"
      }
    },
    {
      "cell_type": "code",
      "execution_count": 29,
      "metadata": {
        "id": "XM7Q_L0UBrTR",
        "colab": {
          "base_uri": "https://localhost:8080/"
        },
        "outputId": "9826b35a-2ebf-4680-8814-841969ae5799"
      },
      "outputs": [
        {
          "output_type": "execute_result",
          "data": {
            "text/plain": [
              "[4, 3, 1, 1, 0]"
            ]
          },
          "metadata": {},
          "execution_count": 29
        }
      ],
      "source": [
        "def solution(prices):\n",
        "    answer = []\n",
        "    for i in range(len(prices) - 1):\n",
        "        idx = 0\n",
        "        for j in range(i, len(prices) - 1):\n",
        "            if prices[i] <= prices[j]:\n",
        "                idx += 1\n",
        "            else:\n",
        "                break\n",
        "        answer.append(idx)\n",
        "    answer.append(0)\n",
        "    return answer\n",
        "solution([1, 2, 3, 2, 3])"
      ]
    },
    {
      "cell_type": "markdown",
      "source": [
        "## 다른 사람의 풀이\n",
        "\n",
        "로직을 이중 for문으로 구성하지 않고 스택을 활용하여 시간복잡도를 O(N^2) 에서 O(N)으로 최소화한 출제자의 의도를 파악한 코드 같음. 다만 파이썬에선 and 앞에 조건이 False면 뒤에 조건을 실행하지 않기 때문에 코드의 5라인은 굳이 필요한 코드가 아니라 5라인만 지워주면 가장 알맞은 풀이일 것임.\n"
      ],
      "metadata": {
        "id": "_n-j5rW8xnP9"
      }
    },
    {
      "cell_type": "code",
      "source": [
        "def solution(prices):\n",
        "    stack = []\n",
        "    answer = [0] * len(prices)\n",
        "    for i in range(len(prices)):\n",
        "        if stack != []:\n",
        "            while stack != [] and stack[-1][1] > prices[i]:\n",
        "                past, _ = stack.pop()\n",
        "                answer[past] = i - past\n",
        "        stack.append([i, prices[i]])\n",
        "    for i, s in stack:\n",
        "        answer[i] = len(prices) - 1 - i\n",
        "    return answer"
      ],
      "metadata": {
        "id": "SzWWtTu1xlPK"
      },
      "execution_count": null,
      "outputs": []
    }
  ]
}